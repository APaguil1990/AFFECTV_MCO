{
 "cells": [
  {
   "cell_type": "markdown",
   "metadata": {},
   "source": [
    "# **Sentiment Analysis of Twitter Text Data in Python**"
   ]
  },
  {
   "cell_type": "markdown",
   "metadata": {},
   "source": [
    "### This is the Python notebook for sentiment analysis in Python. The following techniques will be utilized:"
   ]
  },
  {
   "cell_type": "markdown",
   "metadata": {},
   "source": [
    "1. **VADER (Valence Aware Dictionary and Sentiment Reasoner) Model** : Bag of Words Approach \n",
    "2. **RoBERTa (Robustly Optimized Bidirectional Encoder Representations from Transformers) Model** : Contextualized Embeddings Approach"
   ]
  },
  {
   "cell_type": "markdown",
   "metadata": {},
   "source": [
    "# **Step 1: Read Data and Data Preprocessing**"
   ]
  },
  {
   "cell_type": "markdown",
   "metadata": {},
   "source": [
    "Import libraries for the following: \n",
    "- Data Manipulation \n",
    "- Data Visualization \n",
    "- Natural Language Processing (NLP) \n",
    "- Exploratory Data Analysis (EDA)"
   ]
  },
  {
   "cell_type": "code",
   "execution_count": 1,
   "metadata": {},
   "outputs": [],
   "source": [
    "# Data manipulation and analysis\n",
    "import pandas as pd    # For handling data in DataFrames, for data manipulation, cleaning, and analysis.\n",
    "import numpy as np     # For numerical operation, arrays, and advanced math functions.\n",
    "\n",
    "# Visualization libraries\n",
    "import matplotlib.pyplot as plt    # For creating static, animated, and interactive visualizations.\n",
    "import seaborn as sns              # High-level interface for creating attractive and informative statistical graphs.\n",
    "\n",
    "# EDA (Exploratory Data Analysis) modules\n",
    "import nltk                             # Natural Language Toolkit, for working with human language data (text).\n",
    "from nltk.corpus import stopwords       # For importing stopwords ('the', 'is') to exclude in text analysis.\n",
    "from collections import Counter         # For counting frequency of elements in list.\n",
    "from nltk.tokenize import word_tokenize # For splitting text into individual words (tokens). \n",
    "from nltk import pos_tag                # For parts of speech (POS) tagging in tokenized text, For linguistic analysis.\n",
    "import re                               # Regular expressions for pattern matching, useful for cleaning or extracting text.\n",
    "\n",
    "# Plotting style\n",
    "plt.style.use('ggplot')     # Sets particular plotting style, for polished plots."
   ]
  },
  {
   "cell_type": "markdown",
   "metadata": {},
   "source": [
    "Load the dataset from a CSV file into a DataFrame"
   ]
  },
  {
   "cell_type": "code",
   "execution_count": 2,
   "metadata": {},
   "outputs": [
    {
     "name": "stdout",
     "output_type": "stream",
     "text": [
      "(416809, 3)\n"
     ]
    }
   ],
   "source": [
    "df_dataset = pd.read_csv('text_modified.csv') \n",
    "print(df_dataset.shape)"
   ]
  },
  {
   "cell_type": "markdown",
   "metadata": {},
   "source": [
    "### Stratified Random Sampling\n",
    "Check label values and distribution"
   ]
  },
  {
   "cell_type": "code",
   "execution_count": 3,
   "metadata": {},
   "outputs": [
    {
     "name": "stdout",
     "output_type": "stream",
     "text": [
      "label\n",
      "Joy         141067\n",
      "Sadness     121187\n",
      "Anger        57317\n",
      "Fear         47712\n",
      "Love         34554\n",
      "Surprise     14972\n",
      "Name: count, dtype: int64\n"
     ]
    }
   ],
   "source": [
    "print(df_dataset['label'].value_counts())"
   ]
  },
  {
   "cell_type": "markdown",
   "metadata": {},
   "source": [
    "Obtain the target sample size per label based on the smallest label size"
   ]
  },
  {
   "cell_type": "code",
   "execution_count": 4,
   "metadata": {},
   "outputs": [],
   "source": [
    "min_count = df_dataset['label'].value_counts().min()\n",
    "sample_size = 50"
   ]
  },
  {
   "cell_type": "markdown",
   "metadata": {},
   "source": [
    "Perform stratified random sampling with 42 as the seed for a reproducible dataset samples"
   ]
  },
  {
   "cell_type": "code",
   "execution_count": 5,
   "metadata": {},
   "outputs": [
    {
     "name": "stdout",
     "output_type": "stream",
     "text": [
      "label\n",
      "Anger       50\n",
      "Fear        50\n",
      "Joy         50\n",
      "Love        50\n",
      "Sadness     50\n",
      "Surprise    50\n",
      "Name: count, dtype: int64\n"
     ]
    },
    {
     "name": "stderr",
     "output_type": "stream",
     "text": [
      "/var/folders/zb/4xbtyqzs0wn5pfnb9njxy5rw0000gn/T/ipykernel_42216/616092931.py:1: DeprecationWarning: DataFrameGroupBy.apply operated on the grouping columns. This behavior is deprecated, and in a future version of pandas the grouping columns will be excluded from the operation. Either pass `include_groups=False` to exclude the groupings or explicitly select the grouping columns after groupby to silence this warning.\n",
      "  df = df_dataset.groupby('label').apply(lambda x: x.sample(n=sample_size, random_state=42)).reset_index(drop=True)\n"
     ]
    }
   ],
   "source": [
    "df = df_dataset.groupby('label').apply(lambda x: x.sample(n=sample_size, random_state=42)).reset_index(drop=True)\n",
    "\n",
    "# Verify the result\n",
    "print(df['label'].value_counts())"
   ]
  },
  {
   "cell_type": "markdown",
   "metadata": {},
   "source": []
  },
  {
   "cell_type": "markdown",
   "metadata": {},
   "source": [
    "Display first 5 rows of the dataset"
   ]
  },
  {
   "cell_type": "code",
   "execution_count": 6,
   "metadata": {},
   "outputs": [
    {
     "data": {
      "text/html": [
       "<div>\n",
       "<style scoped>\n",
       "    .dataframe tbody tr th:only-of-type {\n",
       "        vertical-align: middle;\n",
       "    }\n",
       "\n",
       "    .dataframe tbody tr th {\n",
       "        vertical-align: top;\n",
       "    }\n",
       "\n",
       "    .dataframe thead th {\n",
       "        text-align: right;\n",
       "    }\n",
       "</style>\n",
       "<table border=\"1\" class=\"dataframe\">\n",
       "  <thead>\n",
       "    <tr style=\"text-align: right;\">\n",
       "      <th></th>\n",
       "      <th>Index</th>\n",
       "      <th>text</th>\n",
       "      <th>label</th>\n",
       "    </tr>\n",
       "  </thead>\n",
       "  <tbody>\n",
       "    <tr>\n",
       "      <th>0</th>\n",
       "      <td>411553</td>\n",
       "      <td>i feel rebellious and i like it</td>\n",
       "      <td>Anger</td>\n",
       "    </tr>\n",
       "    <tr>\n",
       "      <th>1</th>\n",
       "      <td>18079</td>\n",
       "      <td>i feel completely agitated and full of blame</td>\n",
       "      <td>Anger</td>\n",
       "    </tr>\n",
       "    <tr>\n",
       "      <th>2</th>\n",
       "      <td>282107</td>\n",
       "      <td>i feel like a witch bc im aggravated and i wan...</td>\n",
       "      <td>Anger</td>\n",
       "    </tr>\n",
       "    <tr>\n",
       "      <th>3</th>\n",
       "      <td>49946</td>\n",
       "      <td>i feel really bitchy for doing this but im rea...</td>\n",
       "      <td>Anger</td>\n",
       "    </tr>\n",
       "    <tr>\n",
       "      <th>4</th>\n",
       "      <td>96367</td>\n",
       "      <td>i feel rude but i move past it immediately</td>\n",
       "      <td>Anger</td>\n",
       "    </tr>\n",
       "  </tbody>\n",
       "</table>\n",
       "</div>"
      ],
      "text/plain": [
       "    Index                                               text  label\n",
       "0  411553                    i feel rebellious and i like it  Anger\n",
       "1   18079       i feel completely agitated and full of blame  Anger\n",
       "2  282107  i feel like a witch bc im aggravated and i wan...  Anger\n",
       "3   49946  i feel really bitchy for doing this but im rea...  Anger\n",
       "4   96367         i feel rude but i move past it immediately  Anger"
      ]
     },
     "execution_count": 6,
     "metadata": {},
     "output_type": "execute_result"
    }
   ],
   "source": [
    "df.head()"
   ]
  },
  {
   "cell_type": "markdown",
   "metadata": {},
   "source": [
    "## Data Cleaning"
   ]
  },
  {
   "cell_type": "markdown",
   "metadata": {},
   "source": [
    "- This step is vital because it ensures that the dataset is free from noise, inconsistencies, and irrelevant information, making the data more accurate and reliable for analysis. For the code below, the preprocessing step helps remove unnecessary elements like stopwords, special characters, and numbers, allowing for more meaningful insights from the text data."
   ]
  },
  {
   "cell_type": "code",
   "execution_count": 7,
   "metadata": {},
   "outputs": [
    {
     "name": "stderr",
     "output_type": "stream",
     "text": [
      "[nltk_data] Downloading package stopwords to\n",
      "[nltk_data]     /Users/jacyliu/nltk_data...\n",
      "[nltk_data]   Package stopwords is already up-to-date!\n"
     ]
    },
    {
     "data": {
      "text/html": [
       "<div>\n",
       "<style scoped>\n",
       "    .dataframe tbody tr th:only-of-type {\n",
       "        vertical-align: middle;\n",
       "    }\n",
       "\n",
       "    .dataframe tbody tr th {\n",
       "        vertical-align: top;\n",
       "    }\n",
       "\n",
       "    .dataframe thead th {\n",
       "        text-align: right;\n",
       "    }\n",
       "</style>\n",
       "<table border=\"1\" class=\"dataframe\">\n",
       "  <thead>\n",
       "    <tr style=\"text-align: right;\">\n",
       "      <th></th>\n",
       "      <th>Index</th>\n",
       "      <th>text</th>\n",
       "      <th>label</th>\n",
       "      <th>processed_text</th>\n",
       "    </tr>\n",
       "  </thead>\n",
       "  <tbody>\n",
       "    <tr>\n",
       "      <th>0</th>\n",
       "      <td>411553</td>\n",
       "      <td>i feel rebellious and i like it</td>\n",
       "      <td>Anger</td>\n",
       "      <td>[feel, rebellious, like]</td>\n",
       "    </tr>\n",
       "    <tr>\n",
       "      <th>1</th>\n",
       "      <td>18079</td>\n",
       "      <td>i feel completely agitated and full of blame</td>\n",
       "      <td>Anger</td>\n",
       "      <td>[feel, completely, agitated, full, blame]</td>\n",
       "    </tr>\n",
       "    <tr>\n",
       "      <th>2</th>\n",
       "      <td>282107</td>\n",
       "      <td>i feel like a witch bc im aggravated and i wan...</td>\n",
       "      <td>Anger</td>\n",
       "      <td>[feel, like, witch, bc, aggravated, want, go, ...</td>\n",
       "    </tr>\n",
       "    <tr>\n",
       "      <th>3</th>\n",
       "      <td>49946</td>\n",
       "      <td>i feel really bitchy for doing this but im rea...</td>\n",
       "      <td>Anger</td>\n",
       "      <td>[feel, really, bitchy, really, iffy, read, jou...</td>\n",
       "    </tr>\n",
       "    <tr>\n",
       "      <th>4</th>\n",
       "      <td>96367</td>\n",
       "      <td>i feel rude but i move past it immediately</td>\n",
       "      <td>Anger</td>\n",
       "      <td>[feel, rude, move, past, immediately]</td>\n",
       "    </tr>\n",
       "  </tbody>\n",
       "</table>\n",
       "</div>"
      ],
      "text/plain": [
       "    Index                                               text  label  \\\n",
       "0  411553                    i feel rebellious and i like it  Anger   \n",
       "1   18079       i feel completely agitated and full of blame  Anger   \n",
       "2  282107  i feel like a witch bc im aggravated and i wan...  Anger   \n",
       "3   49946  i feel really bitchy for doing this but im rea...  Anger   \n",
       "4   96367         i feel rude but i move past it immediately  Anger   \n",
       "\n",
       "                                      processed_text  \n",
       "0                           [feel, rebellious, like]  \n",
       "1          [feel, completely, agitated, full, blame]  \n",
       "2  [feel, like, witch, bc, aggravated, want, go, ...  \n",
       "3  [feel, really, bitchy, really, iffy, read, jou...  \n",
       "4              [feel, rude, move, past, immediately]  "
      ]
     },
     "execution_count": 7,
     "metadata": {},
     "output_type": "execute_result"
    }
   ],
   "source": [
    "# Download stopwords\n",
    "nltk.download('stopwords')\n",
    "\n",
    "stop_words = set(stopwords.words('english')) \n",
    "\n",
    "# Extend stopwords \n",
    "custom_stop_words = {\n",
    "    \"i\", \n",
    "    \"im\", \n",
    "    \"ive\", \n",
    "    \"dont\", \n",
    "    \"and\", \n",
    "    \"you\", \n",
    "    \"he\", \n",
    "    \"she\", \n",
    "    \"we\", \n",
    "    \"they\", \n",
    "    \"it\", \n",
    "    \"is\", \n",
    "    \"are\", \n",
    "    \"was\", \n",
    "    \"were\", \n",
    "    \"their\", \n",
    "    \"there\"\n",
    "}\n",
    "stop_words.update(custom_stop_words) \n",
    "\n",
    "# Preprocess text (lowercase, remove stopwords, tokenize) \n",
    "def preprocess_text(text): \n",
    "    # Convert lowercase \n",
    "    text = text.lower()\n",
    "    # Remove special characters and numbers \n",
    "    text = re.sub(r'\\W+', ' ', text) \n",
    "    # Tokenize \n",
    "    words = text.split() \n",
    "    # Remove stopwords \n",
    "    words = [word for word in words if word not in stop_words] \n",
    "    return words \n",
    "\n",
    "# Apply preprocessing to dataset \n",
    "df['processed_text'] = df['text'].apply(preprocess_text)\n",
    "df.head()"
   ]
  },
  {
   "cell_type": "markdown",
   "metadata": {},
   "source": [
    "# Exploratory Data Analysis"
   ]
  },
  {
   "cell_type": "markdown",
   "metadata": {},
   "source": [
    "- This step is vital for text sentiment analysis because it helps to understand the underlying structure, patterns, and key features of the data. By performing EDA, we can identify trends, clean the data, and better prepare it for building accurate sentiment models, ensuring insights are derived from meaningful and relevant information."
   ]
  },
  {
   "cell_type": "markdown",
   "metadata": {},
   "source": [
    "Visualizing the distribution of each sentiment label in the sample data."
   ]
  },
  {
   "cell_type": "code",
   "execution_count": 8,
   "metadata": {},
   "outputs": [
    {
     "data": {
      "image/png": "[encoded data removed]",
      "text/plain": [
       "<Figure size 1000x600 with 1 Axes>"
      ]
     },
     "metadata": {},
     "output_type": "display_data"
    }
   ],
   "source": [
    "ax = df['label'].value_counts().sort_index().plot(\n",
    "    kind = 'bar', \n",
    "    title = 'Count by Sentiment Label', \n",
    "    figsize = (10, 6)\n",
    ") \n",
    "ax.set_xlabel('Sentiment Label') \n",
    "plt.show()"
   ]
  },
  {
   "cell_type": "markdown",
   "metadata": {},
   "source": [
    "Display the specific counts of each sentiment label."
   ]
  },
  {
   "cell_type": "code",
   "execution_count": 9,
   "metadata": {},
   "outputs": [
    {
     "data": {
      "text/plain": [
       "label\n",
       "Anger       50\n",
       "Fear        50\n",
       "Joy         50\n",
       "Love        50\n",
       "Sadness     50\n",
       "Surprise    50\n",
       "Name: count, dtype: int64"
      ]
     },
     "execution_count": 9,
     "metadata": {},
     "output_type": "execute_result"
    }
   ],
   "source": [
    "count = df['label'].value_counts()\n",
    "count"
   ]
  },
  {
   "cell_type": "markdown",
   "metadata": {},
   "source": [
    "## Distribution of Emotions\n",
    "\n",
    "### 1) Are certain emotions more prevalent than others in the dataset?\n",
    "\n",
    "The emotions of Joy and Sadness are more prevalent, having a total count of 141067 and 121187 in the dataset, repectively.\n",
    "<br><br>\n"
   ]
  },
  {
   "cell_type": "markdown",
   "metadata": {},
   "source": [
    "### 2) What is the frequency distribution of each emotion in the dataset?\n",
    "The following are the number of tweets per emotions:"
   ]
  },
  {
   "cell_type": "code",
   "execution_count": 10,
   "metadata": {},
   "outputs": [
    {
     "name": "stdout",
     "output_type": "stream",
     "text": [
      "label\n",
      "Joy         141067\n",
      "Sadness     121187\n",
      "Anger        57317\n",
      "Fear         47712\n",
      "Love         34554\n",
      "Surprise     14972\n",
      "Name: count, dtype: int64\n"
     ]
    }
   ],
   "source": [
    "print(df_dataset['label'].value_counts())"
   ]
  },
  {
   "cell_type": "markdown",
   "metadata": {},
   "source": [
    "### Data Normalization"
   ]
  },
  {
   "cell_type": "markdown",
   "metadata": {},
   "source": [
    "- Data normalization is important because it helps balance the uneven distribution of senitment labels in the dataset. By ensuring that each emotion label is represented more equally, normalization prevents models from becoming biased towards the more frequent emotions. This results to more accurate and efficient analysis, as the model will better understand and predict all emotions rather than focusing on the majority class."
   ]
  },
  {
   "cell_type": "code",
   "execution_count": 11,
   "metadata": {},
   "outputs": [
    {
     "name": "stdout",
     "output_type": "stream",
     "text": [
      "label\n",
      "Anger       50\n",
      "Fear        50\n",
      "Joy         50\n",
      "Love        50\n",
      "Sadness     50\n",
      "Surprise    50\n",
      "Name: count, dtype: int64\n"
     ]
    }
   ],
   "source": [
    "# Import resample method to tackle imbalance in dataset.\n",
    "from sklearn.utils import resample \n",
    "\n",
    "# Check current distribution of sentiment labels in the dataset.\n",
    "label_counts = df['label'].value_counts() \n",
    "print(label_counts)"
   ]
  },
  {
   "cell_type": "markdown",
   "metadata": {},
   "source": [
    "Plot normalized count of each sentiment label after upsampling"
   ]
  },
  {
   "cell_type": "code",
   "execution_count": 12,
   "metadata": {},
   "outputs": [
    {
     "data": {
      "image/png": "[encoded data removed]",
      "text/plain": [
       "<Figure size 1000x600 with 1 Axes>"
      ]
     },
     "metadata": {},
     "output_type": "display_data"
    }
   ],
   "source": [
    "new_label_counts = df['label'].value_counts() \n",
    "\n",
    "ax = new_label_counts.plot(\n",
    "    kind = 'bar', \n",
    "    title = 'Normalized Count of Sentiment Labels', \n",
    "    figsize = (10, 6)\n",
    ") \n",
    "\n",
    "ax.set_xlabel('Label') \n",
    "plt.show()"
   ]
  },
  {
   "cell_type": "code",
   "execution_count": 13,
   "metadata": {},
   "outputs": [
    {
     "data": {
      "text/html": [
       "<div>\n",
       "<style scoped>\n",
       "    .dataframe tbody tr th:only-of-type {\n",
       "        vertical-align: middle;\n",
       "    }\n",
       "\n",
       "    .dataframe tbody tr th {\n",
       "        vertical-align: top;\n",
       "    }\n",
       "\n",
       "    .dataframe thead th {\n",
       "        text-align: right;\n",
       "    }\n",
       "</style>\n",
       "<table border=\"1\" class=\"dataframe\">\n",
       "  <thead>\n",
       "    <tr style=\"text-align: right;\">\n",
       "      <th></th>\n",
       "      <th>Index</th>\n",
       "      <th>text</th>\n",
       "      <th>label</th>\n",
       "      <th>processed_text</th>\n",
       "    </tr>\n",
       "  </thead>\n",
       "  <tbody>\n",
       "    <tr>\n",
       "      <th>0</th>\n",
       "      <td>411553</td>\n",
       "      <td>i feel rebellious and i like it</td>\n",
       "      <td>Anger</td>\n",
       "      <td>[feel, rebellious, like]</td>\n",
       "    </tr>\n",
       "    <tr>\n",
       "      <th>1</th>\n",
       "      <td>18079</td>\n",
       "      <td>i feel completely agitated and full of blame</td>\n",
       "      <td>Anger</td>\n",
       "      <td>[feel, completely, agitated, full, blame]</td>\n",
       "    </tr>\n",
       "    <tr>\n",
       "      <th>2</th>\n",
       "      <td>282107</td>\n",
       "      <td>i feel like a witch bc im aggravated and i wan...</td>\n",
       "      <td>Anger</td>\n",
       "      <td>[feel, like, witch, bc, aggravated, want, go, ...</td>\n",
       "    </tr>\n",
       "    <tr>\n",
       "      <th>3</th>\n",
       "      <td>49946</td>\n",
       "      <td>i feel really bitchy for doing this but im rea...</td>\n",
       "      <td>Anger</td>\n",
       "      <td>[feel, really, bitchy, really, iffy, read, jou...</td>\n",
       "    </tr>\n",
       "    <tr>\n",
       "      <th>4</th>\n",
       "      <td>96367</td>\n",
       "      <td>i feel rude but i move past it immediately</td>\n",
       "      <td>Anger</td>\n",
       "      <td>[feel, rude, move, past, immediately]</td>\n",
       "    </tr>\n",
       "  </tbody>\n",
       "</table>\n",
       "</div>"
      ],
      "text/plain": [
       "    Index                                               text  label  \\\n",
       "0  411553                    i feel rebellious and i like it  Anger   \n",
       "1   18079       i feel completely agitated and full of blame  Anger   \n",
       "2  282107  i feel like a witch bc im aggravated and i wan...  Anger   \n",
       "3   49946  i feel really bitchy for doing this but im rea...  Anger   \n",
       "4   96367         i feel rude but i move past it immediately  Anger   \n",
       "\n",
       "                                      processed_text  \n",
       "0                           [feel, rebellious, like]  \n",
       "1          [feel, completely, agitated, full, blame]  \n",
       "2  [feel, like, witch, bc, aggravated, want, go, ...  \n",
       "3  [feel, really, bitchy, really, iffy, read, jou...  \n",
       "4              [feel, rude, move, past, immediately]  "
      ]
     },
     "execution_count": 13,
     "metadata": {},
     "output_type": "execute_result"
    }
   ],
   "source": [
    "df.head()"
   ]
  },
  {
   "cell_type": "markdown",
   "metadata": {},
   "source": [
    "Calculate and add two new columns: character count and word count."
   ]
  },
  {
   "cell_type": "code",
   "execution_count": 14,
   "metadata": {},
   "outputs": [
    {
     "data": {
      "text/html": [
       "<div>\n",
       "<style scoped>\n",
       "    .dataframe tbody tr th:only-of-type {\n",
       "        vertical-align: middle;\n",
       "    }\n",
       "\n",
       "    .dataframe tbody tr th {\n",
       "        vertical-align: top;\n",
       "    }\n",
       "\n",
       "    .dataframe thead th {\n",
       "        text-align: right;\n",
       "    }\n",
       "</style>\n",
       "<table border=\"1\" class=\"dataframe\">\n",
       "  <thead>\n",
       "    <tr style=\"text-align: right;\">\n",
       "      <th></th>\n",
       "      <th>processed_text</th>\n",
       "      <th>char_count</th>\n",
       "      <th>word_count</th>\n",
       "    </tr>\n",
       "  </thead>\n",
       "  <tbody>\n",
       "    <tr>\n",
       "      <th>0</th>\n",
       "      <td>[feel, rebellious, like]</td>\n",
       "      <td>18</td>\n",
       "      <td>3</td>\n",
       "    </tr>\n",
       "    <tr>\n",
       "      <th>1</th>\n",
       "      <td>[feel, completely, agitated, full, blame]</td>\n",
       "      <td>31</td>\n",
       "      <td>5</td>\n",
       "    </tr>\n",
       "    <tr>\n",
       "      <th>2</th>\n",
       "      <td>[feel, like, witch, bc, aggravated, want, go, ...</td>\n",
       "      <td>40</td>\n",
       "      <td>9</td>\n",
       "    </tr>\n",
       "    <tr>\n",
       "      <th>3</th>\n",
       "      <td>[feel, really, bitchy, really, iffy, read, jou...</td>\n",
       "      <td>93</td>\n",
       "      <td>19</td>\n",
       "    </tr>\n",
       "    <tr>\n",
       "      <th>4</th>\n",
       "      <td>[feel, rude, move, past, immediately]</td>\n",
       "      <td>27</td>\n",
       "      <td>5</td>\n",
       "    </tr>\n",
       "  </tbody>\n",
       "</table>\n",
       "</div>"
      ],
      "text/plain": [
       "                                      processed_text  char_count  word_count\n",
       "0                           [feel, rebellious, like]          18           3\n",
       "1          [feel, completely, agitated, full, blame]          31           5\n",
       "2  [feel, like, witch, bc, aggravated, want, go, ...          40           9\n",
       "3  [feel, really, bitchy, really, iffy, read, jou...          93          19\n",
       "4              [feel, rude, move, past, immediately]          27           5"
      ]
     },
     "execution_count": 14,
     "metadata": {},
     "output_type": "execute_result"
    }
   ],
   "source": [
    "# Add column 'char_count' that calculates total number of characters in each tweet.\n",
    "df['char_count'] = df['processed_text'].apply(lambda x: sum(len(word) for word in x))\n",
    "\n",
    "# Add column 'word_count' that calculates total number of word in each tweet.\n",
    "df['word_count'] = df['processed_text'].apply(len)\n",
    "\n",
    "# Display first few rows with processed text, character count, and word count columns.\n",
    "df[['processed_text', 'char_count', 'word_count']].head()"
   ]
  },
  {
   "cell_type": "code",
   "execution_count": null,
   "metadata": {},
   "outputs": [],
   "source": []
  },
  {
   "cell_type": "markdown",
   "metadata": {},
   "source": [
    "## Emotion by Word Count\n",
    "\n",
    "### 3) What are the average word counts of the tweets of the different emotions?\n",
    "\n",
    "The following are the average word counts of tweets per emotions:"
   ]
  },
  {
   "cell_type": "code",
   "execution_count": 15,
   "metadata": {},
   "outputs": [
    {
     "data": {
      "text/plain": [
       "label\n",
       "Anger        8.72\n",
       "Fear         8.76\n",
       "Joy         10.00\n",
       "Love         9.26\n",
       "Sadness      8.44\n",
       "Surprise     9.48\n",
       "Name: word_count, dtype: float64"
      ]
     },
     "execution_count": 15,
     "metadata": {},
     "output_type": "execute_result"
    }
   ],
   "source": [
    "# Group DataFrame by 'label' and calculate mean word count for each label.\n",
    "avg_word_count_by_emotion = df.groupby('label')['word_count'].mean()\n",
    "avg_word_count_by_emotion"
   ]
  },
  {
   "cell_type": "markdown",
   "metadata": {},
   "source": [
    "## Word Frequency\n",
    "\n",
    "### 4) Are shorter or longer messages more likely to express certain emotions?"
   ]
  },
  {
   "cell_type": "markdown",
   "metadata": {},
   "source": [
    "Categorize tweets into 'Short' or 'Long' based on the word count, and plots the distribution of emotions for each length."
   ]
  },
  {
   "cell_type": "code",
   "execution_count": 16,
   "metadata": {},
   "outputs": [
    {
     "data": {
      "text/html": [
       "<div>\n",
       "<style scoped>\n",
       "    .dataframe tbody tr th:only-of-type {\n",
       "        vertical-align: middle;\n",
       "    }\n",
       "\n",
       "    .dataframe tbody tr th {\n",
       "        vertical-align: top;\n",
       "    }\n",
       "\n",
       "    .dataframe thead th {\n",
       "        text-align: right;\n",
       "    }\n",
       "</style>\n",
       "<table border=\"1\" class=\"dataframe\">\n",
       "  <thead>\n",
       "    <tr style=\"text-align: right;\">\n",
       "      <th>label</th>\n",
       "      <th>Anger</th>\n",
       "      <th>Fear</th>\n",
       "      <th>Joy</th>\n",
       "      <th>Love</th>\n",
       "      <th>Sadness</th>\n",
       "      <th>Surprise</th>\n",
       "      <th>Total</th>\n",
       "    </tr>\n",
       "    <tr>\n",
       "      <th>message_length</th>\n",
       "      <th></th>\n",
       "      <th></th>\n",
       "      <th></th>\n",
       "      <th></th>\n",
       "      <th></th>\n",
       "      <th></th>\n",
       "      <th></th>\n",
       "    </tr>\n",
       "  </thead>\n",
       "  <tbody>\n",
       "    <tr>\n",
       "      <th>Long</th>\n",
       "      <td>14</td>\n",
       "      <td>12</td>\n",
       "      <td>21</td>\n",
       "      <td>16</td>\n",
       "      <td>13</td>\n",
       "      <td>20</td>\n",
       "      <td>96</td>\n",
       "    </tr>\n",
       "    <tr>\n",
       "      <th>Short</th>\n",
       "      <td>36</td>\n",
       "      <td>38</td>\n",
       "      <td>29</td>\n",
       "      <td>34</td>\n",
       "      <td>37</td>\n",
       "      <td>30</td>\n",
       "      <td>204</td>\n",
       "    </tr>\n",
       "    <tr>\n",
       "      <th>Total</th>\n",
       "      <td>50</td>\n",
       "      <td>50</td>\n",
       "      <td>50</td>\n",
       "      <td>50</td>\n",
       "      <td>50</td>\n",
       "      <td>50</td>\n",
       "      <td>300</td>\n",
       "    </tr>\n",
       "  </tbody>\n",
       "</table>\n",
       "</div>"
      ],
      "text/plain": [
       "label           Anger  Fear  Joy  Love  Sadness  Surprise  Total\n",
       "message_length                                                  \n",
       "Long               14    12   21    16       13        20     96\n",
       "Short              36    38   29    34       37        30    204\n",
       "Total              50    50   50    50       50        50    300"
      ]
     },
     "execution_count": 16,
     "metadata": {},
     "output_type": "execute_result"
    }
   ],
   "source": [
    "# Add column 'message_length' that classifies each tweet as 'Short' or 'Long' based on whether word count is 10 or less.\n",
    "df['message_length'] = df['word_count'].apply(lambda x: 'Short' if x <= 10 else 'Long') \n",
    "\n",
    "# Calculate distribution of emotions across tweet length categories (Short vs Long). \n",
    "# Group by message length and label, then calculate size of each group. \n",
    "# Unstack to create DataFrame with 'label' as columns.\n",
    "length_emotion_distribution = df.groupby(['message_length', 'label']).size().unstack(fill_value = 0)\n",
    "\n",
    "# Add 'Total' row and column to DataFrame to show total counts.\n",
    "length_emotion_distribution.loc['Total'] = length_emotion_distribution.sum() \n",
    "length_emotion_distribution['Total'] = length_emotion_distribution.sum(axis = 1) \n",
    "\n",
    "# Display emotion distribution by tweet length.\n",
    "length_emotion_distribution "
   ]
  },
  {
   "cell_type": "markdown",
   "metadata": {},
   "source": [
    "Plot distribution of emotions across tweet length categories."
   ]
  },
  {
   "cell_type": "code",
   "execution_count": 17,
   "metadata": {},
   "outputs": [
    {
     "data": {
      "image/png": "[encoded data removed]",
      "text/plain": [
       "<Figure size 1000x600 with 1 Axes>"
      ]
     },
     "metadata": {},
     "output_type": "display_data"
    }
   ],
   "source": [
    "length_emotion_distribution.drop('Total').plot(\n",
    "    kind = 'bar', \n",
    "    stacked = True, \n",
    "    figsize = (10, 6)\n",
    ")\n",
    "plt.title('Distribution of Emotions by Tweet Length')\n",
    "plt.xlabel('Tweet Length Category')\n",
    "plt.ylabel('Number of Tweets')\n",
    "plt.show()"
   ]
  },
  {
   "cell_type": "markdown",
   "metadata": {},
   "source": [
    "### 5) What are the most common words used in tweets for each emotion?"
   ]
  },
  {
   "cell_type": "markdown",
   "metadata": {},
   "source": [
    "Count common words for each emotion"
   ]
  },
  {
   "cell_type": "code",
   "execution_count": 18,
   "metadata": {},
   "outputs": [
    {
     "name": "stdout",
     "output_type": "stream",
     "text": [
      "Most common words for 'Anger':\n",
      "[('feel', 28), ('feeling', 21), ('like', 9), ('really', 6), ('agitated', 5), ('go', 4), ('get', 4), ('little', 4), ('know', 4), ('want', 3)]\n",
      "\n",
      "Most common words for 'Fear':\n",
      "[('feel', 29), ('feeling', 21), ('really', 8), ('like', 5), ('weird', 5), ('think', 4), ('little', 4), ('helpless', 4), ('strange', 4), ('face', 3)]\n",
      "\n",
      "Most common words for 'Joy':\n",
      "[('feel', 42), ('feeling', 12), ('always', 7), ('like', 6), ('made', 5), ('safe', 4), ('good', 4), ('left', 4), ('really', 4), ('think', 4)]\n",
      "\n",
      "Most common words for 'Love':\n",
      "[('feel', 35), ('feeling', 14), ('like', 7), ('love', 6), ('nostalgic', 5), ('time', 5), ('know', 4), ('actually', 4), ('little', 4), ('could', 4)]\n",
      "\n",
      "Most common words for 'Sadness':\n",
      "[('feel', 33), ('feeling', 22), ('like', 8), ('drained', 4), ('think', 4), ('know', 4), ('little', 4), ('people', 4), ('leave', 3), ('lot', 3)]\n",
      "\n",
      "Most common words for 'Surprise':\n",
      "[('feel', 34), ('feeling', 15), ('like', 12), ('impressed', 6), ('overwhelmed', 6), ('weird', 6), ('really', 6), ('amazed', 6), ('little', 6), ('funny', 5)]\n",
      "\n"
     ]
    }
   ],
   "source": [
    "common_words = {}\n",
    "for label in df['label'].unique():\n",
    "    # Get all processed words for the emotion\n",
    "    words = df[df['label'] == label]['processed_text'].sum()  # Flatten the list of lists\n",
    "    common_words[label] = Counter(words).most_common(10)  # Get the 10 most common words\n",
    "\n",
    "# Display the most common words for each emotion\n",
    "for emotion, words in common_words.items():\n",
    "    print(f\"Most common words for '{emotion}':\")\n",
    "    print(words)\n",
    "    print()"
   ]
  },
  {
   "cell_type": "markdown",
   "metadata": {},
   "source": [
    "Graph distribution of text character counts."
   ]
  },
  {
   "cell_type": "code",
   "execution_count": 19,
   "metadata": {},
   "outputs": [
    {
     "data": {
      "image/png": "[encoded data removed]",
      "text/plain": [
       "<Figure size 1000x600 with 1 Axes>"
      ]
     },
     "metadata": {},
     "output_type": "display_data"
    }
   ],
   "source": [
    "plt.figure(figsize = (10, 6)) \n",
    "sns.histplot( df['char_count'], bins = 30, kde = True ) \n",
    "plt.title('Distribution of Text Character Counts') \n",
    "plt.xlabel('Character Count') \n",
    "plt.ylabel('Frequency') \n",
    "plt.show()"
   ]
  },
  {
   "cell_type": "markdown",
   "metadata": {},
   "source": [
    "- The graph represents the distribution of character counts in the text data. X-axis shows the number of characters per text, while the y-axis shows the frequency or number of texts that have a paticular character count. \n",
    "\n",
    "- The red line represents the Kernel Density Estimation (KDE), which shows the estimated probability density of the character count distribution. From the graph, most of the texts in the dataset have around 25 to 50 characters, with a peak of around 35 characters. As the character count increseases beyond 50, the frequency of texts with higher character counts gradually decreases."
   ]
  },
  {
   "cell_type": "markdown",
   "metadata": {},
   "source": [
    "Graph distribution of text word counts."
   ]
  },
  {
   "cell_type": "code",
   "execution_count": 20,
   "metadata": {},
   "outputs": [
    {
     "data": {
      "image/png": "[encoded data removed]",
      "text/plain": [
       "<Figure size 1000x600 with 1 Axes>"
      ]
     },
     "metadata": {},
     "output_type": "display_data"
    }
   ],
   "source": [
    "plt.figure(figsize = (10, 6)) \n",
    "sns.histplot( df['word_count'], bins = 30, kde = True ) \n",
    "plt.title('Distribution of Text Word Counts') \n",
    "plt.xlabel('Word Count') \n",
    "plt.ylabel('Frequency') \n",
    "plt.show()"
   ]
  },
  {
   "cell_type": "markdown",
   "metadata": {},
   "source": [
    "- The graph represents the distribution of word counts in the text data. X-axis shows the number of words per text, while the y-axis shows the frequency or number of texts that have a paticular word count. \n",
    "\n",
    "- The red line represents the Kernel Density Estimation (KDE), which shows the estimated probability density of the word count distribution. From the graph, it can be observed that most text contains around 5 to 10 words, with a peak at about 6 words. As word counts increases beyond 10, the frequency of texts with higher word counts decreases steadily. This suggests that most texts in the dataset are relatively short, with very few texts containing more than 20 words."
   ]
  },
  {
   "cell_type": "code",
   "execution_count": 21,
   "metadata": {},
   "outputs": [
    {
     "data": {
      "image/png": "[encoded data removed]",
      "text/plain": [
       "<Figure size 1000x600 with 1 Axes>"
      ]
     },
     "metadata": {},
     "output_type": "display_data"
    }
   ],
   "source": [
    "plt.figure(figsize = (10, 6)) \n",
    "sns.boxplot(x = 'label', y = 'char_count', data = df) \n",
    "plt.title('Character Distribution by Sentiment Label') \n",
    "plt.xlabel('Sentiment Label') \n",
    "plt.ylabel('Character Count') \n",
    "plt.xticks(rotation = 45) \n",
    "plt.show()"
   ]
  },
  {
   "cell_type": "markdown",
   "metadata": {},
   "source": [
    "- The box plot visualizes the character distribution of texts across different sentiment labels: Fear, Joy, Love, Surprise, Anger, and Sadness. The y-axis represents number of characters in each text, while the x-axis shows the different sentiment labels.\n",
    "\n",
    "- **Box and Whiskers:**\n",
    "    - The box represents the interquartile range (IQR), which contains the middle 50% of the data. The bottom of the box shows the first quartile (25th percentile), the top shows the third quartile (75th percentile), and the line in the middle of the box is the median (50th percentile). \n",
    "\n",
    "    - The whiskers extending from the box represents the range of the data within 1.5 times the IQR from the first and third quartiles.\n",
    "\n",
    "- **Circles (Outliers):** \n",
    "    - The circles above the whiskers represent the outliers--data points that fall outside 1.5 times the IQR. These are texts with unusually high character coutns compared to the majority of texts within the specific sentiment label. For example, Fear and Anger labels show some texts that have significantly higher character counts than others, which results in them being marked as outliers."
   ]
  },
  {
   "cell_type": "code",
   "execution_count": 22,
   "metadata": {},
   "outputs": [
    {
     "data": {
      "image/png": "[encoded data removed]",
      "text/plain": [
       "<Figure size 1000x600 with 1 Axes>"
      ]
     },
     "metadata": {},
     "output_type": "display_data"
    }
   ],
   "source": [
    "plt.figure(figsize = (10, 6)) \n",
    "sns.boxplot(x = 'label', y = 'word_count', data = df) \n",
    "plt.title('Word Count Distribution by Sentiment Label') \n",
    "plt.xlabel('Sentiment Label') \n",
    "plt.ylabel('Word Count') \n",
    "plt.xticks(rotation = 45) \n",
    "plt.show()"
   ]
  },
  {
   "cell_type": "markdown",
   "metadata": {},
   "source": [
    "- The box plot visualizes the word count distribution of texts across different sentiment labels: Fear, Joy, Love, Surprise, Anger, and Sadness. The y-axis represents word count in each text, while the x-axis shows the different sentiment labels.\n",
    "\n",
    "- **Box and Whiskers:**\n",
    "    - The box represents the interquartile range (IQR), which contains the middle 50% of the data. The bottom of the box shows the first quartile (25th percentile), the top shows the third quartile (75th percentile), and the line in the middle of the box is the median (50th percentile). \n",
    "\n",
    "    - The whiskers extending from the box represents the range of the data within 1.5 times the IQR from the first and third quartiles.\n",
    "\n",
    "- **Circles (Outliers):** \n",
    "    - The circles above the whiskers represent the outliers--data points that fall outside 1.5 times the IQR. These are texts with unusually high character coutns compared to the majority of texts within the specific sentiment label. For example, Fear and Anger labels show some texts that have significantly higher character counts than others, which results in them being marked as outliers."
   ]
  },
  {
   "cell_type": "markdown",
   "metadata": {},
   "source": [
    "# **NLTK**"
   ]
  },
  {
   "cell_type": "markdown",
   "metadata": {},
   "source": [
    "- NLTK (Natural Language Tookit) is an essential tool for sentiment analysis systems for text data because it provides tools to process text by tokenizing, removing stop words, and steeming, which helps normalize language for analysis. Its extensive lexicon resources, like VADER, are tailored to detect sentiment in social media language, including handling nuances like sarcasm and emphasis. NLTK also allows for part-of-speech (POS) tagging, which helps capture word context, aiding in deeper understanding of sentiment in short, informal tweet structures. "
   ]
  },
  {
   "cell_type": "markdown",
   "metadata": {},
   "source": [
    "Converts the processed list of words back into a single string format for easier visualization and tokenization."
   ]
  },
  {
   "cell_type": "code",
   "execution_count": 23,
   "metadata": {},
   "outputs": [
    {
     "name": "stdout",
     "output_type": "stream",
     "text": [
      "heated argument lover whose intention marry near future rejected started cry stopped crying moment said\n"
     ]
    }
   ],
   "source": [
    "example = ' '.join(df['processed_text'].iloc[5] )\n",
    "print(example)"
   ]
  },
  {
   "cell_type": "code",
   "execution_count": 36,
   "metadata": {},
   "outputs": [
    {
     "name": "stdout",
     "output_type": "stream",
     "text": [
      "['/Users/jacyliu/nltk_data', '/Users/jacyliu/Documents/De La Salle University/STADVDB/AFFECTV_MCO/.conda/nltk_data', '/Users/jacyliu/Documents/De La Salle University/STADVDB/AFFECTV_MCO/.conda/share/nltk_data', '/Users/jacyliu/Documents/De La Salle University/STADVDB/AFFECTV_MCO/.conda/lib/nltk_data', '/usr/share/nltk_data', '/usr/local/share/nltk_data', '/usr/lib/nltk_data', '/usr/local/lib/nltk_data']\n"
     ]
    },
    {
     "name": "stderr",
     "output_type": "stream",
     "text": [
      "[nltk_data] Downloading package punkt to /Users/jacyliu/nltk_data...\n",
      "[nltk_data]   Package punkt is already up-to-date!\n"
     ]
    }
   ],
   "source": [
    "nltk.download('punkt')  # Ensures punkt is downloaded\n",
    "print(nltk.data.path)"
   ]
  },
  {
   "cell_type": "code",
   "execution_count": 35,
   "metadata": {},
   "outputs": [
    {
     "ename": "LookupError",
     "evalue": "\n**********************************************************************\n  Resource \u001b[93mpunkt_tab\u001b[0m not found.\n  Please use the NLTK Downloader to obtain the resource:\n\n  \u001b[31m>>> import nltk\n  >>> nltk.download('punkt_tab')\n  \u001b[0m\n  For more information see: https://www.nltk.org/data.html\n\n  Attempted to load \u001b[93mtokenizers/punkt_tab/english/\u001b[0m\n\n  Searched in:\n    - '/Users/jacyliu/nltk_data'\n    - '/Users/jacyliu/Documents/De La Salle University/STADVDB/AFFECTV_MCO/.conda/nltk_data'\n    - '/Users/jacyliu/Documents/De La Salle University/STADVDB/AFFECTV_MCO/.conda/share/nltk_data'\n    - '/Users/jacyliu/Documents/De La Salle University/STADVDB/AFFECTV_MCO/.conda/lib/nltk_data'\n    - '/usr/share/nltk_data'\n    - '/usr/local/share/nltk_data'\n    - '/usr/lib/nltk_data'\n    - '/usr/local/lib/nltk_data'\n**********************************************************************\n",
     "output_type": "error",
     "traceback": [
      "\u001b[0;31m---------------------------------------------------------------------------\u001b[0m",
      "\u001b[0;31mLookupError\u001b[0m                               Traceback (most recent call last)",
      "Cell \u001b[0;32mIn[35], line 3\u001b[0m\n\u001b[1;32m      1\u001b[0m \u001b[38;5;28;01mfrom\u001b[39;00m \u001b[38;5;21;01mnltk\u001b[39;00m\u001b[38;5;21;01m.\u001b[39;00m\u001b[38;5;21;01mtokenize\u001b[39;00m \u001b[38;5;28;01mimport\u001b[39;00m word_tokenize\n\u001b[1;32m      2\u001b[0m example \u001b[38;5;241m=\u001b[39m \u001b[38;5;124m\"\u001b[39m\u001b[38;5;124mThis is a sample sentence.\u001b[39m\u001b[38;5;124m\"\u001b[39m\n\u001b[0;32m----> 3\u001b[0m tokens \u001b[38;5;241m=\u001b[39m \u001b[43mword_tokenize\u001b[49m\u001b[43m(\u001b[49m\u001b[43mexample\u001b[49m\u001b[43m)\u001b[49m\n\u001b[1;32m      4\u001b[0m \u001b[38;5;28mprint\u001b[39m(tokens)\n",
      "File \u001b[0;32m~/Documents/De La Salle University/STADVDB/AFFECTV_MCO/.conda/lib/python3.9/site-packages/nltk/tokenize/__init__.py:142\u001b[0m, in \u001b[0;36mword_tokenize\u001b[0;34m(text, language, preserve_line)\u001b[0m\n\u001b[1;32m    127\u001b[0m \u001b[38;5;28;01mdef\u001b[39;00m \u001b[38;5;21mword_tokenize\u001b[39m(text, language\u001b[38;5;241m=\u001b[39m\u001b[38;5;124m\"\u001b[39m\u001b[38;5;124menglish\u001b[39m\u001b[38;5;124m\"\u001b[39m, preserve_line\u001b[38;5;241m=\u001b[39m\u001b[38;5;28;01mFalse\u001b[39;00m):\n\u001b[1;32m    128\u001b[0m \u001b[38;5;250m    \u001b[39m\u001b[38;5;124;03m\"\"\"\u001b[39;00m\n\u001b[1;32m    129\u001b[0m \u001b[38;5;124;03m    Return a tokenized copy of *text*,\u001b[39;00m\n\u001b[1;32m    130\u001b[0m \u001b[38;5;124;03m    using NLTK's recommended word tokenizer\u001b[39;00m\n\u001b[0;32m   (...)\u001b[0m\n\u001b[1;32m    140\u001b[0m \u001b[38;5;124;03m    :type preserve_line: bool\u001b[39;00m\n\u001b[1;32m    141\u001b[0m \u001b[38;5;124;03m    \"\"\"\u001b[39;00m\n\u001b[0;32m--> 142\u001b[0m     sentences \u001b[38;5;241m=\u001b[39m [text] \u001b[38;5;28;01mif\u001b[39;00m preserve_line \u001b[38;5;28;01melse\u001b[39;00m \u001b[43msent_tokenize\u001b[49m\u001b[43m(\u001b[49m\u001b[43mtext\u001b[49m\u001b[43m,\u001b[49m\u001b[43m \u001b[49m\u001b[43mlanguage\u001b[49m\u001b[43m)\u001b[49m\n\u001b[1;32m    143\u001b[0m     \u001b[38;5;28;01mreturn\u001b[39;00m [\n\u001b[1;32m    144\u001b[0m         token \u001b[38;5;28;01mfor\u001b[39;00m sent \u001b[38;5;129;01min\u001b[39;00m sentences \u001b[38;5;28;01mfor\u001b[39;00m token \u001b[38;5;129;01min\u001b[39;00m _treebank_word_tokenizer\u001b[38;5;241m.\u001b[39mtokenize(sent)\n\u001b[1;32m    145\u001b[0m     ]\n",
      "File \u001b[0;32m~/Documents/De La Salle University/STADVDB/AFFECTV_MCO/.conda/lib/python3.9/site-packages/nltk/tokenize/__init__.py:119\u001b[0m, in \u001b[0;36msent_tokenize\u001b[0;34m(text, language)\u001b[0m\n\u001b[1;32m    109\u001b[0m \u001b[38;5;28;01mdef\u001b[39;00m \u001b[38;5;21msent_tokenize\u001b[39m(text, language\u001b[38;5;241m=\u001b[39m\u001b[38;5;124m\"\u001b[39m\u001b[38;5;124menglish\u001b[39m\u001b[38;5;124m\"\u001b[39m):\n\u001b[1;32m    110\u001b[0m \u001b[38;5;250m    \u001b[39m\u001b[38;5;124;03m\"\"\"\u001b[39;00m\n\u001b[1;32m    111\u001b[0m \u001b[38;5;124;03m    Return a sentence-tokenized copy of *text*,\u001b[39;00m\n\u001b[1;32m    112\u001b[0m \u001b[38;5;124;03m    using NLTK's recommended sentence tokenizer\u001b[39;00m\n\u001b[0;32m   (...)\u001b[0m\n\u001b[1;32m    117\u001b[0m \u001b[38;5;124;03m    :param language: the model name in the Punkt corpus\u001b[39;00m\n\u001b[1;32m    118\u001b[0m \u001b[38;5;124;03m    \"\"\"\u001b[39;00m\n\u001b[0;32m--> 119\u001b[0m     tokenizer \u001b[38;5;241m=\u001b[39m \u001b[43m_get_punkt_tokenizer\u001b[49m\u001b[43m(\u001b[49m\u001b[43mlanguage\u001b[49m\u001b[43m)\u001b[49m\n\u001b[1;32m    120\u001b[0m     \u001b[38;5;28;01mreturn\u001b[39;00m tokenizer\u001b[38;5;241m.\u001b[39mtokenize(text)\n",
      "File \u001b[0;32m~/Documents/De La Salle University/STADVDB/AFFECTV_MCO/.conda/lib/python3.9/site-packages/nltk/tokenize/__init__.py:105\u001b[0m, in \u001b[0;36m_get_punkt_tokenizer\u001b[0;34m(language)\u001b[0m\n\u001b[1;32m     96\u001b[0m \u001b[38;5;129m@functools\u001b[39m\u001b[38;5;241m.\u001b[39mlru_cache\n\u001b[1;32m     97\u001b[0m \u001b[38;5;28;01mdef\u001b[39;00m \u001b[38;5;21m_get_punkt_tokenizer\u001b[39m(language\u001b[38;5;241m=\u001b[39m\u001b[38;5;124m\"\u001b[39m\u001b[38;5;124menglish\u001b[39m\u001b[38;5;124m\"\u001b[39m):\n\u001b[1;32m     98\u001b[0m \u001b[38;5;250m    \u001b[39m\u001b[38;5;124;03m\"\"\"\u001b[39;00m\n\u001b[1;32m     99\u001b[0m \u001b[38;5;124;03m    A constructor for the PunktTokenizer that utilizes\u001b[39;00m\n\u001b[1;32m    100\u001b[0m \u001b[38;5;124;03m    a lru cache for performance.\u001b[39;00m\n\u001b[0;32m   (...)\u001b[0m\n\u001b[1;32m    103\u001b[0m \u001b[38;5;124;03m    :type language: str\u001b[39;00m\n\u001b[1;32m    104\u001b[0m \u001b[38;5;124;03m    \"\"\"\u001b[39;00m\n\u001b[0;32m--> 105\u001b[0m     \u001b[38;5;28;01mreturn\u001b[39;00m \u001b[43mPunktTokenizer\u001b[49m\u001b[43m(\u001b[49m\u001b[43mlanguage\u001b[49m\u001b[43m)\u001b[49m\n",
      "File \u001b[0;32m~/Documents/De La Salle University/STADVDB/AFFECTV_MCO/.conda/lib/python3.9/site-packages/nltk/tokenize/punkt.py:1744\u001b[0m, in \u001b[0;36mPunktTokenizer.__init__\u001b[0;34m(self, lang)\u001b[0m\n\u001b[1;32m   1742\u001b[0m \u001b[38;5;28;01mdef\u001b[39;00m \u001b[38;5;21m__init__\u001b[39m(\u001b[38;5;28mself\u001b[39m, lang\u001b[38;5;241m=\u001b[39m\u001b[38;5;124m\"\u001b[39m\u001b[38;5;124menglish\u001b[39m\u001b[38;5;124m\"\u001b[39m):\n\u001b[1;32m   1743\u001b[0m     PunktSentenceTokenizer\u001b[38;5;241m.\u001b[39m\u001b[38;5;21m__init__\u001b[39m(\u001b[38;5;28mself\u001b[39m)\n\u001b[0;32m-> 1744\u001b[0m     \u001b[38;5;28;43mself\u001b[39;49m\u001b[38;5;241;43m.\u001b[39;49m\u001b[43mload_lang\u001b[49m\u001b[43m(\u001b[49m\u001b[43mlang\u001b[49m\u001b[43m)\u001b[49m\n",
      "File \u001b[0;32m~/Documents/De La Salle University/STADVDB/AFFECTV_MCO/.conda/lib/python3.9/site-packages/nltk/tokenize/punkt.py:1749\u001b[0m, in \u001b[0;36mPunktTokenizer.load_lang\u001b[0;34m(self, lang)\u001b[0m\n\u001b[1;32m   1746\u001b[0m \u001b[38;5;28;01mdef\u001b[39;00m \u001b[38;5;21mload_lang\u001b[39m(\u001b[38;5;28mself\u001b[39m, lang\u001b[38;5;241m=\u001b[39m\u001b[38;5;124m\"\u001b[39m\u001b[38;5;124menglish\u001b[39m\u001b[38;5;124m\"\u001b[39m):\n\u001b[1;32m   1747\u001b[0m     \u001b[38;5;28;01mfrom\u001b[39;00m \u001b[38;5;21;01mnltk\u001b[39;00m\u001b[38;5;21;01m.\u001b[39;00m\u001b[38;5;21;01mdata\u001b[39;00m \u001b[38;5;28;01mimport\u001b[39;00m find\n\u001b[0;32m-> 1749\u001b[0m     lang_dir \u001b[38;5;241m=\u001b[39m \u001b[43mfind\u001b[49m\u001b[43m(\u001b[49m\u001b[38;5;124;43mf\u001b[39;49m\u001b[38;5;124;43m\"\u001b[39;49m\u001b[38;5;124;43mtokenizers/punkt_tab/\u001b[39;49m\u001b[38;5;132;43;01m{\u001b[39;49;00m\u001b[43mlang\u001b[49m\u001b[38;5;132;43;01m}\u001b[39;49;00m\u001b[38;5;124;43m/\u001b[39;49m\u001b[38;5;124;43m\"\u001b[39;49m\u001b[43m)\u001b[49m\n\u001b[1;32m   1750\u001b[0m     \u001b[38;5;28mself\u001b[39m\u001b[38;5;241m.\u001b[39m_params \u001b[38;5;241m=\u001b[39m load_punkt_params(lang_dir)\n\u001b[1;32m   1751\u001b[0m     \u001b[38;5;28mself\u001b[39m\u001b[38;5;241m.\u001b[39m_lang \u001b[38;5;241m=\u001b[39m lang\n",
      "File \u001b[0;32m~/Documents/De La Salle University/STADVDB/AFFECTV_MCO/.conda/lib/python3.9/site-packages/nltk/data.py:579\u001b[0m, in \u001b[0;36mfind\u001b[0;34m(resource_name, paths)\u001b[0m\n\u001b[1;32m    577\u001b[0m sep \u001b[38;5;241m=\u001b[39m \u001b[38;5;124m\"\u001b[39m\u001b[38;5;124m*\u001b[39m\u001b[38;5;124m\"\u001b[39m \u001b[38;5;241m*\u001b[39m \u001b[38;5;241m70\u001b[39m\n\u001b[1;32m    578\u001b[0m resource_not_found \u001b[38;5;241m=\u001b[39m \u001b[38;5;124mf\u001b[39m\u001b[38;5;124m\"\u001b[39m\u001b[38;5;130;01m\\n\u001b[39;00m\u001b[38;5;132;01m{\u001b[39;00msep\u001b[38;5;132;01m}\u001b[39;00m\u001b[38;5;130;01m\\n\u001b[39;00m\u001b[38;5;132;01m{\u001b[39;00mmsg\u001b[38;5;132;01m}\u001b[39;00m\u001b[38;5;130;01m\\n\u001b[39;00m\u001b[38;5;132;01m{\u001b[39;00msep\u001b[38;5;132;01m}\u001b[39;00m\u001b[38;5;130;01m\\n\u001b[39;00m\u001b[38;5;124m\"\u001b[39m\n\u001b[0;32m--> 579\u001b[0m \u001b[38;5;28;01mraise\u001b[39;00m \u001b[38;5;167;01mLookupError\u001b[39;00m(resource_not_found)\n",
      "\u001b[0;31mLookupError\u001b[0m: \n**********************************************************************\n  Resource \u001b[93mpunkt_tab\u001b[0m not found.\n  Please use the NLTK Downloader to obtain the resource:\n\n  \u001b[31m>>> import nltk\n  >>> nltk.download('punkt_tab')\n  \u001b[0m\n  For more information see: https://www.nltk.org/data.html\n\n  Attempted to load \u001b[93mtokenizers/punkt_tab/english/\u001b[0m\n\n  Searched in:\n    - '/Users/jacyliu/nltk_data'\n    - '/Users/jacyliu/Documents/De La Salle University/STADVDB/AFFECTV_MCO/.conda/nltk_data'\n    - '/Users/jacyliu/Documents/De La Salle University/STADVDB/AFFECTV_MCO/.conda/share/nltk_data'\n    - '/Users/jacyliu/Documents/De La Salle University/STADVDB/AFFECTV_MCO/.conda/lib/nltk_data'\n    - '/usr/share/nltk_data'\n    - '/usr/local/share/nltk_data'\n    - '/usr/lib/nltk_data'\n    - '/usr/local/lib/nltk_data'\n**********************************************************************\n"
     ]
    }
   ],
   "source": [
    "from nltk.tokenize import word_tokenize\n",
    "example = \"This is a sample sentence.\"\n",
    "tokens = word_tokenize(example)\n",
    "print(tokens)"
   ]
  },
  {
   "cell_type": "markdown",
   "metadata": {},
   "source": [
    "Tokenize sentence into individual words for further processing."
   ]
  },
  {
   "cell_type": "code",
   "execution_count": null,
   "metadata": {},
   "outputs": [
    {
     "name": "stderr",
     "output_type": "stream",
     "text": [
      "[nltk_data] Downloading package punkt to /Users/jacyliu/nltk_data...\n",
      "[nltk_data]   Package punkt is already up-to-date!\n",
      "[nltk_data] Downloading package stopwords to\n",
      "[nltk_data]     /Users/jacyliu/nltk_data...\n",
      "[nltk_data]   Package stopwords is already up-to-date!\n"
     ]
    },
    {
     "ename": "LookupError",
     "evalue": "\n**********************************************************************\n  Resource \u001b[93mpunkt_tab\u001b[0m not found.\n  Please use the NLTK Downloader to obtain the resource:\n\n  \u001b[31m>>> import nltk\n  >>> nltk.download('punkt_tab')\n  \u001b[0m\n  For more information see: https://www.nltk.org/data.html\n\n  Attempted to load \u001b[93mtokenizers/punkt_tab/english/\u001b[0m\n\n  Searched in:\n    - '/Users/jacyliu/nltk_data'\n    - '/Users/jacyliu/Documents/De La Salle University/STADVDB/AFFECTV_MCO/.conda/nltk_data'\n    - '/Users/jacyliu/Documents/De La Salle University/STADVDB/AFFECTV_MCO/.conda/share/nltk_data'\n    - '/Users/jacyliu/Documents/De La Salle University/STADVDB/AFFECTV_MCO/.conda/lib/nltk_data'\n    - '/usr/share/nltk_data'\n    - '/usr/local/share/nltk_data'\n    - '/usr/lib/nltk_data'\n    - '/usr/local/lib/nltk_data'\n**********************************************************************\n",
     "output_type": "error",
     "traceback": [
      "\u001b[0;31m---------------------------------------------------------------------------\u001b[0m",
      "\u001b[0;31mLookupError\u001b[0m                               Traceback (most recent call last)",
      "Cell \u001b[0;32mIn[33], line 3\u001b[0m\n\u001b[1;32m      1\u001b[0m nltk\u001b[38;5;241m.\u001b[39mdownload(\u001b[38;5;124m'\u001b[39m\u001b[38;5;124mpunkt\u001b[39m\u001b[38;5;124m'\u001b[39m)  \u001b[38;5;66;03m# This is for word and sentence tokenization\u001b[39;00m\n\u001b[1;32m      2\u001b[0m nltk\u001b[38;5;241m.\u001b[39mdownload(\u001b[38;5;124m'\u001b[39m\u001b[38;5;124mstopwords\u001b[39m\u001b[38;5;124m'\u001b[39m)  \u001b[38;5;66;03m# For stopword corpus\u001b[39;00m\n\u001b[0;32m----> 3\u001b[0m tokens \u001b[38;5;241m=\u001b[39m \u001b[43mnltk\u001b[49m\u001b[38;5;241;43m.\u001b[39;49m\u001b[43mword_tokenize\u001b[49m\u001b[43m(\u001b[49m\u001b[43mexample\u001b[49m\u001b[43m)\u001b[49m \n\u001b[1;32m      4\u001b[0m tokens[:\u001b[38;5;241m10\u001b[39m]\n",
      "File \u001b[0;32m~/Documents/De La Salle University/STADVDB/AFFECTV_MCO/.conda/lib/python3.9/site-packages/nltk/tokenize/__init__.py:142\u001b[0m, in \u001b[0;36mword_tokenize\u001b[0;34m(text, language, preserve_line)\u001b[0m\n\u001b[1;32m    127\u001b[0m \u001b[38;5;28;01mdef\u001b[39;00m \u001b[38;5;21mword_tokenize\u001b[39m(text, language\u001b[38;5;241m=\u001b[39m\u001b[38;5;124m\"\u001b[39m\u001b[38;5;124menglish\u001b[39m\u001b[38;5;124m\"\u001b[39m, preserve_line\u001b[38;5;241m=\u001b[39m\u001b[38;5;28;01mFalse\u001b[39;00m):\n\u001b[1;32m    128\u001b[0m \u001b[38;5;250m    \u001b[39m\u001b[38;5;124;03m\"\"\"\u001b[39;00m\n\u001b[1;32m    129\u001b[0m \u001b[38;5;124;03m    Return a tokenized copy of *text*,\u001b[39;00m\n\u001b[1;32m    130\u001b[0m \u001b[38;5;124;03m    using NLTK's recommended word tokenizer\u001b[39;00m\n\u001b[0;32m   (...)\u001b[0m\n\u001b[1;32m    140\u001b[0m \u001b[38;5;124;03m    :type preserve_line: bool\u001b[39;00m\n\u001b[1;32m    141\u001b[0m \u001b[38;5;124;03m    \"\"\"\u001b[39;00m\n\u001b[0;32m--> 142\u001b[0m     sentences \u001b[38;5;241m=\u001b[39m [text] \u001b[38;5;28;01mif\u001b[39;00m preserve_line \u001b[38;5;28;01melse\u001b[39;00m \u001b[43msent_tokenize\u001b[49m\u001b[43m(\u001b[49m\u001b[43mtext\u001b[49m\u001b[43m,\u001b[49m\u001b[43m \u001b[49m\u001b[43mlanguage\u001b[49m\u001b[43m)\u001b[49m\n\u001b[1;32m    143\u001b[0m     \u001b[38;5;28;01mreturn\u001b[39;00m [\n\u001b[1;32m    144\u001b[0m         token \u001b[38;5;28;01mfor\u001b[39;00m sent \u001b[38;5;129;01min\u001b[39;00m sentences \u001b[38;5;28;01mfor\u001b[39;00m token \u001b[38;5;129;01min\u001b[39;00m _treebank_word_tokenizer\u001b[38;5;241m.\u001b[39mtokenize(sent)\n\u001b[1;32m    145\u001b[0m     ]\n",
      "File \u001b[0;32m~/Documents/De La Salle University/STADVDB/AFFECTV_MCO/.conda/lib/python3.9/site-packages/nltk/tokenize/__init__.py:119\u001b[0m, in \u001b[0;36msent_tokenize\u001b[0;34m(text, language)\u001b[0m\n\u001b[1;32m    109\u001b[0m \u001b[38;5;28;01mdef\u001b[39;00m \u001b[38;5;21msent_tokenize\u001b[39m(text, language\u001b[38;5;241m=\u001b[39m\u001b[38;5;124m\"\u001b[39m\u001b[38;5;124menglish\u001b[39m\u001b[38;5;124m\"\u001b[39m):\n\u001b[1;32m    110\u001b[0m \u001b[38;5;250m    \u001b[39m\u001b[38;5;124;03m\"\"\"\u001b[39;00m\n\u001b[1;32m    111\u001b[0m \u001b[38;5;124;03m    Return a sentence-tokenized copy of *text*,\u001b[39;00m\n\u001b[1;32m    112\u001b[0m \u001b[38;5;124;03m    using NLTK's recommended sentence tokenizer\u001b[39;00m\n\u001b[0;32m   (...)\u001b[0m\n\u001b[1;32m    117\u001b[0m \u001b[38;5;124;03m    :param language: the model name in the Punkt corpus\u001b[39;00m\n\u001b[1;32m    118\u001b[0m \u001b[38;5;124;03m    \"\"\"\u001b[39;00m\n\u001b[0;32m--> 119\u001b[0m     tokenizer \u001b[38;5;241m=\u001b[39m \u001b[43m_get_punkt_tokenizer\u001b[49m\u001b[43m(\u001b[49m\u001b[43mlanguage\u001b[49m\u001b[43m)\u001b[49m\n\u001b[1;32m    120\u001b[0m     \u001b[38;5;28;01mreturn\u001b[39;00m tokenizer\u001b[38;5;241m.\u001b[39mtokenize(text)\n",
      "File \u001b[0;32m~/Documents/De La Salle University/STADVDB/AFFECTV_MCO/.conda/lib/python3.9/site-packages/nltk/tokenize/__init__.py:105\u001b[0m, in \u001b[0;36m_get_punkt_tokenizer\u001b[0;34m(language)\u001b[0m\n\u001b[1;32m     96\u001b[0m \u001b[38;5;129m@functools\u001b[39m\u001b[38;5;241m.\u001b[39mlru_cache\n\u001b[1;32m     97\u001b[0m \u001b[38;5;28;01mdef\u001b[39;00m \u001b[38;5;21m_get_punkt_tokenizer\u001b[39m(language\u001b[38;5;241m=\u001b[39m\u001b[38;5;124m\"\u001b[39m\u001b[38;5;124menglish\u001b[39m\u001b[38;5;124m\"\u001b[39m):\n\u001b[1;32m     98\u001b[0m \u001b[38;5;250m    \u001b[39m\u001b[38;5;124;03m\"\"\"\u001b[39;00m\n\u001b[1;32m     99\u001b[0m \u001b[38;5;124;03m    A constructor for the PunktTokenizer that utilizes\u001b[39;00m\n\u001b[1;32m    100\u001b[0m \u001b[38;5;124;03m    a lru cache for performance.\u001b[39;00m\n\u001b[0;32m   (...)\u001b[0m\n\u001b[1;32m    103\u001b[0m \u001b[38;5;124;03m    :type language: str\u001b[39;00m\n\u001b[1;32m    104\u001b[0m \u001b[38;5;124;03m    \"\"\"\u001b[39;00m\n\u001b[0;32m--> 105\u001b[0m     \u001b[38;5;28;01mreturn\u001b[39;00m \u001b[43mPunktTokenizer\u001b[49m\u001b[43m(\u001b[49m\u001b[43mlanguage\u001b[49m\u001b[43m)\u001b[49m\n",
      "File \u001b[0;32m~/Documents/De La Salle University/STADVDB/AFFECTV_MCO/.conda/lib/python3.9/site-packages/nltk/tokenize/punkt.py:1744\u001b[0m, in \u001b[0;36mPunktTokenizer.__init__\u001b[0;34m(self, lang)\u001b[0m\n\u001b[1;32m   1742\u001b[0m \u001b[38;5;28;01mdef\u001b[39;00m \u001b[38;5;21m__init__\u001b[39m(\u001b[38;5;28mself\u001b[39m, lang\u001b[38;5;241m=\u001b[39m\u001b[38;5;124m\"\u001b[39m\u001b[38;5;124menglish\u001b[39m\u001b[38;5;124m\"\u001b[39m):\n\u001b[1;32m   1743\u001b[0m     PunktSentenceTokenizer\u001b[38;5;241m.\u001b[39m\u001b[38;5;21m__init__\u001b[39m(\u001b[38;5;28mself\u001b[39m)\n\u001b[0;32m-> 1744\u001b[0m     \u001b[38;5;28;43mself\u001b[39;49m\u001b[38;5;241;43m.\u001b[39;49m\u001b[43mload_lang\u001b[49m\u001b[43m(\u001b[49m\u001b[43mlang\u001b[49m\u001b[43m)\u001b[49m\n",
      "File \u001b[0;32m~/Documents/De La Salle University/STADVDB/AFFECTV_MCO/.conda/lib/python3.9/site-packages/nltk/tokenize/punkt.py:1749\u001b[0m, in \u001b[0;36mPunktTokenizer.load_lang\u001b[0;34m(self, lang)\u001b[0m\n\u001b[1;32m   1746\u001b[0m \u001b[38;5;28;01mdef\u001b[39;00m \u001b[38;5;21mload_lang\u001b[39m(\u001b[38;5;28mself\u001b[39m, lang\u001b[38;5;241m=\u001b[39m\u001b[38;5;124m\"\u001b[39m\u001b[38;5;124menglish\u001b[39m\u001b[38;5;124m\"\u001b[39m):\n\u001b[1;32m   1747\u001b[0m     \u001b[38;5;28;01mfrom\u001b[39;00m \u001b[38;5;21;01mnltk\u001b[39;00m\u001b[38;5;21;01m.\u001b[39;00m\u001b[38;5;21;01mdata\u001b[39;00m \u001b[38;5;28;01mimport\u001b[39;00m find\n\u001b[0;32m-> 1749\u001b[0m     lang_dir \u001b[38;5;241m=\u001b[39m \u001b[43mfind\u001b[49m\u001b[43m(\u001b[49m\u001b[38;5;124;43mf\u001b[39;49m\u001b[38;5;124;43m\"\u001b[39;49m\u001b[38;5;124;43mtokenizers/punkt_tab/\u001b[39;49m\u001b[38;5;132;43;01m{\u001b[39;49;00m\u001b[43mlang\u001b[49m\u001b[38;5;132;43;01m}\u001b[39;49;00m\u001b[38;5;124;43m/\u001b[39;49m\u001b[38;5;124;43m\"\u001b[39;49m\u001b[43m)\u001b[49m\n\u001b[1;32m   1750\u001b[0m     \u001b[38;5;28mself\u001b[39m\u001b[38;5;241m.\u001b[39m_params \u001b[38;5;241m=\u001b[39m load_punkt_params(lang_dir)\n\u001b[1;32m   1751\u001b[0m     \u001b[38;5;28mself\u001b[39m\u001b[38;5;241m.\u001b[39m_lang \u001b[38;5;241m=\u001b[39m lang\n",
      "File \u001b[0;32m~/Documents/De La Salle University/STADVDB/AFFECTV_MCO/.conda/lib/python3.9/site-packages/nltk/data.py:579\u001b[0m, in \u001b[0;36mfind\u001b[0;34m(resource_name, paths)\u001b[0m\n\u001b[1;32m    577\u001b[0m sep \u001b[38;5;241m=\u001b[39m \u001b[38;5;124m\"\u001b[39m\u001b[38;5;124m*\u001b[39m\u001b[38;5;124m\"\u001b[39m \u001b[38;5;241m*\u001b[39m \u001b[38;5;241m70\u001b[39m\n\u001b[1;32m    578\u001b[0m resource_not_found \u001b[38;5;241m=\u001b[39m \u001b[38;5;124mf\u001b[39m\u001b[38;5;124m\"\u001b[39m\u001b[38;5;130;01m\\n\u001b[39;00m\u001b[38;5;132;01m{\u001b[39;00msep\u001b[38;5;132;01m}\u001b[39;00m\u001b[38;5;130;01m\\n\u001b[39;00m\u001b[38;5;132;01m{\u001b[39;00mmsg\u001b[38;5;132;01m}\u001b[39;00m\u001b[38;5;130;01m\\n\u001b[39;00m\u001b[38;5;132;01m{\u001b[39;00msep\u001b[38;5;132;01m}\u001b[39;00m\u001b[38;5;130;01m\\n\u001b[39;00m\u001b[38;5;124m\"\u001b[39m\n\u001b[0;32m--> 579\u001b[0m \u001b[38;5;28;01mraise\u001b[39;00m \u001b[38;5;167;01mLookupError\u001b[39;00m(resource_not_found)\n",
      "\u001b[0;31mLookupError\u001b[0m: \n**********************************************************************\n  Resource \u001b[93mpunkt_tab\u001b[0m not found.\n  Please use the NLTK Downloader to obtain the resource:\n\n  \u001b[31m>>> import nltk\n  >>> nltk.download('punkt_tab')\n  \u001b[0m\n  For more information see: https://www.nltk.org/data.html\n\n  Attempted to load \u001b[93mtokenizers/punkt_tab/english/\u001b[0m\n\n  Searched in:\n    - '/Users/jacyliu/nltk_data'\n    - '/Users/jacyliu/Documents/De La Salle University/STADVDB/AFFECTV_MCO/.conda/nltk_data'\n    - '/Users/jacyliu/Documents/De La Salle University/STADVDB/AFFECTV_MCO/.conda/share/nltk_data'\n    - '/Users/jacyliu/Documents/De La Salle University/STADVDB/AFFECTV_MCO/.conda/lib/nltk_data'\n    - '/usr/share/nltk_data'\n    - '/usr/local/share/nltk_data'\n    - '/usr/lib/nltk_data'\n    - '/usr/local/lib/nltk_data'\n**********************************************************************\n"
     ]
    }
   ],
   "source": [
    "\n",
    "tokens = nltk.word_tokenize(example) \n",
    "tokens[:10]"
   ]
  },
  {
   "cell_type": "markdown",
   "metadata": {},
   "source": [
    "Tag each token with corresponding part of speech (POS)."
   ]
  },
  {
   "cell_type": "code",
   "execution_count": null,
   "metadata": {},
   "outputs": [],
   "source": [
    "# nltk.download('averaged_perceptron_tagger')\n",
    "tagged = nltk.pos_tag(tokens) \n",
    "tagged[:10]"
   ]
  },
  {
   "cell_type": "markdown",
   "metadata": {},
   "source": [
    "Identifies and displays named entities (e.g., proper nouns, etc.) in the sentence."
   ]
  },
  {
   "cell_type": "code",
   "execution_count": null,
   "metadata": {},
   "outputs": [],
   "source": [
    "# nltk.download('maxent_ne_chunker')\n",
    "# nltk.download('words')\n",
    "entities = nltk.ne_chunk(tagged) \n",
    "entities.pprint()"
   ]
  },
  {
   "cell_type": "markdown",
   "metadata": {},
   "source": [
    "Define function that returns tokens and their POS tags for a list of words."
   ]
  },
  {
   "cell_type": "code",
   "execution_count": null,
   "metadata": {},
   "outputs": [],
   "source": [
    "def process_tokens(tokens): \n",
    "    pos_tags = pos_tag(tokens) \n",
    "    return tokens, pos_tags\n",
    "\n",
    "# Apply process_tokens function to each row in DataFrame, generating tokens and POS tags for each\n",
    "df['tokens'], df['pos_tags'] = zip( *df['processed_text'].apply(process_tokens) ) \n",
    "print(df[['tokens', 'pos_tags']].head())"
   ]
  },
  {
   "cell_type": "code",
   "execution_count": null,
   "metadata": {},
   "outputs": [],
   "source": [
    "import os\n",
    "import pickle\n",
    "# Create 'models' directory if it doesn't exist\n",
    "if not os.path.exists('models'):\n",
    "    os.makedirs('models')"
   ]
  },
  {
   "cell_type": "markdown",
   "metadata": {},
   "source": [
    "# **VADER Sentiment Scoring**"
   ]
  },
  {
   "cell_type": "markdown",
   "metadata": {},
   "source": [
    "- VADER (Valence Aware Dictionary and Sentiment Reasoner) model is a rule-based tool for sentiment analysis that's turned especially for social media contexts. It focuses on assessing the sentiment in text based on a lexicon and can capture emotions from not just words but also intensifiers, punctuations, and even emojis."
   ]
  },
  {
   "cell_type": "markdown",
   "metadata": {},
   "source": [
    "Import Sentiment Analyzer and Progress Bar Utility tools"
   ]
  },
  {
   "cell_type": "code",
   "execution_count": null,
   "metadata": {},
   "outputs": [],
   "source": [
    "# nltk.download('vader_lexicon')\n",
    "from nltk.sentiment import SentimentIntensityAnalyzer   # Import VADER sentiment analysis tool from NLTK library\n",
    "from tqdm.notebook import tqdm                          # Import tqdm's notebook-based progress bar utility to visualize iteration process\n",
    "\n",
    "# Initialize Sentiment Analyzer\n",
    "sia = SentimentIntensityAnalyzer()     # Create an instance of SentimentIntensityAnalyzer, which provides polarity score of a certain text"
   ]
  },
  {
   "cell_type": "markdown",
   "metadata": {},
   "source": [
    "Example 1"
   ]
  },
  {
   "cell_type": "code",
   "execution_count": null,
   "metadata": {},
   "outputs": [],
   "source": [
    "sia.polarity_scores('I hate my life')"
   ]
  },
  {
   "cell_type": "markdown",
   "metadata": {},
   "source": [
    "Example 2"
   ]
  },
  {
   "cell_type": "code",
   "execution_count": null,
   "metadata": {},
   "outputs": [],
   "source": [
    "sia.polarity_scores('I love you')"
   ]
  },
  {
   "cell_type": "markdown",
   "metadata": {},
   "source": [
    "Get polarity score of example text."
   ]
  },
  {
   "cell_type": "code",
   "execution_count": null,
   "metadata": {},
   "outputs": [],
   "source": [
    "sia.polarity_scores(example)"
   ]
  },
  {
   "cell_type": "markdown",
   "metadata": {},
   "source": [
    "Iterate through each row in the DataFrame 'df'."
   ]
  },
  {
   "cell_type": "code",
   "execution_count": null,
   "metadata": {},
   "outputs": [],
   "source": [
    "# Empty dictionary to store VADER sentiment scores\n",
    "res = {}\n",
    "\n",
    "# Iterate through each row in the DataFrame with a progress bar\n",
    "for i, row in tqdm( df.iterrows(), total = len(df) ): \n",
    "    text = row['text']  # Extract text from each row\n",
    "    id = row['Index']   # Get row's index as 'id'\n",
    "    res[id] = sia.polarity_scores(text) # Use VADER to analyze the sentiment and store each resulting sentiment in 'res'"
   ]
  },
  {
   "cell_type": "markdown",
   "metadata": {},
   "source": [
    "Convert dictionary of results into a DataFrame, transpose it, and reset index."
   ]
  },
  {
   "cell_type": "code",
   "execution_count": null,
   "metadata": {},
   "outputs": [],
   "source": [
    "vaders = pd.DataFrame(res).T\n",
    "vaders = vaders.reset_index().rename(columns = {\n",
    "    'index': 'id',      # Rename 'index' to 'id' to match with original DataFrame\n",
    "    'neg': 'vader_neg', # Rename columns to specify VADER sentiment scores\n",
    "    'neu': 'vader_neu', \n",
    "    'pos': 'vader_pos'\n",
    "}) \n",
    "\n",
    "# Merge 'vaders' DataFrame with original 'df' on the 'id' column\n",
    "vaders = vaders.merge(df, how='left', left_on='id', right_on='Index')"
   ]
  },
  {
   "cell_type": "markdown",
   "metadata": {},
   "source": [
    "Display final DataFrame."
   ]
  },
  {
   "cell_type": "code",
   "execution_count": null,
   "metadata": {},
   "outputs": [],
   "source": [
    "vaders"
   ]
  },
  {
   "cell_type": "code",
   "execution_count": null,
   "metadata": {},
   "outputs": [],
   "source": [
    "# Save the Vader model\n",
    "with open(\"models/vaders_sentiment.pkl\", \"wb\") as f:\n",
    "    pickle.dump(vaders, f)"
   ]
  },
  {
   "cell_type": "markdown",
   "metadata": {},
   "source": [
    "## **Plot VADER Results**"
   ]
  },
  {
   "cell_type": "code",
   "execution_count": null,
   "metadata": {},
   "outputs": [],
   "source": [
    "ax = sns.barplot(\n",
    "    data = vaders, \n",
    "    x = 'label', \n",
    "    y = 'compound'\n",
    ")\n",
    "ax.set_title('Compound Score by Text Sentiment Label')\n",
    "ax.set_xticklabels(ax.get_xticklabels(), rotation = 45, ha = \"right\", fontsize = 12) \n",
    "plt.tight_layout() \n",
    "plt.show()"
   ]
  },
  {
   "cell_type": "markdown",
   "metadata": {},
   "source": [
    "The bar plot visualizes the average compound sentiment score from the VADER sentiment analysis for each emotion label. Here's the analysis: \n",
    "\n",
    "   - **Joy and Love** exhibit the highest compound scores, indicating that these emotions are generally associated with positive sentiment in the text. \n",
    "\n",
    "   - **Surprise** shows a moderate positive compound score, which might reflect its mixed or neutral association, depending on the context. \n",
    "   \n",
    "   - **Fear, Anger, and Sadness** have negative compound scores, aligning with their inherently negative connotations in sentiment analysis system.\n",
    "\n",
    "This distribution aligns with typical sentiment expectations--positive emotions (like Joy and Love) yield positive scores, while negative emotions (like Fear and Sadness) yield negative scores, confirming that VADER effectively captures the polarity of these sentiments. "
   ]
  },
  {
   "cell_type": "code",
   "execution_count": null,
   "metadata": {},
   "outputs": [],
   "source": [
    "fig, axs = plt.subplots(1, 3, figsize = (12, 3)) \n",
    "sns.barplot(data = vaders, x = 'label', y = 'vader_pos', ax = axs[0]) \n",
    "sns.barplot(data = vaders, x = 'label', y = 'vader_neu', ax = axs[1]) \n",
    "sns.barplot(data = vaders, x = 'label', y = 'vader_neg', ax = axs[2]) \n",
    "axs[0].set_title('Positive Sentiment') \n",
    "axs[1].set_title('Neutral Sentiment') \n",
    "axs[2].set_title('Negative Sentiment') \n",
    "plt.tight_layout()\n",
    "plt.show() "
   ]
  },
  {
   "cell_type": "markdown",
   "metadata": {},
   "source": [
    "- The graphs represent the breakdown of positive, neutral, and negative sentiment scores for various emotional labels in the dataset. The \"Positive Sentiment\" graph shows that \"Joy\" has the highest positive score, followe by \"Love\" and \"Surprise\", suggesting these emotions are associated with positive language. The \"Neutral Sentiment\" graph is consistent across all labels, indicating a generally neutral tone in the text, while the \"Negative Sentiment\" graph highlights \"Fear\", \"Anger\", and \"Sadness\" with higher negative scores, showing these emotions are associated with negative expressions. "
   ]
  },
  {
   "cell_type": "markdown",
   "metadata": {},
   "source": [
    "# **RoBERTa Model**"
   ]
  },
  {
   "cell_type": "markdown",
   "metadata": {},
   "source": [
    "- RoBERTa model introduces a powerful transformer-based approach for understanding nuanced language patterns in text data. RoBERTa (Robustly Optimized Bidirectional Encoder Representations from Transformers) model has been fine-tuned to capture complex contextual relationships within text, making it well-suited for identifying subtle sentiment differences. It leveregaes bidirectional attention, meaning it analyzes context both before and after each word, which helps interpret sarcasm, irony, and other complexities often present in text data. "
   ]
  },
  {
   "cell_type": "markdown",
   "metadata": {},
   "source": [
    "Import the necessary libraries."
   ]
  },
  {
   "cell_type": "code",
   "execution_count": null,
   "metadata": {},
   "outputs": [],
   "source": [
    "from transformers import AutoTokenizer \n",
    "from transformers import AutoModelForSequenceClassification \n",
    "\n",
    "# Import softmax function for probability conversion\n",
    "from scipy.special import softmax "
   ]
  },
  {
   "cell_type": "markdown",
   "metadata": {},
   "source": [
    "Specify RoBERTa model version pre-trained on Twitter sentiment data."
   ]
  },
  {
   "cell_type": "code",
   "execution_count": null,
   "metadata": {},
   "outputs": [],
   "source": [
    "MODEL = f\"cardiffnlp/twitter-roberta-base-sentiment-latest\"\n",
    "\n",
    "# Load tokenizer for the RoBERTa model to convert text into tokens\n",
    "tokenizer = AutoTokenizer.from_pretrained(MODEL)\n",
    "\n",
    "# Load sentiment analysis model for sequence classification\n",
    "model = AutoModelForSequenceClassification.from_pretrained(MODEL)"
   ]
  },
  {
   "cell_type": "code",
   "execution_count": null,
   "metadata": {},
   "outputs": [],
   "source": [
    "encoded_text = tokenizer(example, return_tensors='pt')\n",
    "output = model(**encoded_text) \n",
    "scores = output[0][0].detach().numpy() \n",
    "scores = softmax(scores) \n",
    "scores_dict = {\n",
    "    'roberta_neg' : scores[0], \n",
    "    'roberta_neu' : scores[1], \n",
    "    'roberta_pos' : scores[2]\n",
    "} \n",
    "print(scores_dict)"
   ]
  },
  {
   "cell_type": "markdown",
   "metadata": {},
   "source": [
    "Declare function that calculates sentiment scores for a given text using the RoBERTa model. The function tokenizes, runs it through the model, applies the softmax function to get probabilities, and returns a dictionary with negative, neutral, and positive sentiment scores."
   ]
  },
  {
   "cell_type": "code",
   "execution_count": null,
   "metadata": {},
   "outputs": [],
   "source": [
    "def polarity_scores_roberta(example): \n",
    "    # Tokenize input text for the RoBERTa model, outputting tensors in PyTorch format\n",
    "    encoded_text = tokenizer(example, return_tensors='pt') \n",
    "\n",
    "    # Perform inference on the encoded text using the model\n",
    "    output = model(**encoded_text) \n",
    "\n",
    "    # Extract model output and convert it to NumPy array for softmax processing\n",
    "    scores = output[0][0].detach().numpy() \n",
    "\n",
    "    # Apply softmax function to obtain sentiment probabilities\n",
    "    scores = softmax(scores)                     \n",
    "\n",
    "    # Create dictionary with sentiment scores labeled as negative, neutral, and positive\n",
    "    scores_dict = {\n",
    "        'roberta_neg' : scores[0],  # Negative sentiment score\n",
    "        'roberta_neu' : scores[1],  # Neutral sentiment score\n",
    "        'roberta_pos' : scores[2]   # Positive sentiment score\n",
    "    } \n",
    "    # Return dictionary containing sentiment scores\n",
    "    return scores_dict"
   ]
  },
  {
   "cell_type": "markdown",
   "metadata": {},
   "source": [
    "Loop iterates over each row in a DataFrame, processes the text with both VADER and RoBERTa sentiment analysis, renames the VADER keys for clarity, and combine the scores from both models."
   ]
  },
  {
   "cell_type": "code",
   "execution_count": null,
   "metadata": {},
   "outputs": [],
   "source": [
    "res = {}\n",
    "\n",
    "# Iterate over each row in DataFrame with progress tracking\n",
    "for i, row in tqdm( df.iterrows(), total = len(df) ): \n",
    "\n",
    "    try: \n",
    "        # Retrieve the text and unique identifier from the DataFrame\n",
    "        text = row['text'] \n",
    "        id = row['Index']\n",
    "        # Get RoBERTa sentiment scores using custom function\n",
    "        roberta_result = polarity_scores_roberta(text) \n",
    "        res[id] = roberta_result\n",
    "    except RuntimeError: \n",
    "         #Print error message if there is an issue processing a row\n",
    "        print(f'Broke for id {id}') "
   ]
  },
  {
   "cell_type": "markdown",
   "metadata": {},
   "source": [
    "Convert res dictionary into a DataFrame, renames columns for clarity, and merges it with the original DataFrame on the Index column or the DataFrame's index if Index is not available."
   ]
  },
  {
   "cell_type": "code",
   "execution_count": null,
   "metadata": {},
   "outputs": [],
   "source": [
    "# Convert the 'res' dictionary to a DataFrame\n",
    "results_df = pd.DataFrame(res).T  # Transpose so IDs align with rows\n",
    "\n",
    "# Reset the index and rename the 'index' column to 'Id' for easier merging\n",
    "results_df = results_df.reset_index().rename(columns={\n",
    "    'index': 'Id',          # Rename index to Id\n",
    "    'roberta_neg': 'roberta_neg',  # Keep RoBERTa score columns\n",
    "    'roberta_neu': 'roberta_neu',\n",
    "    'roberta_pos': 'roberta_pos'\n",
    "})\n",
    "\n",
    "# Merge results DataFrame with the original DataFrame on 'Id' and 'Index' columns\n",
    "if 'Index' in df.columns:\n",
    "    results_df = results_df.merge(df, how='left', left_on='Id', right_on='Index')\n",
    "else:\n",
    "    # If 'Index' is not a column, merge on index\n",
    "    results_df = results_df.merge(df, how='left', left_on='Id', right_index=True)"
   ]
  },
  {
   "cell_type": "markdown",
   "metadata": {},
   "source": [
    "Display first few rows of merged DataFrame."
   ]
  },
  {
   "cell_type": "code",
   "execution_count": null,
   "metadata": {},
   "outputs": [],
   "source": [
    "results_df.head()"
   ]
  },
  {
   "cell_type": "code",
   "execution_count": null,
   "metadata": {},
   "outputs": [],
   "source": [
    "# Save the 'results_df' DataFrame as a Pickle file in the 'models' directory\n",
    "with open(\"models/roberta_sentiment.pkl\", \"wb\") as f:\n",
    "    pickle.dump(results_df, f)"
   ]
  },
  {
   "cell_type": "code",
   "execution_count": null,
   "metadata": {},
   "outputs": [],
   "source": [
    "merged_df = vaders.merge(results_df, on='Index', how='inner')\n",
    "\n",
    "# Rename columns if needed (e.g., _x, _y suffixes)\n",
    "merged_df.rename(columns={\n",
    "    'text_x': 'text',\n",
    "    'label_x': 'label',\n",
    "    'processed_text_x': 'processed_text',\n",
    "    # Add renaming for other duplicated columns\n",
    "}, inplace=True)\n",
    "\n",
    "# Dynamically filter the columns to keep\n",
    "columns_to_keep = [\n",
    "    col for col in [\n",
    "        'text', 'processed_text' ,'vader_neg', 'vader_neu', 'vader_pos', 'compound',\n",
    "        'roberta_neg', 'roberta_neu', 'roberta_pos',\n",
    "        'label',\n",
    "        'char_count', 'word_count', 'message_length',\n",
    "        'tokens', 'pos_tags'\n",
    "    ] if col in merged_df.columns\n",
    "]\n",
    "\n",
    "merged_df = merged_df[columns_to_keep]\n",
    "merged_df.head()"
   ]
  },
  {
   "cell_type": "markdown",
   "metadata": {},
   "source": [
    "Display each column currently in the DataFrame."
   ]
  },
  {
   "cell_type": "code",
   "execution_count": null,
   "metadata": {},
   "outputs": [],
   "source": [
    "merged_df.columns"
   ]
  },
  {
   "cell_type": "markdown",
   "metadata": {},
   "source": [
    "# Examples"
   ]
  },
  {
   "cell_type": "code",
   "execution_count": null,
   "metadata": {},
   "outputs": [],
   "source": [
    "results_df.query('label == \"Joy\"').sort_values('roberta_pos', ascending=False)['text'].values[0]\n",
    "merged_df.query('label == \"Joy\"').sort_values('roberta_pos', ascending=False)['text'].values[0]"
   ]
  },
  {
   "cell_type": "code",
   "execution_count": null,
   "metadata": {},
   "outputs": [],
   "source": [
    "#results_df.query('label == \"Joy\"').sort_values('vader_pos', ascending=False)['text'].values[0]\n",
    "#merged_df.query('label == \"Joy\"').sort_values('vader_pos', ascending=False)['text'].values[0]"
   ]
  },
  {
   "cell_type": "code",
   "execution_count": null,
   "metadata": {},
   "outputs": [],
   "source": [
    "results_df.query('label == \"Joy\"').sort_values('roberta_neg', ascending=False)['text'].values[0]\n",
    "merged_df.query('label == \"Joy\"').sort_values('roberta_neg', ascending=False)['text'].values[0]"
   ]
  },
  {
   "cell_type": "code",
   "execution_count": null,
   "metadata": {},
   "outputs": [],
   "source": [
    "#results_df.query('label == \"Joy\"').sort_values('vader_neg', ascending=False)['text'].values[0]\n",
    "#merged_df.query('label == \"Joy\"').sort_values('vader_neg', ascending=False)['text'].values[0]"
   ]
  },
  {
   "cell_type": "markdown",
   "metadata": {},
   "source": [
    "# **Neural Network**"
   ]
  },
  {
   "cell_type": "code",
   "execution_count": null,
   "metadata": {},
   "outputs": [],
   "source": [
    "import numpy as np\n",
    "import pandas as pd\n",
    "from sklearn.model_selection import train_test_split\n",
    "from sklearn.preprocessing import LabelEncoder\n",
    "from sklearn.feature_extraction.text import TfidfVectorizer\n",
    "import tensorflow as tf\n",
    "from tensorflow.keras.models import Sequential\n",
    "from tensorflow.keras.layers import Dense, Dropout\n",
    "from tensorflow.keras.optimizers import Adam\n",
    "from sklearn.metrics import accuracy_score, classification_report\n",
    "\n",
    "\n",
    "tfidf_vectorizer = TfidfVectorizer(max_features=1000, stop_words='english')\n",
    "tfidf_matrix = tfidf_vectorizer.fit_transform(df['processed_text'].apply(lambda x: ' '.join(x)))\n",
    "\n",
    "\n",
    "label_encoder = LabelEncoder()\n",
    "y = label_encoder.fit_transform(df['label'])\n",
    "\n",
    "\n",
    "X_train, X_test, y_train, y_test = train_test_split(tfidf_matrix, y, test_size=0.2, random_state=42)\n",
    "\n",
    "# Build the neural network model \n",
    "model = Sequential()\n",
    "\n",
    "\n",
    "model.add(Dense(512, input_dim=X_train.shape[1], activation='relu'))\n",
    "model.add(Dropout(0.5))  # Dropout for regularization\n",
    "\n",
    "model.add(Dense(256, activation='relu'))\n",
    "model.add(Dropout(0.5))\n",
    "\n",
    "model.add(Dense(len(label_encoder.classes_), activation='softmax'))\n",
    "\n",
    "\n",
    "model.compile(loss='sparse_categorical_crossentropy',  \n",
    "              optimizer=Adam(), \n",
    "              metrics=['accuracy'])\n",
    "\n",
    "# Train the model\n",
    "model.fit(X_train, y_train, epochs=40, batch_size=128, validation_data=(X_test, y_test))\n",
    "\n",
    "# Evaluate the model on the test set\n",
    "y_pred = model.predict(X_test)\n",
    "y_pred_classes = np.argmax(y_pred, axis=1)  # Convert probabilities to class labels\n",
    "\n",
    "# Calculate accuracy\n",
    "accuracy = accuracy_score(y_test, y_pred_classes)\n",
    "print(f\"Accuracy: {accuracy:.2f}\")\n",
    "\n",
    "# Print classification report\n",
    "print(classification_report(y_test, y_pred_classes, target_names=label_encoder.classes_))\n",
    "\n",
    "# Example: Predict emotion for a new sentence\n",
    "new_sentence = \"I am so happy today\"\n",
    "preprocessed_sentence = ' '.join(preprocess_text(new_sentence))  # Assuming you have a preprocessing function\n",
    "new_vector = tfidf_vectorizer.transform([preprocessed_sentence]).toarray()\n",
    "\n",
    "# Predict the emotion for the new sentence\n",
    "predicted_label = model.predict(new_vector)\n",
    "predicted_class = np.argmax(predicted_label, axis=1)\n",
    "predicted_emotion = label_encoder.inverse_transform(predicted_class)\n",
    "\n",
    "print(f\"The emotion for the sentence '{new_sentence}' is: {predicted_emotion[0]}\")"
   ]
  },
  {
   "cell_type": "code",
   "execution_count": null,
   "metadata": {},
   "outputs": [],
   "source": [
    "# Save the trained neural network model\n",
    "model.save(\"models/neural_network_model.h5\")\n",
    "\n",
    "# Save the TF-IDF vectorizer\n",
    "with open(\"models/tfidf_vectorizer.pkl\", \"wb\") as f:\n",
    "    pickle.dump(tfidf_vectorizer, f)\n",
    "\n",
    "# Save the LabelEncoder\n",
    "with open(\"models/label_encoder.pkl\", \"wb\") as f:\n",
    "    pickle.dump(label_encoder, f)"
   ]
  },
  {
   "cell_type": "code",
   "execution_count": null,
   "metadata": {},
   "outputs": [],
   "source": [
    "import seaborn as sns\n",
    "import matplotlib.pyplot as plt\n",
    "from sklearn.metrics import confusion_matrix\n",
    "\n",
    "# Assuming y_test (true labels) and y_pred (predicted labels from model) are already defined\n",
    "# If y_pred contains probabilities, use np.argmax to get the predicted class\n",
    "y_pred = np.argmax(y_pred, axis=1)  # Convert probabilities to class labels if needed\n",
    "\n",
    "# Generate the confusion matrix\n",
    "conf_matrix = confusion_matrix(y_test, y_pred)\n",
    "\n",
    "# Create a heatmap using seaborn\n",
    "plt.figure(figsize=(8, 6))  # Set the figure size\n",
    "sns.heatmap(conf_matrix, annot=True, fmt='d', cmap='Blues', xticklabels=label_encoder.classes_, yticklabels=label_encoder.classes_)\n",
    "\n",
    "# Add labels and title\n",
    "plt.xlabel('Predicted Labels')\n",
    "plt.ylabel('True Labels')\n",
    "plt.title('Confusion Matrix Heatmap')\n",
    "\n",
    "# Show the plot\n",
    "plt.show()"
   ]
  },
  {
   "cell_type": "code",
   "execution_count": null,
   "metadata": {},
   "outputs": [],
   "source": [
    "print(classification_report(y_test, y_pred_classes, target_names=label_encoder.classes_))\n",
    "\n",
    "accuracy = accuracy_score(y_test, y_pred)\n",
    "print(f\"Accuracy: {accuracy:.2f}\")\n",
    "\n",
    "new_sentence = \"I am so happy today\"\n",
    "preprocessed_sentence = ' '.join(preprocess_text(new_sentence))  # Assuming you have a preprocessing function\n",
    "new_vector = tfidf_vectorizer.transform([preprocessed_sentence]).toarray()\n",
    "\n",
    "# Predict the emotion for the new sentence\n",
    "predicted_label = model.predict(new_vector)\n",
    "predicted_class = np.argmax(predicted_label, axis=1)\n",
    "predicted_emotion = label_encoder.inverse_transform(predicted_class)\n",
    "\n",
    "print(f\"The emotion for the sentence '{new_sentence}' is: {predicted_emotion[0]}\")"
   ]
  },
  {
   "cell_type": "markdown",
   "metadata": {},
   "source": [
    "# **Decision Trees**"
   ]
  },
  {
   "cell_type": "code",
   "execution_count": null,
   "metadata": {},
   "outputs": [],
   "source": [
    "from sklearn.preprocessing import LabelEncoder\n",
    "from sklearn.tree import DecisionTreeClassifier\n",
    "from sklearn.model_selection import train_test_split\n",
    "from sklearn.tree import plot_tree\n",
    "import matplotlib.pyplot as plt\n",
    "\n",
    "\n",
    "label_encoder = LabelEncoder()\n",
    "\n",
    "y = label_encoder.fit_transform(df['label'])\n",
    "\n",
    "X_train, X_test, y_train, y_test = train_test_split(tfidf_matrix, y, test_size=0.2, random_state=42)\n",
    "\n",
    "clf = DecisionTreeClassifier(random_state=42)\n",
    "clf.fit(X_train, y_train)\n",
    "\n",
    "y_pred = clf.predict(X_test)\n",
    "\n",
    "report = classification_report(y_test, y_pred, target_names=label_encoder.classes_)\n",
    "\n",
    "print(report)\n",
    "accuracy = accuracy_score(y_test, y_pred)\n",
    "print(f\"Accuracy: {accuracy:.2f}\")"
   ]
  },
  {
   "cell_type": "code",
   "execution_count": null,
   "metadata": {},
   "outputs": [],
   "source": [
    "\n",
    "print(f\"y_pred type: {type(y_pred)}, shape: {y_pred.shape}\")\n",
    "print(f\"y_test type: {type(y_test)}, shape: {y_test.shape}\")\n",
    "\n",
    "\n",
    "if y_pred.ndim == 2:  \n",
    "    y_pred = np.argmax(y_pred, axis=1)\n",
    "\n",
    "\n",
    "conf_matrix = confusion_matrix(y_test, y_pred)\n",
    "\n",
    "plt.figure(figsize=(8, 6))  \n",
    "sns.heatmap(conf_matrix, annot=True, fmt='d', cmap='Reds', xticklabels=label_encoder.classes_, yticklabels=label_encoder.classes_)\n",
    "\n",
    "\n",
    "plt.xlabel('Predicted Labels')\n",
    "plt.ylabel('True Labels')\n",
    "plt.title('Decision Trees')\n",
    "\n",
    "plt.show()"
   ]
  },
  {
   "cell_type": "markdown",
   "metadata": {},
   "source": []
  },
  {
   "cell_type": "code",
   "execution_count": null,
   "metadata": {},
   "outputs": [],
   "source": [
    "# Save the Decision Tree model\n",
    "with open(\"models/decision_tree_model.pkl\", \"wb\") as f:\n",
    "    pickle.dump(clf, f)"
   ]
  },
  {
   "cell_type": "markdown",
   "metadata": {},
   "source": []
  },
  {
   "cell_type": "code",
   "execution_count": null,
   "metadata": {},
   "outputs": [],
   "source": []
  }
 ],
 "metadata": {
  "kernelspec": {
   "display_name": "Python 3",
   "language": "python",
   "name": "python3"
  },
  "language_info": {
   "codemirror_mode": {
    "name": "ipython",
    "version": 3
   },
   "file_extension": ".py",
   "mimetype": "text/x-python",
   "name": "python",
   "nbconvert_exporter": "python",
   "pygments_lexer": "ipython3",
   "version": "3.9.20"
  }
 },
 "nbformat": 4,
 "nbformat_minor": 2
}
