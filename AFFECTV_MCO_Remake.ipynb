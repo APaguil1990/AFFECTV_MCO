{
 "cells": [
  {
   "cell_type": "markdown",
   "metadata": {},
   "source": [
    "# **Sentiment Analysis of Twitter Text Data in Python**"
   ]
  },
  {
   "cell_type": "markdown",
   "metadata": {},
   "source": [
    "### This is the Python notebook for sentiment analysis in Python. The following techniques will be utilized:"
   ]
  },
  {
   "cell_type": "markdown",
   "metadata": {},
   "source": [
    "1. **VADER (Valence Aware Dictionary and Sentiment Reasoner) Model** : Bag of Words Approach \n",
    "2. **RoBERTa (Robustly Optimized Bidirectional Encoder Representations from Transformers) Model** : Contextualized Embeddings Approach"
   ]
  },
  {
   "cell_type": "markdown",
   "metadata": {},
   "source": [
    "# **Step 1: Read Data and Data Preprocessing**"
   ]
  },
  {
   "cell_type": "markdown",
   "metadata": {},
   "source": [
    "Import libraries for the following: \n",
    "- Data Manipulation \n",
    "- Data Visualization \n",
    "- Natural Language Processing (NLP) \n",
    "- Exploratory Data Analysis (EDA)"
   ]
  },
  {
   "cell_type": "code",
   "execution_count": 1,
   "metadata": {},
   "outputs": [],
   "source": [
    "# Data manipulation and analysis\n",
    "import pandas as pd    # For handling data in DataFrames, for data manipulation, cleaning, and analysis.\n",
    "import numpy as np     # For numerical operation, arrays, and advanced math functions.\n",
    "\n",
    "# Visualization libraries\n",
    "import matplotlib.pyplot as plt    # For creating static, animated, and interactive visualizations.\n",
    "import seaborn as sns              # High-level interface for creating attractive and informative statistical graphs.\n",
    "\n",
    "# EDA (Exploratory Data Analysis) modules\n",
    "import nltk                             # Natural Language Toolkit, for working with human language data (text).\n",
    "from nltk.corpus import stopwords       # For importing stopwords ('the', 'is') to exclude in text analysis.\n",
    "from collections import Counter         # For counting frequency of elements in list.\n",
    "from nltk.tokenize import word_tokenize # For splitting text into individual words (tokens). \n",
    "from nltk import pos_tag                # For parts of speech (POS) tagging in tokenized text, For linguistic analysis.\n",
    "import re                               # Regular expressions for pattern matching, useful for cleaning or extracting text.\n",
    "\n",
    "# Plotting style\n",
    "plt.style.use('ggplot')     # Sets particular plotting style, for polished plots."
   ]
  },
  {
   "cell_type": "markdown",
   "metadata": {},
   "source": [
    "Load the dataset from a CSV file into a DataFrame"
   ]
  },
  {
   "cell_type": "code",
   "execution_count": 2,
   "metadata": {},
   "outputs": [
    {
     "name": "stdout",
     "output_type": "stream",
     "text": [
      "(416809, 3)\n"
     ]
    }
   ],
   "source": [
    "df_dataset = pd.read_csv('text_modified.csv') \n",
    "print(df_dataset.shape)"
   ]
  },
  {
   "cell_type": "markdown",
   "metadata": {},
   "source": [
    "### Stratified Random Sampling\n",
    "Check label values and distribution"
   ]
  },
  {
   "cell_type": "code",
   "execution_count": 3,
   "metadata": {},
   "outputs": [
    {
     "name": "stdout",
     "output_type": "stream",
     "text": [
      "label\n",
      "Joy         141067\n",
      "Sadness     121187\n",
      "Anger        57317\n",
      "Fear         47712\n",
      "Love         34554\n",
      "Surprise     14972\n",
      "Name: count, dtype: int64\n"
     ]
    }
   ],
   "source": [
    "print(df_dataset['label'].value_counts())"
   ]
  },
  {
   "cell_type": "markdown",
   "metadata": {},
   "source": [
    "Obtain the target sample size per label based on the smallest label size"
   ]
  },
  {
   "cell_type": "code",
   "execution_count": 4,
   "metadata": {},
   "outputs": [],
   "source": [
    "min_count = df_dataset['label'].value_counts().min()\n",
    "sample_size = 500"
   ]
  },
  {
   "cell_type": "markdown",
   "metadata": {},
   "source": [
    "Perform stratified random sampling with 42 as the seed for a reproducible dataset samples"
   ]
  },
  {
   "cell_type": "code",
   "execution_count": 5,
   "metadata": {},
   "outputs": [
    {
     "name": "stdout",
     "output_type": "stream",
     "text": [
      "label\n",
      "Anger       500\n",
      "Fear        500\n",
      "Joy         500\n",
      "Love        500\n",
      "Sadness     500\n",
      "Surprise    500\n",
      "Name: count, dtype: int64\n"
     ]
    }
   ],
   "source": [
    "df = df_dataset.groupby('label').apply(lambda x: x.sample(n=sample_size, random_state=42)).reset_index(drop=True)\n",
    "\n",
    "# Verify the result\n",
    "print(df['label'].value_counts())"
   ]
  },
  {
   "cell_type": "markdown",
   "metadata": {},
   "source": []
  },
  {
   "cell_type": "markdown",
   "metadata": {},
   "source": [
    "Display first 5 rows of the dataset"
   ]
  },
  {
   "cell_type": "code",
   "execution_count": 6,
   "metadata": {},
   "outputs": [
    {
     "data": {
      "text/html": [
       "<div>\n",
       "<style scoped>\n",
       "    .dataframe tbody tr th:only-of-type {\n",
       "        vertical-align: middle;\n",
       "    }\n",
       "\n",
       "    .dataframe tbody tr th {\n",
       "        vertical-align: top;\n",
       "    }\n",
       "\n",
       "    .dataframe thead th {\n",
       "        text-align: right;\n",
       "    }\n",
       "</style>\n",
       "<table border=\"1\" class=\"dataframe\">\n",
       "  <thead>\n",
       "    <tr style=\"text-align: right;\">\n",
       "      <th></th>\n",
       "      <th>Index</th>\n",
       "      <th>text</th>\n",
       "      <th>label</th>\n",
       "    </tr>\n",
       "  </thead>\n",
       "  <tbody>\n",
       "    <tr>\n",
       "      <th>0</th>\n",
       "      <td>411553</td>\n",
       "      <td>i feel rebellious and i like it</td>\n",
       "      <td>Anger</td>\n",
       "    </tr>\n",
       "    <tr>\n",
       "      <th>1</th>\n",
       "      <td>18079</td>\n",
       "      <td>i feel completely agitated and full of blame</td>\n",
       "      <td>Anger</td>\n",
       "    </tr>\n",
       "    <tr>\n",
       "      <th>2</th>\n",
       "      <td>282107</td>\n",
       "      <td>i feel like a witch bc im aggravated and i wan...</td>\n",
       "      <td>Anger</td>\n",
       "    </tr>\n",
       "    <tr>\n",
       "      <th>3</th>\n",
       "      <td>49946</td>\n",
       "      <td>i feel really bitchy for doing this but im rea...</td>\n",
       "      <td>Anger</td>\n",
       "    </tr>\n",
       "    <tr>\n",
       "      <th>4</th>\n",
       "      <td>96367</td>\n",
       "      <td>i feel rude but i move past it immediately</td>\n",
       "      <td>Anger</td>\n",
       "    </tr>\n",
       "  </tbody>\n",
       "</table>\n",
       "</div>"
      ],
      "text/plain": [
       "    Index                                               text  label\n",
       "0  411553                    i feel rebellious and i like it  Anger\n",
       "1   18079       i feel completely agitated and full of blame  Anger\n",
       "2  282107  i feel like a witch bc im aggravated and i wan...  Anger\n",
       "3   49946  i feel really bitchy for doing this but im rea...  Anger\n",
       "4   96367         i feel rude but i move past it immediately  Anger"
      ]
     },
     "execution_count": 6,
     "metadata": {},
     "output_type": "execute_result"
    }
   ],
   "source": [
    "df.head()"
   ]
  },
  {
   "cell_type": "markdown",
   "metadata": {},
   "source": [
    "## Data Cleaning"
   ]
  },
  {
   "cell_type": "markdown",
   "metadata": {},
   "source": [
    "- This step is vital because it ensures that the dataset is free from noise, inconsistencies, and irrelevant information, making the data more accurate and reliable for analysis. For the code below, the preprocessing step helps remove unnecessary elements like stopwords, special characters, and numbers, allowing for more meaningful insights from the text data."
   ]
  },
  {
   "cell_type": "code",
   "execution_count": 7,
   "metadata": {},
   "outputs": [
    {
     "name": "stderr",
     "output_type": "stream",
     "text": [
      "[nltk_data] Downloading package stopwords to\n",
      "[nltk_data]     /Users/jacyliu/nltk_data...\n",
      "[nltk_data]   Package stopwords is already up-to-date!\n"
     ]
    },
    {
     "data": {
      "text/html": [
       "<div>\n",
       "<style scoped>\n",
       "    .dataframe tbody tr th:only-of-type {\n",
       "        vertical-align: middle;\n",
       "    }\n",
       "\n",
       "    .dataframe tbody tr th {\n",
       "        vertical-align: top;\n",
       "    }\n",
       "\n",
       "    .dataframe thead th {\n",
       "        text-align: right;\n",
       "    }\n",
       "</style>\n",
       "<table border=\"1\" class=\"dataframe\">\n",
       "  <thead>\n",
       "    <tr style=\"text-align: right;\">\n",
       "      <th></th>\n",
       "      <th>Index</th>\n",
       "      <th>text</th>\n",
       "      <th>label</th>\n",
       "      <th>processed_text</th>\n",
       "    </tr>\n",
       "  </thead>\n",
       "  <tbody>\n",
       "    <tr>\n",
       "      <th>0</th>\n",
       "      <td>411553</td>\n",
       "      <td>i feel rebellious and i like it</td>\n",
       "      <td>Anger</td>\n",
       "      <td>[feel, rebellious, like]</td>\n",
       "    </tr>\n",
       "    <tr>\n",
       "      <th>1</th>\n",
       "      <td>18079</td>\n",
       "      <td>i feel completely agitated and full of blame</td>\n",
       "      <td>Anger</td>\n",
       "      <td>[feel, completely, agitated, full, blame]</td>\n",
       "    </tr>\n",
       "    <tr>\n",
       "      <th>2</th>\n",
       "      <td>282107</td>\n",
       "      <td>i feel like a witch bc im aggravated and i wan...</td>\n",
       "      <td>Anger</td>\n",
       "      <td>[feel, like, witch, bc, aggravated, want, go, ...</td>\n",
       "    </tr>\n",
       "    <tr>\n",
       "      <th>3</th>\n",
       "      <td>49946</td>\n",
       "      <td>i feel really bitchy for doing this but im rea...</td>\n",
       "      <td>Anger</td>\n",
       "      <td>[feel, really, bitchy, really, iffy, read, jou...</td>\n",
       "    </tr>\n",
       "    <tr>\n",
       "      <th>4</th>\n",
       "      <td>96367</td>\n",
       "      <td>i feel rude but i move past it immediately</td>\n",
       "      <td>Anger</td>\n",
       "      <td>[feel, rude, move, past, immediately]</td>\n",
       "    </tr>\n",
       "  </tbody>\n",
       "</table>\n",
       "</div>"
      ],
      "text/plain": [
       "    Index                                               text  label  \\\n",
       "0  411553                    i feel rebellious and i like it  Anger   \n",
       "1   18079       i feel completely agitated and full of blame  Anger   \n",
       "2  282107  i feel like a witch bc im aggravated and i wan...  Anger   \n",
       "3   49946  i feel really bitchy for doing this but im rea...  Anger   \n",
       "4   96367         i feel rude but i move past it immediately  Anger   \n",
       "\n",
       "                                      processed_text  \n",
       "0                           [feel, rebellious, like]  \n",
       "1          [feel, completely, agitated, full, blame]  \n",
       "2  [feel, like, witch, bc, aggravated, want, go, ...  \n",
       "3  [feel, really, bitchy, really, iffy, read, jou...  \n",
       "4              [feel, rude, move, past, immediately]  "
      ]
     },
     "execution_count": 7,
     "metadata": {},
     "output_type": "execute_result"
    }
   ],
   "source": [
    "# Download stopwords\n",
    "nltk.download('stopwords')\n",
    "\n",
    "stop_words = set(stopwords.words('english')) \n",
    "\n",
    "# Extend stopwords \n",
    "custom_stop_words = {\n",
    "    \"i\", \n",
    "    \"im\", \n",
    "    \"ive\", \n",
    "    \"dont\", \n",
    "    \"and\", \n",
    "    \"you\", \n",
    "    \"he\", \n",
    "    \"she\", \n",
    "    \"we\", \n",
    "    \"they\", \n",
    "    \"it\", \n",
    "    \"is\", \n",
    "    \"are\", \n",
    "    \"was\", \n",
    "    \"were\", \n",
    "    \"their\", \n",
    "    \"there\"\n",
    "}\n",
    "stop_words.update(custom_stop_words) \n",
    "\n",
    "# Preprocess text (lowercase, remove stopwords, tokenize) \n",
    "def preprocess_text(text): \n",
    "    # Convert lowercase \n",
    "    text = text.lower()\n",
    "    # Remove special characters and numbers \n",
    "    text = re.sub(r'\\W+', ' ', text) \n",
    "    # Tokenize \n",
    "    words = text.split() \n",
    "    # Remove stopwords \n",
    "    words = [word for word in words if word not in stop_words] \n",
    "    return words \n",
    "\n",
    "# Apply preprocessing to dataset \n",
    "df['processed_text'] = df['text'].apply(preprocess_text)\n",
    "df.head()"
   ]
  },
  {
   "cell_type": "markdown",
   "metadata": {},
   "source": [
    "# Exploratory Data Analysis"
   ]
  },
  {
   "cell_type": "markdown",
   "metadata": {},
   "source": [
    "- This step is vital for text sentiment analysis because it helps to understand the underlying structure, patterns, and key features of the data. By performing EDA, we can identify trends, clean the data, and better prepare it for building accurate sentiment models, ensuring insights are derived from meaningful and relevant information."
   ]
  },
  {
   "cell_type": "markdown",
   "metadata": {},
   "source": [
    "Visualizing the distribution of each sentiment label in the sample data."
   ]
  },
  {
   "cell_type": "code",
   "execution_count": 8,
   "metadata": {},
   "outputs": [
    {
     "data": {
      "image/png": "[encoded data removed]",
      "text/plain": [
       "<Figure size 1000x600 with 1 Axes>"
      ]
     },
     "metadata": {},
     "output_type": "display_data"
    }
   ],
   "source": [
    "ax = df['label'].value_counts().sort_index().plot(\n",
    "    kind = 'bar', \n",
    "    title = 'Count by Sentiment Label', \n",
    "    figsize = (10, 6)\n",
    ") \n",
    "ax.set_xlabel('Sentiment Label') \n",
    "plt.show()"
   ]
  },
  {
   "cell_type": "markdown",
   "metadata": {},
   "source": [
    "Display the specific counts of each sentiment label."
   ]
  },
  {
   "cell_type": "code",
   "execution_count": 9,
   "metadata": {},
   "outputs": [
    {
     "data": {
      "text/plain": [
       "label\n",
       "Anger       500\n",
       "Fear        500\n",
       "Joy         500\n",
       "Love        500\n",
       "Sadness     500\n",
       "Surprise    500\n",
       "Name: count, dtype: int64"
      ]
     },
     "execution_count": 9,
     "metadata": {},
     "output_type": "execute_result"
    }
   ],
   "source": [
    "count = df['label'].value_counts()\n",
    "count"
   ]
  },
  {
   "cell_type": "markdown",
   "metadata": {},
   "source": [
    "## Distribution of Emotions\n",
    "\n",
    "### 1) Are certain emotions more prevalent than others in the dataset?\n",
    "\n",
    "The emotions of Joy and Sadness are more prevalent, having a total count of 141067 and 121187 in the dataset, repectively.\n",
    "<br><br>\n"
   ]
  },
  {
   "cell_type": "markdown",
   "metadata": {},
   "source": [
    "### 2) What is the frequency distribution of each emotion in the dataset?\n",
    "The following are the number of tweets per emotions:"
   ]
  },
  {
   "cell_type": "code",
   "execution_count": 10,
   "metadata": {},
   "outputs": [
    {
     "name": "stdout",
     "output_type": "stream",
     "text": [
      "label\n",
      "Joy         141067\n",
      "Sadness     121187\n",
      "Anger        57317\n",
      "Fear         47712\n",
      "Love         34554\n",
      "Surprise     14972\n",
      "Name: count, dtype: int64\n"
     ]
    }
   ],
   "source": [
    "print(df_dataset['label'].value_counts())"
   ]
  },
  {
   "cell_type": "markdown",
   "metadata": {},
   "source": [
    "### Data Normalization"
   ]
  },
  {
   "cell_type": "markdown",
   "metadata": {},
   "source": [
    "- Data normalization is important because it helps balance the uneven distribution of senitment labels in the dataset. By ensuring that each emotion label is represented more equally, normalization prevents models from becoming biased towards the more frequent emotions. This results to more accurate and efficient analysis, as the model will better understand and predict all emotions rather than focusing on the majority class."
   ]
  },
  {
   "cell_type": "code",
   "execution_count": 11,
   "metadata": {},
   "outputs": [
    {
     "name": "stdout",
     "output_type": "stream",
     "text": [
      "label\n",
      "Anger       500\n",
      "Fear        500\n",
      "Joy         500\n",
      "Love        500\n",
      "Sadness     500\n",
      "Surprise    500\n",
      "Name: count, dtype: int64\n"
     ]
    }
   ],
   "source": [
    "# Import resample method to tackle imbalance in dataset.\n",
    "from sklearn.utils import resample \n",
    "\n",
    "# Check current distribution of sentiment labels in the dataset.\n",
    "label_counts = df['label'].value_counts() \n",
    "print(label_counts)"
   ]
  },
  {
   "cell_type": "markdown",
   "metadata": {},
   "source": [
    "Plot normalized count of each sentiment label after upsampling"
   ]
  },
  {
   "cell_type": "code",
   "execution_count": 12,
   "metadata": {},
   "outputs": [
    {
     "data": {
      "image/png": "[encoded data removed]",
      "text/plain": [
       "<Figure size 1000x600 with 1 Axes>"
      ]
     },
     "metadata": {},
     "output_type": "display_data"
    }
   ],
   "source": [
    "new_label_counts = df['label'].value_counts() \n",
    "\n",
    "ax = new_label_counts.plot(\n",
    "    kind = 'bar', \n",
    "    title = 'Normalized Count of Sentiment Labels', \n",
    "    figsize = (10, 6)\n",
    ") \n",
    "\n",
    "ax.set_xlabel('Label') \n",
    "plt.show()"
   ]
  },
  {
   "cell_type": "code",
   "execution_count": 13,
   "metadata": {},
   "outputs": [
    {
     "data": {
      "text/html": [
       "<div>\n",
       "<style scoped>\n",
       "    .dataframe tbody tr th:only-of-type {\n",
       "        vertical-align: middle;\n",
       "    }\n",
       "\n",
       "    .dataframe tbody tr th {\n",
       "        vertical-align: top;\n",
       "    }\n",
       "\n",
       "    .dataframe thead th {\n",
       "        text-align: right;\n",
       "    }\n",
       "</style>\n",
       "<table border=\"1\" class=\"dataframe\">\n",
       "  <thead>\n",
       "    <tr style=\"text-align: right;\">\n",
       "      <th></th>\n",
       "      <th>Index</th>\n",
       "      <th>text</th>\n",
       "      <th>label</th>\n",
       "      <th>processed_text</th>\n",
       "    </tr>\n",
       "  </thead>\n",
       "  <tbody>\n",
       "    <tr>\n",
       "      <th>0</th>\n",
       "      <td>411553</td>\n",
       "      <td>i feel rebellious and i like it</td>\n",
       "      <td>Anger</td>\n",
       "      <td>[feel, rebellious, like]</td>\n",
       "    </tr>\n",
       "    <tr>\n",
       "      <th>1</th>\n",
       "      <td>18079</td>\n",
       "      <td>i feel completely agitated and full of blame</td>\n",
       "      <td>Anger</td>\n",
       "      <td>[feel, completely, agitated, full, blame]</td>\n",
       "    </tr>\n",
       "    <tr>\n",
       "      <th>2</th>\n",
       "      <td>282107</td>\n",
       "      <td>i feel like a witch bc im aggravated and i wan...</td>\n",
       "      <td>Anger</td>\n",
       "      <td>[feel, like, witch, bc, aggravated, want, go, ...</td>\n",
       "    </tr>\n",
       "    <tr>\n",
       "      <th>3</th>\n",
       "      <td>49946</td>\n",
       "      <td>i feel really bitchy for doing this but im rea...</td>\n",
       "      <td>Anger</td>\n",
       "      <td>[feel, really, bitchy, really, iffy, read, jou...</td>\n",
       "    </tr>\n",
       "    <tr>\n",
       "      <th>4</th>\n",
       "      <td>96367</td>\n",
       "      <td>i feel rude but i move past it immediately</td>\n",
       "      <td>Anger</td>\n",
       "      <td>[feel, rude, move, past, immediately]</td>\n",
       "    </tr>\n",
       "  </tbody>\n",
       "</table>\n",
       "</div>"
      ],
      "text/plain": [
       "    Index                                               text  label  \\\n",
       "0  411553                    i feel rebellious and i like it  Anger   \n",
       "1   18079       i feel completely agitated and full of blame  Anger   \n",
       "2  282107  i feel like a witch bc im aggravated and i wan...  Anger   \n",
       "3   49946  i feel really bitchy for doing this but im rea...  Anger   \n",
       "4   96367         i feel rude but i move past it immediately  Anger   \n",
       "\n",
       "                                      processed_text  \n",
       "0                           [feel, rebellious, like]  \n",
       "1          [feel, completely, agitated, full, blame]  \n",
       "2  [feel, like, witch, bc, aggravated, want, go, ...  \n",
       "3  [feel, really, bitchy, really, iffy, read, jou...  \n",
       "4              [feel, rude, move, past, immediately]  "
      ]
     },
     "execution_count": 13,
     "metadata": {},
     "output_type": "execute_result"
    }
   ],
   "source": [
    "df.head()"
   ]
  },
  {
   "cell_type": "markdown",
   "metadata": {},
   "source": [
    "Calculate and add two new columns: character count and word count."
   ]
  },
  {
   "cell_type": "code",
   "execution_count": 14,
   "metadata": {},
   "outputs": [
    {
     "data": {
      "text/html": [
       "<div>\n",
       "<style scoped>\n",
       "    .dataframe tbody tr th:only-of-type {\n",
       "        vertical-align: middle;\n",
       "    }\n",
       "\n",
       "    .dataframe tbody tr th {\n",
       "        vertical-align: top;\n",
       "    }\n",
       "\n",
       "    .dataframe thead th {\n",
       "        text-align: right;\n",
       "    }\n",
       "</style>\n",
       "<table border=\"1\" class=\"dataframe\">\n",
       "  <thead>\n",
       "    <tr style=\"text-align: right;\">\n",
       "      <th></th>\n",
       "      <th>processed_text</th>\n",
       "      <th>char_count</th>\n",
       "      <th>word_count</th>\n",
       "    </tr>\n",
       "  </thead>\n",
       "  <tbody>\n",
       "    <tr>\n",
       "      <th>0</th>\n",
       "      <td>[feel, rebellious, like]</td>\n",
       "      <td>18</td>\n",
       "      <td>3</td>\n",
       "    </tr>\n",
       "    <tr>\n",
       "      <th>1</th>\n",
       "      <td>[feel, completely, agitated, full, blame]</td>\n",
       "      <td>31</td>\n",
       "      <td>5</td>\n",
       "    </tr>\n",
       "    <tr>\n",
       "      <th>2</th>\n",
       "      <td>[feel, like, witch, bc, aggravated, want, go, ...</td>\n",
       "      <td>40</td>\n",
       "      <td>9</td>\n",
       "    </tr>\n",
       "    <tr>\n",
       "      <th>3</th>\n",
       "      <td>[feel, really, bitchy, really, iffy, read, jou...</td>\n",
       "      <td>93</td>\n",
       "      <td>19</td>\n",
       "    </tr>\n",
       "    <tr>\n",
       "      <th>4</th>\n",
       "      <td>[feel, rude, move, past, immediately]</td>\n",
       "      <td>27</td>\n",
       "      <td>5</td>\n",
       "    </tr>\n",
       "  </tbody>\n",
       "</table>\n",
       "</div>"
      ],
      "text/plain": [
       "                                      processed_text  char_count  word_count\n",
       "0                           [feel, rebellious, like]          18           3\n",
       "1          [feel, completely, agitated, full, blame]          31           5\n",
       "2  [feel, like, witch, bc, aggravated, want, go, ...          40           9\n",
       "3  [feel, really, bitchy, really, iffy, read, jou...          93          19\n",
       "4              [feel, rude, move, past, immediately]          27           5"
      ]
     },
     "execution_count": 14,
     "metadata": {},
     "output_type": "execute_result"
    }
   ],
   "source": [
    "# Add column 'char_count' that calculates total number of characters in each tweet.\n",
    "df['char_count'] = df['processed_text'].apply(lambda x: sum(len(word) for word in x))\n",
    "\n",
    "# Add column 'word_count' that calculates total number of word in each tweet.\n",
    "df['word_count'] = df['processed_text'].apply(len)\n",
    "\n",
    "# Display first few rows with processed text, character count, and word count columns.\n",
    "df[['processed_text', 'char_count', 'word_count']].head()"
   ]
  },
  {
   "cell_type": "code",
   "execution_count": null,
   "metadata": {},
   "outputs": [],
   "source": []
  },
  {
   "cell_type": "markdown",
   "metadata": {},
   "source": [
    "## Emotion by Word Count\n",
    "\n",
    "### 3) What are the average word counts of the tweets of the different emotions?\n",
    "\n",
    "The following are the average word counts of tweets per emotions:"
   ]
  },
  {
   "cell_type": "code",
   "execution_count": 15,
   "metadata": {},
   "outputs": [
    {
     "data": {
      "text/plain": [
       "label\n",
       "Anger       8.970\n",
       "Fear        8.868\n",
       "Joy         9.820\n",
       "Love        9.730\n",
       "Sadness     8.664\n",
       "Surprise    9.552\n",
       "Name: word_count, dtype: float64"
      ]
     },
     "execution_count": 15,
     "metadata": {},
     "output_type": "execute_result"
    }
   ],
   "source": [
    "# Group DataFrame by 'label' and calculate mean word count for each label.\n",
    "avg_word_count_by_emotion = df.groupby('label')['word_count'].mean()\n",
    "avg_word_count_by_emotion"
   ]
  },
  {
   "cell_type": "markdown",
   "metadata": {},
   "source": [
    "## Word Frequency\n",
    "\n",
    "### 4) Are shorter or longer messages more likely to express certain emotions?"
   ]
  },
  {
   "cell_type": "markdown",
   "metadata": {},
   "source": [
    "Categorize tweets into 'Short' or 'Long' based on the word count, and plots the distribution of emotions for each length."
   ]
  },
  {
   "cell_type": "code",
   "execution_count": 16,
   "metadata": {},
   "outputs": [
    {
     "data": {
      "text/html": [
       "<div>\n",
       "<style scoped>\n",
       "    .dataframe tbody tr th:only-of-type {\n",
       "        vertical-align: middle;\n",
       "    }\n",
       "\n",
       "    .dataframe tbody tr th {\n",
       "        vertical-align: top;\n",
       "    }\n",
       "\n",
       "    .dataframe thead th {\n",
       "        text-align: right;\n",
       "    }\n",
       "</style>\n",
       "<table border=\"1\" class=\"dataframe\">\n",
       "  <thead>\n",
       "    <tr style=\"text-align: right;\">\n",
       "      <th>label</th>\n",
       "      <th>Anger</th>\n",
       "      <th>Fear</th>\n",
       "      <th>Joy</th>\n",
       "      <th>Love</th>\n",
       "      <th>Sadness</th>\n",
       "      <th>Surprise</th>\n",
       "      <th>Total</th>\n",
       "    </tr>\n",
       "    <tr>\n",
       "      <th>message_length</th>\n",
       "      <th></th>\n",
       "      <th></th>\n",
       "      <th></th>\n",
       "      <th></th>\n",
       "      <th></th>\n",
       "      <th></th>\n",
       "      <th></th>\n",
       "    </tr>\n",
       "  </thead>\n",
       "  <tbody>\n",
       "    <tr>\n",
       "      <th>Long</th>\n",
       "      <td>158</td>\n",
       "      <td>146</td>\n",
       "      <td>183</td>\n",
       "      <td>187</td>\n",
       "      <td>147</td>\n",
       "      <td>176</td>\n",
       "      <td>997</td>\n",
       "    </tr>\n",
       "    <tr>\n",
       "      <th>Short</th>\n",
       "      <td>342</td>\n",
       "      <td>354</td>\n",
       "      <td>317</td>\n",
       "      <td>313</td>\n",
       "      <td>353</td>\n",
       "      <td>324</td>\n",
       "      <td>2003</td>\n",
       "    </tr>\n",
       "    <tr>\n",
       "      <th>Total</th>\n",
       "      <td>500</td>\n",
       "      <td>500</td>\n",
       "      <td>500</td>\n",
       "      <td>500</td>\n",
       "      <td>500</td>\n",
       "      <td>500</td>\n",
       "      <td>3000</td>\n",
       "    </tr>\n",
       "  </tbody>\n",
       "</table>\n",
       "</div>"
      ],
      "text/plain": [
       "label           Anger  Fear  Joy  Love  Sadness  Surprise  Total\n",
       "message_length                                                  \n",
       "Long              158   146  183   187      147       176    997\n",
       "Short             342   354  317   313      353       324   2003\n",
       "Total             500   500  500   500      500       500   3000"
      ]
     },
     "execution_count": 16,
     "metadata": {},
     "output_type": "execute_result"
    }
   ],
   "source": [
    "# Add column 'message_length' that classifies each tweet as 'Short' or 'Long' based on whether word count is 10 or less.\n",
    "df['message_length'] = df['word_count'].apply(lambda x: 'Short' if x <= 10 else 'Long') \n",
    "\n",
    "# Calculate distribution of emotions across tweet length categories (Short vs Long). \n",
    "# Group by message length and label, then calculate size of each group. \n",
    "# Unstack to create DataFrame with 'label' as columns.\n",
    "length_emotion_distribution = df.groupby(['message_length', 'label']).size().unstack(fill_value = 0)\n",
    "\n",
    "# Add 'Total' row and column to DataFrame to show total counts.\n",
    "length_emotion_distribution.loc['Total'] = length_emotion_distribution.sum() \n",
    "length_emotion_distribution['Total'] = length_emotion_distribution.sum(axis = 1) \n",
    "\n",
    "# Display emotion distribution by tweet length.\n",
    "length_emotion_distribution "
   ]
  },
  {
   "cell_type": "markdown",
   "metadata": {},
   "source": [
    "Plot distribution of emotions across tweet length categories."
   ]
  },
  {
   "cell_type": "code",
   "execution_count": 17,
   "metadata": {},
   "outputs": [
    {
     "data": {
      "image/png": "[encoded data removed]",
      "text/plain": [
       "<Figure size 1000x600 with 1 Axes>"
      ]
     },
     "metadata": {},
     "output_type": "display_data"
    }
   ],
   "source": [
    "length_emotion_distribution.drop('Total').plot(\n",
    "    kind = 'bar', \n",
    "    stacked = True, \n",
    "    figsize = (10, 6)\n",
    ")\n",
    "plt.title('Distribution of Emotions by Tweet Length')\n",
    "plt.xlabel('Tweet Length Category')\n",
    "plt.ylabel('Number of Tweets')\n",
    "plt.show()"
   ]
  },
  {
   "cell_type": "markdown",
   "metadata": {},
   "source": [
    "### 5) What are the most common words used in tweets for each emotion?"
   ]
  },
  {
   "cell_type": "markdown",
   "metadata": {},
   "source": [
    "Count common words for each emotion"
   ]
  },
  {
   "cell_type": "code",
   "execution_count": 18,
   "metadata": {},
   "outputs": [
    {
     "name": "stdout",
     "output_type": "stream",
     "text": [
      "Most common words for 'Anger':\n",
      "[('feel', 316), ('feeling', 181), ('like', 97), ('really', 48), ('get', 29), ('going', 26), ('know', 25), ('little', 23), ('time', 23), ('want', 22)]\n",
      "\n",
      "Most common words for 'Fear':\n",
      "[('feel', 350), ('feeling', 170), ('like', 71), ('really', 36), ('little', 36), ('still', 32), ('weird', 29), ('people', 26), ('bit', 26), ('uncomfortable', 25)]\n",
      "\n",
      "Most common words for 'Joy':\n",
      "[('feel', 358), ('feeling', 164), ('like', 72), ('really', 32), ('good', 31), ('get', 29), ('life', 26), ('much', 25), ('think', 25), ('love', 24)]\n",
      "\n",
      "Most common words for 'Love':\n",
      "[('feel', 351), ('feeling', 156), ('like', 107), ('love', 49), ('would', 34), ('one', 34), ('could', 31), ('really', 30), ('lovely', 29), ('know', 28)]\n",
      "\n",
      "Most common words for 'Sadness':\n",
      "[('feel', 353), ('feeling', 165), ('like', 84), ('know', 40), ('really', 38), ('time', 29), ('people', 27), ('want', 24), ('little', 24), ('get', 24)]\n",
      "\n",
      "Most common words for 'Surprise':\n",
      "[('feel', 316), ('feeling', 196), ('like', 77), ('overwhelmed', 53), ('impressed', 50), ('shocked', 50), ('curious', 48), ('amazed', 47), ('weird', 46), ('strange', 46)]\n",
      "\n"
     ]
    }
   ],
   "source": [
    "common_words = {}\n",
    "for label in df['label'].unique():\n",
    "    # Get all processed words for the emotion\n",
    "    words = df[df['label'] == label]['processed_text'].sum()  # Flatten the list of lists\n",
    "    common_words[label] = Counter(words).most_common(10)  # Get the 10 most common words\n",
    "\n",
    "# Display the most common words for each emotion\n",
    "for emotion, words in common_words.items():\n",
    "    print(f\"Most common words for '{emotion}':\")\n",
    "    print(words)\n",
    "    print()"
   ]
  },
  {
   "cell_type": "markdown",
   "metadata": {},
   "source": [
    "Graph distribution of text character counts."
   ]
  },
  {
   "cell_type": "code",
   "execution_count": 19,
   "metadata": {},
   "outputs": [
    {
     "name": "stderr",
     "output_type": "stream",
     "text": [
      "/opt/anaconda3/lib/python3.11/site-packages/seaborn/_oldcore.py:1119: FutureWarning: use_inf_as_na option is deprecated and will be removed in a future version. Convert inf values to NaN before operating instead.\n",
      "  with pd.option_context('mode.use_inf_as_na', True):\n"
     ]
    },
    {
     "data": {
      "image/png": "[encoded data removed]",
      "text/plain": [
       "<Figure size 1000x600 with 1 Axes>"
      ]
     },
     "metadata": {},
     "output_type": "display_data"
    }
   ],
   "source": [
    "plt.figure(figsize = (10, 6)) \n",
    "sns.histplot( df['char_count'], bins = 30, kde = True ) \n",
    "plt.title('Distribution of Text Character Counts') \n",
    "plt.xlabel('Character Count') \n",
    "plt.ylabel('Frequency') \n",
    "plt.show()"
   ]
  },
  {
   "cell_type": "markdown",
   "metadata": {},
   "source": [
    "- The graph represents the distribution of character counts in the text data. X-axis shows the number of characters per text, while the y-axis shows the frequency or number of texts that have a paticular character count. \n",
    "\n",
    "- The red line represents the Kernel Density Estimation (KDE), which shows the estimated probability density of the character count distribution. From the graph, most of the texts in the dataset have around 25 to 50 characters, with a peak of around 35 characters. As the character count increseases beyond 50, the frequency of texts with higher character counts gradually decreases."
   ]
  },
  {
   "cell_type": "markdown",
   "metadata": {},
   "source": [
    "Graph distribution of text word counts."
   ]
  },
  {
   "cell_type": "code",
   "execution_count": 20,
   "metadata": {},
   "outputs": [
    {
     "name": "stderr",
     "output_type": "stream",
     "text": [
      "/opt/anaconda3/lib/python3.11/site-packages/seaborn/_oldcore.py:1119: FutureWarning: use_inf_as_na option is deprecated and will be removed in a future version. Convert inf values to NaN before operating instead.\n",
      "  with pd.option_context('mode.use_inf_as_na', True):\n"
     ]
    },
    {
     "data": {
      "image/png": "[encoded data removed]",
      "text/plain": [
       "<Figure size 1000x600 with 1 Axes>"
      ]
     },
     "metadata": {},
     "output_type": "display_data"
    }
   ],
   "source": [
    "plt.figure(figsize = (10, 6)) \n",
    "sns.histplot( df['word_count'], bins = 30, kde = True ) \n",
    "plt.title('Distribution of Text Word Counts') \n",
    "plt.xlabel('Word Count') \n",
    "plt.ylabel('Frequency') \n",
    "plt.show()"
   ]
  },
  {
   "cell_type": "markdown",
   "metadata": {},
   "source": [
    "- The graph represents the distribution of word counts in the text data. X-axis shows the number of words per text, while the y-axis shows the frequency or number of texts that have a paticular word count. \n",
    "\n",
    "- The red line represents the Kernel Density Estimation (KDE), which shows the estimated probability density of the word count distribution. From the graph, it can be observed that most text contains around 5 to 10 words, with a peak at about 6 words. As word counts increases beyond 10, the frequency of texts with higher word counts decreases steadily. This suggests that most texts in the dataset are relatively short, with very few texts containing more than 20 words."
   ]
  },
  {
   "cell_type": "code",
   "execution_count": 21,
   "metadata": {},
   "outputs": [
    {
     "data": {
      "image/png": "[encoded data removed]",
      "text/plain": [
       "<Figure size 1000x600 with 1 Axes>"
      ]
     },
     "metadata": {},
     "output_type": "display_data"
    }
   ],
   "source": [
    "plt.figure(figsize = (10, 6)) \n",
    "sns.boxplot(x = 'label', y = 'char_count', data = df) \n",
    "plt.title('Character Distribution by Sentiment Label') \n",
    "plt.xlabel('Sentiment Label') \n",
    "plt.ylabel('Character Count') \n",
    "plt.xticks(rotation = 45) \n",
    "plt.show()"
   ]
  },
  {
   "cell_type": "markdown",
   "metadata": {},
   "source": [
    "- The box plot visualizes the character distribution of texts across different sentiment labels: Fear, Joy, Love, Surprise, Anger, and Sadness. The y-axis represents number of characters in each text, while the x-axis shows the different sentiment labels.\n",
    "\n",
    "- **Box and Whiskers:**\n",
    "    - The box represents the interquartile range (IQR), which contains the middle 50% of the data. The bottom of the box shows the first quartile (25th percentile), the top shows the third quartile (75th percentile), and the line in the middle of the box is the median (50th percentile). \n",
    "\n",
    "    - The whiskers extending from the box represents the range of the data within 1.5 times the IQR from the first and third quartiles.\n",
    "\n",
    "- **Circles (Outliers):** \n",
    "    - The circles above the whiskers represent the outliers--data points that fall outside 1.5 times the IQR. These are texts with unusually high character coutns compared to the majority of texts within the specific sentiment label. For example, Fear and Anger labels show some texts that have significantly higher character counts than others, which results in them being marked as outliers."
   ]
  },
  {
   "cell_type": "code",
   "execution_count": 22,
   "metadata": {},
   "outputs": [
    {
     "data": {
      "image/png": "[encoded data removed]",
      "text/plain": [
       "<Figure size 1000x600 with 1 Axes>"
      ]
     },
     "metadata": {},
     "output_type": "display_data"
    }
   ],
   "source": [
    "plt.figure(figsize = (10, 6)) \n",
    "sns.boxplot(x = 'label', y = 'word_count', data = df) \n",
    "plt.title('Word Count Distribution by Sentiment Label') \n",
    "plt.xlabel('Sentiment Label') \n",
    "plt.ylabel('Word Count') \n",
    "plt.xticks(rotation = 45) \n",
    "plt.show()"
   ]
  },
  {
   "cell_type": "markdown",
   "metadata": {},
   "source": [
    "- The box plot visualizes the word count distribution of texts across different sentiment labels: Fear, Joy, Love, Surprise, Anger, and Sadness. The y-axis represents word count in each text, while the x-axis shows the different sentiment labels.\n",
    "\n",
    "- **Box and Whiskers:**\n",
    "    - The box represents the interquartile range (IQR), which contains the middle 50% of the data. The bottom of the box shows the first quartile (25th percentile), the top shows the third quartile (75th percentile), and the line in the middle of the box is the median (50th percentile). \n",
    "\n",
    "    - The whiskers extending from the box represents the range of the data within 1.5 times the IQR from the first and third quartiles.\n",
    "\n",
    "- **Circles (Outliers):** \n",
    "    - The circles above the whiskers represent the outliers--data points that fall outside 1.5 times the IQR. These are texts with unusually high character coutns compared to the majority of texts within the specific sentiment label. For example, Fear and Anger labels show some texts that have significantly higher character counts than others, which results in them being marked as outliers."
   ]
  },
  {
   "cell_type": "markdown",
   "metadata": {},
   "source": [
    "# **NLTK**"
   ]
  },
  {
   "cell_type": "markdown",
   "metadata": {},
   "source": [
    "- NLTK (Natural Language Tookit) is an essential tool for sentiment analysis systems for text data because it provides tools to process text by tokenizing, removing stop words, and steeming, which helps normalize language for analysis. Its extensive lexicon resources, like VADER, are tailored to detect sentiment in social media language, including handling nuances like sarcasm and emphasis. NLTK also allows for part-of-speech (POS) tagging, which helps capture word context, aiding in deeper understanding of sentiment in short, informal tweet structures. "
   ]
  },
  {
   "cell_type": "markdown",
   "metadata": {},
   "source": [
    "Converts the processed list of words back into a single string format for easier visualization and tokenization."
   ]
  },
  {
   "cell_type": "code",
   "execution_count": 23,
   "metadata": {},
   "outputs": [
    {
     "name": "stdout",
     "output_type": "stream",
     "text": [
      "heated argument lover whose intention marry near future rejected started cry stopped crying moment said\n"
     ]
    }
   ],
   "source": [
    "example = ' '.join(df['processed_text'].iloc[5] )\n",
    "print(example)"
   ]
  },
  {
   "cell_type": "markdown",
   "metadata": {},
   "source": [
    "Tokenize sentence into individual words for further processing."
   ]
  },
  {
   "cell_type": "code",
   "execution_count": 24,
   "metadata": {},
   "outputs": [
    {
     "data": {
      "text/plain": [
       "['heated',\n",
       " 'argument',\n",
       " 'lover',\n",
       " 'whose',\n",
       " 'intention',\n",
       " 'marry',\n",
       " 'near',\n",
       " 'future',\n",
       " 'rejected',\n",
       " 'started']"
      ]
     },
     "execution_count": 24,
     "metadata": {},
     "output_type": "execute_result"
    }
   ],
   "source": [
    "# nltk.download('punkt')\n",
    "tokens = nltk.word_tokenize(example) \n",
    "tokens[:10]"
   ]
  },
  {
   "cell_type": "markdown",
   "metadata": {},
   "source": [
    "Tag each token with corresponding part of speech (POS)."
   ]
  },
  {
   "cell_type": "code",
   "execution_count": 25,
   "metadata": {},
   "outputs": [
    {
     "data": {
      "text/plain": [
       "[('heated', 'VBN'),\n",
       " ('argument', 'NN'),\n",
       " ('lover', 'NN'),\n",
       " ('whose', 'WP$'),\n",
       " ('intention', 'NN'),\n",
       " ('marry', 'NN'),\n",
       " ('near', 'IN'),\n",
       " ('future', 'JJ'),\n",
       " ('rejected', 'VBN'),\n",
       " ('started', 'VBD')]"
      ]
     },
     "execution_count": 25,
     "metadata": {},
     "output_type": "execute_result"
    }
   ],
   "source": [
    "# nltk.download('averaged_perceptron_tagger')\n",
    "tagged = nltk.pos_tag(tokens) \n",
    "tagged[:10]"
   ]
  },
  {
   "cell_type": "markdown",
   "metadata": {},
   "source": [
    "Identifies and displays named entities (e.g., proper nouns, etc.) in the sentence."
   ]
  },
  {
   "cell_type": "code",
   "execution_count": 26,
   "metadata": {},
   "outputs": [
    {
     "name": "stdout",
     "output_type": "stream",
     "text": [
      "(S\n",
      "  heated/VBN\n",
      "  argument/NN\n",
      "  lover/NN\n",
      "  whose/WP$\n",
      "  intention/NN\n",
      "  marry/NN\n",
      "  near/IN\n",
      "  future/JJ\n",
      "  rejected/VBN\n",
      "  started/VBD\n",
      "  cry/NN\n",
      "  stopped/VBD\n",
      "  crying/VBG\n",
      "  moment/NN\n",
      "  said/VBD)\n"
     ]
    }
   ],
   "source": [
    "# nltk.download('maxent_ne_chunker')\n",
    "# nltk.download('words')\n",
    "entities = nltk.ne_chunk(tagged) \n",
    "entities.pprint()"
   ]
  },
  {
   "cell_type": "markdown",
   "metadata": {},
   "source": [
    "Define function that returns tokens and their POS tags for a list of words."
   ]
  },
  {
   "cell_type": "code",
   "execution_count": 27,
   "metadata": {},
   "outputs": [
    {
     "name": "stdout",
     "output_type": "stream",
     "text": [
      "                                              tokens  \\\n",
      "0                           [feel, rebellious, like]   \n",
      "1          [feel, completely, agitated, full, blame]   \n",
      "2  [feel, like, witch, bc, aggravated, want, go, ...   \n",
      "3  [feel, really, bitchy, really, iffy, read, jou...   \n",
      "4              [feel, rude, move, past, immediately]   \n",
      "\n",
      "                                            pos_tags  \n",
      "0         [(feel, RB), (rebellious, JJ), (like, IN)]  \n",
      "1  [(feel, VB), (completely, RB), (agitated, VBN)...  \n",
      "2  [(feel, NN), (like, IN), (witch, NN), (bc, NN)...  \n",
      "3  [(feel, NN), (really, RB), (bitchy, VBZ), (rea...  \n",
      "4  [(feel, NN), (rude, JJ), (move, NN), (past, IN...  \n"
     ]
    }
   ],
   "source": [
    "def process_tokens(tokens): \n",
    "    pos_tags = pos_tag(tokens) \n",
    "    return tokens, pos_tags\n",
    "\n",
    "# Apply process_tokens function to each row in DataFrame, generating tokens and POS tags for each\n",
    "df['tokens'], df['pos_tags'] = zip( *df['processed_text'].apply(process_tokens) ) \n",
    "print(df[['tokens', 'pos_tags']].head())"
   ]
  },
  {
   "cell_type": "markdown",
   "metadata": {},
   "source": [
    "# **VADER Sentiment Scoring**"
   ]
  },
  {
   "cell_type": "markdown",
   "metadata": {},
   "source": [
    "- VADER (Valence Aware Dictionary and Sentiment Reasoner) model is a rule-based tool for sentiment analysis that's turned especially for social media contexts. It focuses on assessing the sentiment in text based on a lexicon and can capture emotions from not just words but also intensifiers, punctuations, and even emojis."
   ]
  },
  {
   "cell_type": "markdown",
   "metadata": {},
   "source": [
    "Import Sentiment Analyzer and Progress Bar Utility tools"
   ]
  },
  {
   "cell_type": "code",
   "execution_count": 28,
   "metadata": {},
   "outputs": [],
   "source": [
    "# nltk.download('vader_lexicon')\n",
    "from nltk.sentiment import SentimentIntensityAnalyzer   # Import VADER sentiment analysis tool from NLTK library\n",
    "from tqdm.notebook import tqdm                          # Import tqdm's notebook-based progress bar utility to visualize iteration process\n",
    "\n",
    "# Initialize Sentiment Analyzer\n",
    "sia = SentimentIntensityAnalyzer()     # Create an instance of SentimentIntensityAnalyzer, which provides polarity score of a certain text"
   ]
  },
  {
   "cell_type": "markdown",
   "metadata": {},
   "source": [
    "Example 1"
   ]
  },
  {
   "cell_type": "code",
   "execution_count": 29,
   "metadata": {},
   "outputs": [
    {
     "data": {
      "text/plain": [
       "{'neg': 0.649, 'neu': 0.351, 'pos': 0.0, 'compound': -0.5719}"
      ]
     },
     "execution_count": 29,
     "metadata": {},
     "output_type": "execute_result"
    }
   ],
   "source": [
    "sia.polarity_scores('I hate my life')"
   ]
  },
  {
   "cell_type": "markdown",
   "metadata": {},
   "source": [
    "Example 2"
   ]
  },
  {
   "cell_type": "code",
   "execution_count": 30,
   "metadata": {},
   "outputs": [
    {
     "data": {
      "text/plain": [
       "{'neg': 0.0, 'neu': 0.192, 'pos': 0.808, 'compound': 0.6369}"
      ]
     },
     "execution_count": 30,
     "metadata": {},
     "output_type": "execute_result"
    }
   ],
   "source": [
    "sia.polarity_scores('I love you')"
   ]
  },
  {
   "cell_type": "markdown",
   "metadata": {},
   "source": [
    "Get polarity score of example text."
   ]
  },
  {
   "cell_type": "code",
   "execution_count": 31,
   "metadata": {},
   "outputs": [
    {
     "data": {
      "text/plain": [
       "{'neg': 0.521, 'neu': 0.337, 'pos': 0.142, 'compound': -0.8442}"
      ]
     },
     "execution_count": 31,
     "metadata": {},
     "output_type": "execute_result"
    }
   ],
   "source": [
    "sia.polarity_scores(example)"
   ]
  },
  {
   "cell_type": "markdown",
   "metadata": {},
   "source": [
    "Iterate through each row in the DataFrame 'df'."
   ]
  },
  {
   "cell_type": "code",
   "execution_count": 32,
   "metadata": {},
   "outputs": [
    {
     "data": {
      "application/vnd.jupyter.widget-view+json": {
       "model_id": "cf5dc51fddfe4e5ea806c19503c0f7a8",
       "version_major": 2,
       "version_minor": 0
      },
      "text/plain": [
       "  0%|          | 0/3000 [00:00<?, ?it/s]"
      ]
     },
     "metadata": {},
     "output_type": "display_data"
    }
   ],
   "source": [
    "# Empty dictionary to store VADER sentiment scores\n",
    "res = {}\n",
    "\n",
    "# Iterate through each row in the DataFrame with a progress bar\n",
    "for i, row in tqdm( df.iterrows(), total = len(df) ): \n",
    "    text = row['text']  # Extract text from each row\n",
    "    id = row['Index']   # Get row's index as 'id'\n",
    "    res[id] = sia.polarity_scores(text) # Use VADER to analyze the sentiment and store each resulting sentiment in 'res'"
   ]
  },
  {
   "cell_type": "markdown",
   "metadata": {},
   "source": [
    "Convert dictionary of results into a DataFrame, transpose it, and reset index."
   ]
  },
  {
   "cell_type": "code",
   "execution_count": 33,
   "metadata": {},
   "outputs": [],
   "source": [
    "vaders = pd.DataFrame(res).T\n",
    "vaders = vaders.reset_index().rename(columns = {\n",
    "    'index': 'id',      # Rename 'index' to 'id' to match with original DataFrame\n",
    "    'neg': 'vader_neg', # Rename columns to specify VADER sentiment scores\n",
    "    'neu': 'vader_neu', \n",
    "    'pos': 'vader_pos'\n",
    "}) \n",
    "\n",
    "# Merge 'vaders' DataFrame with original 'df' on the 'id' column\n",
    "vaders = vaders.merge(df, how='left', left_on='id', right_on='Index')"
   ]
  },
  {
   "cell_type": "markdown",
   "metadata": {},
   "source": [
    "Display final DataFrame."
   ]
  },
  {
   "cell_type": "code",
   "execution_count": 34,
   "metadata": {},
   "outputs": [
    {
     "data": {
      "text/html": [
       "<div>\n",
       "<style scoped>\n",
       "    .dataframe tbody tr th:only-of-type {\n",
       "        vertical-align: middle;\n",
       "    }\n",
       "\n",
       "    .dataframe tbody tr th {\n",
       "        vertical-align: top;\n",
       "    }\n",
       "\n",
       "    .dataframe thead th {\n",
       "        text-align: right;\n",
       "    }\n",
       "</style>\n",
       "<table border=\"1\" class=\"dataframe\">\n",
       "  <thead>\n",
       "    <tr style=\"text-align: right;\">\n",
       "      <th></th>\n",
       "      <th>id</th>\n",
       "      <th>vader_neg</th>\n",
       "      <th>vader_neu</th>\n",
       "      <th>vader_pos</th>\n",
       "      <th>compound</th>\n",
       "      <th>Index</th>\n",
       "      <th>text</th>\n",
       "      <th>label</th>\n",
       "      <th>processed_text</th>\n",
       "      <th>char_count</th>\n",
       "      <th>word_count</th>\n",
       "      <th>message_length</th>\n",
       "      <th>tokens</th>\n",
       "      <th>pos_tags</th>\n",
       "    </tr>\n",
       "  </thead>\n",
       "  <tbody>\n",
       "    <tr>\n",
       "      <th>0</th>\n",
       "      <td>411553</td>\n",
       "      <td>0.286</td>\n",
       "      <td>0.390</td>\n",
       "      <td>0.325</td>\n",
       "      <td>0.0772</td>\n",
       "      <td>411553</td>\n",
       "      <td>i feel rebellious and i like it</td>\n",
       "      <td>Anger</td>\n",
       "      <td>[feel, rebellious, like]</td>\n",
       "      <td>18</td>\n",
       "      <td>3</td>\n",
       "      <td>Short</td>\n",
       "      <td>[feel, rebellious, like]</td>\n",
       "      <td>[(feel, RB), (rebellious, JJ), (like, IN)]</td>\n",
       "    </tr>\n",
       "    <tr>\n",
       "      <th>1</th>\n",
       "      <td>18079</td>\n",
       "      <td>0.532</td>\n",
       "      <td>0.468</td>\n",
       "      <td>0.000</td>\n",
       "      <td>-0.6901</td>\n",
       "      <td>18079</td>\n",
       "      <td>i feel completely agitated and full of blame</td>\n",
       "      <td>Anger</td>\n",
       "      <td>[feel, completely, agitated, full, blame]</td>\n",
       "      <td>31</td>\n",
       "      <td>5</td>\n",
       "      <td>Short</td>\n",
       "      <td>[feel, completely, agitated, full, blame]</td>\n",
       "      <td>[(feel, VB), (completely, RB), (agitated, VBN)...</td>\n",
       "    </tr>\n",
       "    <tr>\n",
       "      <th>2</th>\n",
       "      <td>282107</td>\n",
       "      <td>0.186</td>\n",
       "      <td>0.504</td>\n",
       "      <td>0.310</td>\n",
       "      <td>0.3506</td>\n",
       "      <td>282107</td>\n",
       "      <td>i feel like a witch bc im aggravated and i wan...</td>\n",
       "      <td>Anger</td>\n",
       "      <td>[feel, like, witch, bc, aggravated, want, go, ...</td>\n",
       "      <td>40</td>\n",
       "      <td>9</td>\n",
       "      <td>Short</td>\n",
       "      <td>[feel, like, witch, bc, aggravated, want, go, ...</td>\n",
       "      <td>[(feel, NN), (like, IN), (witch, NN), (bc, NN)...</td>\n",
       "    </tr>\n",
       "    <tr>\n",
       "      <th>3</th>\n",
       "      <td>49946</td>\n",
       "      <td>0.049</td>\n",
       "      <td>0.660</td>\n",
       "      <td>0.292</td>\n",
       "      <td>0.8861</td>\n",
       "      <td>49946</td>\n",
       "      <td>i feel really bitchy for doing this but im rea...</td>\n",
       "      <td>Anger</td>\n",
       "      <td>[feel, really, bitchy, really, iffy, read, jou...</td>\n",
       "      <td>93</td>\n",
       "      <td>19</td>\n",
       "      <td>Long</td>\n",
       "      <td>[feel, really, bitchy, really, iffy, read, jou...</td>\n",
       "      <td>[(feel, NN), (really, RB), (bitchy, VBZ), (rea...</td>\n",
       "    </tr>\n",
       "    <tr>\n",
       "      <th>4</th>\n",
       "      <td>96367</td>\n",
       "      <td>0.250</td>\n",
       "      <td>0.750</td>\n",
       "      <td>0.000</td>\n",
       "      <td>-0.2500</td>\n",
       "      <td>96367</td>\n",
       "      <td>i feel rude but i move past it immediately</td>\n",
       "      <td>Anger</td>\n",
       "      <td>[feel, rude, move, past, immediately]</td>\n",
       "      <td>27</td>\n",
       "      <td>5</td>\n",
       "      <td>Short</td>\n",
       "      <td>[feel, rude, move, past, immediately]</td>\n",
       "      <td>[(feel, NN), (rude, JJ), (move, NN), (past, IN...</td>\n",
       "    </tr>\n",
       "    <tr>\n",
       "      <th>...</th>\n",
       "      <td>...</td>\n",
       "      <td>...</td>\n",
       "      <td>...</td>\n",
       "      <td>...</td>\n",
       "      <td>...</td>\n",
       "      <td>...</td>\n",
       "      <td>...</td>\n",
       "      <td>...</td>\n",
       "      <td>...</td>\n",
       "      <td>...</td>\n",
       "      <td>...</td>\n",
       "      <td>...</td>\n",
       "      <td>...</td>\n",
       "      <td>...</td>\n",
       "    </tr>\n",
       "    <tr>\n",
       "      <th>2995</th>\n",
       "      <td>341981</td>\n",
       "      <td>0.000</td>\n",
       "      <td>0.741</td>\n",
       "      <td>0.259</td>\n",
       "      <td>0.4404</td>\n",
       "      <td>341981</td>\n",
       "      <td>i feel like i would be overwhelmed with that m...</td>\n",
       "      <td>Surprise</td>\n",
       "      <td>[feel, like, would, overwhelmed, much, stitchi...</td>\n",
       "      <td>57</td>\n",
       "      <td>9</td>\n",
       "      <td>Short</td>\n",
       "      <td>[feel, like, would, overwhelmed, much, stitchi...</td>\n",
       "      <td>[(feel, NN), (like, IN), (would, MD), (overwhe...</td>\n",
       "    </tr>\n",
       "    <tr>\n",
       "      <th>2996</th>\n",
       "      <td>388495</td>\n",
       "      <td>0.232</td>\n",
       "      <td>0.709</td>\n",
       "      <td>0.059</td>\n",
       "      <td>-0.6597</td>\n",
       "      <td>388495</td>\n",
       "      <td>i think it is the worst feeling it gives me th...</td>\n",
       "      <td>Surprise</td>\n",
       "      <td>[think, worst, feeling, gives, shivers, thinki...</td>\n",
       "      <td>58</td>\n",
       "      <td>10</td>\n",
       "      <td>Short</td>\n",
       "      <td>[think, worst, feeling, gives, shivers, thinki...</td>\n",
       "      <td>[(think, VB), (worst, JJS), (feeling, VBG), (g...</td>\n",
       "    </tr>\n",
       "    <tr>\n",
       "      <th>2997</th>\n",
       "      <td>398294</td>\n",
       "      <td>0.000</td>\n",
       "      <td>0.800</td>\n",
       "      <td>0.200</td>\n",
       "      <td>0.4576</td>\n",
       "      <td>398294</td>\n",
       "      <td>i often quite frankly feel completely overwhel...</td>\n",
       "      <td>Surprise</td>\n",
       "      <td>[often, quite, frankly, feel, completely, over...</td>\n",
       "      <td>81</td>\n",
       "      <td>14</td>\n",
       "      <td>Long</td>\n",
       "      <td>[often, quite, frankly, feel, completely, over...</td>\n",
       "      <td>[(often, RB), (quite, RB), (frankly, JJ), (fee...</td>\n",
       "    </tr>\n",
       "    <tr>\n",
       "      <th>2998</th>\n",
       "      <td>348061</td>\n",
       "      <td>0.081</td>\n",
       "      <td>0.593</td>\n",
       "      <td>0.326</td>\n",
       "      <td>0.6286</td>\n",
       "      <td>348061</td>\n",
       "      <td>i played this album twice and i came away not ...</td>\n",
       "      <td>Surprise</td>\n",
       "      <td>[played, album, twice, came, away, feeling, le...</td>\n",
       "      <td>48</td>\n",
       "      <td>9</td>\n",
       "      <td>Short</td>\n",
       "      <td>[played, album, twice, came, away, feeling, le...</td>\n",
       "      <td>[(played, VBN), (album, NN), (twice, RB), (cam...</td>\n",
       "    </tr>\n",
       "    <tr>\n",
       "      <th>2999</th>\n",
       "      <td>271477</td>\n",
       "      <td>0.120</td>\n",
       "      <td>0.880</td>\n",
       "      <td>0.000</td>\n",
       "      <td>-0.0240</td>\n",
       "      <td>271477</td>\n",
       "      <td>i know as time goes on i will feel less overwh...</td>\n",
       "      <td>Surprise</td>\n",
       "      <td>[know, time, goes, feel, less, overwhelmed]</td>\n",
       "      <td>31</td>\n",
       "      <td>6</td>\n",
       "      <td>Short</td>\n",
       "      <td>[know, time, goes, feel, less, overwhelmed]</td>\n",
       "      <td>[(know, JJ), (time, NN), (goes, VBZ), (feel, R...</td>\n",
       "    </tr>\n",
       "  </tbody>\n",
       "</table>\n",
       "<p>3000 rows × 14 columns</p>\n",
       "</div>"
      ],
      "text/plain": [
       "          id  vader_neg  vader_neu  vader_pos  compound   Index  \\\n",
       "0     411553      0.286      0.390      0.325    0.0772  411553   \n",
       "1      18079      0.532      0.468      0.000   -0.6901   18079   \n",
       "2     282107      0.186      0.504      0.310    0.3506  282107   \n",
       "3      49946      0.049      0.660      0.292    0.8861   49946   \n",
       "4      96367      0.250      0.750      0.000   -0.2500   96367   \n",
       "...      ...        ...        ...        ...       ...     ...   \n",
       "2995  341981      0.000      0.741      0.259    0.4404  341981   \n",
       "2996  388495      0.232      0.709      0.059   -0.6597  388495   \n",
       "2997  398294      0.000      0.800      0.200    0.4576  398294   \n",
       "2998  348061      0.081      0.593      0.326    0.6286  348061   \n",
       "2999  271477      0.120      0.880      0.000   -0.0240  271477   \n",
       "\n",
       "                                                   text     label  \\\n",
       "0                       i feel rebellious and i like it     Anger   \n",
       "1          i feel completely agitated and full of blame     Anger   \n",
       "2     i feel like a witch bc im aggravated and i wan...     Anger   \n",
       "3     i feel really bitchy for doing this but im rea...     Anger   \n",
       "4            i feel rude but i move past it immediately     Anger   \n",
       "...                                                 ...       ...   \n",
       "2995  i feel like i would be overwhelmed with that m...  Surprise   \n",
       "2996  i think it is the worst feeling it gives me th...  Surprise   \n",
       "2997  i often quite frankly feel completely overwhel...  Surprise   \n",
       "2998  i played this album twice and i came away not ...  Surprise   \n",
       "2999  i know as time goes on i will feel less overwh...  Surprise   \n",
       "\n",
       "                                         processed_text  char_count  \\\n",
       "0                              [feel, rebellious, like]          18   \n",
       "1             [feel, completely, agitated, full, blame]          31   \n",
       "2     [feel, like, witch, bc, aggravated, want, go, ...          40   \n",
       "3     [feel, really, bitchy, really, iffy, read, jou...          93   \n",
       "4                 [feel, rude, move, past, immediately]          27   \n",
       "...                                                 ...         ...   \n",
       "2995  [feel, like, would, overwhelmed, much, stitchi...          57   \n",
       "2996  [think, worst, feeling, gives, shivers, thinki...          58   \n",
       "2997  [often, quite, frankly, feel, completely, over...          81   \n",
       "2998  [played, album, twice, came, away, feeling, le...          48   \n",
       "2999        [know, time, goes, feel, less, overwhelmed]          31   \n",
       "\n",
       "      word_count message_length  \\\n",
       "0              3          Short   \n",
       "1              5          Short   \n",
       "2              9          Short   \n",
       "3             19           Long   \n",
       "4              5          Short   \n",
       "...          ...            ...   \n",
       "2995           9          Short   \n",
       "2996          10          Short   \n",
       "2997          14           Long   \n",
       "2998           9          Short   \n",
       "2999           6          Short   \n",
       "\n",
       "                                                 tokens  \\\n",
       "0                              [feel, rebellious, like]   \n",
       "1             [feel, completely, agitated, full, blame]   \n",
       "2     [feel, like, witch, bc, aggravated, want, go, ...   \n",
       "3     [feel, really, bitchy, really, iffy, read, jou...   \n",
       "4                 [feel, rude, move, past, immediately]   \n",
       "...                                                 ...   \n",
       "2995  [feel, like, would, overwhelmed, much, stitchi...   \n",
       "2996  [think, worst, feeling, gives, shivers, thinki...   \n",
       "2997  [often, quite, frankly, feel, completely, over...   \n",
       "2998  [played, album, twice, came, away, feeling, le...   \n",
       "2999        [know, time, goes, feel, less, overwhelmed]   \n",
       "\n",
       "                                               pos_tags  \n",
       "0            [(feel, RB), (rebellious, JJ), (like, IN)]  \n",
       "1     [(feel, VB), (completely, RB), (agitated, VBN)...  \n",
       "2     [(feel, NN), (like, IN), (witch, NN), (bc, NN)...  \n",
       "3     [(feel, NN), (really, RB), (bitchy, VBZ), (rea...  \n",
       "4     [(feel, NN), (rude, JJ), (move, NN), (past, IN...  \n",
       "...                                                 ...  \n",
       "2995  [(feel, NN), (like, IN), (would, MD), (overwhe...  \n",
       "2996  [(think, VB), (worst, JJS), (feeling, VBG), (g...  \n",
       "2997  [(often, RB), (quite, RB), (frankly, JJ), (fee...  \n",
       "2998  [(played, VBN), (album, NN), (twice, RB), (cam...  \n",
       "2999  [(know, JJ), (time, NN), (goes, VBZ), (feel, R...  \n",
       "\n",
       "[3000 rows x 14 columns]"
      ]
     },
     "execution_count": 34,
     "metadata": {},
     "output_type": "execute_result"
    }
   ],
   "source": [
    "vaders"
   ]
  },
  {
   "cell_type": "markdown",
   "metadata": {},
   "source": [
    "## **Plot VADER Results**"
   ]
  },
  {
   "cell_type": "code",
   "execution_count": 35,
   "metadata": {},
   "outputs": [
    {
     "data": {
      "image/png": "[encoded data removed]",
      "text/plain": [
       "<Figure size 640x480 with 1 Axes>"
      ]
     },
     "metadata": {},
     "output_type": "display_data"
    }
   ],
   "source": [
    "ax = sns.barplot(\n",
    "    data = vaders, \n",
    "    x = 'label', \n",
    "    y = 'compound'\n",
    ")\n",
    "ax.set_title('Compound Score by Text Sentiment Label')\n",
    "ax.set_xticklabels(ax.get_xticklabels(), rotation = 45, ha = \"right\", fontsize = 12) \n",
    "plt.tight_layout() \n",
    "plt.show()"
   ]
  },
  {
   "cell_type": "markdown",
   "metadata": {},
   "source": [
    "The bar plot visualizes the average compound sentiment score from the VADER sentiment analysis for each emotion label. Here's the analysis: \n",
    "\n",
    "   - **Joy and Love** exhibit the highest compound scores, indicating that these emotions are generally associated with positive sentiment in the text. \n",
    "\n",
    "   - **Surprise** shows a moderate positive compound score, which might reflect its mixed or neutral association, depending on the context. \n",
    "   \n",
    "   - **Fear, Anger, and Sadness** have negative compound scores, aligning with their inherently negative connotations in sentiment analysis system.\n",
    "\n",
    "This distribution aligns with typical sentiment expectations--positive emotions (like Joy and Love) yield positive scores, while negative emotions (like Fear and Sadness) yield negative scores, confirming that VADER effectively captures the polarity of these sentiments. "
   ]
  },
  {
   "cell_type": "code",
   "execution_count": 36,
   "metadata": {},
   "outputs": [
    {
     "data": {
      "image/png": "[encoded data removed]",
      "text/plain": [
       "<Figure size 1200x300 with 3 Axes>"
      ]
     },
     "metadata": {},
     "output_type": "display_data"
    }
   ],
   "source": [
    "fig, axs = plt.subplots(1, 3, figsize = (12, 3)) \n",
    "sns.barplot(data = vaders, x = 'label', y = 'vader_pos', ax = axs[0]) \n",
    "sns.barplot(data = vaders, x = 'label', y = 'vader_neu', ax = axs[1]) \n",
    "sns.barplot(data = vaders, x = 'label', y = 'vader_neg', ax = axs[2]) \n",
    "axs[0].set_title('Positive Sentiment') \n",
    "axs[1].set_title('Neutral Sentiment') \n",
    "axs[2].set_title('Negative Sentiment') \n",
    "plt.tight_layout()\n",
    "plt.show() "
   ]
  },
  {
   "cell_type": "markdown",
   "metadata": {},
   "source": [
    "- The graphs represent the breakdown of positive, neutral, and negative sentiment scores for various emotional labels in the dataset. The \"Positive Sentiment\" graph shows that \"Joy\" has the highest positive score, followe by \"Love\" and \"Surprise\", suggesting these emotions are associated with positive language. The \"Neutral Sentiment\" graph is consistent across all labels, indicating a generally neutral tone in the text, while the \"Negative Sentiment\" graph highlights \"Fear\", \"Anger\", and \"Sadness\" with higher negative scores, showing these emotions are associated with negative expressions. "
   ]
  },
  {
   "cell_type": "markdown",
   "metadata": {},
   "source": [
    "# **RoBERTa Model**"
   ]
  },
  {
   "cell_type": "markdown",
   "metadata": {},
   "source": [
    "- RoBERTa model introduces a powerful transformer-based approach for understanding nuanced language patterns in text data. RoBERTa (Robustly Optimized Bidirectional Encoder Representations from Transformers) model has been fine-tuned to capture complex contextual relationships within text, making it well-suited for identifying subtle sentiment differences. It leveregaes bidirectional attention, meaning it analyzes context both before and after each word, which helps interpret sarcasm, irony, and other complexities often present in text data. "
   ]
  },
  {
   "cell_type": "markdown",
   "metadata": {},
   "source": [
    "Import the necessary libraries."
   ]
  },
  {
   "cell_type": "code",
   "execution_count": 37,
   "metadata": {},
   "outputs": [],
   "source": [
    "from transformers import AutoTokenizer \n",
    "from transformers import AutoModelForSequenceClassification \n",
    "\n",
    "# Import softmax function for probability conversion\n",
    "from scipy.special import softmax "
   ]
  },
  {
   "cell_type": "markdown",
   "metadata": {},
   "source": [
    "Specify RoBERTa model version pre-trained on Twitter sentiment data."
   ]
  },
  {
   "cell_type": "code",
   "execution_count": 38,
   "metadata": {},
   "outputs": [
    {
     "name": "stderr",
     "output_type": "stream",
     "text": [
      "Some weights of the model checkpoint at cardiffnlp/twitter-roberta-base-sentiment-latest were not used when initializing RobertaForSequenceClassification: ['roberta.pooler.dense.bias', 'roberta.pooler.dense.weight']\n",
      "- This IS expected if you are initializing RobertaForSequenceClassification from the checkpoint of a model trained on another task or with another architecture (e.g. initializing a BertForSequenceClassification model from a BertForPreTraining model).\n",
      "- This IS NOT expected if you are initializing RobertaForSequenceClassification from the checkpoint of a model that you expect to be exactly identical (initializing a BertForSequenceClassification model from a BertForSequenceClassification model).\n"
     ]
    }
   ],
   "source": [
    "MODEL = f\"cardiffnlp/twitter-roberta-base-sentiment-latest\"\n",
    "\n",
    "# Load tokenizer for the RoBERTa model to convert text into tokens\n",
    "tokenizer = AutoTokenizer.from_pretrained(MODEL)\n",
    "\n",
    "# Load sentiment analysis model for sequence classification\n",
    "model = AutoModelForSequenceClassification.from_pretrained(MODEL)"
   ]
  },
  {
   "cell_type": "code",
   "execution_count": 39,
   "metadata": {},
   "outputs": [
    {
     "name": "stdout",
     "output_type": "stream",
     "text": [
      "{'roberta_neg': 0.62513155, 'roberta_neu': 0.3469291, 'roberta_pos': 0.02793927}\n"
     ]
    }
   ],
   "source": [
    "encoded_text = tokenizer(example, return_tensors='pt')\n",
    "output = model(**encoded_text) \n",
    "scores = output[0][0].detach().numpy() \n",
    "scores = softmax(scores) \n",
    "scores_dict = {\n",
    "    'roberta_neg' : scores[0], \n",
    "    'roberta_neu' : scores[1], \n",
    "    'roberta_pos' : scores[2]\n",
    "} \n",
    "print(scores_dict)"
   ]
  },
  {
   "cell_type": "markdown",
   "metadata": {},
   "source": [
    "Declare function that calculates sentiment scores for a given text using the RoBERTa model. The function tokenizes, runs it through the model, applies the softmax function to get probabilities, and returns a dictionary with negative, neutral, and positive sentiment scores."
   ]
  },
  {
   "cell_type": "code",
   "execution_count": 40,
   "metadata": {},
   "outputs": [],
   "source": [
    "def polarity_scores_roberta(example): \n",
    "    # Tokenize input text for the RoBERTa model, outputting tensors in PyTorch format\n",
    "    encoded_text = tokenizer(example, return_tensors='pt') \n",
    "\n",
    "    # Perform inference on the encoded text using the model\n",
    "    output = model(**encoded_text) \n",
    "\n",
    "    # Extract model output and convert it to NumPy array for softmax processing\n",
    "    scores = output[0][0].detach().numpy() \n",
    "\n",
    "    # Apply softmax function to obtain sentiment probabilities\n",
    "    scores = softmax(scores)                     \n",
    "\n",
    "    # Create dictionary with sentiment scores labeled as negative, neutral, and positive\n",
    "    scores_dict = {\n",
    "        'roberta_neg' : scores[0],  # Negative sentiment score\n",
    "        'roberta_neu' : scores[1],  # Neutral sentiment score\n",
    "        'roberta_pos' : scores[2]   # Positive sentiment score\n",
    "    } \n",
    "    # Return dictionary containing sentiment scores\n",
    "    return scores_dict"
   ]
  },
  {
   "cell_type": "markdown",
   "metadata": {},
   "source": [
    "Loop iterates over each row in a DataFrame, processes the text with both VADER and RoBERTa sentiment analysis, renames the VADER keys for clarity, and combine the scores from both models."
   ]
  },
  {
   "cell_type": "code",
   "execution_count": 41,
   "metadata": {},
   "outputs": [
    {
     "data": {
      "application/vnd.jupyter.widget-view+json": {
       "model_id": "ebb7f8da8aed439e9f451d281132757a",
       "version_major": 2,
       "version_minor": 0
      },
      "text/plain": [
       "  0%|          | 0/3000 [00:00<?, ?it/s]"
      ]
     },
     "metadata": {},
     "output_type": "display_data"
    }
   ],
   "source": [
    "res = {}\n",
    "\n",
    "# Iterate over each row in DataFrame with progress tracking\n",
    "for i, row in tqdm( df.iterrows(), total = len(df) ): \n",
    "\n",
    "    try: \n",
    "        # Retrieve the text and unique identifier from the DataFrame\n",
    "        text = row['text'] \n",
    "        id = row['Index']\n",
    "        # Get RoBERTa sentiment scores using custom function\n",
    "        roberta_result = polarity_scores_roberta(text) \n",
    "        res[id] = roberta_result\n",
    "    except RuntimeError: \n",
    "         #Print error message if there is an issue processing a row\n",
    "        print(f'Broke for id {id}') "
   ]
  },
  {
   "cell_type": "markdown",
   "metadata": {},
   "source": [
    "Convert res dictionary into a DataFrame, renames columns for clarity, and merges it with the original DataFrame on the Index column or the DataFrame's index if Index is not available."
   ]
  },
  {
   "cell_type": "code",
   "execution_count": 42,
   "metadata": {},
   "outputs": [],
   "source": [
    "# Convert the 'res' dictionary to a DataFrame\n",
    "results_df = pd.DataFrame(res).T  # Transpose so IDs align with rows\n",
    "\n",
    "# Reset the index and rename the 'index' column to 'Id' for easier merging\n",
    "results_df = results_df.reset_index().rename(columns={\n",
    "    'index': 'Id',          # Rename index to Id\n",
    "    'roberta_neg': 'roberta_neg',  # Keep RoBERTa score columns\n",
    "    'roberta_neu': 'roberta_neu',\n",
    "    'roberta_pos': 'roberta_pos'\n",
    "})\n",
    "\n",
    "# Merge results DataFrame with the original DataFrame on 'Id' and 'Index' columns\n",
    "if 'Index' in df.columns:\n",
    "    results_df = results_df.merge(df, how='left', left_on='Id', right_on='Index')\n",
    "else:\n",
    "    # If 'Index' is not a column, merge on index\n",
    "    results_df = results_df.merge(df, how='left', left_on='Id', right_index=True)"
   ]
  },
  {
   "cell_type": "markdown",
   "metadata": {},
   "source": [
    "Display first few rows of merged DataFrame."
   ]
  },
  {
   "cell_type": "code",
   "execution_count": 43,
   "metadata": {},
   "outputs": [
    {
     "data": {
      "text/html": [
       "<div>\n",
       "<style scoped>\n",
       "    .dataframe tbody tr th:only-of-type {\n",
       "        vertical-align: middle;\n",
       "    }\n",
       "\n",
       "    .dataframe tbody tr th {\n",
       "        vertical-align: top;\n",
       "    }\n",
       "\n",
       "    .dataframe thead th {\n",
       "        text-align: right;\n",
       "    }\n",
       "</style>\n",
       "<table border=\"1\" class=\"dataframe\">\n",
       "  <thead>\n",
       "    <tr style=\"text-align: right;\">\n",
       "      <th></th>\n",
       "      <th>Id</th>\n",
       "      <th>roberta_neg</th>\n",
       "      <th>roberta_neu</th>\n",
       "      <th>roberta_pos</th>\n",
       "      <th>Index</th>\n",
       "      <th>text</th>\n",
       "      <th>label</th>\n",
       "      <th>processed_text</th>\n",
       "      <th>char_count</th>\n",
       "      <th>word_count</th>\n",
       "      <th>message_length</th>\n",
       "      <th>tokens</th>\n",
       "      <th>pos_tags</th>\n",
       "    </tr>\n",
       "  </thead>\n",
       "  <tbody>\n",
       "    <tr>\n",
       "      <th>0</th>\n",
       "      <td>411553</td>\n",
       "      <td>0.023713</td>\n",
       "      <td>0.181350</td>\n",
       "      <td>0.794936</td>\n",
       "      <td>411553</td>\n",
       "      <td>i feel rebellious and i like it</td>\n",
       "      <td>Anger</td>\n",
       "      <td>[feel, rebellious, like]</td>\n",
       "      <td>18</td>\n",
       "      <td>3</td>\n",
       "      <td>Short</td>\n",
       "      <td>[feel, rebellious, like]</td>\n",
       "      <td>[(feel, RB), (rebellious, JJ), (like, IN)]</td>\n",
       "    </tr>\n",
       "    <tr>\n",
       "      <th>1</th>\n",
       "      <td>18079</td>\n",
       "      <td>0.920334</td>\n",
       "      <td>0.072259</td>\n",
       "      <td>0.007407</td>\n",
       "      <td>18079</td>\n",
       "      <td>i feel completely agitated and full of blame</td>\n",
       "      <td>Anger</td>\n",
       "      <td>[feel, completely, agitated, full, blame]</td>\n",
       "      <td>31</td>\n",
       "      <td>5</td>\n",
       "      <td>Short</td>\n",
       "      <td>[feel, completely, agitated, full, blame]</td>\n",
       "      <td>[(feel, VB), (completely, RB), (agitated, VBN)...</td>\n",
       "    </tr>\n",
       "    <tr>\n",
       "      <th>2</th>\n",
       "      <td>282107</td>\n",
       "      <td>0.902631</td>\n",
       "      <td>0.089745</td>\n",
       "      <td>0.007624</td>\n",
       "      <td>282107</td>\n",
       "      <td>i feel like a witch bc im aggravated and i wan...</td>\n",
       "      <td>Anger</td>\n",
       "      <td>[feel, like, witch, bc, aggravated, want, go, ...</td>\n",
       "      <td>40</td>\n",
       "      <td>9</td>\n",
       "      <td>Short</td>\n",
       "      <td>[feel, like, witch, bc, aggravated, want, go, ...</td>\n",
       "      <td>[(feel, NN), (like, IN), (witch, NN), (bc, NN)...</td>\n",
       "    </tr>\n",
       "    <tr>\n",
       "      <th>3</th>\n",
       "      <td>49946</td>\n",
       "      <td>0.764213</td>\n",
       "      <td>0.214226</td>\n",
       "      <td>0.021560</td>\n",
       "      <td>49946</td>\n",
       "      <td>i feel really bitchy for doing this but im rea...</td>\n",
       "      <td>Anger</td>\n",
       "      <td>[feel, really, bitchy, really, iffy, read, jou...</td>\n",
       "      <td>93</td>\n",
       "      <td>19</td>\n",
       "      <td>Long</td>\n",
       "      <td>[feel, really, bitchy, really, iffy, read, jou...</td>\n",
       "      <td>[(feel, NN), (really, RB), (bitchy, VBZ), (rea...</td>\n",
       "    </tr>\n",
       "    <tr>\n",
       "      <th>4</th>\n",
       "      <td>96367</td>\n",
       "      <td>0.792875</td>\n",
       "      <td>0.194361</td>\n",
       "      <td>0.012764</td>\n",
       "      <td>96367</td>\n",
       "      <td>i feel rude but i move past it immediately</td>\n",
       "      <td>Anger</td>\n",
       "      <td>[feel, rude, move, past, immediately]</td>\n",
       "      <td>27</td>\n",
       "      <td>5</td>\n",
       "      <td>Short</td>\n",
       "      <td>[feel, rude, move, past, immediately]</td>\n",
       "      <td>[(feel, NN), (rude, JJ), (move, NN), (past, IN...</td>\n",
       "    </tr>\n",
       "  </tbody>\n",
       "</table>\n",
       "</div>"
      ],
      "text/plain": [
       "       Id  roberta_neg  roberta_neu  roberta_pos   Index  \\\n",
       "0  411553     0.023713     0.181350     0.794936  411553   \n",
       "1   18079     0.920334     0.072259     0.007407   18079   \n",
       "2  282107     0.902631     0.089745     0.007624  282107   \n",
       "3   49946     0.764213     0.214226     0.021560   49946   \n",
       "4   96367     0.792875     0.194361     0.012764   96367   \n",
       "\n",
       "                                                text  label  \\\n",
       "0                    i feel rebellious and i like it  Anger   \n",
       "1       i feel completely agitated and full of blame  Anger   \n",
       "2  i feel like a witch bc im aggravated and i wan...  Anger   \n",
       "3  i feel really bitchy for doing this but im rea...  Anger   \n",
       "4         i feel rude but i move past it immediately  Anger   \n",
       "\n",
       "                                      processed_text  char_count  word_count  \\\n",
       "0                           [feel, rebellious, like]          18           3   \n",
       "1          [feel, completely, agitated, full, blame]          31           5   \n",
       "2  [feel, like, witch, bc, aggravated, want, go, ...          40           9   \n",
       "3  [feel, really, bitchy, really, iffy, read, jou...          93          19   \n",
       "4              [feel, rude, move, past, immediately]          27           5   \n",
       "\n",
       "  message_length                                             tokens  \\\n",
       "0          Short                           [feel, rebellious, like]   \n",
       "1          Short          [feel, completely, agitated, full, blame]   \n",
       "2          Short  [feel, like, witch, bc, aggravated, want, go, ...   \n",
       "3           Long  [feel, really, bitchy, really, iffy, read, jou...   \n",
       "4          Short              [feel, rude, move, past, immediately]   \n",
       "\n",
       "                                            pos_tags  \n",
       "0         [(feel, RB), (rebellious, JJ), (like, IN)]  \n",
       "1  [(feel, VB), (completely, RB), (agitated, VBN)...  \n",
       "2  [(feel, NN), (like, IN), (witch, NN), (bc, NN)...  \n",
       "3  [(feel, NN), (really, RB), (bitchy, VBZ), (rea...  \n",
       "4  [(feel, NN), (rude, JJ), (move, NN), (past, IN...  "
      ]
     },
     "execution_count": 43,
     "metadata": {},
     "output_type": "execute_result"
    }
   ],
   "source": [
    "results_df.head()"
   ]
  },
  {
   "cell_type": "code",
   "execution_count": 44,
   "metadata": {},
   "outputs": [
    {
     "data": {
      "text/html": [
       "<div>\n",
       "<style scoped>\n",
       "    .dataframe tbody tr th:only-of-type {\n",
       "        vertical-align: middle;\n",
       "    }\n",
       "\n",
       "    .dataframe tbody tr th {\n",
       "        vertical-align: top;\n",
       "    }\n",
       "\n",
       "    .dataframe thead th {\n",
       "        text-align: right;\n",
       "    }\n",
       "</style>\n",
       "<table border=\"1\" class=\"dataframe\">\n",
       "  <thead>\n",
       "    <tr style=\"text-align: right;\">\n",
       "      <th></th>\n",
       "      <th>text</th>\n",
       "      <th>processed_text</th>\n",
       "      <th>vader_neg</th>\n",
       "      <th>vader_neu</th>\n",
       "      <th>vader_pos</th>\n",
       "      <th>compound</th>\n",
       "      <th>roberta_neg</th>\n",
       "      <th>roberta_neu</th>\n",
       "      <th>roberta_pos</th>\n",
       "      <th>label</th>\n",
       "    </tr>\n",
       "  </thead>\n",
       "  <tbody>\n",
       "    <tr>\n",
       "      <th>0</th>\n",
       "      <td>i feel rebellious and i like it</td>\n",
       "      <td>[feel, rebellious, like]</td>\n",
       "      <td>0.286</td>\n",
       "      <td>0.390</td>\n",
       "      <td>0.325</td>\n",
       "      <td>0.0772</td>\n",
       "      <td>0.023713</td>\n",
       "      <td>0.181350</td>\n",
       "      <td>0.794936</td>\n",
       "      <td>Anger</td>\n",
       "    </tr>\n",
       "    <tr>\n",
       "      <th>1</th>\n",
       "      <td>i feel completely agitated and full of blame</td>\n",
       "      <td>[feel, completely, agitated, full, blame]</td>\n",
       "      <td>0.532</td>\n",
       "      <td>0.468</td>\n",
       "      <td>0.000</td>\n",
       "      <td>-0.6901</td>\n",
       "      <td>0.920334</td>\n",
       "      <td>0.072259</td>\n",
       "      <td>0.007407</td>\n",
       "      <td>Anger</td>\n",
       "    </tr>\n",
       "    <tr>\n",
       "      <th>2</th>\n",
       "      <td>i feel like a witch bc im aggravated and i wan...</td>\n",
       "      <td>[feel, like, witch, bc, aggravated, want, go, ...</td>\n",
       "      <td>0.186</td>\n",
       "      <td>0.504</td>\n",
       "      <td>0.310</td>\n",
       "      <td>0.3506</td>\n",
       "      <td>0.902631</td>\n",
       "      <td>0.089745</td>\n",
       "      <td>0.007624</td>\n",
       "      <td>Anger</td>\n",
       "    </tr>\n",
       "    <tr>\n",
       "      <th>3</th>\n",
       "      <td>i feel really bitchy for doing this but im rea...</td>\n",
       "      <td>[feel, really, bitchy, really, iffy, read, jou...</td>\n",
       "      <td>0.049</td>\n",
       "      <td>0.660</td>\n",
       "      <td>0.292</td>\n",
       "      <td>0.8861</td>\n",
       "      <td>0.764213</td>\n",
       "      <td>0.214226</td>\n",
       "      <td>0.021560</td>\n",
       "      <td>Anger</td>\n",
       "    </tr>\n",
       "    <tr>\n",
       "      <th>4</th>\n",
       "      <td>i feel rude but i move past it immediately</td>\n",
       "      <td>[feel, rude, move, past, immediately]</td>\n",
       "      <td>0.250</td>\n",
       "      <td>0.750</td>\n",
       "      <td>0.000</td>\n",
       "      <td>-0.2500</td>\n",
       "      <td>0.792875</td>\n",
       "      <td>0.194361</td>\n",
       "      <td>0.012764</td>\n",
       "      <td>Anger</td>\n",
       "    </tr>\n",
       "  </tbody>\n",
       "</table>\n",
       "</div>"
      ],
      "text/plain": [
       "                                                text  \\\n",
       "0                    i feel rebellious and i like it   \n",
       "1       i feel completely agitated and full of blame   \n",
       "2  i feel like a witch bc im aggravated and i wan...   \n",
       "3  i feel really bitchy for doing this but im rea...   \n",
       "4         i feel rude but i move past it immediately   \n",
       "\n",
       "                                      processed_text  vader_neg  vader_neu  \\\n",
       "0                           [feel, rebellious, like]      0.286      0.390   \n",
       "1          [feel, completely, agitated, full, blame]      0.532      0.468   \n",
       "2  [feel, like, witch, bc, aggravated, want, go, ...      0.186      0.504   \n",
       "3  [feel, really, bitchy, really, iffy, read, jou...      0.049      0.660   \n",
       "4              [feel, rude, move, past, immediately]      0.250      0.750   \n",
       "\n",
       "   vader_pos  compound  roberta_neg  roberta_neu  roberta_pos  label  \n",
       "0      0.325    0.0772     0.023713     0.181350     0.794936  Anger  \n",
       "1      0.000   -0.6901     0.920334     0.072259     0.007407  Anger  \n",
       "2      0.310    0.3506     0.902631     0.089745     0.007624  Anger  \n",
       "3      0.292    0.8861     0.764213     0.214226     0.021560  Anger  \n",
       "4      0.000   -0.2500     0.792875     0.194361     0.012764  Anger  "
      ]
     },
     "execution_count": 44,
     "metadata": {},
     "output_type": "execute_result"
    }
   ],
   "source": [
    "merged_df = vaders.merge(results_df, on='Index', how='inner')\n",
    "\n",
    "# Rename columns if needed (e.g., _x, _y suffixes)\n",
    "merged_df.rename(columns={\n",
    "    'text_x': 'text',\n",
    "    'label_x': 'label',\n",
    "    'processed_text_x': 'processed_text',\n",
    "    # Add renaming for other duplicated columns\n",
    "}, inplace=True)\n",
    "\n",
    "# Dynamically filter the columns to keep\n",
    "columns_to_keep = [\n",
    "    col for col in [\n",
    "        'text', 'processed_text' ,'vader_neg', 'vader_neu', 'vader_pos', 'compound',\n",
    "        'roberta_neg', 'roberta_neu', 'roberta_pos',\n",
    "        'label',\n",
    "        'char_count', 'word_count', 'message_length',\n",
    "        'tokens', 'pos_tags'\n",
    "    ] if col in merged_df.columns\n",
    "]\n",
    "\n",
    "merged_df = merged_df[columns_to_keep]\n",
    "merged_df.head()"
   ]
  },
  {
   "cell_type": "markdown",
   "metadata": {},
   "source": [
    "Display each column currently in the DataFrame."
   ]
  },
  {
   "cell_type": "code",
   "execution_count": 45,
   "metadata": {},
   "outputs": [
    {
     "data": {
      "text/plain": [
       "Index(['text', 'processed_text', 'vader_neg', 'vader_neu', 'vader_pos',\n",
       "       'compound', 'roberta_neg', 'roberta_neu', 'roberta_pos', 'label'],\n",
       "      dtype='object')"
      ]
     },
     "execution_count": 45,
     "metadata": {},
     "output_type": "execute_result"
    }
   ],
   "source": [
    "merged_df.columns"
   ]
  },
  {
   "cell_type": "markdown",
   "metadata": {},
   "source": [
    "# Examples"
   ]
  },
  {
   "cell_type": "code",
   "execution_count": 46,
   "metadata": {},
   "outputs": [
    {
     "data": {
      "text/plain": [
       "'i am feeling sooo thrilled for getting my hands finally on my very own blackberry and cant wait to use it'"
      ]
     },
     "execution_count": 46,
     "metadata": {},
     "output_type": "execute_result"
    }
   ],
   "source": [
    "results_df.query('label == \"Joy\"').sort_values('roberta_pos', ascending=False)['text'].values[0]\n",
    "merged_df.query('label == \"Joy\"').sort_values('roberta_pos', ascending=False)['text'].values[0]"
   ]
  },
  {
   "cell_type": "code",
   "execution_count": 47,
   "metadata": {},
   "outputs": [],
   "source": [
    "# results_df.query('label == \"Joy\"').sort_values('vader_pos', ascending=False)['text'].values[0]\n",
    "# merged_df.query('label == \"Joy\"').sort_values('vader_pos', ascending=False)['text'].values[0]"
   ]
  },
  {
   "cell_type": "code",
   "execution_count": 48,
   "metadata": {},
   "outputs": [
    {
     "data": {
      "text/plain": [
       "'i hate everyone and everything and feel fairly confident i could murder anything and anyone with my bare hands'"
      ]
     },
     "execution_count": 48,
     "metadata": {},
     "output_type": "execute_result"
    }
   ],
   "source": [
    "results_df.query('label == \"Joy\"').sort_values('roberta_neg', ascending=False)['text'].values[0]\n",
    "merged_df.query('label == \"Joy\"').sort_values('roberta_neg', ascending=False)['text'].values[0]"
   ]
  },
  {
   "cell_type": "code",
   "execution_count": 49,
   "metadata": {},
   "outputs": [],
   "source": [
    "#results_df.query('label == \"Joy\"').sort_values('vader_neg', ascending=False)['text'].values[0]\n",
    "#merged_df.query('label == \"Joy\"').sort_values('vader_neg', ascending=False)['text'].values[0]"
   ]
  },
  {
   "cell_type": "markdown",
   "metadata": {},
   "source": [
    "# **Neural Network**"
   ]
  },
  {
   "cell_type": "code",
   "execution_count": 50,
   "metadata": {},
   "outputs": [
    {
     "name": "stdout",
     "output_type": "stream",
     "text": [
      "Epoch 1/40\n"
     ]
    },
    {
     "name": "stderr",
     "output_type": "stream",
     "text": [
      "/opt/anaconda3/lib/python3.11/site-packages/keras/src/layers/core/dense.py:87: UserWarning: Do not pass an `input_shape`/`input_dim` argument to a layer. When using Sequential models, prefer using an `Input(shape)` object as the first layer in the model instead.\n",
      "  super().__init__(activity_regularizer=activity_regularizer, **kwargs)\n"
     ]
    },
    {
     "name": "stdout",
     "output_type": "stream",
     "text": [
      "\u001b[1m19/19\u001b[0m \u001b[32m━━━━━━━━━━━━━━━━━━━━\u001b[0m\u001b[37m\u001b[0m \u001b[1m1s\u001b[0m 8ms/step - accuracy: 0.1783 - loss: 1.7891 - val_accuracy: 0.3517 - val_loss: 1.7699\n",
      "Epoch 2/40\n",
      "\u001b[1m19/19\u001b[0m \u001b[32m━━━━━━━━━━━━━━━━━━━━\u001b[0m\u001b[37m\u001b[0m \u001b[1m0s\u001b[0m 4ms/step - accuracy: 0.3942 - loss: 1.7405 - val_accuracy: 0.5783 - val_loss: 1.6995\n",
      "Epoch 3/40\n",
      "\u001b[1m19/19\u001b[0m \u001b[32m━━━━━━━━━━━━━━━━━━━━\u001b[0m\u001b[37m\u001b[0m \u001b[1m0s\u001b[0m 4ms/step - accuracy: 0.5556 - loss: 1.6140 - val_accuracy: 0.6617 - val_loss: 1.4751\n",
      "Epoch 4/40\n",
      "\u001b[1m19/19\u001b[0m \u001b[32m━━━━━━━━━━━━━━━━━━━━\u001b[0m\u001b[37m\u001b[0m \u001b[1m0s\u001b[0m 4ms/step - accuracy: 0.7157 - loss: 1.2541 - val_accuracy: 0.7333 - val_loss: 1.0596\n",
      "Epoch 5/40\n",
      "\u001b[1m19/19\u001b[0m \u001b[32m━━━━━━━━━━━━━━━━━━━━\u001b[0m\u001b[37m\u001b[0m \u001b[1m0s\u001b[0m 6ms/step - accuracy: 0.8166 - loss: 0.7669 - val_accuracy: 0.7683 - val_loss: 0.7566\n",
      "Epoch 6/40\n",
      "\u001b[1m19/19\u001b[0m \u001b[32m━━━━━━━━━━━━━━━━━━━━\u001b[0m\u001b[37m\u001b[0m \u001b[1m0s\u001b[0m 4ms/step - accuracy: 0.8927 - loss: 0.4310 - val_accuracy: 0.7817 - val_loss: 0.6374\n",
      "Epoch 7/40\n",
      "\u001b[1m19/19\u001b[0m \u001b[32m━━━━━━━━━━━━━━━━━━━━\u001b[0m\u001b[37m\u001b[0m \u001b[1m0s\u001b[0m 4ms/step - accuracy: 0.9188 - loss: 0.2970 - val_accuracy: 0.7783 - val_loss: 0.6233\n",
      "Epoch 8/40\n",
      "\u001b[1m19/19\u001b[0m \u001b[32m━━━━━━━━━━━━━━━━━━━━\u001b[0m\u001b[37m\u001b[0m \u001b[1m0s\u001b[0m 4ms/step - accuracy: 0.9346 - loss: 0.2325 - val_accuracy: 0.7833 - val_loss: 0.6004\n",
      "Epoch 9/40\n",
      "\u001b[1m19/19\u001b[0m \u001b[32m━━━━━━━━━━━━━━━━━━━━\u001b[0m\u001b[37m\u001b[0m \u001b[1m0s\u001b[0m 4ms/step - accuracy: 0.9608 - loss: 0.1558 - val_accuracy: 0.7833 - val_loss: 0.6119\n",
      "Epoch 10/40\n",
      "\u001b[1m19/19\u001b[0m \u001b[32m━━━━━━━━━━━━━━━━━━━━\u001b[0m\u001b[37m\u001b[0m \u001b[1m0s\u001b[0m 4ms/step - accuracy: 0.9531 - loss: 0.1496 - val_accuracy: 0.7800 - val_loss: 0.6322\n",
      "Epoch 11/40\n",
      "\u001b[1m19/19\u001b[0m \u001b[32m━━━━━━━━━━━━━━━━━━━━\u001b[0m\u001b[37m\u001b[0m \u001b[1m0s\u001b[0m 4ms/step - accuracy: 0.9711 - loss: 0.1115 - val_accuracy: 0.7967 - val_loss: 0.6322\n",
      "Epoch 12/40\n",
      "\u001b[1m19/19\u001b[0m \u001b[32m━━━━━━━━━━━━━━━━━━━━\u001b[0m\u001b[37m\u001b[0m \u001b[1m0s\u001b[0m 4ms/step - accuracy: 0.9699 - loss: 0.1025 - val_accuracy: 0.7983 - val_loss: 0.6400\n",
      "Epoch 13/40\n",
      "\u001b[1m19/19\u001b[0m \u001b[32m━━━━━━━━━━━━━━━━━━━━\u001b[0m\u001b[37m\u001b[0m \u001b[1m0s\u001b[0m 4ms/step - accuracy: 0.9763 - loss: 0.0831 - val_accuracy: 0.7967 - val_loss: 0.6518\n",
      "Epoch 14/40\n",
      "\u001b[1m19/19\u001b[0m \u001b[32m━━━━━━━━━━━━━━━━━━━━\u001b[0m\u001b[37m\u001b[0m \u001b[1m0s\u001b[0m 4ms/step - accuracy: 0.9763 - loss: 0.0880 - val_accuracy: 0.7900 - val_loss: 0.6635\n",
      "Epoch 15/40\n",
      "\u001b[1m19/19\u001b[0m \u001b[32m━━━━━━━━━━━━━━━━━━━━\u001b[0m\u001b[37m\u001b[0m \u001b[1m0s\u001b[0m 4ms/step - accuracy: 0.9770 - loss: 0.0786 - val_accuracy: 0.7867 - val_loss: 0.6753\n",
      "Epoch 16/40\n",
      "\u001b[1m19/19\u001b[0m \u001b[32m━━━━━━━━━━━━━━━━━━━━\u001b[0m\u001b[37m\u001b[0m \u001b[1m0s\u001b[0m 4ms/step - accuracy: 0.9855 - loss: 0.0625 - val_accuracy: 0.7867 - val_loss: 0.6918\n",
      "Epoch 17/40\n",
      "\u001b[1m19/19\u001b[0m \u001b[32m━━━━━━━━━━━━━━━━━━━━\u001b[0m\u001b[37m\u001b[0m \u001b[1m0s\u001b[0m 4ms/step - accuracy: 0.9836 - loss: 0.0593 - val_accuracy: 0.7850 - val_loss: 0.7046\n",
      "Epoch 18/40\n",
      "\u001b[1m19/19\u001b[0m \u001b[32m━━━━━━━━━━━━━━━━━━━━\u001b[0m\u001b[37m\u001b[0m \u001b[1m0s\u001b[0m 4ms/step - accuracy: 0.9849 - loss: 0.0491 - val_accuracy: 0.7850 - val_loss: 0.7274\n",
      "Epoch 19/40\n",
      "\u001b[1m19/19\u001b[0m \u001b[32m━━━━━━━━━━━━━━━━━━━━\u001b[0m\u001b[37m\u001b[0m \u001b[1m0s\u001b[0m 4ms/step - accuracy: 0.9812 - loss: 0.0557 - val_accuracy: 0.7917 - val_loss: 0.7315\n",
      "Epoch 20/40\n",
      "\u001b[1m19/19\u001b[0m \u001b[32m━━━━━━━━━━━━━━━━━━━━\u001b[0m\u001b[37m\u001b[0m \u001b[1m0s\u001b[0m 4ms/step - accuracy: 0.9839 - loss: 0.0481 - val_accuracy: 0.7850 - val_loss: 0.7302\n",
      "Epoch 21/40\n",
      "\u001b[1m19/19\u001b[0m \u001b[32m━━━━━━━━━━━━━━━━━━━━\u001b[0m\u001b[37m\u001b[0m \u001b[1m0s\u001b[0m 4ms/step - accuracy: 0.9813 - loss: 0.0582 - val_accuracy: 0.7817 - val_loss: 0.7359\n",
      "Epoch 22/40\n",
      "\u001b[1m19/19\u001b[0m \u001b[32m━━━━━━━━━━━━━━━━━━━━\u001b[0m\u001b[37m\u001b[0m \u001b[1m0s\u001b[0m 4ms/step - accuracy: 0.9850 - loss: 0.0465 - val_accuracy: 0.7933 - val_loss: 0.7476\n",
      "Epoch 23/40\n",
      "\u001b[1m19/19\u001b[0m \u001b[32m━━━━━━━━━━━━━━━━━━━━\u001b[0m\u001b[37m\u001b[0m \u001b[1m0s\u001b[0m 4ms/step - accuracy: 0.9845 - loss: 0.0495 - val_accuracy: 0.7900 - val_loss: 0.7426\n",
      "Epoch 24/40\n",
      "\u001b[1m19/19\u001b[0m \u001b[32m━━━━━━━━━━━━━━━━━━━━\u001b[0m\u001b[37m\u001b[0m \u001b[1m0s\u001b[0m 5ms/step - accuracy: 0.9877 - loss: 0.0411 - val_accuracy: 0.7967 - val_loss: 0.7600\n",
      "Epoch 25/40\n",
      "\u001b[1m19/19\u001b[0m \u001b[32m━━━━━━━━━━━━━━━━━━━━\u001b[0m\u001b[37m\u001b[0m \u001b[1m0s\u001b[0m 4ms/step - accuracy: 0.9872 - loss: 0.0374 - val_accuracy: 0.7817 - val_loss: 0.7735\n",
      "Epoch 26/40\n",
      "\u001b[1m19/19\u001b[0m \u001b[32m━━━━━━━━━━━━━━━━━━━━\u001b[0m\u001b[37m\u001b[0m \u001b[1m0s\u001b[0m 5ms/step - accuracy: 0.9867 - loss: 0.0409 - val_accuracy: 0.7767 - val_loss: 0.7842\n",
      "Epoch 27/40\n",
      "\u001b[1m19/19\u001b[0m \u001b[32m━━━━━━━━━━━━━━━━━━━━\u001b[0m\u001b[37m\u001b[0m \u001b[1m0s\u001b[0m 4ms/step - accuracy: 0.9873 - loss: 0.0491 - val_accuracy: 0.7867 - val_loss: 0.7771\n",
      "Epoch 28/40\n",
      "\u001b[1m19/19\u001b[0m \u001b[32m━━━━━━━━━━━━━━━━━━━━\u001b[0m\u001b[37m\u001b[0m \u001b[1m0s\u001b[0m 5ms/step - accuracy: 0.9896 - loss: 0.0361 - val_accuracy: 0.7800 - val_loss: 0.7967\n",
      "Epoch 29/40\n",
      "\u001b[1m19/19\u001b[0m \u001b[32m━━━━━━━━━━━━━━━━━━━━\u001b[0m\u001b[37m\u001b[0m \u001b[1m0s\u001b[0m 4ms/step - accuracy: 0.9893 - loss: 0.0380 - val_accuracy: 0.7850 - val_loss: 0.7926\n",
      "Epoch 30/40\n",
      "\u001b[1m19/19\u001b[0m \u001b[32m━━━━━━━━━━━━━━━━━━━━\u001b[0m\u001b[37m\u001b[0m \u001b[1m0s\u001b[0m 5ms/step - accuracy: 0.9909 - loss: 0.0328 - val_accuracy: 0.7833 - val_loss: 0.8099\n",
      "Epoch 31/40\n",
      "\u001b[1m19/19\u001b[0m \u001b[32m━━━━━━━━━━━━━━━━━━━━\u001b[0m\u001b[37m\u001b[0m \u001b[1m0s\u001b[0m 5ms/step - accuracy: 0.9889 - loss: 0.0295 - val_accuracy: 0.7767 - val_loss: 0.8385\n",
      "Epoch 32/40\n",
      "\u001b[1m19/19\u001b[0m \u001b[32m━━━━━━━━━━━━━━━━━━━━\u001b[0m\u001b[37m\u001b[0m \u001b[1m0s\u001b[0m 5ms/step - accuracy: 0.9856 - loss: 0.0382 - val_accuracy: 0.7833 - val_loss: 0.8184\n",
      "Epoch 33/40\n",
      "\u001b[1m19/19\u001b[0m \u001b[32m━━━━━━━━━━━━━━━━━━━━\u001b[0m\u001b[37m\u001b[0m \u001b[1m0s\u001b[0m 4ms/step - accuracy: 0.9880 - loss: 0.0323 - val_accuracy: 0.7817 - val_loss: 0.8296\n",
      "Epoch 34/40\n",
      "\u001b[1m19/19\u001b[0m \u001b[32m━━━━━━━━━━━━━━━━━━━━\u001b[0m\u001b[37m\u001b[0m \u001b[1m0s\u001b[0m 4ms/step - accuracy: 0.9887 - loss: 0.0352 - val_accuracy: 0.7783 - val_loss: 0.8348\n",
      "Epoch 35/40\n",
      "\u001b[1m19/19\u001b[0m \u001b[32m━━━━━━━━━━━━━━━━━━━━\u001b[0m\u001b[37m\u001b[0m \u001b[1m0s\u001b[0m 4ms/step - accuracy: 0.9867 - loss: 0.0378 - val_accuracy: 0.7817 - val_loss: 0.8352\n",
      "Epoch 36/40\n",
      "\u001b[1m19/19\u001b[0m \u001b[32m━━━━━━━━━━━━━━━━━━━━\u001b[0m\u001b[37m\u001b[0m \u001b[1m0s\u001b[0m 4ms/step - accuracy: 0.9871 - loss: 0.0316 - val_accuracy: 0.7900 - val_loss: 0.8361\n",
      "Epoch 37/40\n",
      "\u001b[1m19/19\u001b[0m \u001b[32m━━━━━━━━━━━━━━━━━━━━\u001b[0m\u001b[37m\u001b[0m \u001b[1m0s\u001b[0m 4ms/step - accuracy: 0.9871 - loss: 0.0312 - val_accuracy: 0.7833 - val_loss: 0.8336\n",
      "Epoch 38/40\n",
      "\u001b[1m19/19\u001b[0m \u001b[32m━━━━━━━━━━━━━━━━━━━━\u001b[0m\u001b[37m\u001b[0m \u001b[1m0s\u001b[0m 4ms/step - accuracy: 0.9902 - loss: 0.0324 - val_accuracy: 0.7783 - val_loss: 0.8416\n",
      "Epoch 39/40\n",
      "\u001b[1m19/19\u001b[0m \u001b[32m━━━━━━━━━━━━━━━━━━━━\u001b[0m\u001b[37m\u001b[0m \u001b[1m0s\u001b[0m 4ms/step - accuracy: 0.9908 - loss: 0.0273 - val_accuracy: 0.7850 - val_loss: 0.8467\n",
      "Epoch 40/40\n",
      "\u001b[1m19/19\u001b[0m \u001b[32m━━━━━━━━━━━━━━━━━━━━\u001b[0m\u001b[37m\u001b[0m \u001b[1m0s\u001b[0m 8ms/step - accuracy: 0.9875 - loss: 0.0328 - val_accuracy: 0.7833 - val_loss: 0.8572\n",
      "\u001b[1m19/19\u001b[0m \u001b[32m━━━━━━━━━━━━━━━━━━━━\u001b[0m\u001b[37m\u001b[0m \u001b[1m0s\u001b[0m 1ms/step \n",
      "Accuracy: 0.78\n",
      "              precision    recall  f1-score   support\n",
      "\n",
      "       Anger       0.82      0.83      0.83       118\n",
      "        Fear       0.79      0.85      0.82        99\n",
      "         Joy       0.67      0.60      0.63        96\n",
      "        Love       0.84      0.81      0.82       101\n",
      "     Sadness       0.69      0.70      0.70        91\n",
      "    Surprise       0.88      0.88      0.88        95\n",
      "\n",
      "    accuracy                           0.78       600\n",
      "   macro avg       0.78      0.78      0.78       600\n",
      "weighted avg       0.78      0.78      0.78       600\n",
      "\n",
      "\u001b[1m1/1\u001b[0m \u001b[32m━━━━━━━━━━━━━━━━━━━━\u001b[0m\u001b[37m\u001b[0m \u001b[1m0s\u001b[0m 18ms/step\n",
      "The emotion for the sentence 'I am so happy today' is: Anger\n"
     ]
    }
   ],
   "source": [
    "import numpy as np\n",
    "import pandas as pd\n",
    "from sklearn.model_selection import train_test_split\n",
    "from sklearn.preprocessing import LabelEncoder\n",
    "from sklearn.feature_extraction.text import TfidfVectorizer\n",
    "import tensorflow as tf\n",
    "from tensorflow.keras.models import Sequential\n",
    "from tensorflow.keras.layers import Dense, Dropout\n",
    "from tensorflow.keras.optimizers import Adam\n",
    "from sklearn.metrics import accuracy_score, classification_report\n",
    "\n",
    "\n",
    "tfidf_vectorizer = TfidfVectorizer(max_features=1000, stop_words='english')\n",
    "tfidf_matrix = tfidf_vectorizer.fit_transform(df['processed_text'].apply(lambda x: ' '.join(x)))\n",
    "\n",
    "\n",
    "label_encoder = LabelEncoder()\n",
    "y = label_encoder.fit_transform(df['label'])\n",
    "\n",
    "\n",
    "X_train, X_test, y_train, y_test = train_test_split(tfidf_matrix, y, test_size=0.2, random_state=42)\n",
    "\n",
    "# Build the neural network model \n",
    "model = Sequential()\n",
    "\n",
    "\n",
    "model.add(Dense(512, input_dim=X_train.shape[1], activation='relu'))\n",
    "model.add(Dropout(0.5))  # Dropout for regularization\n",
    "\n",
    "model.add(Dense(256, activation='relu'))\n",
    "model.add(Dropout(0.5))\n",
    "\n",
    "model.add(Dense(len(label_encoder.classes_), activation='softmax'))\n",
    "\n",
    "\n",
    "model.compile(loss='sparse_categorical_crossentropy',  \n",
    "              optimizer=Adam(), \n",
    "              metrics=['accuracy'])\n",
    "\n",
    "# Train the model\n",
    "model.fit(X_train, y_train, epochs=40, batch_size=128, validation_data=(X_test, y_test))\n",
    "\n",
    "# Evaluate the model on the test set\n",
    "y_pred = model.predict(X_test)\n",
    "y_pred_classes = np.argmax(y_pred, axis=1)  # Convert probabilities to class labels\n",
    "\n",
    "# Calculate accuracy\n",
    "accuracy = accuracy_score(y_test, y_pred_classes)\n",
    "print(f\"Accuracy: {accuracy:.2f}\")\n",
    "\n",
    "# Print classification report\n",
    "print(classification_report(y_test, y_pred_classes, target_names=label_encoder.classes_))\n",
    "\n",
    "# Example: Predict emotion for a new sentence\n",
    "new_sentence = \"I am so happy today\"\n",
    "preprocessed_sentence = ' '.join(preprocess_text(new_sentence))  # Assuming you have a preprocessing function\n",
    "new_vector = tfidf_vectorizer.transform([preprocessed_sentence]).toarray()\n",
    "\n",
    "# Predict the emotion for the new sentence\n",
    "predicted_label = model.predict(new_vector)\n",
    "predicted_class = np.argmax(predicted_label, axis=1)\n",
    "predicted_emotion = label_encoder.inverse_transform(predicted_class)\n",
    "\n",
    "print(f\"The emotion for the sentence '{new_sentence}' is: {predicted_emotion[0]}\")"
   ]
  },
  {
   "cell_type": "code",
   "execution_count": 51,
   "metadata": {},
   "outputs": [
    {
     "data": {
      "image/png": "[encoded data removed]",
      "text/plain": [
       "<Figure size 800x600 with 2 Axes>"
      ]
     },
     "metadata": {},
     "output_type": "display_data"
    }
   ],
   "source": [
    "import seaborn as sns\n",
    "import matplotlib.pyplot as plt\n",
    "from sklearn.metrics import confusion_matrix\n",
    "\n",
    "# Assuming y_test (true labels) and y_pred (predicted labels from model) are already defined\n",
    "# If y_pred contains probabilities, use np.argmax to get the predicted class\n",
    "y_pred = np.argmax(y_pred, axis=1)  # Convert probabilities to class labels if needed\n",
    "\n",
    "# Generate the confusion matrix\n",
    "conf_matrix = confusion_matrix(y_test, y_pred)\n",
    "\n",
    "# Create a heatmap using seaborn\n",
    "plt.figure(figsize=(8, 6))  # Set the figure size\n",
    "sns.heatmap(conf_matrix, annot=True, fmt='d', cmap='Blues', xticklabels=label_encoder.classes_, yticklabels=label_encoder.classes_)\n",
    "\n",
    "# Add labels and title\n",
    "plt.xlabel('Predicted Labels')\n",
    "plt.ylabel('True Labels')\n",
    "plt.title('Confusion Matrix Heatmap')\n",
    "\n",
    "# Show the plot\n",
    "plt.show()"
   ]
  },
  {
   "cell_type": "code",
   "execution_count": 52,
   "metadata": {},
   "outputs": [
    {
     "name": "stdout",
     "output_type": "stream",
     "text": [
      "              precision    recall  f1-score   support\n",
      "\n",
      "       Anger       0.82      0.83      0.83       118\n",
      "        Fear       0.79      0.85      0.82        99\n",
      "         Joy       0.67      0.60      0.63        96\n",
      "        Love       0.84      0.81      0.82       101\n",
      "     Sadness       0.69      0.70      0.70        91\n",
      "    Surprise       0.88      0.88      0.88        95\n",
      "\n",
      "    accuracy                           0.78       600\n",
      "   macro avg       0.78      0.78      0.78       600\n",
      "weighted avg       0.78      0.78      0.78       600\n",
      "\n",
      "Accuracy: 0.78\n",
      "\u001b[1m1/1\u001b[0m \u001b[32m━━━━━━━━━━━━━━━━━━━━\u001b[0m\u001b[37m\u001b[0m \u001b[1m0s\u001b[0m 7ms/step\n",
      "The emotion for the sentence 'I am so happy today' is: Anger\n"
     ]
    }
   ],
   "source": [
    "print(classification_report(y_test, y_pred_classes, target_names=label_encoder.classes_))\n",
    "\n",
    "accuracy = accuracy_score(y_test, y_pred)\n",
    "print(f\"Accuracy: {accuracy:.2f}\")\n",
    "\n",
    "new_sentence = \"I am so happy today\"\n",
    "preprocessed_sentence = ' '.join(preprocess_text(new_sentence))  # Assuming you have a preprocessing function\n",
    "new_vector = tfidf_vectorizer.transform([preprocessed_sentence]).toarray()\n",
    "\n",
    "# Predict the emotion for the new sentence\n",
    "predicted_label = model.predict(new_vector)\n",
    "predicted_class = np.argmax(predicted_label, axis=1)\n",
    "predicted_emotion = label_encoder.inverse_transform(predicted_class)\n",
    "\n",
    "print(f\"The emotion for the sentence '{new_sentence}' is: {predicted_emotion[0]}\")"
   ]
  },
  {
   "cell_type": "markdown",
   "metadata": {},
   "source": [
    "# **Decision Trees**"
   ]
  },
  {
   "cell_type": "code",
   "execution_count": 53,
   "metadata": {},
   "outputs": [
    {
     "name": "stdout",
     "output_type": "stream",
     "text": [
      "              precision    recall  f1-score   support\n",
      "\n",
      "       Anger       0.85      0.79      0.82       118\n",
      "        Fear       0.83      0.85      0.84        99\n",
      "         Joy       0.49      0.51      0.50        96\n",
      "        Love       0.85      0.92      0.89       101\n",
      "     Sadness       0.52      0.49      0.51        91\n",
      "    Surprise       0.87      0.86      0.87        95\n",
      "\n",
      "    accuracy                           0.74       600\n",
      "   macro avg       0.74      0.74      0.74       600\n",
      "weighted avg       0.74      0.74      0.74       600\n",
      "\n",
      "Accuracy: 0.74\n"
     ]
    }
   ],
   "source": [
    "from sklearn.preprocessing import LabelEncoder\n",
    "from sklearn.tree import DecisionTreeClassifier\n",
    "from sklearn.model_selection import train_test_split\n",
    "from sklearn.tree import plot_tree\n",
    "import matplotlib.pyplot as plt\n",
    "\n",
    "\n",
    "label_encoder = LabelEncoder()\n",
    "\n",
    "y = label_encoder.fit_transform(df['label'])\n",
    "\n",
    "X_train, X_test, y_train, y_test = train_test_split(tfidf_matrix, y, test_size=0.2, random_state=42)\n",
    "\n",
    "clf = DecisionTreeClassifier(random_state=42)\n",
    "clf.fit(X_train, y_train)\n",
    "\n",
    "y_pred = clf.predict(X_test)\n",
    "\n",
    "report = classification_report(y_test, y_pred, target_names=label_encoder.classes_)\n",
    "\n",
    "print(report)\n",
    "accuracy = accuracy_score(y_test, y_pred)\n",
    "print(f\"Accuracy: {accuracy:.2f}\")"
   ]
  },
  {
   "cell_type": "code",
   "execution_count": 54,
   "metadata": {},
   "outputs": [
    {
     "name": "stdout",
     "output_type": "stream",
     "text": [
      "y_pred type: <class 'numpy.ndarray'>, shape: (600,)\n",
      "y_test type: <class 'numpy.ndarray'>, shape: (600,)\n"
     ]
    },
    {
     "data": {
      "image/png": "[encoded data removed]",
      "text/plain": [
       "<Figure size 800x600 with 2 Axes>"
      ]
     },
     "metadata": {},
     "output_type": "display_data"
    }
   ],
   "source": [
    "\n",
    "print(f\"y_pred type: {type(y_pred)}, shape: {y_pred.shape}\")\n",
    "print(f\"y_test type: {type(y_test)}, shape: {y_test.shape}\")\n",
    "\n",
    "\n",
    "if y_pred.ndim == 2:  \n",
    "    y_pred = np.argmax(y_pred, axis=1)\n",
    "\n",
    "\n",
    "conf_matrix = confusion_matrix(y_test, y_pred)\n",
    "\n",
    "plt.figure(figsize=(8, 6))  \n",
    "sns.heatmap(conf_matrix, annot=True, fmt='d', cmap='Reds', xticklabels=label_encoder.classes_, yticklabels=label_encoder.classes_)\n",
    "\n",
    "\n",
    "plt.xlabel('Predicted Labels')\n",
    "plt.ylabel('True Labels')\n",
    "plt.title('Decision Trees')\n",
    "\n",
    "plt.show()"
   ]
  },
  {
   "cell_type": "markdown",
   "metadata": {},
   "source": []
  },
  {
   "cell_type": "markdown",
   "metadata": {},
   "source": [
    "### Save Machine Learning Models"
   ]
  },
  {
   "cell_type": "code",
   "execution_count": null,
   "metadata": {},
   "outputs": [
    {
     "ename": "NameError",
     "evalue": "name 'neural_network_model' is not defined",
     "output_type": "error",
     "traceback": [
      "\u001b[0;31m---------------------------------------------------------------------------\u001b[0m",
      "\u001b[0;31mNameError\u001b[0m                                 Traceback (most recent call last)",
      "Cell \u001b[0;32mIn[56], line 13\u001b[0m\n\u001b[1;32m     10\u001b[0m     pickle\u001b[38;5;241m.\u001b[39mdump(clf, f)\n\u001b[1;32m     12\u001b[0m \u001b[38;5;66;03m# Save the Neural Network Model\u001b[39;00m\n\u001b[0;32m---> 13\u001b[0m neural_network_model\u001b[38;5;241m.\u001b[39msave(\u001b[38;5;124m\"\u001b[39m\u001b[38;5;124mmodels/neural_network_model.h5\u001b[39m\u001b[38;5;124m\"\u001b[39m)\n\u001b[1;32m     15\u001b[0m \u001b[38;5;66;03m# Save the TF-IDF vectorizer\u001b[39;00m\n\u001b[1;32m     16\u001b[0m \u001b[38;5;28;01mwith\u001b[39;00m \u001b[38;5;28mopen\u001b[39m(\u001b[38;5;124m\"\u001b[39m\u001b[38;5;124mmodels/tfidf_vectorizer.pkl\u001b[39m\u001b[38;5;124m\"\u001b[39m, \u001b[38;5;124m\"\u001b[39m\u001b[38;5;124mwb\u001b[39m\u001b[38;5;124m\"\u001b[39m) \u001b[38;5;28;01mas\u001b[39;00m f:\n",
      "\u001b[0;31mNameError\u001b[0m: name 'neural_network_model' is not defined"
     ]
    }
   ],
   "source": [
    "import os\n",
    "import pickle\n",
    "\n",
    "# Create 'models' directory if it doesn't exist\n",
    "if not os.path.exists('models'):\n",
    "    os.makedirs('models')\n",
    "\n",
    "# Save the Decision Tree model\n",
    "with open(\"models/decision_tree_model.pkl\", \"wb\") as f:\n",
    "    pickle.dump(clf, f)\n",
    "\n",
    "# Save the Neural Network Model\n",
    "model.save(\"models/neural_network_model.h5\")\n",
    "\n",
    "# Save the TF-IDF vectorizer\n",
    "with open(\"models/tfidf_vectorizer.pkl\", \"wb\") as f:\n",
    "    pickle.dump(tfidf_vectorizer, f)\n",
    "\n",
    "# Save the Label Encoder\n",
    "with open(\"models/label_encoder.pkl\", \"wb\") as f:\n",
    "    pickle.dump(label_encoder, f)\n",
    "\n",
    "# Save the RoBERTa tokenizer and model\n",
    "tokenizer.save_pretrained(\"models/roberta_tokenizer\")\n",
    "roberta_model.save_pretrained(\"models/roberta_model\")\n",
    "\n",
    "print(\"All models and encoders saved successfully.\")\n"
   ]
  }
 ],
 "metadata": {
  "kernelspec": {
   "display_name": "base",
   "language": "python",
   "name": "python3"
  },
  "language_info": {
   "codemirror_mode": {
    "name": "ipython",
    "version": 3
   },
   "file_extension": ".py",
   "mimetype": "text/x-python",
   "name": "python",
   "nbconvert_exporter": "python",
   "pygments_lexer": "ipython3",
   "version": "3.11.7"
  }
 },
 "nbformat": 4,
 "nbformat_minor": 2
}
