{
 "cells": [
  {
   "cell_type": "markdown",
   "metadata": {},
   "source": [
    "# **Sentiment Analysis of Twitter Text Data in Python**"
   ]
  },
  {
   "cell_type": "markdown",
   "metadata": {},
   "source": [
    "### This is the Python notebook for sentiment analysis in Python. The following techniques will be utilized:"
   ]
  },
  {
   "cell_type": "markdown",
   "metadata": {},
   "source": [
    "1. **VADER (Valence Aware Dictionary and Sentiment Reasoner) Model** : Bag of Words Approach \n",
    "2. **RoBERTa (Robustly Optimized Bidirectional Encoder Representations from Transformers) Model** : Contextualized Embeddings Approach"
   ]
  },
  {
   "cell_type": "markdown",
   "metadata": {},
   "source": [
    "# **Step 1: Read Data and Data Preprocessing**"
   ]
  },
  {
   "cell_type": "markdown",
   "metadata": {},
   "source": [
    "Import libraries for the following: \n",
    "- Data Manipulation \n",
    "- Data Visualization \n",
    "- Natural Language Processing (NLP) \n",
    "- Exploratory Data Analysis (EDA)"
   ]
  },
  {
   "cell_type": "code",
   "execution_count": 1,
   "metadata": {},
   "outputs": [],
   "source": [
    "# Data manipulation and analysis\n",
    "import pandas as pd    # For handling data in DataFrames, for data manipulation, cleaning, and analysis.\n",
    "import numpy as np     # For numerical operation, arrays, and advanced math functions.\n",
    "\n",
    "# Visualization libraries\n",
    "import matplotlib.pyplot as plt    # For creating static, animated, and interactive visualizations.\n",
    "import seaborn as sns              # High-level interface for creating attractive and informative statistical graphs.\n",
    "\n",
    "# EDA (Exploratory Data Analysis) modules\n",
    "import nltk                             # Natural Language Toolkit, for working with human language data (text).\n",
    "from nltk.corpus import stopwords       # For importing stopwords ('the', 'is') to exclude in text analysis.\n",
    "from collections import Counter         # For counting frequency of elements in list.\n",
    "from nltk.tokenize import word_tokenize # For splitting text into individual words (tokens). \n",
    "from nltk import pos_tag                # For parts of speech (POS) tagging in tokenized text, For linguistic analysis.\n",
    "import re                               # Regular expressions for pattern matching, useful for cleaning or extracting text.\n",
    "\n",
    "# Plotting style\n",
    "plt.style.use('ggplot')     # Sets particular plotting style, for polished plots."
   ]
  },
  {
   "cell_type": "markdown",
   "metadata": {},
   "source": [
    "Load the dataset from a CSV file into a DataFrame"
   ]
  },
  {
   "cell_type": "code",
   "execution_count": 2,
   "metadata": {},
   "outputs": [
    {
     "name": "stdout",
     "output_type": "stream",
     "text": [
      "(416809, 3)\n"
     ]
    }
   ],
   "source": [
    "df_dataset = pd.read_csv('text_modified.csv') \n",
    "print(df_dataset.shape)"
   ]
  },
  {
   "cell_type": "markdown",
   "metadata": {},
   "source": [
    "### Stratified Random Sampling\n",
    "Check label values and distribution"
   ]
  },
  {
   "cell_type": "code",
   "execution_count": 3,
   "metadata": {},
   "outputs": [
    {
     "name": "stdout",
     "output_type": "stream",
     "text": [
      "label\n",
      "Joy         141067\n",
      "Sadness     121187\n",
      "Anger        57317\n",
      "Fear         47712\n",
      "Love         34554\n",
      "Surprise     14972\n",
      "Name: count, dtype: int64\n"
     ]
    }
   ],
   "source": [
    "print(df_dataset['label'].value_counts())"
   ]
  },
  {
   "cell_type": "markdown",
   "metadata": {},
   "source": [
    "Obtain the target sample size per label based on the smallest label size"
   ]
  },
  {
   "cell_type": "code",
   "execution_count": 4,
   "metadata": {},
   "outputs": [],
   "source": [
    "min_count = df_dataset['label'].value_counts().min()\n",
    "sample_size = 2500"
   ]
  },
  {
   "cell_type": "markdown",
   "metadata": {},
   "source": [
    "Perform stratified random sampling with 42 as the seed for a reproducible dataset samples"
   ]
  },
  {
   "cell_type": "code",
   "execution_count": 5,
   "metadata": {},
   "outputs": [
    {
     "name": "stdout",
     "output_type": "stream",
     "text": [
      "label\n",
      "Anger       2500\n",
      "Fear        2500\n",
      "Joy         2500\n",
      "Love        2500\n",
      "Sadness     2500\n",
      "Surprise    2500\n",
      "Name: count, dtype: int64\n"
     ]
    },
    {
     "name": "stderr",
     "output_type": "stream",
     "text": [
      "C:\\Users\\arche\\AppData\\Local\\Temp\\ipykernel_6424\\616092931.py:1: DeprecationWarning: DataFrameGroupBy.apply operated on the grouping columns. This behavior is deprecated, and in a future version of pandas the grouping columns will be excluded from the operation. Either pass `include_groups=False` to exclude the groupings or explicitly select the grouping columns after groupby to silence this warning.\n",
      "  df = df_dataset.groupby('label').apply(lambda x: x.sample(n=sample_size, random_state=42)).reset_index(drop=True)\n"
     ]
    }
   ],
   "source": [
    "df = df_dataset.groupby('label').apply(lambda x: x.sample(n=sample_size, random_state=42)).reset_index(drop=True)\n",
    "\n",
    "# Verify the result\n",
    "print(df['label'].value_counts())"
   ]
  },
  {
   "cell_type": "markdown",
   "metadata": {},
   "source": [
    "Display first 5 rows of the dataset"
   ]
  },
  {
   "cell_type": "code",
   "execution_count": 6,
   "metadata": {},
   "outputs": [
    {
     "data": {
      "text/html": [
       "<div>\n",
       "<style scoped>\n",
       "    .dataframe tbody tr th:only-of-type {\n",
       "        vertical-align: middle;\n",
       "    }\n",
       "\n",
       "    .dataframe tbody tr th {\n",
       "        vertical-align: top;\n",
       "    }\n",
       "\n",
       "    .dataframe thead th {\n",
       "        text-align: right;\n",
       "    }\n",
       "</style>\n",
       "<table border=\"1\" class=\"dataframe\">\n",
       "  <thead>\n",
       "    <tr style=\"text-align: right;\">\n",
       "      <th></th>\n",
       "      <th>Index</th>\n",
       "      <th>text</th>\n",
       "      <th>label</th>\n",
       "    </tr>\n",
       "  </thead>\n",
       "  <tbody>\n",
       "    <tr>\n",
       "      <th>0</th>\n",
       "      <td>411553</td>\n",
       "      <td>i feel rebellious and i like it</td>\n",
       "      <td>Anger</td>\n",
       "    </tr>\n",
       "    <tr>\n",
       "      <th>1</th>\n",
       "      <td>18079</td>\n",
       "      <td>i feel completely agitated and full of blame</td>\n",
       "      <td>Anger</td>\n",
       "    </tr>\n",
       "    <tr>\n",
       "      <th>2</th>\n",
       "      <td>282107</td>\n",
       "      <td>i feel like a witch bc im aggravated and i wan...</td>\n",
       "      <td>Anger</td>\n",
       "    </tr>\n",
       "    <tr>\n",
       "      <th>3</th>\n",
       "      <td>49946</td>\n",
       "      <td>i feel really bitchy for doing this but im rea...</td>\n",
       "      <td>Anger</td>\n",
       "    </tr>\n",
       "    <tr>\n",
       "      <th>4</th>\n",
       "      <td>96367</td>\n",
       "      <td>i feel rude but i move past it immediately</td>\n",
       "      <td>Anger</td>\n",
       "    </tr>\n",
       "  </tbody>\n",
       "</table>\n",
       "</div>"
      ],
      "text/plain": [
       "    Index                                               text  label\n",
       "0  411553                    i feel rebellious and i like it  Anger\n",
       "1   18079       i feel completely agitated and full of blame  Anger\n",
       "2  282107  i feel like a witch bc im aggravated and i wan...  Anger\n",
       "3   49946  i feel really bitchy for doing this but im rea...  Anger\n",
       "4   96367         i feel rude but i move past it immediately  Anger"
      ]
     },
     "execution_count": 6,
     "metadata": {},
     "output_type": "execute_result"
    }
   ],
   "source": [
    "df.head()"
   ]
  },
  {
   "cell_type": "markdown",
   "metadata": {},
   "source": [
    "## Data Cleaning"
   ]
  },
  {
   "cell_type": "markdown",
   "metadata": {},
   "source": [
    "- This step is vital because it ensures that the dataset is free from noise, inconsistencies, and irrelevant information, making the data more accurate and reliable for analysis. For the code below, the preprocessing step helps remove unnecessary elements like stopwords, special characters, and numbers, allowing for more meaningful insights from the text data."
   ]
  },
  {
   "cell_type": "code",
   "execution_count": 7,
   "metadata": {},
   "outputs": [
    {
     "name": "stderr",
     "output_type": "stream",
     "text": [
      "[nltk_data] Downloading package stopwords to\n",
      "[nltk_data]     C:\\Users\\arche\\AppData\\Roaming\\nltk_data...\n",
      "[nltk_data]   Package stopwords is already up-to-date!\n",
      "[nltk_data] Downloading package wordnet to\n",
      "[nltk_data]     C:\\Users\\arche\\AppData\\Roaming\\nltk_data...\n",
      "[nltk_data]   Package wordnet is already up-to-date!\n"
     ]
    },
    {
     "data": {
      "text/html": [
       "<div>\n",
       "<style scoped>\n",
       "    .dataframe tbody tr th:only-of-type {\n",
       "        vertical-align: middle;\n",
       "    }\n",
       "\n",
       "    .dataframe tbody tr th {\n",
       "        vertical-align: top;\n",
       "    }\n",
       "\n",
       "    .dataframe thead th {\n",
       "        text-align: right;\n",
       "    }\n",
       "</style>\n",
       "<table border=\"1\" class=\"dataframe\">\n",
       "  <thead>\n",
       "    <tr style=\"text-align: right;\">\n",
       "      <th></th>\n",
       "      <th>Index</th>\n",
       "      <th>text</th>\n",
       "      <th>label</th>\n",
       "      <th>processed_text</th>\n",
       "    </tr>\n",
       "  </thead>\n",
       "  <tbody>\n",
       "    <tr>\n",
       "      <th>0</th>\n",
       "      <td>411553</td>\n",
       "      <td>i feel rebellious and i like it</td>\n",
       "      <td>Anger</td>\n",
       "      <td>[feel, rebellious, like]</td>\n",
       "    </tr>\n",
       "    <tr>\n",
       "      <th>1</th>\n",
       "      <td>18079</td>\n",
       "      <td>i feel completely agitated and full of blame</td>\n",
       "      <td>Anger</td>\n",
       "      <td>[feel, completely, agitated, full, blame]</td>\n",
       "    </tr>\n",
       "    <tr>\n",
       "      <th>2</th>\n",
       "      <td>282107</td>\n",
       "      <td>i feel like a witch bc im aggravated and i wan...</td>\n",
       "      <td>Anger</td>\n",
       "      <td>[feel, like, witch, bc, im, aggravated, want, ...</td>\n",
       "    </tr>\n",
       "    <tr>\n",
       "      <th>3</th>\n",
       "      <td>49946</td>\n",
       "      <td>i feel really bitchy for doing this but im rea...</td>\n",
       "      <td>Anger</td>\n",
       "      <td>[feel, really, bitchy, im, really, iffy, read,...</td>\n",
       "    </tr>\n",
       "    <tr>\n",
       "      <th>4</th>\n",
       "      <td>96367</td>\n",
       "      <td>i feel rude but i move past it immediately</td>\n",
       "      <td>Anger</td>\n",
       "      <td>[feel, rude, move, past, immediately]</td>\n",
       "    </tr>\n",
       "  </tbody>\n",
       "</table>\n",
       "</div>"
      ],
      "text/plain": [
       "    Index                                               text  label  \\\n",
       "0  411553                    i feel rebellious and i like it  Anger   \n",
       "1   18079       i feel completely agitated and full of blame  Anger   \n",
       "2  282107  i feel like a witch bc im aggravated and i wan...  Anger   \n",
       "3   49946  i feel really bitchy for doing this but im rea...  Anger   \n",
       "4   96367         i feel rude but i move past it immediately  Anger   \n",
       "\n",
       "                                      processed_text  \n",
       "0                           [feel, rebellious, like]  \n",
       "1          [feel, completely, agitated, full, blame]  \n",
       "2  [feel, like, witch, bc, im, aggravated, want, ...  \n",
       "3  [feel, really, bitchy, im, really, iffy, read,...  \n",
       "4              [feel, rude, move, past, immediately]  "
      ]
     },
     "execution_count": 7,
     "metadata": {},
     "output_type": "execute_result"
    }
   ],
   "source": [
    "# Download stopwords\n",
    "nltk.download('stopwords') \n",
    "nltk.download('wordnet') \n",
    "from nltk.stem import WordNetLemmatizer\n",
    "\n",
    "stop_words = set(stopwords.words('english')) \n",
    "lemmatizer = WordNetLemmatizer()\n",
    "\n",
    "# Extend stopwords \n",
    "# custom_stop_words = {\n",
    "#     \"i\", \n",
    "#     \"im\", \n",
    "#     \"ive\", \n",
    "#     \"dont\", \n",
    "#     \"and\", \n",
    "#     \"you\", \n",
    "#     \"he\", \n",
    "#     \"she\", \n",
    "#     \"we\", \n",
    "#     \"they\", \n",
    "#     \"it\", \n",
    "#     \"is\", \n",
    "#     \"are\", \n",
    "#     \"was\", \n",
    "#     \"were\", \n",
    "#     \"their\", \n",
    "#     \"there\"\n",
    "# }\n",
    "\n",
    "custom_stop_words = {\n",
    "    \"and\", \n",
    "    \"we\", \n",
    "    \"they\", \n",
    "    \"it\", \n",
    "    \"is\", \n",
    "    \"are\", \n",
    "    \"was\", \n",
    "    \"were\", \n",
    "    \"their\", \n",
    "    \"there\"\n",
    "}\n",
    "\n",
    "stop_words.update(custom_stop_words) \n",
    "\n",
    "# Preprocess text (lowercase, remove stopwords, tokenize) \n",
    "def preprocess_text(text): \n",
    "    # Convert lowercase \n",
    "    text = text.lower()\n",
    "    # Remove special characters and numbers \n",
    "    text = re.sub(r'\\W+', ' ', text) \n",
    "    # Tokenize \n",
    "    words = text.split() \n",
    "    # Remove stopwords \n",
    "    # words = [word for word in words if word not in stop_words] \n",
    "    words = [lemmatizer.lemmatize(word) for word in words if word not in stop_words]\n",
    "    return words \n",
    "    # return ' '.join(words)\n",
    "\n",
    "# Apply preprocessing to dataset \n",
    "df['processed_text'] = df['text'].apply(preprocess_text)\n",
    "df.head()"
   ]
  },
  {
   "cell_type": "markdown",
   "metadata": {},
   "source": [
    "# Exploratory Data Analysis"
   ]
  },
  {
   "cell_type": "markdown",
   "metadata": {},
   "source": [
    "- This step is vital for text sentiment analysis because it helps to understand the underlying structure, patterns, and key features of the data. By performing EDA, we can identify trends, clean the data, and better prepare it for building accurate sentiment models, ensuring insights are derived from meaningful and relevant information."
   ]
  },
  {
   "cell_type": "markdown",
   "metadata": {},
   "source": [
    "Visualizing the distribution of each sentiment label in the sample data."
   ]
  },
  {
   "cell_type": "code",
   "execution_count": 8,
   "metadata": {},
   "outputs": [
    {
     "data": {
      "image/png": "[encoded data removed]",
      "text/plain": [
       "<Figure size 1000x600 with 1 Axes>"
      ]
     },
     "metadata": {},
     "output_type": "display_data"
    }
   ],
   "source": [
    "ax = df['label'].value_counts().sort_index().plot(\n",
    "    kind = 'bar', \n",
    "    title = 'Count by Sentiment Label', \n",
    "    figsize = (10, 6)\n",
    ") \n",
    "ax.set_xlabel('Sentiment Label') \n",
    "plt.show()"
   ]
  },
  {
   "cell_type": "markdown",
   "metadata": {},
   "source": [
    "Display the specific counts of each sentiment label."
   ]
  },
  {
   "cell_type": "code",
   "execution_count": 9,
   "metadata": {},
   "outputs": [
    {
     "data": {
      "text/plain": [
       "label\n",
       "Anger       2500\n",
       "Fear        2500\n",
       "Joy         2500\n",
       "Love        2500\n",
       "Sadness     2500\n",
       "Surprise    2500\n",
       "Name: count, dtype: int64"
      ]
     },
     "execution_count": 9,
     "metadata": {},
     "output_type": "execute_result"
    }
   ],
   "source": [
    "count = df['label'].value_counts()\n",
    "count"
   ]
  },
  {
   "cell_type": "markdown",
   "metadata": {},
   "source": [
    "## Distribution of Emotions\n",
    "\n",
    "### 1) Are certain emotions more prevalent than others in the dataset?\n",
    "\n",
    "The emotions of Joy and Sadness are more prevalent with 346 and 304 instances respectively. These emotions are more dominant in contrast to Love with 76 instances, Anger with 135 instances, Fear with 109 instances, and Surprise with only 30 instances.\n",
    "<br><br>\n",
    "\n",
    "### 2) What is the frequency distribution of each emotion in the dataset?\n",
    "\n",
    "The following are the number of tweets per emotions:\n",
    "- **Sadness**: 304\n",
    "- **Joy**: 346\n",
    "- **Love**: 76\n",
    "- **Anger**: 135\n",
    "- **Fear**: 109\n",
    "- **Surprise**: 30"
   ]
  },
  {
   "cell_type": "markdown",
   "metadata": {},
   "source": [
    "### Data Normalization"
   ]
  },
  {
   "cell_type": "markdown",
   "metadata": {},
   "source": [
    "- Data normalization is important because it helps balance the uneven distribution of senitment labels in the dataset. By ensuring that each emotion label is represented more equally, normalization prevents models from becoming biased towards the more frequent emotions. This results to more accurate and efficient analysis, as the model will better understand and predict all emotions rather than focusing on the majority class."
   ]
  },
  {
   "cell_type": "code",
   "execution_count": 10,
   "metadata": {},
   "outputs": [
    {
     "name": "stdout",
     "output_type": "stream",
     "text": [
      "label\n",
      "Anger       2500\n",
      "Fear        2500\n",
      "Joy         2500\n",
      "Love        2500\n",
      "Sadness     2500\n",
      "Surprise    2500\n",
      "Name: count, dtype: int64\n"
     ]
    }
   ],
   "source": [
    "# Import resample method to tackle imbalance in dataset.\n",
    "from sklearn.utils import resample \n",
    "\n",
    "# Check current distribution of sentiment labels in the dataset.\n",
    "label_counts = df['label'].value_counts() \n",
    "print(label_counts)"
   ]
  },
  {
   "cell_type": "markdown",
   "metadata": {},
   "source": [
    "Plot normalized count of each sentiment label after upsampling"
   ]
  },
  {
   "cell_type": "code",
   "execution_count": 11,
   "metadata": {},
   "outputs": [
    {
     "data": {
      "image/png": "[encoded data removed]",
      "text/plain": [
       "<Figure size 1000x600 with 1 Axes>"
      ]
     },
     "metadata": {},
     "output_type": "display_data"
    }
   ],
   "source": [
    "new_label_counts = df['label'].value_counts() \n",
    "\n",
    "ax = new_label_counts.plot(\n",
    "    kind = 'bar', \n",
    "    title = 'Normalized Count of Sentiment Labels', \n",
    "    figsize = (10, 6)\n",
    ") \n",
    "\n",
    "ax.set_xlabel('Label') \n",
    "plt.show()"
   ]
  },
  {
   "cell_type": "code",
   "execution_count": 12,
   "metadata": {},
   "outputs": [
    {
     "data": {
      "text/html": [
       "<div>\n",
       "<style scoped>\n",
       "    .dataframe tbody tr th:only-of-type {\n",
       "        vertical-align: middle;\n",
       "    }\n",
       "\n",
       "    .dataframe tbody tr th {\n",
       "        vertical-align: top;\n",
       "    }\n",
       "\n",
       "    .dataframe thead th {\n",
       "        text-align: right;\n",
       "    }\n",
       "</style>\n",
       "<table border=\"1\" class=\"dataframe\">\n",
       "  <thead>\n",
       "    <tr style=\"text-align: right;\">\n",
       "      <th></th>\n",
       "      <th>Index</th>\n",
       "      <th>text</th>\n",
       "      <th>label</th>\n",
       "      <th>processed_text</th>\n",
       "    </tr>\n",
       "  </thead>\n",
       "  <tbody>\n",
       "    <tr>\n",
       "      <th>0</th>\n",
       "      <td>411553</td>\n",
       "      <td>i feel rebellious and i like it</td>\n",
       "      <td>Anger</td>\n",
       "      <td>[feel, rebellious, like]</td>\n",
       "    </tr>\n",
       "    <tr>\n",
       "      <th>1</th>\n",
       "      <td>18079</td>\n",
       "      <td>i feel completely agitated and full of blame</td>\n",
       "      <td>Anger</td>\n",
       "      <td>[feel, completely, agitated, full, blame]</td>\n",
       "    </tr>\n",
       "    <tr>\n",
       "      <th>2</th>\n",
       "      <td>282107</td>\n",
       "      <td>i feel like a witch bc im aggravated and i wan...</td>\n",
       "      <td>Anger</td>\n",
       "      <td>[feel, like, witch, bc, im, aggravated, want, ...</td>\n",
       "    </tr>\n",
       "    <tr>\n",
       "      <th>3</th>\n",
       "      <td>49946</td>\n",
       "      <td>i feel really bitchy for doing this but im rea...</td>\n",
       "      <td>Anger</td>\n",
       "      <td>[feel, really, bitchy, im, really, iffy, read,...</td>\n",
       "    </tr>\n",
       "    <tr>\n",
       "      <th>4</th>\n",
       "      <td>96367</td>\n",
       "      <td>i feel rude but i move past it immediately</td>\n",
       "      <td>Anger</td>\n",
       "      <td>[feel, rude, move, past, immediately]</td>\n",
       "    </tr>\n",
       "  </tbody>\n",
       "</table>\n",
       "</div>"
      ],
      "text/plain": [
       "    Index                                               text  label  \\\n",
       "0  411553                    i feel rebellious and i like it  Anger   \n",
       "1   18079       i feel completely agitated and full of blame  Anger   \n",
       "2  282107  i feel like a witch bc im aggravated and i wan...  Anger   \n",
       "3   49946  i feel really bitchy for doing this but im rea...  Anger   \n",
       "4   96367         i feel rude but i move past it immediately  Anger   \n",
       "\n",
       "                                      processed_text  \n",
       "0                           [feel, rebellious, like]  \n",
       "1          [feel, completely, agitated, full, blame]  \n",
       "2  [feel, like, witch, bc, im, aggravated, want, ...  \n",
       "3  [feel, really, bitchy, im, really, iffy, read,...  \n",
       "4              [feel, rude, move, past, immediately]  "
      ]
     },
     "execution_count": 12,
     "metadata": {},
     "output_type": "execute_result"
    }
   ],
   "source": [
    "df.head()"
   ]
  },
  {
   "cell_type": "markdown",
   "metadata": {},
   "source": [
    "Calculate and add two new columns: character count and word count."
   ]
  },
  {
   "cell_type": "code",
   "execution_count": 13,
   "metadata": {},
   "outputs": [
    {
     "data": {
      "text/html": [
       "<div>\n",
       "<style scoped>\n",
       "    .dataframe tbody tr th:only-of-type {\n",
       "        vertical-align: middle;\n",
       "    }\n",
       "\n",
       "    .dataframe tbody tr th {\n",
       "        vertical-align: top;\n",
       "    }\n",
       "\n",
       "    .dataframe thead th {\n",
       "        text-align: right;\n",
       "    }\n",
       "</style>\n",
       "<table border=\"1\" class=\"dataframe\">\n",
       "  <thead>\n",
       "    <tr style=\"text-align: right;\">\n",
       "      <th></th>\n",
       "      <th>processed_text</th>\n",
       "      <th>char_count</th>\n",
       "      <th>word_count</th>\n",
       "    </tr>\n",
       "  </thead>\n",
       "  <tbody>\n",
       "    <tr>\n",
       "      <th>0</th>\n",
       "      <td>[feel, rebellious, like]</td>\n",
       "      <td>18</td>\n",
       "      <td>3</td>\n",
       "    </tr>\n",
       "    <tr>\n",
       "      <th>1</th>\n",
       "      <td>[feel, completely, agitated, full, blame]</td>\n",
       "      <td>31</td>\n",
       "      <td>5</td>\n",
       "    </tr>\n",
       "    <tr>\n",
       "      <th>2</th>\n",
       "      <td>[feel, like, witch, bc, im, aggravated, want, ...</td>\n",
       "      <td>42</td>\n",
       "      <td>10</td>\n",
       "    </tr>\n",
       "    <tr>\n",
       "      <th>3</th>\n",
       "      <td>[feel, really, bitchy, im, really, iffy, read,...</td>\n",
       "      <td>93</td>\n",
       "      <td>20</td>\n",
       "    </tr>\n",
       "    <tr>\n",
       "      <th>4</th>\n",
       "      <td>[feel, rude, move, past, immediately]</td>\n",
       "      <td>27</td>\n",
       "      <td>5</td>\n",
       "    </tr>\n",
       "  </tbody>\n",
       "</table>\n",
       "</div>"
      ],
      "text/plain": [
       "                                      processed_text  char_count  word_count\n",
       "0                           [feel, rebellious, like]          18           3\n",
       "1          [feel, completely, agitated, full, blame]          31           5\n",
       "2  [feel, like, witch, bc, im, aggravated, want, ...          42          10\n",
       "3  [feel, really, bitchy, im, really, iffy, read,...          93          20\n",
       "4              [feel, rude, move, past, immediately]          27           5"
      ]
     },
     "execution_count": 13,
     "metadata": {},
     "output_type": "execute_result"
    }
   ],
   "source": [
    "# Add column 'char_count' that calculates total number of characters in each tweet.\n",
    "df['char_count'] = df['processed_text'].apply(lambda x: sum(len(word) for word in x))\n",
    "\n",
    "# Add column 'word_count' that calculates total number of word in each tweet.\n",
    "df['word_count'] = df['processed_text'].apply(len)\n",
    "\n",
    "# Display first few rows with processed text, character count, and word count columns.\n",
    "df[['processed_text', 'char_count', 'word_count']].head()"
   ]
  },
  {
   "cell_type": "markdown",
   "metadata": {},
   "source": [
    "Calculates average word count for each emotion label in the dataset."
   ]
  },
  {
   "cell_type": "code",
   "execution_count": 14,
   "metadata": {},
   "outputs": [
    {
     "data": {
      "text/plain": [
       "label\n",
       "Anger        9.3048\n",
       "Fear         9.0596\n",
       "Joy          9.5704\n",
       "Love        10.0032\n",
       "Sadness      9.0012\n",
       "Surprise     9.6808\n",
       "Name: word_count, dtype: float64"
      ]
     },
     "execution_count": 14,
     "metadata": {},
     "output_type": "execute_result"
    }
   ],
   "source": [
    "# Group DataFrame by 'label' and calculate mean word count for each label.\n",
    "avg_word_count_by_emotion = df.groupby('label')['word_count'].mean()\n",
    "avg_word_count_by_emotion"
   ]
  },
  {
   "cell_type": "markdown",
   "metadata": {},
   "source": [
    "## Emotion by Word Count\n",
    "\n",
    "### 3) What are the average word counts of the tweets of the different emotions?\n",
    "\n",
    "The following are the average word counts of tweets per emotions:\n",
    "- **Sadness**: 9.129944\n",
    "- **Joy**: 8.306250\n",
    "- **Love**: 9.664634\n",
    "- **Anger**: 9.615854\n",
    "- **Fear**: 9.259036\n",
    "- **Surprise**: 9.443787\n"
   ]
  },
  {
   "cell_type": "markdown",
   "metadata": {},
   "source": [
    "Categorize tweets into 'Short' or 'Long' based on the word count, and plots the distribution of emotions for each length."
   ]
  },
  {
   "cell_type": "code",
   "execution_count": 15,
   "metadata": {},
   "outputs": [
    {
     "data": {
      "text/html": [
       "<div>\n",
       "<style scoped>\n",
       "    .dataframe tbody tr th:only-of-type {\n",
       "        vertical-align: middle;\n",
       "    }\n",
       "\n",
       "    .dataframe tbody tr th {\n",
       "        vertical-align: top;\n",
       "    }\n",
       "\n",
       "    .dataframe thead th {\n",
       "        text-align: right;\n",
       "    }\n",
       "</style>\n",
       "<table border=\"1\" class=\"dataframe\">\n",
       "  <thead>\n",
       "    <tr style=\"text-align: right;\">\n",
       "      <th>label</th>\n",
       "      <th>Anger</th>\n",
       "      <th>Fear</th>\n",
       "      <th>Joy</th>\n",
       "      <th>Love</th>\n",
       "      <th>Sadness</th>\n",
       "      <th>Surprise</th>\n",
       "      <th>Total</th>\n",
       "    </tr>\n",
       "    <tr>\n",
       "      <th>message_length</th>\n",
       "      <th></th>\n",
       "      <th></th>\n",
       "      <th></th>\n",
       "      <th></th>\n",
       "      <th></th>\n",
       "      <th></th>\n",
       "      <th></th>\n",
       "    </tr>\n",
       "  </thead>\n",
       "  <tbody>\n",
       "    <tr>\n",
       "      <th>Long</th>\n",
       "      <td>848</td>\n",
       "      <td>785</td>\n",
       "      <td>894</td>\n",
       "      <td>990</td>\n",
       "      <td>797</td>\n",
       "      <td>908</td>\n",
       "      <td>5222</td>\n",
       "    </tr>\n",
       "    <tr>\n",
       "      <th>Short</th>\n",
       "      <td>1652</td>\n",
       "      <td>1715</td>\n",
       "      <td>1606</td>\n",
       "      <td>1510</td>\n",
       "      <td>1703</td>\n",
       "      <td>1592</td>\n",
       "      <td>9778</td>\n",
       "    </tr>\n",
       "    <tr>\n",
       "      <th>Total</th>\n",
       "      <td>2500</td>\n",
       "      <td>2500</td>\n",
       "      <td>2500</td>\n",
       "      <td>2500</td>\n",
       "      <td>2500</td>\n",
       "      <td>2500</td>\n",
       "      <td>15000</td>\n",
       "    </tr>\n",
       "  </tbody>\n",
       "</table>\n",
       "</div>"
      ],
      "text/plain": [
       "label           Anger  Fear   Joy  Love  Sadness  Surprise  Total\n",
       "message_length                                                   \n",
       "Long              848   785   894   990      797       908   5222\n",
       "Short            1652  1715  1606  1510     1703      1592   9778\n",
       "Total            2500  2500  2500  2500     2500      2500  15000"
      ]
     },
     "execution_count": 15,
     "metadata": {},
     "output_type": "execute_result"
    }
   ],
   "source": [
    "# Add column 'message_length' that classifies each tweet as 'Short' or 'Long' based on whether word count is 10 or less.\n",
    "df['message_length'] = df['word_count'].apply(lambda x: 'Short' if x <= 10 else 'Long') \n",
    "\n",
    "# Calculate distribution of emotions across tweet length categories (Short vs Long). \n",
    "# Group by message length and label, then calculate size of each group. \n",
    "# Unstack to create DataFrame with 'label' as columns.\n",
    "length_emotion_distribution = df.groupby(['message_length', 'label']).size().unstack(fill_value = 0)\n",
    "\n",
    "# Add 'Total' row and column to DataFrame to show total counts.\n",
    "length_emotion_distribution.loc['Total'] = length_emotion_distribution.sum() \n",
    "length_emotion_distribution['Total'] = length_emotion_distribution.sum(axis = 1) \n",
    "\n",
    "# Display emotion distribution by tweet length.\n",
    "length_emotion_distribution "
   ]
  },
  {
   "cell_type": "markdown",
   "metadata": {},
   "source": [
    "Plot distribution of emotions across tweet length categories."
   ]
  },
  {
   "cell_type": "code",
   "execution_count": 16,
   "metadata": {},
   "outputs": [
    {
     "data": {
      "image/png": "[encoded data removed]",
      "text/plain": [
       "<Figure size 1000x600 with 1 Axes>"
      ]
     },
     "metadata": {},
     "output_type": "display_data"
    }
   ],
   "source": [
    "length_emotion_distribution.drop('Total').plot(\n",
    "    kind = 'bar', \n",
    "    stacked = True, \n",
    "    figsize = (10, 6)\n",
    ")\n",
    "plt.title('Distribution of Emotions by Tweet Length')\n",
    "plt.xlabel('Tweet Length Category')\n",
    "plt.ylabel('Number of Tweets')\n",
    "plt.show()"
   ]
  },
  {
   "cell_type": "markdown",
   "metadata": {},
   "source": [
    "## Word Frequency\n",
    "\n",
    "### 4) Are shorter or longer messages more likely to express certain emotions?\n",
    "\n",
    "The table below shows the counts of emotions expressed in short and long messages:\n",
    "\n",
    "| Length Category | Anger | Fear   | Joy | Love | Sadness | Surprise | **Total** |\n",
    "|-----------------|---------|-------|------|-------|------|----------|-----------|\n",
    "| **Long**        | 848    |  785 | 894 | 990  | 797 | 908      | **5222** |\n",
    "| **Short**       | 1652    | 1715 | 1606 | 1510  | 1703 | 1592     | **9788** |\n",
    "| **Total**       | **2500** | **2500** | **2500** | **2500** | **2500** | **2500** | **15000** |\n"
   ]
  },
  {
   "cell_type": "markdown",
   "metadata": {},
   "source": [
    "Count common words for each emotion"
   ]
  },
  {
   "cell_type": "code",
   "execution_count": 17,
   "metadata": {},
   "outputs": [
    {
     "name": "stdout",
     "output_type": "stream",
     "text": [
      "Most common words for 'Anger':\n",
      "[('feel', 1679), ('feeling', 882), ('like', 435), ('im', 432), ('really', 183), ('get', 153), ('know', 145), ('people', 144), ('time', 142), ('little', 128)]\n",
      "\n",
      "Most common words for 'Fear':\n",
      "[('feel', 1709), ('feeling', 940), ('im', 399), ('like', 316), ('little', 189), ('still', 152), ('know', 151), ('time', 149), ('really', 144), ('bit', 130)]\n",
      "\n",
      "Most common words for 'Joy':\n",
      "[('feel', 1880), ('feeling', 754), ('like', 449), ('im', 321), ('really', 156), ('time', 138), ('make', 131), ('get', 123), ('know', 119), ('love', 113)]\n",
      "\n",
      "Most common words for 'Love':\n",
      "[('feel', 1856), ('feeling', 807), ('like', 543), ('im', 327), ('love', 193), ('know', 162), ('really', 157), ('people', 145), ('time', 141), ('want', 140)]\n",
      "\n",
      "Most common words for 'Sadness':\n",
      "[('feel', 1788), ('feeling', 877), ('like', 454), ('im', 367), ('really', 156), ('know', 156), ('time', 156), ('little', 128), ('get', 123), ('would', 112)]\n",
      "\n",
      "Most common words for 'Surprise':\n",
      "[('feel', 1715), ('feeling', 967), ('like', 402), ('im', 343), ('overwhelmed', 257), ('surprised', 252), ('weird', 251), ('impressed', 250), ('amazing', 231), ('shocked', 225)]\n",
      "\n"
     ]
    }
   ],
   "source": [
    "common_words = {}\n",
    "for label in df['label'].unique():\n",
    "    # Get all processed words for the emotion\n",
    "    words = df[df['label'] == label]['processed_text'].sum()  # Flatten the list of lists\n",
    "    common_words[label] = Counter(words).most_common(10)  # Get the 10 most common words\n",
    "\n",
    "# Display the most common words for each emotion\n",
    "for emotion, words in common_words.items():\n",
    "    print(f\"Most common words for '{emotion}':\")\n",
    "    print(words)\n",
    "    print()"
   ]
  },
  {
   "cell_type": "markdown",
   "metadata": {},
   "source": [
    "### 5) What are the most common words used in tweets for each emotion?\n",
    "\n",
    "The following are the most common words used in Twitter messages for each emotion:\n",
    "\n",
    "- **Fear:**\n",
    "  - ('feel', 1709), ('feeling', 940), ('im', 399), ('like', 316), ('little', 189), ('still', 152), ('know', 151), ('time', 149), ('really', 144), ('bit', 130)\n",
    "  \n",
    "- **Sadness:**\n",
    "  - ('feel', 1788), ('feeling', 877), ('like', 454), ('im', 367), ('really', 156), ('know', 156), ('time', 156), ('little', 128), ('get', 123), ('would', 112)\n",
    "  \n",
    "- **Love:**\n",
    "  - ('feel', 1856), ('feeling', 807), ('like', 543), ('im', 327), ('love', 193), ('know', 162), ('really', 157), ('people', 145), ('time', 141), ('want', 140)\n",
    "  \n",
    "- **Joy:**\n",
    "  - ('feel', 1880), ('feeling', 754), ('like', 449), ('im', 321), ('really', 156), ('time', 138), ('make', 131), ('get', 123), ('know', 119), ('love', 113)\n",
    "  \n",
    "- **Surprise:**\n",
    "  - ('feel', 1715), ('feeling', 967), ('like', 402), ('im', 343), ('overwhelmed', 257), ('surprised', 252), ('weird', 251), ('impressed', 250), ('amazing', 231), ('shocked', 225)\n",
    "  \n",
    "- **Anger:**\n",
    "  - ('feel', 1679), ('feeling', 882), ('like', 435), ('im', 432), ('really', 183), ('get', 153), ('know', 145), ('people', 144), ('time', 142), ('little', 128)\n",
    "\n",
    "Words such as \"feel\", \"feeling\", and \"like\" are prominent across all emotions."
   ]
  },
  {
   "cell_type": "markdown",
   "metadata": {},
   "source": [
    "Graph distribution of text character counts."
   ]
  },
  {
   "cell_type": "code",
   "execution_count": 18,
   "metadata": {},
   "outputs": [
    {
     "data": {
      "image/png": "[encoded data removed]",
      "text/plain": [
       "<Figure size 1000x600 with 1 Axes>"
      ]
     },
     "metadata": {},
     "output_type": "display_data"
    }
   ],
   "source": [
    "plt.figure(figsize = (10, 6)) \n",
    "sns.histplot( df['char_count'], bins = 30, kde = True ) \n",
    "plt.title('Distribution of Text Character Counts') \n",
    "plt.xlabel('Character Count') \n",
    "plt.ylabel('Frequency') \n",
    "plt.show()"
   ]
  },
  {
   "cell_type": "markdown",
   "metadata": {},
   "source": [
    "- The graph represents the distribution of character counts in the text data. X-axis shows the number of characters per text, while the y-axis shows the frequency or number of texts that have a paticular character count. \n",
    "\n",
    "- The red line represents the Kernel Density Estimation (KDE), which shows the estimated probability density of the character count distribution. From the graph, most of the texts in the dataset have around 25 to 50 characters, with a peak of around 35 characters. As the character count increseases beyond 50, the frequency of texts with higher character counts gradually decreases."
   ]
  },
  {
   "cell_type": "markdown",
   "metadata": {},
   "source": [
    "Graph distribution of text word counts."
   ]
  },
  {
   "cell_type": "code",
   "execution_count": 19,
   "metadata": {},
   "outputs": [
    {
     "data": {
      "image/png": "[encoded data removed]",
      "text/plain": [
       "<Figure size 1000x600 with 1 Axes>"
      ]
     },
     "metadata": {},
     "output_type": "display_data"
    }
   ],
   "source": [
    "plt.figure(figsize = (10, 6)) \n",
    "sns.histplot( df['word_count'], bins = 30, kde = True ) \n",
    "plt.title('Distribution of Text Word Counts') \n",
    "plt.xlabel('Word Count') \n",
    "plt.ylabel('Frequency') \n",
    "plt.show()"
   ]
  },
  {
   "cell_type": "markdown",
   "metadata": {},
   "source": [
    "- The graph represents the distribution of word counts in the text data. X-axis shows the number of words per text, while the y-axis shows the frequency or number of texts that have a paticular word count. \n",
    "\n",
    "- The red line represents the Kernel Density Estimation (KDE), which shows the estimated probability density of the word count distribution. From the graph, it can be observed that most text contains around 5 to 10 words, with a peak at about 6 words. As word counts increases beyond 10, the frequency of texts with higher word counts decreases steadily. This suggests that most texts in the dataset are relatively short, with very few texts containing more than 20 words."
   ]
  },
  {
   "cell_type": "code",
   "execution_count": 20,
   "metadata": {},
   "outputs": [
    {
     "data": {
      "image/png": "[encoded data removed]",
      "text/plain": [
       "<Figure size 1000x600 with 1 Axes>"
      ]
     },
     "metadata": {},
     "output_type": "display_data"
    }
   ],
   "source": [
    "plt.figure(figsize = (10, 6)) \n",
    "sns.boxplot(x = 'label', y = 'char_count', data = df) \n",
    "plt.title('Character Distribution by Sentiment Label') \n",
    "plt.xlabel('Sentiment Label') \n",
    "plt.ylabel('Character Count') \n",
    "plt.xticks(rotation = 45) \n",
    "plt.show()"
   ]
  },
  {
   "cell_type": "markdown",
   "metadata": {},
   "source": [
    "- The box plot visualizes the character distribution of texts across different sentiment labels: Fear, Joy, Love, Surprise, Anger, and Sadness. The y-axis represents number of characters in each text, while the x-axis shows the different sentiment labels.\n",
    "\n",
    "- **Box and Whiskers:**\n",
    "    - The box represents the interquartile range (IQR), which contains the middle 50% of the data. The bottom of the box shows the first quartile (25th percentile), the top shows the third quartile (75th percentile), and the line in the middle of the box is the median (50th percentile). \n",
    "\n",
    "    - The whiskers extending from the box represents the range of the data within 1.5 times the IQR from the first and third quartiles.\n",
    "\n",
    "- **Circles (Outliers):** \n",
    "    - The circles above the whiskers represent the outliers--data points that fall outside 1.5 times the IQR. These are texts with unusually high character coutns compared to the majority of texts within the specific sentiment label. For example, Fear and Anger labels show some texts that have significantly higher character counts than others, which results in them being marked as outliers."
   ]
  },
  {
   "cell_type": "code",
   "execution_count": 21,
   "metadata": {},
   "outputs": [
    {
     "data": {
      "image/png": "[encoded data removed]",
      "text/plain": [
       "<Figure size 1000x600 with 1 Axes>"
      ]
     },
     "metadata": {},
     "output_type": "display_data"
    }
   ],
   "source": [
    "plt.figure(figsize = (10, 6)) \n",
    "sns.boxplot(x = 'label', y = 'word_count', data = df) \n",
    "plt.title('Word Count Distribution by Sentiment Label') \n",
    "plt.xlabel('Sentiment Label') \n",
    "plt.ylabel('Word Count') \n",
    "plt.xticks(rotation = 45) \n",
    "plt.show()"
   ]
  },
  {
   "cell_type": "markdown",
   "metadata": {},
   "source": [
    "- The box plot visualizes the word count distribution of texts across different sentiment labels: Fear, Joy, Love, Surprise, Anger, and Sadness. The y-axis represents word count in each text, while the x-axis shows the different sentiment labels.\n",
    "\n",
    "- **Box and Whiskers:**\n",
    "    - The box represents the interquartile range (IQR), which contains the middle 50% of the data. The bottom of the box shows the first quartile (25th percentile), the top shows the third quartile (75th percentile), and the line in the middle of the box is the median (50th percentile). \n",
    "\n",
    "    - The whiskers extending from the box represents the range of the data within 1.5 times the IQR from the first and third quartiles.\n",
    "\n",
    "- **Circles (Outliers):** \n",
    "    - The circles above the whiskers represent the outliers--data points that fall outside 1.5 times the IQR. These are texts with unusually high character coutns compared to the majority of texts within the specific sentiment label. For example, Fear and Anger labels show some texts that have significantly higher character counts than others, which results in them being marked as outliers."
   ]
  },
  {
   "cell_type": "code",
   "execution_count": 22,
   "metadata": {},
   "outputs": [
    {
     "data": {
      "text/html": [
       "<div>\n",
       "<style scoped>\n",
       "    .dataframe tbody tr th:only-of-type {\n",
       "        vertical-align: middle;\n",
       "    }\n",
       "\n",
       "    .dataframe tbody tr th {\n",
       "        vertical-align: top;\n",
       "    }\n",
       "\n",
       "    .dataframe thead th {\n",
       "        text-align: right;\n",
       "    }\n",
       "</style>\n",
       "<table border=\"1\" class=\"dataframe\">\n",
       "  <thead>\n",
       "    <tr style=\"text-align: right;\">\n",
       "      <th></th>\n",
       "      <th>Index</th>\n",
       "      <th>text</th>\n",
       "      <th>label</th>\n",
       "      <th>processed_text</th>\n",
       "      <th>char_count</th>\n",
       "      <th>word_count</th>\n",
       "      <th>message_length</th>\n",
       "    </tr>\n",
       "  </thead>\n",
       "  <tbody>\n",
       "    <tr>\n",
       "      <th>0</th>\n",
       "      <td>411553</td>\n",
       "      <td>i feel rebellious and i like it</td>\n",
       "      <td>Anger</td>\n",
       "      <td>[feel, rebellious, like]</td>\n",
       "      <td>18</td>\n",
       "      <td>3</td>\n",
       "      <td>Short</td>\n",
       "    </tr>\n",
       "    <tr>\n",
       "      <th>1</th>\n",
       "      <td>18079</td>\n",
       "      <td>i feel completely agitated and full of blame</td>\n",
       "      <td>Anger</td>\n",
       "      <td>[feel, completely, agitated, full, blame]</td>\n",
       "      <td>31</td>\n",
       "      <td>5</td>\n",
       "      <td>Short</td>\n",
       "    </tr>\n",
       "    <tr>\n",
       "      <th>2</th>\n",
       "      <td>282107</td>\n",
       "      <td>i feel like a witch bc im aggravated and i wan...</td>\n",
       "      <td>Anger</td>\n",
       "      <td>[feel, like, witch, bc, im, aggravated, want, ...</td>\n",
       "      <td>42</td>\n",
       "      <td>10</td>\n",
       "      <td>Short</td>\n",
       "    </tr>\n",
       "    <tr>\n",
       "      <th>3</th>\n",
       "      <td>49946</td>\n",
       "      <td>i feel really bitchy for doing this but im rea...</td>\n",
       "      <td>Anger</td>\n",
       "      <td>[feel, really, bitchy, im, really, iffy, read,...</td>\n",
       "      <td>93</td>\n",
       "      <td>20</td>\n",
       "      <td>Long</td>\n",
       "    </tr>\n",
       "    <tr>\n",
       "      <th>4</th>\n",
       "      <td>96367</td>\n",
       "      <td>i feel rude but i move past it immediately</td>\n",
       "      <td>Anger</td>\n",
       "      <td>[feel, rude, move, past, immediately]</td>\n",
       "      <td>27</td>\n",
       "      <td>5</td>\n",
       "      <td>Short</td>\n",
       "    </tr>\n",
       "    <tr>\n",
       "      <th>...</th>\n",
       "      <td>...</td>\n",
       "      <td>...</td>\n",
       "      <td>...</td>\n",
       "      <td>...</td>\n",
       "      <td>...</td>\n",
       "      <td>...</td>\n",
       "      <td>...</td>\n",
       "    </tr>\n",
       "    <tr>\n",
       "      <th>14995</th>\n",
       "      <td>347819</td>\n",
       "      <td>i feel so weird about food</td>\n",
       "      <td>Surprise</td>\n",
       "      <td>[feel, weird, food]</td>\n",
       "      <td>13</td>\n",
       "      <td>3</td>\n",
       "      <td>Short</td>\n",
       "    </tr>\n",
       "    <tr>\n",
       "      <th>14996</th>\n",
       "      <td>231003</td>\n",
       "      <td>i gotta say it feels weird to have a fishing r...</td>\n",
       "      <td>Surprise</td>\n",
       "      <td>[gotta, say, feel, weird, fishing, report, wit...</td>\n",
       "      <td>44</td>\n",
       "      <td>9</td>\n",
       "      <td>Short</td>\n",
       "    </tr>\n",
       "    <tr>\n",
       "      <th>14997</th>\n",
       "      <td>43515</td>\n",
       "      <td>i proudly feel amazed by my little sisters hid...</td>\n",
       "      <td>Surprise</td>\n",
       "      <td>[proudly, feel, amazed, little, sister, hidden...</td>\n",
       "      <td>41</td>\n",
       "      <td>7</td>\n",
       "      <td>Short</td>\n",
       "    </tr>\n",
       "    <tr>\n",
       "      <th>14998</th>\n",
       "      <td>139251</td>\n",
       "      <td>i usually don t care about this drivel but the...</td>\n",
       "      <td>Surprise</td>\n",
       "      <td>[usually, care, drivel, thing, feel, need, tal...</td>\n",
       "      <td>84</td>\n",
       "      <td>17</td>\n",
       "      <td>Long</td>\n",
       "    </tr>\n",
       "    <tr>\n",
       "      <th>14999</th>\n",
       "      <td>393625</td>\n",
       "      <td>i understand they dump some extra citrate into...</td>\n",
       "      <td>Surprise</td>\n",
       "      <td>[understand, dump, extra, citrate, pump, back,...</td>\n",
       "      <td>109</td>\n",
       "      <td>17</td>\n",
       "      <td>Long</td>\n",
       "    </tr>\n",
       "  </tbody>\n",
       "</table>\n",
       "<p>15000 rows × 7 columns</p>\n",
       "</div>"
      ],
      "text/plain": [
       "        Index                                               text     label  \\\n",
       "0      411553                    i feel rebellious and i like it     Anger   \n",
       "1       18079       i feel completely agitated and full of blame     Anger   \n",
       "2      282107  i feel like a witch bc im aggravated and i wan...     Anger   \n",
       "3       49946  i feel really bitchy for doing this but im rea...     Anger   \n",
       "4       96367         i feel rude but i move past it immediately     Anger   \n",
       "...       ...                                                ...       ...   \n",
       "14995  347819                         i feel so weird about food  Surprise   \n",
       "14996  231003  i gotta say it feels weird to have a fishing r...  Surprise   \n",
       "14997   43515  i proudly feel amazed by my little sisters hid...  Surprise   \n",
       "14998  139251  i usually don t care about this drivel but the...  Surprise   \n",
       "14999  393625  i understand they dump some extra citrate into...  Surprise   \n",
       "\n",
       "                                          processed_text  char_count  \\\n",
       "0                               [feel, rebellious, like]          18   \n",
       "1              [feel, completely, agitated, full, blame]          31   \n",
       "2      [feel, like, witch, bc, im, aggravated, want, ...          42   \n",
       "3      [feel, really, bitchy, im, really, iffy, read,...          93   \n",
       "4                  [feel, rude, move, past, immediately]          27   \n",
       "...                                                  ...         ...   \n",
       "14995                                [feel, weird, food]          13   \n",
       "14996  [gotta, say, feel, weird, fishing, report, wit...          44   \n",
       "14997  [proudly, feel, amazed, little, sister, hidden...          41   \n",
       "14998  [usually, care, drivel, thing, feel, need, tal...          84   \n",
       "14999  [understand, dump, extra, citrate, pump, back,...         109   \n",
       "\n",
       "       word_count message_length  \n",
       "0               3          Short  \n",
       "1               5          Short  \n",
       "2              10          Short  \n",
       "3              20           Long  \n",
       "4               5          Short  \n",
       "...           ...            ...  \n",
       "14995           3          Short  \n",
       "14996           9          Short  \n",
       "14997           7          Short  \n",
       "14998          17           Long  \n",
       "14999          17           Long  \n",
       "\n",
       "[15000 rows x 7 columns]"
      ]
     },
     "execution_count": 22,
     "metadata": {},
     "output_type": "execute_result"
    }
   ],
   "source": [
    "df"
   ]
  },
  {
   "cell_type": "markdown",
   "metadata": {},
   "source": [
    "# **NLTK**"
   ]
  },
  {
   "cell_type": "markdown",
   "metadata": {},
   "source": [
    "- NLTK (Natural Language Tookit) is an essential tool for sentiment analysis systems for text data because it provides tools to process text by tokenizing, removing stop words, and steeming, which helps normalize language for analysis. Its extensive lexicon resources, like VADER, are tailored to detect sentiment in social media language, including handling nuances like sarcasm and emphasis. NLTK also allows for part-of-speech (POS) tagging, which helps capture word context, aiding in deeper understanding of sentiment in short, informal tweet structures. "
   ]
  },
  {
   "cell_type": "markdown",
   "metadata": {},
   "source": [
    "Converts the processed list of words back into a single string format for easier visualization and tokenization."
   ]
  },
  {
   "cell_type": "code",
   "execution_count": 23,
   "metadata": {},
   "outputs": [
    {
     "name": "stdout",
     "output_type": "stream",
     "text": [
      "heated argument lover whose intention marry near future rejected started cry stopped cry moment said\n"
     ]
    }
   ],
   "source": [
    "example = ' '.join(df['processed_text'].iloc[5] )\n",
    "print(example)"
   ]
  },
  {
   "cell_type": "markdown",
   "metadata": {},
   "source": [
    "Tokenize sentence into individual words for further processing."
   ]
  },
  {
   "cell_type": "code",
   "execution_count": 24,
   "metadata": {},
   "outputs": [
    {
     "data": {
      "text/plain": [
       "['heated',\n",
       " 'argument',\n",
       " 'lover',\n",
       " 'whose',\n",
       " 'intention',\n",
       " 'marry',\n",
       " 'near',\n",
       " 'future',\n",
       " 'rejected',\n",
       " 'started']"
      ]
     },
     "execution_count": 24,
     "metadata": {},
     "output_type": "execute_result"
    }
   ],
   "source": [
    "tokens = nltk.word_tokenize(example) \n",
    "tokens[:10]"
   ]
  },
  {
   "cell_type": "markdown",
   "metadata": {},
   "source": [
    "Tag each token with corresponding part of speech (POS)."
   ]
  },
  {
   "cell_type": "code",
   "execution_count": 25,
   "metadata": {},
   "outputs": [
    {
     "data": {
      "text/plain": [
       "[('heated', 'VBN'),\n",
       " ('argument', 'NN'),\n",
       " ('lover', 'NN'),\n",
       " ('whose', 'WP$'),\n",
       " ('intention', 'NN'),\n",
       " ('marry', 'NN'),\n",
       " ('near', 'IN'),\n",
       " ('future', 'JJ'),\n",
       " ('rejected', 'VBN'),\n",
       " ('started', 'VBD')]"
      ]
     },
     "execution_count": 25,
     "metadata": {},
     "output_type": "execute_result"
    }
   ],
   "source": [
    "tagged = nltk.pos_tag(tokens) \n",
    "tagged[:10]"
   ]
  },
  {
   "cell_type": "markdown",
   "metadata": {},
   "source": [
    "Identifies and displays named entities (e.g., proper nouns, etc.) in the sentence."
   ]
  },
  {
   "cell_type": "code",
   "execution_count": 26,
   "metadata": {},
   "outputs": [
    {
     "name": "stdout",
     "output_type": "stream",
     "text": [
      "(S\n",
      "  heated/VBN\n",
      "  argument/NN\n",
      "  lover/NN\n",
      "  whose/WP$\n",
      "  intention/NN\n",
      "  marry/NN\n",
      "  near/IN\n",
      "  future/JJ\n",
      "  rejected/VBN\n",
      "  started/VBD\n",
      "  cry/NN\n",
      "  stopped/VBD\n",
      "  cry/JJ\n",
      "  moment/NN\n",
      "  said/VBD)\n"
     ]
    }
   ],
   "source": [
    "entities = nltk.ne_chunk(tagged) \n",
    "entities.pprint()"
   ]
  },
  {
   "cell_type": "markdown",
   "metadata": {},
   "source": [
    "Define function that returns tokens and their POS tags for a list of words."
   ]
  },
  {
   "cell_type": "code",
   "execution_count": 27,
   "metadata": {},
   "outputs": [
    {
     "name": "stdout",
     "output_type": "stream",
     "text": [
      "                                              tokens  \\\n",
      "0                           [feel, rebellious, like]   \n",
      "1          [feel, completely, agitated, full, blame]   \n",
      "2  [feel, like, witch, bc, im, aggravated, want, ...   \n",
      "3  [feel, really, bitchy, im, really, iffy, read,...   \n",
      "4              [feel, rude, move, past, immediately]   \n",
      "\n",
      "                                            pos_tags  \n",
      "0         [(feel, RB), (rebellious, JJ), (like, IN)]  \n",
      "1  [(feel, VB), (completely, RB), (agitated, VBN)...  \n",
      "2  [(feel, NN), (like, IN), (witch, NN), (bc, NN)...  \n",
      "3  [(feel, NN), (really, RB), (bitchy, JJ), (im, ...  \n",
      "4  [(feel, NN), (rude, JJ), (move, NN), (past, IN...  \n"
     ]
    }
   ],
   "source": [
    "def process_tokens(tokens): \n",
    "    pos_tags = pos_tag(tokens) \n",
    "    return tokens, pos_tags\n",
    "\n",
    "# Apply process_tokens function to each row in DataFrame, generating tokens and POS tags for each\n",
    "df['tokens'], df['pos_tags'] = zip( *df['processed_text'].apply(process_tokens) ) \n",
    "print(df[['tokens', 'pos_tags']].head())"
   ]
  },
  {
   "cell_type": "markdown",
   "metadata": {},
   "source": [
    "# **VADER Sentiment Scoring**"
   ]
  },
  {
   "cell_type": "markdown",
   "metadata": {},
   "source": [
    "- VADER (Valence Aware Dictionary and Sentiment Reasoner) model is a rule-based tool for sentiment analysis that's turned especially for social media contexts. It focuses on assessing the sentiment in text based on a lexicon and can capture emotions from not just words but also intensifiers, punctuations, and even emojis."
   ]
  },
  {
   "cell_type": "markdown",
   "metadata": {},
   "source": [
    "Import Sentiment Analyzer and Progress Bar Utility tools"
   ]
  },
  {
   "cell_type": "code",
   "execution_count": 28,
   "metadata": {},
   "outputs": [],
   "source": [
    "from nltk.sentiment import SentimentIntensityAnalyzer   # Import VADER sentiment analysis tool from NLTK library\n",
    "from tqdm.notebook import tqdm                          # Import tqdm's notebook-based progress bar utility to visualize iteration process\n",
    "\n",
    "# Initialize Sentiment Analyzer\n",
    "sia = SentimentIntensityAnalyzer()     # Create an instance of SentimentIntensityAnalyzer, which provides polarity score of a certain text"
   ]
  },
  {
   "cell_type": "markdown",
   "metadata": {},
   "source": [
    "Example 1"
   ]
  },
  {
   "cell_type": "code",
   "execution_count": 29,
   "metadata": {},
   "outputs": [
    {
     "data": {
      "text/plain": [
       "{'neg': 0.649, 'neu': 0.351, 'pos': 0.0, 'compound': -0.5719}"
      ]
     },
     "execution_count": 29,
     "metadata": {},
     "output_type": "execute_result"
    }
   ],
   "source": [
    "sia.polarity_scores('I hate my life')"
   ]
  },
  {
   "cell_type": "markdown",
   "metadata": {},
   "source": [
    "Example 2"
   ]
  },
  {
   "cell_type": "code",
   "execution_count": 30,
   "metadata": {},
   "outputs": [
    {
     "data": {
      "text/plain": [
       "{'neg': 0.0, 'neu': 0.192, 'pos': 0.808, 'compound': 0.6369}"
      ]
     },
     "execution_count": 30,
     "metadata": {},
     "output_type": "execute_result"
    }
   ],
   "source": [
    "sia.polarity_scores('I love you')"
   ]
  },
  {
   "cell_type": "markdown",
   "metadata": {},
   "source": [
    "Get polarity score of example text."
   ]
  },
  {
   "cell_type": "code",
   "execution_count": 31,
   "metadata": {},
   "outputs": [
    {
     "data": {
      "text/plain": [
       "{'neg': 0.521, 'neu': 0.337, 'pos': 0.142, 'compound': -0.8442}"
      ]
     },
     "execution_count": 31,
     "metadata": {},
     "output_type": "execute_result"
    }
   ],
   "source": [
    "sia.polarity_scores(example)"
   ]
  },
  {
   "cell_type": "markdown",
   "metadata": {},
   "source": [
    "Iterate through each row in the DataFrame 'df'."
   ]
  },
  {
   "cell_type": "code",
   "execution_count": 32,
   "metadata": {},
   "outputs": [
    {
     "data": {
      "application/vnd.jupyter.widget-view+json": {
       "model_id": "0a3ae2ce63924ba1a5293342830744e2",
       "version_major": 2,
       "version_minor": 0
      },
      "text/plain": [
       "  0%|          | 0/15000 [00:00<?, ?it/s]"
      ]
     },
     "metadata": {},
     "output_type": "display_data"
    }
   ],
   "source": [
    "# Empty dictionary to store VADER sentiment scores\n",
    "res = {}\n",
    "\n",
    "# Iterate through each row in the DataFrame with a progress bar\n",
    "for i, row in tqdm( df.iterrows(), total = len(df) ): \n",
    "    text = row['text']  # Extract text from each row\n",
    "    id = row['Index']   # Get row's index as 'id'\n",
    "    res[id] = sia.polarity_scores(text) # Use VADER to analyze the sentiment and store each resulting sentiment in 'res'"
   ]
  },
  {
   "cell_type": "markdown",
   "metadata": {},
   "source": [
    "Convert dictionary of results into a DataFrame, transpose it, and reset index."
   ]
  },
  {
   "cell_type": "code",
   "execution_count": 33,
   "metadata": {},
   "outputs": [],
   "source": [
    "vaders = pd.DataFrame(res).T\n",
    "vaders = vaders.reset_index().rename(columns = {\n",
    "    'index': 'id',      # Rename 'index' to 'id' to match with original DataFrame\n",
    "    'neg': 'vader_neg', # Rename columns to specify VADER sentiment scores\n",
    "    'neu': 'vader_neu', \n",
    "    'pos': 'vader_pos'\n",
    "}) \n",
    "\n",
    "# Merge 'vaders' DataFrame with original 'df' on the 'id' column\n",
    "vaders = vaders.merge(df, how='left', left_on='id', right_on='Index')"
   ]
  },
  {
   "cell_type": "markdown",
   "metadata": {},
   "source": [
    "Display final DataFrame."
   ]
  },
  {
   "cell_type": "code",
   "execution_count": 34,
   "metadata": {},
   "outputs": [
    {
     "data": {
      "text/html": [
       "<div>\n",
       "<style scoped>\n",
       "    .dataframe tbody tr th:only-of-type {\n",
       "        vertical-align: middle;\n",
       "    }\n",
       "\n",
       "    .dataframe tbody tr th {\n",
       "        vertical-align: top;\n",
       "    }\n",
       "\n",
       "    .dataframe thead th {\n",
       "        text-align: right;\n",
       "    }\n",
       "</style>\n",
       "<table border=\"1\" class=\"dataframe\">\n",
       "  <thead>\n",
       "    <tr style=\"text-align: right;\">\n",
       "      <th></th>\n",
       "      <th>id</th>\n",
       "      <th>vader_neg</th>\n",
       "      <th>vader_neu</th>\n",
       "      <th>vader_pos</th>\n",
       "      <th>compound</th>\n",
       "      <th>Index</th>\n",
       "      <th>text</th>\n",
       "      <th>label</th>\n",
       "      <th>processed_text</th>\n",
       "      <th>char_count</th>\n",
       "      <th>word_count</th>\n",
       "      <th>message_length</th>\n",
       "      <th>tokens</th>\n",
       "      <th>pos_tags</th>\n",
       "    </tr>\n",
       "  </thead>\n",
       "  <tbody>\n",
       "    <tr>\n",
       "      <th>0</th>\n",
       "      <td>411553</td>\n",
       "      <td>0.286</td>\n",
       "      <td>0.390</td>\n",
       "      <td>0.325</td>\n",
       "      <td>0.0772</td>\n",
       "      <td>411553</td>\n",
       "      <td>i feel rebellious and i like it</td>\n",
       "      <td>Anger</td>\n",
       "      <td>[feel, rebellious, like]</td>\n",
       "      <td>18</td>\n",
       "      <td>3</td>\n",
       "      <td>Short</td>\n",
       "      <td>[feel, rebellious, like]</td>\n",
       "      <td>[(feel, RB), (rebellious, JJ), (like, IN)]</td>\n",
       "    </tr>\n",
       "    <tr>\n",
       "      <th>1</th>\n",
       "      <td>18079</td>\n",
       "      <td>0.532</td>\n",
       "      <td>0.468</td>\n",
       "      <td>0.000</td>\n",
       "      <td>-0.6901</td>\n",
       "      <td>18079</td>\n",
       "      <td>i feel completely agitated and full of blame</td>\n",
       "      <td>Anger</td>\n",
       "      <td>[feel, completely, agitated, full, blame]</td>\n",
       "      <td>31</td>\n",
       "      <td>5</td>\n",
       "      <td>Short</td>\n",
       "      <td>[feel, completely, agitated, full, blame]</td>\n",
       "      <td>[(feel, VB), (completely, RB), (agitated, VBN)...</td>\n",
       "    </tr>\n",
       "    <tr>\n",
       "      <th>2</th>\n",
       "      <td>282107</td>\n",
       "      <td>0.186</td>\n",
       "      <td>0.504</td>\n",
       "      <td>0.310</td>\n",
       "      <td>0.3506</td>\n",
       "      <td>282107</td>\n",
       "      <td>i feel like a witch bc im aggravated and i wan...</td>\n",
       "      <td>Anger</td>\n",
       "      <td>[feel, like, witch, bc, im, aggravated, want, ...</td>\n",
       "      <td>42</td>\n",
       "      <td>10</td>\n",
       "      <td>Short</td>\n",
       "      <td>[feel, like, witch, bc, im, aggravated, want, ...</td>\n",
       "      <td>[(feel, NN), (like, IN), (witch, NN), (bc, NN)...</td>\n",
       "    </tr>\n",
       "    <tr>\n",
       "      <th>3</th>\n",
       "      <td>49946</td>\n",
       "      <td>0.049</td>\n",
       "      <td>0.660</td>\n",
       "      <td>0.292</td>\n",
       "      <td>0.8861</td>\n",
       "      <td>49946</td>\n",
       "      <td>i feel really bitchy for doing this but im rea...</td>\n",
       "      <td>Anger</td>\n",
       "      <td>[feel, really, bitchy, im, really, iffy, read,...</td>\n",
       "      <td>93</td>\n",
       "      <td>20</td>\n",
       "      <td>Long</td>\n",
       "      <td>[feel, really, bitchy, im, really, iffy, read,...</td>\n",
       "      <td>[(feel, NN), (really, RB), (bitchy, JJ), (im, ...</td>\n",
       "    </tr>\n",
       "    <tr>\n",
       "      <th>4</th>\n",
       "      <td>96367</td>\n",
       "      <td>0.250</td>\n",
       "      <td>0.750</td>\n",
       "      <td>0.000</td>\n",
       "      <td>-0.2500</td>\n",
       "      <td>96367</td>\n",
       "      <td>i feel rude but i move past it immediately</td>\n",
       "      <td>Anger</td>\n",
       "      <td>[feel, rude, move, past, immediately]</td>\n",
       "      <td>27</td>\n",
       "      <td>5</td>\n",
       "      <td>Short</td>\n",
       "      <td>[feel, rude, move, past, immediately]</td>\n",
       "      <td>[(feel, NN), (rude, JJ), (move, NN), (past, IN...</td>\n",
       "    </tr>\n",
       "    <tr>\n",
       "      <th>...</th>\n",
       "      <td>...</td>\n",
       "      <td>...</td>\n",
       "      <td>...</td>\n",
       "      <td>...</td>\n",
       "      <td>...</td>\n",
       "      <td>...</td>\n",
       "      <td>...</td>\n",
       "      <td>...</td>\n",
       "      <td>...</td>\n",
       "      <td>...</td>\n",
       "      <td>...</td>\n",
       "      <td>...</td>\n",
       "      <td>...</td>\n",
       "      <td>...</td>\n",
       "    </tr>\n",
       "    <tr>\n",
       "      <th>14995</th>\n",
       "      <td>347819</td>\n",
       "      <td>0.333</td>\n",
       "      <td>0.667</td>\n",
       "      <td>0.000</td>\n",
       "      <td>-0.2484</td>\n",
       "      <td>347819</td>\n",
       "      <td>i feel so weird about food</td>\n",
       "      <td>Surprise</td>\n",
       "      <td>[feel, weird, food]</td>\n",
       "      <td>13</td>\n",
       "      <td>3</td>\n",
       "      <td>Short</td>\n",
       "      <td>[feel, weird, food]</td>\n",
       "      <td>[(feel, VB), (weird, JJ), (food, NN)]</td>\n",
       "    </tr>\n",
       "    <tr>\n",
       "      <th>14996</th>\n",
       "      <td>231003</td>\n",
       "      <td>0.116</td>\n",
       "      <td>0.884</td>\n",
       "      <td>0.000</td>\n",
       "      <td>-0.1779</td>\n",
       "      <td>231003</td>\n",
       "      <td>i gotta say it feels weird to have a fishing r...</td>\n",
       "      <td>Surprise</td>\n",
       "      <td>[gotta, say, feel, weird, fishing, report, wit...</td>\n",
       "      <td>44</td>\n",
       "      <td>9</td>\n",
       "      <td>Short</td>\n",
       "      <td>[gotta, say, feel, weird, fishing, report, wit...</td>\n",
       "      <td>[(gotta, NNS), (say, VBP), (feel, JJ), (weird,...</td>\n",
       "    </tr>\n",
       "    <tr>\n",
       "      <th>14997</th>\n",
       "      <td>43515</td>\n",
       "      <td>0.000</td>\n",
       "      <td>0.386</td>\n",
       "      <td>0.614</td>\n",
       "      <td>0.8603</td>\n",
       "      <td>43515</td>\n",
       "      <td>i proudly feel amazed by my little sisters hid...</td>\n",
       "      <td>Surprise</td>\n",
       "      <td>[proudly, feel, amazed, little, sister, hidden...</td>\n",
       "      <td>41</td>\n",
       "      <td>7</td>\n",
       "      <td>Short</td>\n",
       "      <td>[proudly, feel, amazed, little, sister, hidden...</td>\n",
       "      <td>[(proudly, RB), (feel, VB), (amazed, JJ), (lit...</td>\n",
       "    </tr>\n",
       "    <tr>\n",
       "      <th>14998</th>\n",
       "      <td>139251</td>\n",
       "      <td>0.000</td>\n",
       "      <td>0.629</td>\n",
       "      <td>0.371</td>\n",
       "      <td>0.9600</td>\n",
       "      <td>139251</td>\n",
       "      <td>i usually don t care about this drivel but the...</td>\n",
       "      <td>Surprise</td>\n",
       "      <td>[usually, care, drivel, thing, feel, need, tal...</td>\n",
       "      <td>84</td>\n",
       "      <td>17</td>\n",
       "      <td>Long</td>\n",
       "      <td>[usually, care, drivel, thing, feel, need, tal...</td>\n",
       "      <td>[(usually, RB), (care, VBP), (drivel, JJ), (th...</td>\n",
       "    </tr>\n",
       "    <tr>\n",
       "      <th>14999</th>\n",
       "      <td>393625</td>\n",
       "      <td>0.123</td>\n",
       "      <td>0.741</td>\n",
       "      <td>0.137</td>\n",
       "      <td>0.1280</td>\n",
       "      <td>393625</td>\n",
       "      <td>i understand they dump some extra citrate into...</td>\n",
       "      <td>Surprise</td>\n",
       "      <td>[understand, dump, extra, citrate, pump, back,...</td>\n",
       "      <td>109</td>\n",
       "      <td>17</td>\n",
       "      <td>Long</td>\n",
       "      <td>[understand, dump, extra, citrate, pump, back,...</td>\n",
       "      <td>[(understand, JJ), (dump, NN), (extra, JJ), (c...</td>\n",
       "    </tr>\n",
       "  </tbody>\n",
       "</table>\n",
       "<p>15000 rows × 14 columns</p>\n",
       "</div>"
      ],
      "text/plain": [
       "           id  vader_neg  vader_neu  vader_pos  compound   Index  \\\n",
       "0      411553      0.286      0.390      0.325    0.0772  411553   \n",
       "1       18079      0.532      0.468      0.000   -0.6901   18079   \n",
       "2      282107      0.186      0.504      0.310    0.3506  282107   \n",
       "3       49946      0.049      0.660      0.292    0.8861   49946   \n",
       "4       96367      0.250      0.750      0.000   -0.2500   96367   \n",
       "...       ...        ...        ...        ...       ...     ...   \n",
       "14995  347819      0.333      0.667      0.000   -0.2484  347819   \n",
       "14996  231003      0.116      0.884      0.000   -0.1779  231003   \n",
       "14997   43515      0.000      0.386      0.614    0.8603   43515   \n",
       "14998  139251      0.000      0.629      0.371    0.9600  139251   \n",
       "14999  393625      0.123      0.741      0.137    0.1280  393625   \n",
       "\n",
       "                                                    text     label  \\\n",
       "0                        i feel rebellious and i like it     Anger   \n",
       "1           i feel completely agitated and full of blame     Anger   \n",
       "2      i feel like a witch bc im aggravated and i wan...     Anger   \n",
       "3      i feel really bitchy for doing this but im rea...     Anger   \n",
       "4             i feel rude but i move past it immediately     Anger   \n",
       "...                                                  ...       ...   \n",
       "14995                         i feel so weird about food  Surprise   \n",
       "14996  i gotta say it feels weird to have a fishing r...  Surprise   \n",
       "14997  i proudly feel amazed by my little sisters hid...  Surprise   \n",
       "14998  i usually don t care about this drivel but the...  Surprise   \n",
       "14999  i understand they dump some extra citrate into...  Surprise   \n",
       "\n",
       "                                          processed_text  char_count  \\\n",
       "0                               [feel, rebellious, like]          18   \n",
       "1              [feel, completely, agitated, full, blame]          31   \n",
       "2      [feel, like, witch, bc, im, aggravated, want, ...          42   \n",
       "3      [feel, really, bitchy, im, really, iffy, read,...          93   \n",
       "4                  [feel, rude, move, past, immediately]          27   \n",
       "...                                                  ...         ...   \n",
       "14995                                [feel, weird, food]          13   \n",
       "14996  [gotta, say, feel, weird, fishing, report, wit...          44   \n",
       "14997  [proudly, feel, amazed, little, sister, hidden...          41   \n",
       "14998  [usually, care, drivel, thing, feel, need, tal...          84   \n",
       "14999  [understand, dump, extra, citrate, pump, back,...         109   \n",
       "\n",
       "       word_count message_length  \\\n",
       "0               3          Short   \n",
       "1               5          Short   \n",
       "2              10          Short   \n",
       "3              20           Long   \n",
       "4               5          Short   \n",
       "...           ...            ...   \n",
       "14995           3          Short   \n",
       "14996           9          Short   \n",
       "14997           7          Short   \n",
       "14998          17           Long   \n",
       "14999          17           Long   \n",
       "\n",
       "                                                  tokens  \\\n",
       "0                               [feel, rebellious, like]   \n",
       "1              [feel, completely, agitated, full, blame]   \n",
       "2      [feel, like, witch, bc, im, aggravated, want, ...   \n",
       "3      [feel, really, bitchy, im, really, iffy, read,...   \n",
       "4                  [feel, rude, move, past, immediately]   \n",
       "...                                                  ...   \n",
       "14995                                [feel, weird, food]   \n",
       "14996  [gotta, say, feel, weird, fishing, report, wit...   \n",
       "14997  [proudly, feel, amazed, little, sister, hidden...   \n",
       "14998  [usually, care, drivel, thing, feel, need, tal...   \n",
       "14999  [understand, dump, extra, citrate, pump, back,...   \n",
       "\n",
       "                                                pos_tags  \n",
       "0             [(feel, RB), (rebellious, JJ), (like, IN)]  \n",
       "1      [(feel, VB), (completely, RB), (agitated, VBN)...  \n",
       "2      [(feel, NN), (like, IN), (witch, NN), (bc, NN)...  \n",
       "3      [(feel, NN), (really, RB), (bitchy, JJ), (im, ...  \n",
       "4      [(feel, NN), (rude, JJ), (move, NN), (past, IN...  \n",
       "...                                                  ...  \n",
       "14995              [(feel, VB), (weird, JJ), (food, NN)]  \n",
       "14996  [(gotta, NNS), (say, VBP), (feel, JJ), (weird,...  \n",
       "14997  [(proudly, RB), (feel, VB), (amazed, JJ), (lit...  \n",
       "14998  [(usually, RB), (care, VBP), (drivel, JJ), (th...  \n",
       "14999  [(understand, JJ), (dump, NN), (extra, JJ), (c...  \n",
       "\n",
       "[15000 rows x 14 columns]"
      ]
     },
     "execution_count": 34,
     "metadata": {},
     "output_type": "execute_result"
    }
   ],
   "source": [
    "vaders"
   ]
  },
  {
   "cell_type": "markdown",
   "metadata": {},
   "source": [
    "## **Plot VADER Results**"
   ]
  },
  {
   "cell_type": "code",
   "execution_count": 35,
   "metadata": {},
   "outputs": [
    {
     "name": "stderr",
     "output_type": "stream",
     "text": [
      "C:\\Users\\arche\\AppData\\Local\\Temp\\ipykernel_6424\\709517055.py:7: UserWarning: set_ticklabels() should only be used with a fixed number of ticks, i.e. after set_ticks() or using a FixedLocator.\n",
      "  ax.set_xticklabels(ax.get_xticklabels(), rotation = 45, ha = \"right\", fontsize = 12)\n"
     ]
    },
    {
     "data": {
      "image/png": "[encoded data removed]",
      "text/plain": [
       "<Figure size 640x480 with 1 Axes>"
      ]
     },
     "metadata": {},
     "output_type": "display_data"
    }
   ],
   "source": [
    "ax = sns.barplot(\n",
    "    data = vaders, \n",
    "    x = 'label', \n",
    "    y = 'compound'\n",
    ")\n",
    "ax.set_title('Compound Score by Text Sentiment Label')\n",
    "ax.set_xticklabels(ax.get_xticklabels(), rotation = 45, ha = \"right\", fontsize = 12) \n",
    "plt.tight_layout() \n",
    "plt.show()"
   ]
  },
  {
   "cell_type": "markdown",
   "metadata": {},
   "source": [
    "The bar plot visualizes the average compound sentiment score from the VADER sentiment analysis for each emotion label. Here's the analysis: \n",
    "\n",
    "   - **Joy and Love** exhibit the highest compound scores, indicating that these emotions are generally associated with positive sentiment in the text. \n",
    "\n",
    "   - **Surprise** shows a moderate positive compound score, which might reflect its mixed or neutral association, depending on the context. \n",
    "   \n",
    "   - **Fear, Anger, and Sadness** have negative compound scores, aligning with their inherently negative connotations in sentiment analysis system.\n",
    "\n",
    "This distribution aligns with typical sentiment expectations--positive emotions (like Joy and Love) yield positive scores, while negative emotions (like Fear and Sadness) yield negative scores, confirming that VADER effectively captures the polarity of these sentiments. "
   ]
  },
  {
   "cell_type": "code",
   "execution_count": 36,
   "metadata": {},
   "outputs": [
    {
     "data": {
      "image/png": "[encoded data removed]",
      "text/plain": [
       "<Figure size 1200x300 with 3 Axes>"
      ]
     },
     "metadata": {},
     "output_type": "display_data"
    }
   ],
   "source": [
    "fig, axs = plt.subplots(1, 3, figsize = (12, 3)) \n",
    "sns.barplot(data = vaders, x = 'label', y = 'vader_pos', ax = axs[0]) \n",
    "sns.barplot(data = vaders, x = 'label', y = 'vader_neu', ax = axs[1]) \n",
    "sns.barplot(data = vaders, x = 'label', y = 'vader_neg', ax = axs[2]) \n",
    "axs[0].set_title('Positive Sentiment') \n",
    "axs[1].set_title('Neutral Sentiment') \n",
    "axs[2].set_title('Negative Sentiment') \n",
    "plt.tight_layout()\n",
    "plt.show() "
   ]
  },
  {
   "cell_type": "markdown",
   "metadata": {},
   "source": [
    "- The graphs represent the breakdown of positive, neutral, and negative sentiment scores for various emotional labels in the dataset. The \"Positive Sentiment\" graph shows that \"Joy\" has the highest positive score, followe by \"Love\" and \"Surprise\", suggesting these emotions are associated with positive language. The \"Neutral Sentiment\" graph is consistent across all labels, indicating a generally neutral tone in the text, while the \"Negative Sentiment\" graph highlights \"Fear\", \"Anger\", and \"Sadness\" with higher negative scores, showing these emotions are associated with negative expressions. "
   ]
  },
  {
   "cell_type": "markdown",
   "metadata": {},
   "source": [
    "# **RoBERTa Model**"
   ]
  },
  {
   "cell_type": "markdown",
   "metadata": {},
   "source": [
    "- RoBERTa model introduces a powerful transformer-based approach for understanding nuanced language patterns in text data. RoBERTa (Robustly Optimized Bidirectional Encoder Representations from Transformers) model has been fine-tuned to capture complex contextual relationships within text, making it well-suited for identifying subtle sentiment differences. It leveregaes bidirectional attention, meaning it analyzes context both before and after each word, which helps interpret sarcasm, irony, and other complexities often present in text data. "
   ]
  },
  {
   "cell_type": "markdown",
   "metadata": {},
   "source": [
    "Import the necessary libraries."
   ]
  },
  {
   "cell_type": "code",
   "execution_count": 37,
   "metadata": {},
   "outputs": [],
   "source": [
    "from transformers import AutoTokenizer \n",
    "from transformers import AutoModelForSequenceClassification \n",
    "\n",
    "# Import softmax function for probability conversion\n",
    "from scipy.special import softmax "
   ]
  },
  {
   "cell_type": "markdown",
   "metadata": {},
   "source": [
    "Specify RoBERTa model version pre-trained on Twitter sentiment data."
   ]
  },
  {
   "cell_type": "code",
   "execution_count": 38,
   "metadata": {},
   "outputs": [
    {
     "name": "stderr",
     "output_type": "stream",
     "text": [
      "c:\\Program Files\\Python312\\Lib\\site-packages\\transformers\\tokenization_utils_base.py:1617: FutureWarning: `clean_up_tokenization_spaces` was not set. It will be set to `True` by default. This behavior will be deprecated in transformers v4.45, and will be then set to `False` by default. For more details check this issue: https://github.com/huggingface/transformers/issues/31884\n",
      "  warnings.warn(\n",
      "Some weights of the model checkpoint at cardiffnlp/twitter-roberta-base-sentiment-latest were not used when initializing RobertaForSequenceClassification: ['roberta.pooler.dense.bias', 'roberta.pooler.dense.weight']\n",
      "- This IS expected if you are initializing RobertaForSequenceClassification from the checkpoint of a model trained on another task or with another architecture (e.g. initializing a BertForSequenceClassification model from a BertForPreTraining model).\n",
      "- This IS NOT expected if you are initializing RobertaForSequenceClassification from the checkpoint of a model that you expect to be exactly identical (initializing a BertForSequenceClassification model from a BertForSequenceClassification model).\n"
     ]
    }
   ],
   "source": [
    "MODEL = f\"cardiffnlp/twitter-roberta-base-sentiment-latest\"\n",
    "\n",
    "# Load tokenizer for the RoBERTa model to convert text into tokens\n",
    "tokenizer = AutoTokenizer.from_pretrained(MODEL)\n",
    "\n",
    "# Load sentiment analysis model for sequence classification\n",
    "model = AutoModelForSequenceClassification.from_pretrained(MODEL)"
   ]
  },
  {
   "cell_type": "code",
   "execution_count": 39,
   "metadata": {},
   "outputs": [
    {
     "name": "stdout",
     "output_type": "stream",
     "text": [
      "{'roberta_neg': np.float32(0.621254), 'roberta_neu': np.float32(0.35157594), 'roberta_pos': np.float32(0.027170008)}\n"
     ]
    }
   ],
   "source": [
    "encoded_text = tokenizer(example, return_tensors='pt')\n",
    "output = model(**encoded_text) \n",
    "scores = output[0][0].detach().numpy() \n",
    "scores = softmax(scores) \n",
    "scores_dict = {\n",
    "    'roberta_neg' : scores[0], \n",
    "    'roberta_neu' : scores[1], \n",
    "    'roberta_pos' : scores[2]\n",
    "} \n",
    "print(scores_dict)"
   ]
  },
  {
   "cell_type": "markdown",
   "metadata": {},
   "source": [
    "Declare function that calculates sentiment scores for a given text using the RoBERTa model. The function tokenizes, runs it through the model, applies the softmax function to get probabilities, and returns a dictionary with negative, neutral, and positive sentiment scores."
   ]
  },
  {
   "cell_type": "code",
   "execution_count": 40,
   "metadata": {},
   "outputs": [],
   "source": [
    "def polarity_scores_roberta(example): \n",
    "    # Tokenize input text for the RoBERTa model, outputting tensors in PyTorch format\n",
    "    encoded_text = tokenizer(example, return_tensors='pt') \n",
    "\n",
    "    # Perform inference on the encoded text using the model\n",
    "    output = model(**encoded_text) \n",
    "\n",
    "    # Extract model output and convert it to NumPy array for softmax processing\n",
    "    scores = output[0][0].detach().numpy() \n",
    "\n",
    "    # Apply softmax function to obtain sentiment probabilities\n",
    "    scores = softmax(scores)                     \n",
    "\n",
    "    # Create dictionary with sentiment scores labeled as negative, neutral, and positive\n",
    "    scores_dict = {\n",
    "        'roberta_neg' : scores[0],  # Negative sentiment score\n",
    "        'roberta_neu' : scores[1],  # Neutral sentiment score\n",
    "        'roberta_pos' : scores[2]   # Positive sentiment score\n",
    "    } \n",
    "    # Return dictionary containing sentiment scores\n",
    "    return scores_dict"
   ]
  },
  {
   "cell_type": "markdown",
   "metadata": {},
   "source": [
    "Loop iterates over each row in a DataFrame, processes the text with both VADER and RoBERTa sentiment analysis, renames the VADER keys for clarity, and combine the scores from both models."
   ]
  },
  {
   "cell_type": "code",
   "execution_count": 41,
   "metadata": {},
   "outputs": [
    {
     "data": {
      "application/vnd.jupyter.widget-view+json": {
       "model_id": "a1867d63b8a2418da10bfafd3d0f6867",
       "version_major": 2,
       "version_minor": 0
      },
      "text/plain": [
       "  0%|          | 0/15000 [00:00<?, ?it/s]"
      ]
     },
     "metadata": {},
     "output_type": "display_data"
    }
   ],
   "source": [
    "res = {}\n",
    "\n",
    "# Iterate over each row in DataFrame with progress tracking\n",
    "for i, row in tqdm( df.iterrows(), total = len(df) ): \n",
    "\n",
    "    try: \n",
    "        # Retrieve the text and unique identifier from the DataFrame\n",
    "        text = row['text'] \n",
    "        id = row['Index']\n",
    "        # Get RoBERTa sentiment scores using custom function\n",
    "        roberta_result = polarity_scores_roberta(text) \n",
    "        res[id] = roberta_result\n",
    "    except RuntimeError: \n",
    "         #Print error message if there is an issue processing a row\n",
    "        print(f'Broke for id {id}') "
   ]
  },
  {
   "cell_type": "markdown",
   "metadata": {},
   "source": [
    "Convert res dictionary into a DataFrame, renames columns for clarity, and merges it with the original DataFrame on the Index column or the DataFrame's index if Index is not available."
   ]
  },
  {
   "cell_type": "code",
   "execution_count": 42,
   "metadata": {},
   "outputs": [],
   "source": [
    "# Convert the 'res' dictionary to a DataFrame\n",
    "results_df = pd.DataFrame(res).T  # Transpose so IDs align with rows\n",
    "\n",
    "# Reset the index and rename the 'index' column to 'Id' for easier merging\n",
    "results_df = results_df.reset_index().rename(columns={\n",
    "    'index': 'Id',          # Rename index to Id\n",
    "    'roberta_neg': 'roberta_neg',  # Keep RoBERTa score columns\n",
    "    'roberta_neu': 'roberta_neu',\n",
    "    'roberta_pos': 'roberta_pos'\n",
    "})\n",
    "\n",
    "# Merge results DataFrame with the original DataFrame on 'Id' and 'Index' columns\n",
    "if 'Index' in df.columns:\n",
    "    results_df = results_df.merge(df, how='left', left_on='Id', right_on='Index')\n",
    "else:\n",
    "    # If 'Index' is not a column, merge on index\n",
    "    results_df = results_df.merge(df, how='left', left_on='Id', right_index=True)"
   ]
  },
  {
   "cell_type": "markdown",
   "metadata": {},
   "source": [
    "Display first few rows of merged DataFrame."
   ]
  },
  {
   "cell_type": "code",
   "execution_count": 43,
   "metadata": {},
   "outputs": [
    {
     "data": {
      "text/html": [
       "<div>\n",
       "<style scoped>\n",
       "    .dataframe tbody tr th:only-of-type {\n",
       "        vertical-align: middle;\n",
       "    }\n",
       "\n",
       "    .dataframe tbody tr th {\n",
       "        vertical-align: top;\n",
       "    }\n",
       "\n",
       "    .dataframe thead th {\n",
       "        text-align: right;\n",
       "    }\n",
       "</style>\n",
       "<table border=\"1\" class=\"dataframe\">\n",
       "  <thead>\n",
       "    <tr style=\"text-align: right;\">\n",
       "      <th></th>\n",
       "      <th>Id</th>\n",
       "      <th>roberta_neg</th>\n",
       "      <th>roberta_neu</th>\n",
       "      <th>roberta_pos</th>\n",
       "      <th>Index</th>\n",
       "      <th>text</th>\n",
       "      <th>label</th>\n",
       "      <th>processed_text</th>\n",
       "      <th>char_count</th>\n",
       "      <th>word_count</th>\n",
       "      <th>message_length</th>\n",
       "      <th>tokens</th>\n",
       "      <th>pos_tags</th>\n",
       "    </tr>\n",
       "  </thead>\n",
       "  <tbody>\n",
       "    <tr>\n",
       "      <th>0</th>\n",
       "      <td>411553</td>\n",
       "      <td>0.023714</td>\n",
       "      <td>0.181351</td>\n",
       "      <td>0.794936</td>\n",
       "      <td>411553</td>\n",
       "      <td>i feel rebellious and i like it</td>\n",
       "      <td>Anger</td>\n",
       "      <td>[feel, rebellious, like]</td>\n",
       "      <td>18</td>\n",
       "      <td>3</td>\n",
       "      <td>Short</td>\n",
       "      <td>[feel, rebellious, like]</td>\n",
       "      <td>[(feel, RB), (rebellious, JJ), (like, IN)]</td>\n",
       "    </tr>\n",
       "    <tr>\n",
       "      <th>1</th>\n",
       "      <td>18079</td>\n",
       "      <td>0.920334</td>\n",
       "      <td>0.072259</td>\n",
       "      <td>0.007407</td>\n",
       "      <td>18079</td>\n",
       "      <td>i feel completely agitated and full of blame</td>\n",
       "      <td>Anger</td>\n",
       "      <td>[feel, completely, agitated, full, blame]</td>\n",
       "      <td>31</td>\n",
       "      <td>5</td>\n",
       "      <td>Short</td>\n",
       "      <td>[feel, completely, agitated, full, blame]</td>\n",
       "      <td>[(feel, VB), (completely, RB), (agitated, VBN)...</td>\n",
       "    </tr>\n",
       "    <tr>\n",
       "      <th>2</th>\n",
       "      <td>282107</td>\n",
       "      <td>0.902631</td>\n",
       "      <td>0.089745</td>\n",
       "      <td>0.007624</td>\n",
       "      <td>282107</td>\n",
       "      <td>i feel like a witch bc im aggravated and i wan...</td>\n",
       "      <td>Anger</td>\n",
       "      <td>[feel, like, witch, bc, im, aggravated, want, ...</td>\n",
       "      <td>42</td>\n",
       "      <td>10</td>\n",
       "      <td>Short</td>\n",
       "      <td>[feel, like, witch, bc, im, aggravated, want, ...</td>\n",
       "      <td>[(feel, NN), (like, IN), (witch, NN), (bc, NN)...</td>\n",
       "    </tr>\n",
       "    <tr>\n",
       "      <th>3</th>\n",
       "      <td>49946</td>\n",
       "      <td>0.764214</td>\n",
       "      <td>0.214226</td>\n",
       "      <td>0.021560</td>\n",
       "      <td>49946</td>\n",
       "      <td>i feel really bitchy for doing this but im rea...</td>\n",
       "      <td>Anger</td>\n",
       "      <td>[feel, really, bitchy, im, really, iffy, read,...</td>\n",
       "      <td>93</td>\n",
       "      <td>20</td>\n",
       "      <td>Long</td>\n",
       "      <td>[feel, really, bitchy, im, really, iffy, read,...</td>\n",
       "      <td>[(feel, NN), (really, RB), (bitchy, JJ), (im, ...</td>\n",
       "    </tr>\n",
       "    <tr>\n",
       "      <th>4</th>\n",
       "      <td>96367</td>\n",
       "      <td>0.792875</td>\n",
       "      <td>0.194362</td>\n",
       "      <td>0.012764</td>\n",
       "      <td>96367</td>\n",
       "      <td>i feel rude but i move past it immediately</td>\n",
       "      <td>Anger</td>\n",
       "      <td>[feel, rude, move, past, immediately]</td>\n",
       "      <td>27</td>\n",
       "      <td>5</td>\n",
       "      <td>Short</td>\n",
       "      <td>[feel, rude, move, past, immediately]</td>\n",
       "      <td>[(feel, NN), (rude, JJ), (move, NN), (past, IN...</td>\n",
       "    </tr>\n",
       "  </tbody>\n",
       "</table>\n",
       "</div>"
      ],
      "text/plain": [
       "       Id  roberta_neg  roberta_neu  roberta_pos   Index  \\\n",
       "0  411553     0.023714     0.181351     0.794936  411553   \n",
       "1   18079     0.920334     0.072259     0.007407   18079   \n",
       "2  282107     0.902631     0.089745     0.007624  282107   \n",
       "3   49946     0.764214     0.214226     0.021560   49946   \n",
       "4   96367     0.792875     0.194362     0.012764   96367   \n",
       "\n",
       "                                                text  label  \\\n",
       "0                    i feel rebellious and i like it  Anger   \n",
       "1       i feel completely agitated and full of blame  Anger   \n",
       "2  i feel like a witch bc im aggravated and i wan...  Anger   \n",
       "3  i feel really bitchy for doing this but im rea...  Anger   \n",
       "4         i feel rude but i move past it immediately  Anger   \n",
       "\n",
       "                                      processed_text  char_count  word_count  \\\n",
       "0                           [feel, rebellious, like]          18           3   \n",
       "1          [feel, completely, agitated, full, blame]          31           5   \n",
       "2  [feel, like, witch, bc, im, aggravated, want, ...          42          10   \n",
       "3  [feel, really, bitchy, im, really, iffy, read,...          93          20   \n",
       "4              [feel, rude, move, past, immediately]          27           5   \n",
       "\n",
       "  message_length                                             tokens  \\\n",
       "0          Short                           [feel, rebellious, like]   \n",
       "1          Short          [feel, completely, agitated, full, blame]   \n",
       "2          Short  [feel, like, witch, bc, im, aggravated, want, ...   \n",
       "3           Long  [feel, really, bitchy, im, really, iffy, read,...   \n",
       "4          Short              [feel, rude, move, past, immediately]   \n",
       "\n",
       "                                            pos_tags  \n",
       "0         [(feel, RB), (rebellious, JJ), (like, IN)]  \n",
       "1  [(feel, VB), (completely, RB), (agitated, VBN)...  \n",
       "2  [(feel, NN), (like, IN), (witch, NN), (bc, NN)...  \n",
       "3  [(feel, NN), (really, RB), (bitchy, JJ), (im, ...  \n",
       "4  [(feel, NN), (rude, JJ), (move, NN), (past, IN...  "
      ]
     },
     "execution_count": 43,
     "metadata": {},
     "output_type": "execute_result"
    }
   ],
   "source": [
    "results_df.head()"
   ]
  },
  {
   "cell_type": "code",
   "execution_count": 44,
   "metadata": {},
   "outputs": [
    {
     "data": {
      "text/html": [
       "<div>\n",
       "<style scoped>\n",
       "    .dataframe tbody tr th:only-of-type {\n",
       "        vertical-align: middle;\n",
       "    }\n",
       "\n",
       "    .dataframe tbody tr th {\n",
       "        vertical-align: top;\n",
       "    }\n",
       "\n",
       "    .dataframe thead th {\n",
       "        text-align: right;\n",
       "    }\n",
       "</style>\n",
       "<table border=\"1\" class=\"dataframe\">\n",
       "  <thead>\n",
       "    <tr style=\"text-align: right;\">\n",
       "      <th></th>\n",
       "      <th>text</th>\n",
       "      <th>processed_text</th>\n",
       "      <th>vader_neg</th>\n",
       "      <th>vader_neu</th>\n",
       "      <th>vader_pos</th>\n",
       "      <th>compound</th>\n",
       "      <th>roberta_neg</th>\n",
       "      <th>roberta_neu</th>\n",
       "      <th>roberta_pos</th>\n",
       "      <th>label</th>\n",
       "    </tr>\n",
       "  </thead>\n",
       "  <tbody>\n",
       "    <tr>\n",
       "      <th>0</th>\n",
       "      <td>i feel rebellious and i like it</td>\n",
       "      <td>[feel, rebellious, like]</td>\n",
       "      <td>0.286</td>\n",
       "      <td>0.390</td>\n",
       "      <td>0.325</td>\n",
       "      <td>0.0772</td>\n",
       "      <td>0.023714</td>\n",
       "      <td>0.181351</td>\n",
       "      <td>0.794936</td>\n",
       "      <td>Anger</td>\n",
       "    </tr>\n",
       "    <tr>\n",
       "      <th>1</th>\n",
       "      <td>i feel completely agitated and full of blame</td>\n",
       "      <td>[feel, completely, agitated, full, blame]</td>\n",
       "      <td>0.532</td>\n",
       "      <td>0.468</td>\n",
       "      <td>0.000</td>\n",
       "      <td>-0.6901</td>\n",
       "      <td>0.920334</td>\n",
       "      <td>0.072259</td>\n",
       "      <td>0.007407</td>\n",
       "      <td>Anger</td>\n",
       "    </tr>\n",
       "    <tr>\n",
       "      <th>2</th>\n",
       "      <td>i feel like a witch bc im aggravated and i wan...</td>\n",
       "      <td>[feel, like, witch, bc, im, aggravated, want, ...</td>\n",
       "      <td>0.186</td>\n",
       "      <td>0.504</td>\n",
       "      <td>0.310</td>\n",
       "      <td>0.3506</td>\n",
       "      <td>0.902631</td>\n",
       "      <td>0.089745</td>\n",
       "      <td>0.007624</td>\n",
       "      <td>Anger</td>\n",
       "    </tr>\n",
       "    <tr>\n",
       "      <th>3</th>\n",
       "      <td>i feel really bitchy for doing this but im rea...</td>\n",
       "      <td>[feel, really, bitchy, im, really, iffy, read,...</td>\n",
       "      <td>0.049</td>\n",
       "      <td>0.660</td>\n",
       "      <td>0.292</td>\n",
       "      <td>0.8861</td>\n",
       "      <td>0.764214</td>\n",
       "      <td>0.214226</td>\n",
       "      <td>0.021560</td>\n",
       "      <td>Anger</td>\n",
       "    </tr>\n",
       "    <tr>\n",
       "      <th>4</th>\n",
       "      <td>i feel rude but i move past it immediately</td>\n",
       "      <td>[feel, rude, move, past, immediately]</td>\n",
       "      <td>0.250</td>\n",
       "      <td>0.750</td>\n",
       "      <td>0.000</td>\n",
       "      <td>-0.2500</td>\n",
       "      <td>0.792875</td>\n",
       "      <td>0.194362</td>\n",
       "      <td>0.012764</td>\n",
       "      <td>Anger</td>\n",
       "    </tr>\n",
       "  </tbody>\n",
       "</table>\n",
       "</div>"
      ],
      "text/plain": [
       "                                                text  \\\n",
       "0                    i feel rebellious and i like it   \n",
       "1       i feel completely agitated and full of blame   \n",
       "2  i feel like a witch bc im aggravated and i wan...   \n",
       "3  i feel really bitchy for doing this but im rea...   \n",
       "4         i feel rude but i move past it immediately   \n",
       "\n",
       "                                      processed_text  vader_neg  vader_neu  \\\n",
       "0                           [feel, rebellious, like]      0.286      0.390   \n",
       "1          [feel, completely, agitated, full, blame]      0.532      0.468   \n",
       "2  [feel, like, witch, bc, im, aggravated, want, ...      0.186      0.504   \n",
       "3  [feel, really, bitchy, im, really, iffy, read,...      0.049      0.660   \n",
       "4              [feel, rude, move, past, immediately]      0.250      0.750   \n",
       "\n",
       "   vader_pos  compound  roberta_neg  roberta_neu  roberta_pos  label  \n",
       "0      0.325    0.0772     0.023714     0.181351     0.794936  Anger  \n",
       "1      0.000   -0.6901     0.920334     0.072259     0.007407  Anger  \n",
       "2      0.310    0.3506     0.902631     0.089745     0.007624  Anger  \n",
       "3      0.292    0.8861     0.764214     0.214226     0.021560  Anger  \n",
       "4      0.000   -0.2500     0.792875     0.194362     0.012764  Anger  "
      ]
     },
     "execution_count": 44,
     "metadata": {},
     "output_type": "execute_result"
    }
   ],
   "source": [
    "merged_df = vaders.merge(results_df, on='Index', how='inner')\n",
    "\n",
    "# Rename columns if needed (e.g., _x, _y suffixes)\n",
    "merged_df.rename(columns={\n",
    "    'text_x': 'text',\n",
    "    'label_x': 'label',\n",
    "    'processed_text_x': 'processed_text',\n",
    "    # Add renaming for other duplicated columns\n",
    "}, inplace=True)\n",
    "\n",
    "# Dynamically filter the columns to keep\n",
    "columns_to_keep = [\n",
    "    col for col in [\n",
    "        'text', 'processed_text' ,'vader_neg', 'vader_neu', 'vader_pos', 'compound',\n",
    "        'roberta_neg', 'roberta_neu', 'roberta_pos',\n",
    "        'label',\n",
    "        'char_count', 'word_count', 'message_length',\n",
    "        'tokens', 'pos_tags'\n",
    "    ] if col in merged_df.columns\n",
    "]\n",
    "\n",
    "merged_df = merged_df[columns_to_keep]\n",
    "merged_df.head()"
   ]
  },
  {
   "cell_type": "markdown",
   "metadata": {},
   "source": [
    "Display each column currently in the DataFrame."
   ]
  },
  {
   "cell_type": "code",
   "execution_count": 45,
   "metadata": {},
   "outputs": [
    {
     "data": {
      "text/plain": [
       "Index(['text', 'processed_text', 'vader_neg', 'vader_neu', 'vader_pos',\n",
       "       'compound', 'roberta_neg', 'roberta_neu', 'roberta_pos', 'label'],\n",
       "      dtype='object')"
      ]
     },
     "execution_count": 45,
     "metadata": {},
     "output_type": "execute_result"
    }
   ],
   "source": [
    "merged_df.columns"
   ]
  },
  {
   "cell_type": "markdown",
   "metadata": {},
   "source": [
    "# Examples"
   ]
  },
  {
   "cell_type": "code",
   "execution_count": 46,
   "metadata": {},
   "outputs": [
    {
     "data": {
      "text/plain": [
       "'i am feeling sooo thrilled for getting my hands finally on my very own blackberry and cant wait to use it'"
      ]
     },
     "execution_count": 46,
     "metadata": {},
     "output_type": "execute_result"
    }
   ],
   "source": [
    "results_df.query('label == \"Joy\"').sort_values('roberta_pos', ascending=False)['text'].values[0]\n",
    "merged_df.query('label == \"Joy\"').sort_values('roberta_pos', ascending=False)['text'].values[0]"
   ]
  },
  {
   "cell_type": "code",
   "execution_count": 47,
   "metadata": {},
   "outputs": [
    {
     "data": {
      "text/plain": [
       "'i along happy peaceful feeling fantastic'"
      ]
     },
     "execution_count": 47,
     "metadata": {},
     "output_type": "execute_result"
    }
   ],
   "source": [
    "# results_df.query('label == \"Joy\"').sort_values('vader_pos', ascending=False)['text'].values[0]\n",
    "merged_df.query('label == \"Joy\"').sort_values('vader_pos', ascending=False)['text'].values[0]"
   ]
  },
  {
   "cell_type": "code",
   "execution_count": 48,
   "metadata": {},
   "outputs": [
    {
     "data": {
      "text/plain": [
       "'i am totally disgusted with how my body feels its been a two week free for all for me and i am pretty much repulsed'"
      ]
     },
     "execution_count": 48,
     "metadata": {},
     "output_type": "execute_result"
    }
   ],
   "source": [
    "# results_df.query('label == \"Joy\"').sort_values('roberta_neg', ascending=False)['text'].values[0]\n",
    "merged_df.query('label == \"Joy\"').sort_values('roberta_neg', ascending=False)['text'].values[0]"
   ]
  },
  {
   "cell_type": "code",
   "execution_count": 49,
   "metadata": {},
   "outputs": [
    {
     "data": {
      "text/plain": [
       "'i still wasnt feeling fantastic'"
      ]
     },
     "execution_count": 49,
     "metadata": {},
     "output_type": "execute_result"
    }
   ],
   "source": [
    "# results_df.query('label == \"Joy\"').sort_values('vader_neg', ascending=False)['text'].values[0]\n",
    "merged_df.query('label == \"Joy\"').sort_values('vader_neg', ascending=False)['text'].values[0]"
   ]
  },
  {
   "cell_type": "markdown",
   "metadata": {},
   "source": [
    "# **Neural Network**"
   ]
  },
  {
   "cell_type": "code",
   "execution_count": 50,
   "metadata": {},
   "outputs": [
    {
     "name": "stderr",
     "output_type": "stream",
     "text": [
      "C:\\Users\\arche\\AppData\\Roaming\\Python\\Python312\\site-packages\\keras\\src\\layers\\core\\dense.py:87: UserWarning: Do not pass an `input_shape`/`input_dim` argument to a layer. When using Sequential models, prefer using an `Input(shape)` object as the first layer in the model instead.\n",
      "  super().__init__(activity_regularizer=activity_regularizer, **kwargs)\n"
     ]
    },
    {
     "name": "stdout",
     "output_type": "stream",
     "text": [
      "Epoch 1/40\n",
      "\u001b[1m94/94\u001b[0m \u001b[32m━━━━━━━━━━━━━━━━━━━━\u001b[0m\u001b[37m\u001b[0m \u001b[1m2s\u001b[0m 14ms/step - accuracy: 0.3347 - loss: 1.5800 - val_accuracy: 0.8160 - val_loss: 0.7435\n",
      "Epoch 2/40\n",
      "\u001b[1m94/94\u001b[0m \u001b[32m━━━━━━━━━━━━━━━━━━━━\u001b[0m\u001b[37m\u001b[0m \u001b[1m1s\u001b[0m 12ms/step - accuracy: 0.8632 - loss: 0.5162 - val_accuracy: 0.9073 - val_loss: 0.3055\n",
      "Epoch 3/40\n",
      "\u001b[1m94/94\u001b[0m \u001b[32m━━━━━━━━━━━━━━━━━━━━\u001b[0m\u001b[37m\u001b[0m \u001b[1m1s\u001b[0m 12ms/step - accuracy: 0.9520 - loss: 0.1667 - val_accuracy: 0.8977 - val_loss: 0.2971\n",
      "Epoch 4/40\n",
      "\u001b[1m94/94\u001b[0m \u001b[32m━━━━━━━━━━━━━━━━━━━━\u001b[0m\u001b[37m\u001b[0m \u001b[1m1s\u001b[0m 12ms/step - accuracy: 0.9725 - loss: 0.0943 - val_accuracy: 0.8947 - val_loss: 0.3227\n",
      "Epoch 5/40\n",
      "\u001b[1m94/94\u001b[0m \u001b[32m━━━━━━━━━━━━━━━━━━━━\u001b[0m\u001b[37m\u001b[0m \u001b[1m1s\u001b[0m 12ms/step - accuracy: 0.9788 - loss: 0.0720 - val_accuracy: 0.8853 - val_loss: 0.3319\n",
      "Epoch 6/40\n",
      "\u001b[1m94/94\u001b[0m \u001b[32m━━━━━━━━━━━━━━━━━━━━\u001b[0m\u001b[37m\u001b[0m \u001b[1m1s\u001b[0m 12ms/step - accuracy: 0.9834 - loss: 0.0548 - val_accuracy: 0.8857 - val_loss: 0.3566\n",
      "Epoch 7/40\n",
      "\u001b[1m94/94\u001b[0m \u001b[32m━━━━━━━━━━━━━━━━━━━━\u001b[0m\u001b[37m\u001b[0m \u001b[1m1s\u001b[0m 12ms/step - accuracy: 0.9880 - loss: 0.0418 - val_accuracy: 0.8810 - val_loss: 0.3853\n",
      "Epoch 8/40\n",
      "\u001b[1m94/94\u001b[0m \u001b[32m━━━━━━━━━━━━━━━━━━━━\u001b[0m\u001b[37m\u001b[0m \u001b[1m1s\u001b[0m 12ms/step - accuracy: 0.9906 - loss: 0.0312 - val_accuracy: 0.8800 - val_loss: 0.4029\n",
      "Epoch 9/40\n",
      "\u001b[1m94/94\u001b[0m \u001b[32m━━━━━━━━━━━━━━━━━━━━\u001b[0m\u001b[37m\u001b[0m \u001b[1m1s\u001b[0m 12ms/step - accuracy: 0.9905 - loss: 0.0279 - val_accuracy: 0.8830 - val_loss: 0.4248\n",
      "Epoch 10/40\n",
      "\u001b[1m94/94\u001b[0m \u001b[32m━━━━━━━━━━━━━━━━━━━━\u001b[0m\u001b[37m\u001b[0m \u001b[1m1s\u001b[0m 12ms/step - accuracy: 0.9922 - loss: 0.0273 - val_accuracy: 0.8837 - val_loss: 0.4266\n",
      "Epoch 11/40\n",
      "\u001b[1m94/94\u001b[0m \u001b[32m━━━━━━━━━━━━━━━━━━━━\u001b[0m\u001b[37m\u001b[0m \u001b[1m1s\u001b[0m 12ms/step - accuracy: 0.9916 - loss: 0.0243 - val_accuracy: 0.8760 - val_loss: 0.4333\n",
      "Epoch 12/40\n",
      "\u001b[1m94/94\u001b[0m \u001b[32m━━━━━━━━━━━━━━━━━━━━\u001b[0m\u001b[37m\u001b[0m \u001b[1m1s\u001b[0m 13ms/step - accuracy: 0.9921 - loss: 0.0246 - val_accuracy: 0.8777 - val_loss: 0.4512\n",
      "Epoch 13/40\n",
      "\u001b[1m94/94\u001b[0m \u001b[32m━━━━━━━━━━━━━━━━━━━━\u001b[0m\u001b[37m\u001b[0m \u001b[1m1s\u001b[0m 13ms/step - accuracy: 0.9924 - loss: 0.0228 - val_accuracy: 0.8807 - val_loss: 0.4561\n",
      "Epoch 14/40\n",
      "\u001b[1m94/94\u001b[0m \u001b[32m━━━━━━━━━━━━━━━━━━━━\u001b[0m\u001b[37m\u001b[0m \u001b[1m1s\u001b[0m 12ms/step - accuracy: 0.9935 - loss: 0.0191 - val_accuracy: 0.8787 - val_loss: 0.4738\n",
      "Epoch 15/40\n",
      "\u001b[1m94/94\u001b[0m \u001b[32m━━━━━━━━━━━━━━━━━━━━\u001b[0m\u001b[37m\u001b[0m \u001b[1m1s\u001b[0m 12ms/step - accuracy: 0.9922 - loss: 0.0218 - val_accuracy: 0.8690 - val_loss: 0.4777\n",
      "Epoch 16/40\n",
      "\u001b[1m94/94\u001b[0m \u001b[32m━━━━━━━━━━━━━━━━━━━━\u001b[0m\u001b[37m\u001b[0m \u001b[1m1s\u001b[0m 12ms/step - accuracy: 0.9934 - loss: 0.0181 - val_accuracy: 0.8763 - val_loss: 0.4837\n",
      "Epoch 17/40\n",
      "\u001b[1m94/94\u001b[0m \u001b[32m━━━━━━━━━━━━━━━━━━━━\u001b[0m\u001b[37m\u001b[0m \u001b[1m1s\u001b[0m 12ms/step - accuracy: 0.9943 - loss: 0.0158 - val_accuracy: 0.8663 - val_loss: 0.4973\n",
      "Epoch 18/40\n",
      "\u001b[1m94/94\u001b[0m \u001b[32m━━━━━━━━━━━━━━━━━━━━\u001b[0m\u001b[37m\u001b[0m \u001b[1m1s\u001b[0m 12ms/step - accuracy: 0.9928 - loss: 0.0196 - val_accuracy: 0.8740 - val_loss: 0.4946\n",
      "Epoch 19/40\n",
      "\u001b[1m94/94\u001b[0m \u001b[32m━━━━━━━━━━━━━━━━━━━━\u001b[0m\u001b[37m\u001b[0m \u001b[1m1s\u001b[0m 11ms/step - accuracy: 0.9954 - loss: 0.0142 - val_accuracy: 0.8737 - val_loss: 0.5023\n",
      "Epoch 20/40\n",
      "\u001b[1m94/94\u001b[0m \u001b[32m━━━━━━━━━━━━━━━━━━━━\u001b[0m\u001b[37m\u001b[0m \u001b[1m1s\u001b[0m 12ms/step - accuracy: 0.9945 - loss: 0.0154 - val_accuracy: 0.8673 - val_loss: 0.5251\n",
      "Epoch 21/40\n",
      "\u001b[1m94/94\u001b[0m \u001b[32m━━━━━━━━━━━━━━━━━━━━\u001b[0m\u001b[37m\u001b[0m \u001b[1m1s\u001b[0m 12ms/step - accuracy: 0.9928 - loss: 0.0182 - val_accuracy: 0.8733 - val_loss: 0.5444\n",
      "Epoch 22/40\n",
      "\u001b[1m94/94\u001b[0m \u001b[32m━━━━━━━━━━━━━━━━━━━━\u001b[0m\u001b[37m\u001b[0m \u001b[1m1s\u001b[0m 12ms/step - accuracy: 0.9932 - loss: 0.0182 - val_accuracy: 0.8710 - val_loss: 0.5408\n",
      "Epoch 23/40\n",
      "\u001b[1m94/94\u001b[0m \u001b[32m━━━━━━━━━━━━━━━━━━━━\u001b[0m\u001b[37m\u001b[0m \u001b[1m1s\u001b[0m 12ms/step - accuracy: 0.9945 - loss: 0.0157 - val_accuracy: 0.8730 - val_loss: 0.5575\n",
      "Epoch 24/40\n",
      "\u001b[1m94/94\u001b[0m \u001b[32m━━━━━━━━━━━━━━━━━━━━\u001b[0m\u001b[37m\u001b[0m \u001b[1m1s\u001b[0m 12ms/step - accuracy: 0.9954 - loss: 0.0141 - val_accuracy: 0.8677 - val_loss: 0.5708\n",
      "Epoch 25/40\n",
      "\u001b[1m94/94\u001b[0m \u001b[32m━━━━━━━━━━━━━━━━━━━━\u001b[0m\u001b[37m\u001b[0m \u001b[1m1s\u001b[0m 12ms/step - accuracy: 0.9941 - loss: 0.0160 - val_accuracy: 0.8743 - val_loss: 0.5516\n",
      "Epoch 26/40\n",
      "\u001b[1m94/94\u001b[0m \u001b[32m━━━━━━━━━━━━━━━━━━━━\u001b[0m\u001b[37m\u001b[0m \u001b[1m1s\u001b[0m 12ms/step - accuracy: 0.9933 - loss: 0.0159 - val_accuracy: 0.8677 - val_loss: 0.5633\n",
      "Epoch 27/40\n",
      "\u001b[1m94/94\u001b[0m \u001b[32m━━━━━━━━━━━━━━━━━━━━\u001b[0m\u001b[37m\u001b[0m \u001b[1m1s\u001b[0m 12ms/step - accuracy: 0.9961 - loss: 0.0115 - val_accuracy: 0.8697 - val_loss: 0.5723\n",
      "Epoch 28/40\n",
      "\u001b[1m94/94\u001b[0m \u001b[32m━━━━━━━━━━━━━━━━━━━━\u001b[0m\u001b[37m\u001b[0m \u001b[1m1s\u001b[0m 12ms/step - accuracy: 0.9944 - loss: 0.0164 - val_accuracy: 0.8663 - val_loss: 0.5727\n",
      "Epoch 29/40\n",
      "\u001b[1m94/94\u001b[0m \u001b[32m━━━━━━━━━━━━━━━━━━━━\u001b[0m\u001b[37m\u001b[0m \u001b[1m1s\u001b[0m 12ms/step - accuracy: 0.9956 - loss: 0.0120 - val_accuracy: 0.8693 - val_loss: 0.6013\n",
      "Epoch 30/40\n",
      "\u001b[1m94/94\u001b[0m \u001b[32m━━━━━━━━━━━━━━━━━━━━\u001b[0m\u001b[37m\u001b[0m \u001b[1m1s\u001b[0m 12ms/step - accuracy: 0.9951 - loss: 0.0125 - val_accuracy: 0.8663 - val_loss: 0.5869\n",
      "Epoch 31/40\n",
      "\u001b[1m94/94\u001b[0m \u001b[32m━━━━━━━━━━━━━━━━━━━━\u001b[0m\u001b[37m\u001b[0m \u001b[1m1s\u001b[0m 12ms/step - accuracy: 0.9942 - loss: 0.0128 - val_accuracy: 0.8573 - val_loss: 0.6045\n",
      "Epoch 32/40\n",
      "\u001b[1m94/94\u001b[0m \u001b[32m━━━━━━━━━━━━━━━━━━━━\u001b[0m\u001b[37m\u001b[0m \u001b[1m1s\u001b[0m 12ms/step - accuracy: 0.9931 - loss: 0.0157 - val_accuracy: 0.8650 - val_loss: 0.5980\n",
      "Epoch 33/40\n",
      "\u001b[1m94/94\u001b[0m \u001b[32m━━━━━━━━━━━━━━━━━━━━\u001b[0m\u001b[37m\u001b[0m \u001b[1m1s\u001b[0m 12ms/step - accuracy: 0.9944 - loss: 0.0118 - val_accuracy: 0.8663 - val_loss: 0.6224\n",
      "Epoch 34/40\n",
      "\u001b[1m94/94\u001b[0m \u001b[32m━━━━━━━━━━━━━━━━━━━━\u001b[0m\u001b[37m\u001b[0m \u001b[1m1s\u001b[0m 12ms/step - accuracy: 0.9942 - loss: 0.0144 - val_accuracy: 0.8647 - val_loss: 0.5938\n",
      "Epoch 35/40\n",
      "\u001b[1m94/94\u001b[0m \u001b[32m━━━━━━━━━━━━━━━━━━━━\u001b[0m\u001b[37m\u001b[0m \u001b[1m1s\u001b[0m 12ms/step - accuracy: 0.9957 - loss: 0.0106 - val_accuracy: 0.8703 - val_loss: 0.6039\n",
      "Epoch 36/40\n",
      "\u001b[1m94/94\u001b[0m \u001b[32m━━━━━━━━━━━━━━━━━━━━\u001b[0m\u001b[37m\u001b[0m \u001b[1m1s\u001b[0m 11ms/step - accuracy: 0.9943 - loss: 0.0132 - val_accuracy: 0.8660 - val_loss: 0.6217\n",
      "Epoch 37/40\n",
      "\u001b[1m94/94\u001b[0m \u001b[32m━━━━━━━━━━━━━━━━━━━━\u001b[0m\u001b[37m\u001b[0m \u001b[1m1s\u001b[0m 12ms/step - accuracy: 0.9950 - loss: 0.0117 - val_accuracy: 0.8687 - val_loss: 0.6294\n",
      "Epoch 38/40\n",
      "\u001b[1m94/94\u001b[0m \u001b[32m━━━━━━━━━━━━━━━━━━━━\u001b[0m\u001b[37m\u001b[0m \u001b[1m1s\u001b[0m 12ms/step - accuracy: 0.9944 - loss: 0.0118 - val_accuracy: 0.8630 - val_loss: 0.6257\n",
      "Epoch 39/40\n",
      "\u001b[1m94/94\u001b[0m \u001b[32m━━━━━━━━━━━━━━━━━━━━\u001b[0m\u001b[37m\u001b[0m \u001b[1m1s\u001b[0m 12ms/step - accuracy: 0.9949 - loss: 0.0113 - val_accuracy: 0.8683 - val_loss: 0.6259\n",
      "Epoch 40/40\n",
      "\u001b[1m94/94\u001b[0m \u001b[32m━━━━━━━━━━━━━━━━━━━━\u001b[0m\u001b[37m\u001b[0m \u001b[1m1s\u001b[0m 12ms/step - accuracy: 0.9937 - loss: 0.0140 - val_accuracy: 0.8680 - val_loss: 0.6468\n"
     ]
    },
    {
     "name": "stderr",
     "output_type": "stream",
     "text": [
      "WARNING:absl:You are saving your model as an HDF5 file via `model.save()` or `keras.saving.save_model(model)`. This file format is considered legacy. We recommend using instead the native Keras format, e.g. `model.save('my_model.keras')` or `keras.saving.save_model(model, 'my_model.keras')`. \n"
     ]
    },
    {
     "name": "stdout",
     "output_type": "stream",
     "text": [
      "\u001b[1m94/94\u001b[0m \u001b[32m━━━━━━━━━━━━━━━━━━━━\u001b[0m\u001b[37m\u001b[0m \u001b[1m0s\u001b[0m 2ms/step\n",
      "              precision    recall  f1-score   support\n",
      "\n",
      "       Anger       0.88      0.90      0.89       502\n",
      "        Fear       0.84      0.84      0.84       535\n",
      "         Joy       0.83      0.80      0.82       470\n",
      "        Love       0.89      0.88      0.89       500\n",
      "     Sadness       0.91      0.88      0.89       506\n",
      "    Surprise       0.86      0.90      0.88       487\n",
      "\n",
      "    accuracy                           0.87      3000\n",
      "   macro avg       0.87      0.87      0.87      3000\n",
      "weighted avg       0.87      0.87      0.87      3000\n",
      "\n",
      "\u001b[1m1/1\u001b[0m \u001b[32m━━━━━━━━━━━━━━━━━━━━\u001b[0m\u001b[37m\u001b[0m \u001b[1m0s\u001b[0m 20ms/step\n",
      "Accuracy: 0.87\n",
      "The emotion for the sentence 'I am feeling great and joyful' is: Joy\n"
     ]
    }
   ],
   "source": [
    "import joblib\n",
    "\n",
    "import numpy as np\n",
    "import pandas as pd\n",
    "from sklearn.model_selection import train_test_split\n",
    "from sklearn.preprocessing import LabelEncoder\n",
    "from sklearn.feature_extraction.text import TfidfVectorizer\n",
    "import tensorflow as tf\n",
    "from tensorflow.keras.models import Sequential\n",
    "from tensorflow.keras.layers import Dense, Dropout\n",
    "from tensorflow.keras.optimizers import Adam\n",
    "from sklearn.metrics import accuracy_score, classification_report\n",
    "\n",
    "\n",
    "# tfidf_vectorizer = TfidfVectorizer(ngram_range=(1, 2), max_features=5000, stop_words='english')\n",
    "# tfidf_matrix = tfidf_vectorizer.fit_transform(df['processed_text'].apply(lambda x: ' '.join(x)))\n",
    "\n",
    "\n",
    "# label_encoder = LabelEncoder()\n",
    "# y = label_encoder.fit_transform(df['label'])\n",
    "\n",
    "\n",
    "# X_train, X_test, y_train, y_test = train_test_split(tfidf_matrix, y, test_size=0.2, random_state=42)\n",
    "\n",
    "# # Build the neural network model \n",
    "# model = Sequential()\n",
    "\n",
    "\n",
    "# model.add(Dense(512, input_dim=X_train.shape[1], activation='relu'))\n",
    "# model.add(Dropout(0.5))  # Dropout for regularization\n",
    "\n",
    "# model.add(Dense(256, activation='relu'))\n",
    "# model.add(Dropout(0.5))\n",
    "\n",
    "# model.add(Dense(len(label_encoder.classes_), activation='softmax'))\n",
    "\n",
    "\n",
    "# model.compile(loss='sparse_categorical_crossentropy',  \n",
    "#               optimizer=Adam(), \n",
    "#               metrics=['accuracy'])\n",
    "\n",
    "# # Train the model\n",
    "# model.fit(X_train, y_train, epochs=40, batch_size=128, validation_data=(X_test, y_test))\n",
    "\n",
    "# model.save('emotion_model.h5')\n",
    "# joblib.dump(tfidf_vectorizer, 'tfidf_vectorizer.pkl')\n",
    "# joblib.dump(label_encoder, 'label_encoder.pkl')\n",
    "\n",
    "# # Evaluate the model on the test set\n",
    "# y_pred = model.predict(X_test)\n",
    "# y_pred_classes = np.argmax(y_pred, axis=1)  # Convert probabilities to class labels\n",
    "\n",
    "# # Calculate accuracy\n",
    "# accuracy = accuracy_score(y_test, y_pred_classes)\n",
    "# print(f\"Accuracy: {accuracy:.2f}\")\n",
    "\n",
    "# # Print classification report\n",
    "# print(classification_report(y_test, y_pred_classes, target_names=label_encoder.classes_))\n",
    "\n",
    "# # Example: Predict emotion for a new sentence\n",
    "# new_sentence = \"I am so happy today\"\n",
    "# preprocessed_sentence = ' '.join(preprocess_text(new_sentence))  # Assuming you have a preprocessing function\n",
    "# new_vector = tfidf_vectorizer.transform([preprocessed_sentence]).toarray()\n",
    "\n",
    "# # Predict the emotion for the new sentence\n",
    "# predicted_label = model.predict(new_vector)\n",
    "# predicted_class = np.argmax(predicted_label, axis=1)\n",
    "# predicted_emotion = label_encoder.inverse_transform(predicted_class)\n",
    "\n",
    "# print(f\"The emotion for the sentence '{new_sentence}' is: {predicted_emotion[0]}\")\n",
    "\n",
    "# Preprocess text data using TF-IDF\n",
    "tfidf_vectorizer = TfidfVectorizer(ngram_range=(1, 2), max_features=5000, stop_words='english')\n",
    "tfidf_matrix = tfidf_vectorizer.fit_transform(merged_df['text'])\n",
    "\n",
    "# Combine TF-IDF features with sentiment scores\n",
    "sentiment_features = merged_df[['vader_neg', 'vader_neu', 'vader_pos', 'compound', \n",
    "                                 'roberta_neg', 'roberta_neu', 'roberta_pos']].values\n",
    "combined_features = np.hstack([tfidf_matrix.toarray(), sentiment_features])\n",
    "\n",
    "# Encode labels\n",
    "label_encoder = LabelEncoder()\n",
    "labels = label_encoder.fit_transform(merged_df['label'])\n",
    "\n",
    "# Split the data into training and testing sets\n",
    "X_train, X_test, y_train, y_test = train_test_split(combined_features, labels, test_size=0.2, random_state=42)\n",
    "\n",
    "# Build the neural network model\n",
    "model = Sequential()\n",
    "\n",
    "# Input layer\n",
    "model.add(Dense(512, input_dim=X_train.shape[1], activation='relu'))\n",
    "model.add(Dropout(0.5))  # Dropout for regularization\n",
    "\n",
    "# Hidden layers\n",
    "model.add(Dense(256, activation='relu'))\n",
    "model.add(Dropout(0.5))\n",
    "\n",
    "# Output layer\n",
    "model.add(Dense(len(label_encoder.classes_), activation='softmax'))\n",
    "\n",
    "# Compile the model\n",
    "model.compile(loss='sparse_categorical_crossentropy',  \n",
    "              optimizer=Adam(), \n",
    "              metrics=['accuracy'])\n",
    "\n",
    "# Train the model\n",
    "model.fit(X_train, y_train, epochs=40, batch_size=128, validation_data=(X_test, y_test))\n",
    "\n",
    "# Save the model and preprocessing tools\n",
    "model.save('emotion_model_combined.h5')\n",
    "joblib.dump(tfidf_vectorizer, 'tfidf_vectorizer_combined.pkl')\n",
    "joblib.dump(label_encoder, 'label_encoder_combined.pkl')\n",
    "\n",
    "# Evaluate the model on the test set\n",
    "y_pred = model.predict(X_test)\n",
    "y_pred_classes = np.argmax(y_pred, axis=1)  # Convert probabilities to class labels\n",
    "\n",
    "# Calculate accuracy\n",
    "accuracy = accuracy_score(y_test, y_pred_classes)\n",
    "\n",
    "# Print classification report\n",
    "print(classification_report(y_test, y_pred_classes, target_names=label_encoder.classes_))\n",
    "\n",
    "# Example: Predict emotion for a new sentence\n",
    "new_sentence = \"I am feeling great and joyful\"\n",
    "preprocessed_sentence = tfidf_vectorizer.transform([new_sentence]).toarray()\n",
    "\n",
    "# Combine with neutral sentiment scores for prediction\n",
    "neutral_sentiment = np.array([[0, 0.5, 0.5, 0, 0.5, 0.5, 0.5]])  # Example neutral values\n",
    "new_features = np.hstack([preprocessed_sentence, neutral_sentiment])\n",
    "\n",
    "predicted_label = model.predict(new_features)\n",
    "predicted_class = np.argmax(predicted_label, axis=1)\n",
    "predicted_emotion = label_encoder.inverse_transform(predicted_class)\n",
    "\n",
    "print(f\"Accuracy: {accuracy:.2f}\")\n",
    "print(f\"The emotion for the sentence '{new_sentence}' is: {predicted_emotion[0]}\")"
   ]
  },
  {
   "cell_type": "code",
   "execution_count": 51,
   "metadata": {},
   "outputs": [
    {
     "data": {
      "image/png": "[encoded data removed]",
      "text/plain": [
       "<Figure size 800x600 with 2 Axes>"
      ]
     },
     "metadata": {},
     "output_type": "display_data"
    }
   ],
   "source": [
    "import seaborn as sns\n",
    "import matplotlib.pyplot as plt\n",
    "from sklearn.metrics import confusion_matrix\n",
    "\n",
    "# Assuming y_test (true labels) and y_pred (predicted labels from model) are already defined\n",
    "# If y_pred contains probabilities, use np.argmax to get the predicted class\n",
    "y_pred = np.argmax(y_pred, axis=1)  # Convert probabilities to class labels if needed\n",
    "\n",
    "# Generate the confusion matrix\n",
    "conf_matrix = confusion_matrix(y_test, y_pred)\n",
    "\n",
    "# Create a heatmap using seaborn\n",
    "plt.figure(figsize=(8, 6))  # Set the figure size\n",
    "sns.heatmap(conf_matrix, annot=True, fmt='d', cmap='Blues', xticklabels=label_encoder.classes_, yticklabels=label_encoder.classes_)\n",
    "\n",
    "# Add labels and title\n",
    "plt.xlabel('Predicted Labels')\n",
    "plt.ylabel('True Labels')\n",
    "plt.title('Confusion Matrix Heatmap')\n",
    "\n",
    "# Show the plot\n",
    "plt.show()"
   ]
  },
  {
   "cell_type": "code",
   "execution_count": 52,
   "metadata": {},
   "outputs": [
    {
     "name": "stdout",
     "output_type": "stream",
     "text": [
      "              precision    recall  f1-score   support\n",
      "\n",
      "       Anger       0.88      0.90      0.89       502\n",
      "        Fear       0.84      0.84      0.84       535\n",
      "         Joy       0.83      0.80      0.82       470\n",
      "        Love       0.89      0.88      0.89       500\n",
      "     Sadness       0.91      0.88      0.89       506\n",
      "    Surprise       0.86      0.90      0.88       487\n",
      "\n",
      "    accuracy                           0.87      3000\n",
      "   macro avg       0.87      0.87      0.87      3000\n",
      "weighted avg       0.87      0.87      0.87      3000\n",
      "\n",
      "Accuracy: 0.87\n",
      "\u001b[1m1/1\u001b[0m \u001b[32m━━━━━━━━━━━━━━━━━━━━\u001b[0m\u001b[37m\u001b[0m \u001b[1m0s\u001b[0m 19ms/step\n",
      "The emotion for the sentence 'I am so thankful and happy for today' is: Joy\n"
     ]
    }
   ],
   "source": [
    "print(classification_report(y_test, y_pred_classes, target_names=label_encoder.classes_))\n",
    "\n",
    "accuracy = accuracy_score(y_test, y_pred)\n",
    "print(f\"Accuracy: {accuracy:.2f}\")\n",
    "\n",
    "# Example: Predict emotion for a new sentence\n",
    "new_sentence = \"I am so thankful and happy for today\"\n",
    "\n",
    "# Preprocess the sentence (assuming you have a preprocess_text function)\n",
    "preprocessed_sentence = ' '.join(preprocess_text(new_sentence))\n",
    "\n",
    "# Transform the sentence into a TF-IDF vector\n",
    "new_vector = tfidf_vectorizer.transform([preprocessed_sentence]).toarray()\n",
    "\n",
    "# Use neutral values for sentiment features\n",
    "neutral_sentiment = np.array([[0, 0.5, 0.5, 0, 0.5, 0.5, 0.5]])  # Example neutral values\n",
    "\n",
    "# Combine the TF-IDF vector with neutral sentiment features\n",
    "new_features = np.hstack([new_vector, neutral_sentiment])\n",
    "\n",
    "# Predict the emotion for the new sentence\n",
    "predicted_label = model.predict(new_features)\n",
    "predicted_class = np.argmax(predicted_label, axis=1)\n",
    "predicted_emotion = label_encoder.inverse_transform(predicted_class)\n",
    "\n",
    "print(f\"The emotion for the sentence '{new_sentence}' is: {predicted_emotion[0]}\")\n"
   ]
  },
  {
   "cell_type": "markdown",
   "metadata": {},
   "source": [
    "# **Decision Trees**"
   ]
  },
  {
   "cell_type": "code",
   "execution_count": 53,
   "metadata": {},
   "outputs": [
    {
     "name": "stdout",
     "output_type": "stream",
     "text": [
      "              precision    recall  f1-score   support\n",
      "\n",
      "       Anger       0.82      0.76      0.79       502\n",
      "        Fear       0.75      0.68      0.72       535\n",
      "         Joy       0.69      0.70      0.70       470\n",
      "        Love       0.82      0.81      0.82       500\n",
      "     Sadness       0.63      0.72      0.67       506\n",
      "    Surprise       0.87      0.88      0.88       487\n",
      "\n",
      "    accuracy                           0.76      3000\n",
      "   macro avg       0.76      0.76      0.76      3000\n",
      "weighted avg       0.76      0.76      0.76      3000\n",
      "\n",
      "Accuracy: 0.76\n",
      "Model exported as decision_tree_model_with_features.joblib\n"
     ]
    }
   ],
   "source": [
    "from sklearn.preprocessing import LabelEncoder\n",
    "from sklearn.tree import DecisionTreeClassifier\n",
    "from sklearn.model_selection import train_test_split\n",
    "from sklearn.tree import plot_tree\n",
    "import matplotlib.pyplot as plt\n",
    "\n",
    "\n",
    "# label_encoder = LabelEncoder()\n",
    "\n",
    "# y = label_encoder.fit_transform(df['label'])\n",
    "\n",
    "# X_train, X_test, y_train, y_test = train_test_split(tfidf_matrix, y, test_size=0.2, random_state=42)\n",
    "\n",
    "# clf = DecisionTreeClassifier(random_state=42)\n",
    "# clf.fit(X_train, y_train)\n",
    "\n",
    "# y_pred = clf.predict(X_test)\n",
    "\n",
    "# report = classification_report(y_test, y_pred, target_names=label_encoder.classes_)\n",
    "\n",
    "# print(report)\n",
    "# accuracy = accuracy_score(y_test, y_pred)\n",
    "# print(f\"Accuracy: {accuracy:.2f}\")\n",
    "\n",
    "# # Export the model using joblib\n",
    "# model_filename = 'decision_tree_model.joblib'\n",
    "# joblib.dump(clf, model_filename)\n",
    "# print(f\"Model exported as {model_filename}\") \n",
    "\n",
    "# Combine TF-IDF matrix with sentiment features\n",
    "sentiment_features = merged_df[['vader_neg', 'vader_neu', 'vader_pos', 'compound',\n",
    "                                 'roberta_neg', 'roberta_neu', 'roberta_pos']].values\n",
    "combined_features = np.hstack([tfidf_matrix.toarray(), sentiment_features])\n",
    "\n",
    "# Encode labels\n",
    "label_encoder = LabelEncoder()\n",
    "y = label_encoder.fit_transform(merged_df['label'])\n",
    "\n",
    "# Split data into training and testing sets\n",
    "X_train, X_test, y_train, y_test = train_test_split(combined_features, y, test_size=0.2, random_state=42)\n",
    "\n",
    "# Train Decision Tree Classifier\n",
    "clf = DecisionTreeClassifier(random_state=42)\n",
    "clf.fit(X_train, y_train)\n",
    "\n",
    "# Make predictions\n",
    "y_pred = clf.predict(X_test)\n",
    "\n",
    "# Generate classification report\n",
    "report = classification_report(y_test, y_pred, target_names=label_encoder.classes_)\n",
    "print(report)\n",
    "\n",
    "# Calculate accuracy\n",
    "accuracy = accuracy_score(y_test, y_pred)\n",
    "print(f\"Accuracy: {accuracy:.2f}\")\n",
    "\n",
    "# Export the model\n",
    "model_filename = 'decision_tree_model_with_features.joblib'\n",
    "joblib.dump(clf, model_filename)\n",
    "print(f\"Model exported as {model_filename}\")"
   ]
  },
  {
   "cell_type": "code",
   "execution_count": 54,
   "metadata": {},
   "outputs": [
    {
     "data": {
      "image/png": "[encoded data removed]",
      "text/plain": [
       "<Figure size 800x600 with 2 Axes>"
      ]
     },
     "metadata": {},
     "output_type": "display_data"
    },
    {
     "name": "stdout",
     "output_type": "stream",
     "text": [
      "The emotion for the sentence 'I am so happy today and I am having so much fun' is: Joy\n"
     ]
    }
   ],
   "source": [
    "\n",
    "# print(f\"y_pred type: {type(y_pred)}, shape: {y_pred.shape}\")\n",
    "# print(f\"y_test type: {type(y_test)}, shape: {y_test.shape}\")\n",
    "\n",
    "\n",
    "# if y_pred.ndim == 2:  \n",
    "#     y_pred = np.argmax(y_pred, axis=1)\n",
    "\n",
    "\n",
    "# conf_matrix = confusion_matrix(y_test, y_pred)\n",
    "\n",
    "# plt.figure(figsize=(8, 6))  \n",
    "# sns.heatmap(conf_matrix, annot=True, fmt='d', cmap='Reds', xticklabels=label_encoder.classes_, yticklabels=label_encoder.classes_)\n",
    "\n",
    "\n",
    "# plt.xlabel('Predicted Labels')\n",
    "# plt.ylabel('True Labels')\n",
    "# plt.title('Decision Trees')\n",
    "\n",
    "# plt.show()\n",
    "\n",
    "# Confusion Matrix\n",
    "conf_matrix = confusion_matrix(y_test, y_pred)\n",
    "\n",
    "# Plot confusion matrix as heatmap\n",
    "plt.figure(figsize=(8, 6))\n",
    "sns.heatmap(conf_matrix, annot=True, fmt='d', cmap='Reds', \n",
    "            xticklabels=label_encoder.classes_, yticklabels=label_encoder.classes_)\n",
    "plt.xlabel('Predicted Labels')\n",
    "plt.ylabel('True Labels')\n",
    "plt.title('Decision Tree Confusion Matrix')\n",
    "plt.show()\n",
    "\n",
    "# Example: Predict emotion for a new sentence\n",
    "new_sentence = \"I am so happy today and I am having so much fun\"\n",
    "\n",
    "# Preprocess and transform the text into TF-IDF\n",
    "preprocessed_sentence = ' '.join(preprocess_text(new_sentence))  # Assuming preprocess_text function exists\n",
    "new_vector = tfidf_vectorizer.transform([preprocessed_sentence]).toarray()\n",
    "\n",
    "# Use neutral sentiment values for prediction\n",
    "neutral_sentiment = np.array([[0, 0.5, 0.5, 0, 0.5, 0.5, 0.5]])  # Example neutral sentiment scores\n",
    "new_features = np.hstack([new_vector, neutral_sentiment])\n",
    "\n",
    "# Predict emotion\n",
    "predicted_label = clf.predict(new_features)\n",
    "predicted_emotion = label_encoder.inverse_transform(predicted_label)\n",
    "\n",
    "print(f\"The emotion for the sentence '{new_sentence}' is: {predicted_emotion[0]}\")"
   ]
  },
  {
   "cell_type": "markdown",
   "metadata": {},
   "source": []
  }
 ],
 "metadata": {
  "kernelspec": {
   "display_name": "Python 3",
   "language": "python",
   "name": "python3"
  },
  "language_info": {
   "codemirror_mode": {
    "name": "ipython",
    "version": 3
   },
   "file_extension": ".py",
   "mimetype": "text/x-python",
   "name": "python",
   "nbconvert_exporter": "python",
   "pygments_lexer": "ipython3",
   "version": "3.12.3"
  }
 },
 "nbformat": 4,
 "nbformat_minor": 2
}
