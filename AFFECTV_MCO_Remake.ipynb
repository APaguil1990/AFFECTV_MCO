{
 "cells": [
  {
   "cell_type": "markdown",
   "metadata": {},
   "source": [
    "# **Sentiment Analysis of Twitter Text Data in Python**"
   ]
  },
  {
   "cell_type": "markdown",
   "metadata": {},
   "source": [
    "### This is the Python notebook for sentiment analysis in Python. The following techniques will be utilized:"
   ]
  },
  {
   "cell_type": "markdown",
   "metadata": {},
   "source": [
    "1. **VADER (Valence Aware Dictionary and Sentiment Reasoner) Model** : Bag of Words Approach \n",
    "2. **RoBERTa (Robustly Optimized Bidirectional Encoder Representations from Transformers) Model** : Contextualized Embeddings Approach"
   ]
  },
  {
   "cell_type": "markdown",
   "metadata": {},
   "source": [
    "# **Step 1: Read Data and Data Preprocessing**"
   ]
  },
  {
   "cell_type": "markdown",
   "metadata": {},
   "source": [
    "Import libraries for the following: \n",
    "- Data Manipulation \n",
    "- Data Visualization \n",
    "- Natural Language Processing (NLP) \n",
    "- Exploratory Data Analysis (EDA)"
   ]
  },
  {
   "cell_type": "code",
   "execution_count": 1,
   "metadata": {},
   "outputs": [],
   "source": [
    "# Data manipulation and analysis\n",
    "import pandas as pd    # For handling data in DataFrames, for data manipulation, cleaning, and analysis.\n",
    "import numpy as np     # For numerical operation, arrays, and advanced math functions.\n",
    "\n",
    "# Visualization libraries\n",
    "import matplotlib.pyplot as plt    # For creating static, animated, and interactive visualizations.\n",
    "import seaborn as sns              # High-level interface for creating attractive and informative statistical graphs.\n",
    "\n",
    "# EDA (Exploratory Data Analysis) modules\n",
    "import nltk                             # Natural Language Toolkit, for working with human language data (text).\n",
    "from nltk.corpus import stopwords       # For importing stopwords ('the', 'is') to exclude in text analysis.\n",
    "from collections import Counter         # For counting frequency of elements in list.\n",
    "from nltk.tokenize import word_tokenize # For splitting text into individual words (tokens). \n",
    "from nltk import pos_tag                # For parts of speech (POS) tagging in tokenized text, For linguistic analysis.\n",
    "import re                               # Regular expressions for pattern matching, useful for cleaning or extracting text.\n",
    "\n",
    "# Plotting style\n",
    "plt.style.use('ggplot')     # Sets particular plotting style, for polished plots."
   ]
  },
  {
   "cell_type": "markdown",
   "metadata": {},
   "source": [
    "Load the dataset from a CSV file into a DataFrame"
   ]
  },
  {
   "cell_type": "code",
   "execution_count": 2,
   "metadata": {},
   "outputs": [
    {
     "name": "stdout",
     "output_type": "stream",
     "text": [
      "(416809, 3)\n"
     ]
    }
   ],
   "source": [
    "df_dataset = pd.read_csv('text_modified.csv') \n",
    "print(df_dataset.shape)"
   ]
  },
  {
   "cell_type": "markdown",
   "metadata": {},
   "source": [
    "### Stratified Random Sampling\n",
    "Check label values and distribution"
   ]
  },
  {
   "cell_type": "code",
   "execution_count": 3,
   "metadata": {},
   "outputs": [
    {
     "name": "stdout",
     "output_type": "stream",
     "text": [
      "label\n",
      "Joy         141067\n",
      "Sadness     121187\n",
      "Anger        57317\n",
      "Fear         47712\n",
      "Love         34554\n",
      "Surprise     14972\n",
      "Name: count, dtype: int64\n"
     ]
    }
   ],
   "source": [
    "print(df_dataset['label'].value_counts())"
   ]
  },
  {
   "cell_type": "markdown",
   "metadata": {},
   "source": [
    "Obtain the target sample size per label based on the smallest label size"
   ]
  },
  {
   "cell_type": "code",
   "execution_count": 4,
   "metadata": {},
   "outputs": [],
   "source": [
    "min_count = df_dataset['label'].value_counts().min()\n",
    "sample_size = 5000"
   ]
  },
  {
   "cell_type": "markdown",
   "metadata": {},
   "source": [
    "Perform stratified random sampling with 42 as the seed for a reproducible dataset samples"
   ]
  },
  {
   "cell_type": "code",
   "execution_count": 5,
   "metadata": {},
   "outputs": [
    {
     "name": "stdout",
     "output_type": "stream",
     "text": [
      "label\n",
      "Anger       5000\n",
      "Fear        5000\n",
      "Joy         5000\n",
      "Love        5000\n",
      "Sadness     5000\n",
      "Surprise    5000\n",
      "Name: count, dtype: int64\n"
     ]
    },
    {
     "name": "stderr",
     "output_type": "stream",
     "text": [
      "/var/folders/5d/lv8_nvzx4_z5kndxtdyr5fph0000gn/T/ipykernel_11330/616092931.py:1: DeprecationWarning: DataFrameGroupBy.apply operated on the grouping columns. This behavior is deprecated, and in a future version of pandas the grouping columns will be excluded from the operation. Either pass `include_groups=False` to exclude the groupings or explicitly select the grouping columns after groupby to silence this warning.\n",
      "  df = df_dataset.groupby('label').apply(lambda x: x.sample(n=sample_size, random_state=42)).reset_index(drop=True)\n"
     ]
    }
   ],
   "source": [
    "df = df_dataset.groupby('label').apply(lambda x: x.sample(n=sample_size, random_state=42)).reset_index(drop=True)\n",
    "\n",
    "# Verify the result\n",
    "print(df['label'].value_counts())"
   ]
  },
  {
   "cell_type": "markdown",
   "metadata": {},
   "source": [
    "Display first 5 rows of the dataset"
   ]
  },
  {
   "cell_type": "code",
   "execution_count": 6,
   "metadata": {},
   "outputs": [
    {
     "data": {
      "text/html": [
       "<div>\n",
       "<style scoped>\n",
       "    .dataframe tbody tr th:only-of-type {\n",
       "        vertical-align: middle;\n",
       "    }\n",
       "\n",
       "    .dataframe tbody tr th {\n",
       "        vertical-align: top;\n",
       "    }\n",
       "\n",
       "    .dataframe thead th {\n",
       "        text-align: right;\n",
       "    }\n",
       "</style>\n",
       "<table border=\"1\" class=\"dataframe\">\n",
       "  <thead>\n",
       "    <tr style=\"text-align: right;\">\n",
       "      <th></th>\n",
       "      <th>Index</th>\n",
       "      <th>text</th>\n",
       "      <th>label</th>\n",
       "    </tr>\n",
       "  </thead>\n",
       "  <tbody>\n",
       "    <tr>\n",
       "      <th>0</th>\n",
       "      <td>411553</td>\n",
       "      <td>i feel rebellious and i like it</td>\n",
       "      <td>Anger</td>\n",
       "    </tr>\n",
       "    <tr>\n",
       "      <th>1</th>\n",
       "      <td>18079</td>\n",
       "      <td>i feel completely agitated and full of blame</td>\n",
       "      <td>Anger</td>\n",
       "    </tr>\n",
       "    <tr>\n",
       "      <th>2</th>\n",
       "      <td>282107</td>\n",
       "      <td>i feel like a witch bc im aggravated and i wan...</td>\n",
       "      <td>Anger</td>\n",
       "    </tr>\n",
       "    <tr>\n",
       "      <th>3</th>\n",
       "      <td>49946</td>\n",
       "      <td>i feel really bitchy for doing this but im rea...</td>\n",
       "      <td>Anger</td>\n",
       "    </tr>\n",
       "    <tr>\n",
       "      <th>4</th>\n",
       "      <td>96367</td>\n",
       "      <td>i feel rude but i move past it immediately</td>\n",
       "      <td>Anger</td>\n",
       "    </tr>\n",
       "  </tbody>\n",
       "</table>\n",
       "</div>"
      ],
      "text/plain": [
       "    Index                                               text  label\n",
       "0  411553                    i feel rebellious and i like it  Anger\n",
       "1   18079       i feel completely agitated and full of blame  Anger\n",
       "2  282107  i feel like a witch bc im aggravated and i wan...  Anger\n",
       "3   49946  i feel really bitchy for doing this but im rea...  Anger\n",
       "4   96367         i feel rude but i move past it immediately  Anger"
      ]
     },
     "execution_count": 6,
     "metadata": {},
     "output_type": "execute_result"
    }
   ],
   "source": [
    "df.head()"
   ]
  },
  {
   "cell_type": "markdown",
   "metadata": {},
   "source": [
    "## Data Cleaning"
   ]
  },
  {
   "cell_type": "markdown",
   "metadata": {},
   "source": [
    "- This step is vital because it ensures that the dataset is free from noise, inconsistencies, and irrelevant information, making the data more accurate and reliable for analysis. For the code below, the preprocessing step helps remove unnecessary elements like stopwords, special characters, and numbers, allowing for more meaningful insights from the text data."
   ]
  },
  {
   "cell_type": "code",
   "execution_count": 7,
   "metadata": {},
   "outputs": [
    {
     "name": "stderr",
     "output_type": "stream",
     "text": [
      "[nltk_data] Downloading package stopwords to /Users/zivan/nltk_data...\n",
      "[nltk_data]   Package stopwords is already up-to-date!\n"
     ]
    },
    {
     "data": {
      "text/html": [
       "<div>\n",
       "<style scoped>\n",
       "    .dataframe tbody tr th:only-of-type {\n",
       "        vertical-align: middle;\n",
       "    }\n",
       "\n",
       "    .dataframe tbody tr th {\n",
       "        vertical-align: top;\n",
       "    }\n",
       "\n",
       "    .dataframe thead th {\n",
       "        text-align: right;\n",
       "    }\n",
       "</style>\n",
       "<table border=\"1\" class=\"dataframe\">\n",
       "  <thead>\n",
       "    <tr style=\"text-align: right;\">\n",
       "      <th></th>\n",
       "      <th>Index</th>\n",
       "      <th>text</th>\n",
       "      <th>label</th>\n",
       "      <th>processed_text</th>\n",
       "    </tr>\n",
       "  </thead>\n",
       "  <tbody>\n",
       "    <tr>\n",
       "      <th>0</th>\n",
       "      <td>411553</td>\n",
       "      <td>i feel rebellious and i like it</td>\n",
       "      <td>Anger</td>\n",
       "      <td>[feel, rebellious, like]</td>\n",
       "    </tr>\n",
       "    <tr>\n",
       "      <th>1</th>\n",
       "      <td>18079</td>\n",
       "      <td>i feel completely agitated and full of blame</td>\n",
       "      <td>Anger</td>\n",
       "      <td>[feel, completely, agitated, full, blame]</td>\n",
       "    </tr>\n",
       "    <tr>\n",
       "      <th>2</th>\n",
       "      <td>282107</td>\n",
       "      <td>i feel like a witch bc im aggravated and i wan...</td>\n",
       "      <td>Anger</td>\n",
       "      <td>[feel, like, witch, bc, aggravated, want, go, ...</td>\n",
       "    </tr>\n",
       "    <tr>\n",
       "      <th>3</th>\n",
       "      <td>49946</td>\n",
       "      <td>i feel really bitchy for doing this but im rea...</td>\n",
       "      <td>Anger</td>\n",
       "      <td>[feel, really, bitchy, really, iffy, read, jou...</td>\n",
       "    </tr>\n",
       "    <tr>\n",
       "      <th>4</th>\n",
       "      <td>96367</td>\n",
       "      <td>i feel rude but i move past it immediately</td>\n",
       "      <td>Anger</td>\n",
       "      <td>[feel, rude, move, past, immediately]</td>\n",
       "    </tr>\n",
       "  </tbody>\n",
       "</table>\n",
       "</div>"
      ],
      "text/plain": [
       "    Index                                               text  label  \\\n",
       "0  411553                    i feel rebellious and i like it  Anger   \n",
       "1   18079       i feel completely agitated and full of blame  Anger   \n",
       "2  282107  i feel like a witch bc im aggravated and i wan...  Anger   \n",
       "3   49946  i feel really bitchy for doing this but im rea...  Anger   \n",
       "4   96367         i feel rude but i move past it immediately  Anger   \n",
       "\n",
       "                                      processed_text  \n",
       "0                           [feel, rebellious, like]  \n",
       "1          [feel, completely, agitated, full, blame]  \n",
       "2  [feel, like, witch, bc, aggravated, want, go, ...  \n",
       "3  [feel, really, bitchy, really, iffy, read, jou...  \n",
       "4              [feel, rude, move, past, immediately]  "
      ]
     },
     "execution_count": 7,
     "metadata": {},
     "output_type": "execute_result"
    }
   ],
   "source": [
    "# Download stopwords\n",
    "nltk.download('stopwords')\n",
    "\n",
    "stop_words = set(stopwords.words('english')) \n",
    "\n",
    "# Extend stopwords \n",
    "custom_stop_words = {\n",
    "    \"i\", \n",
    "    \"im\", \n",
    "    \"ive\", \n",
    "    \"dont\", \n",
    "    \"and\", \n",
    "    \"you\", \n",
    "    \"he\", \n",
    "    \"she\", \n",
    "    \"we\", \n",
    "    \"they\", \n",
    "    \"it\", \n",
    "    \"is\", \n",
    "    \"are\", \n",
    "    \"was\", \n",
    "    \"were\", \n",
    "    \"their\", \n",
    "    \"there\"\n",
    "}\n",
    "stop_words.update(custom_stop_words) \n",
    "\n",
    "# Preprocess text (lowercase, remove stopwords, tokenize) \n",
    "def preprocess_text(text): \n",
    "    # Convert lowercase \n",
    "    text = text.lower()\n",
    "    # Remove special characters and numbers \n",
    "    text = re.sub(r'\\W+', ' ', text) \n",
    "    # Tokenize \n",
    "    words = text.split() \n",
    "    # Remove stopwords \n",
    "    words = [word for word in words if word not in stop_words] \n",
    "    return words \n",
    "\n",
    "# Apply preprocessing to dataset \n",
    "df['processed_text'] = df['text'].apply(preprocess_text)\n",
    "df.head()"
   ]
  },
  {
   "cell_type": "markdown",
   "metadata": {},
   "source": [
    "# Exploratory Data Analysis"
   ]
  },
  {
   "cell_type": "markdown",
   "metadata": {},
   "source": [
    "- This step is vital for text sentiment analysis because it helps to understand the underlying structure, patterns, and key features of the data. By performing EDA, we can identify trends, clean the data, and better prepare it for building accurate sentiment models, ensuring insights are derived from meaningful and relevant information."
   ]
  },
  {
   "cell_type": "markdown",
   "metadata": {},
   "source": [
    "Visualizing the distribution of each sentiment label in the sample data."
   ]
  },
  {
   "cell_type": "code",
   "execution_count": 8,
   "metadata": {},
   "outputs": [
    {
     "data": {
      "image/png": "[encoded data removed]",
      "text/plain": [
       "<Figure size 1000x600 with 1 Axes>"
      ]
     },
     "metadata": {},
     "output_type": "display_data"
    }
   ],
   "source": [
    "ax = df['label'].value_counts().sort_index().plot(\n",
    "    kind = 'bar', \n",
    "    title = 'Count by Sentiment Label', \n",
    "    figsize = (10, 6)\n",
    ") \n",
    "ax.set_xlabel('Sentiment Label') \n",
    "plt.show()"
   ]
  },
  {
   "cell_type": "markdown",
   "metadata": {},
   "source": [
    "Display the specific counts of each sentiment label."
   ]
  },
  {
   "cell_type": "code",
   "execution_count": 9,
   "metadata": {},
   "outputs": [
    {
     "data": {
      "text/plain": [
       "label\n",
       "Anger       5000\n",
       "Fear        5000\n",
       "Joy         5000\n",
       "Love        5000\n",
       "Sadness     5000\n",
       "Surprise    5000\n",
       "Name: count, dtype: int64"
      ]
     },
     "execution_count": 9,
     "metadata": {},
     "output_type": "execute_result"
    }
   ],
   "source": [
    "count = df['label'].value_counts()\n",
    "count"
   ]
  },
  {
   "cell_type": "markdown",
   "metadata": {},
   "source": [
    "## Distribution of Emotions\n",
    "\n",
    "### 1) Are certain emotions more prevalent than others in the dataset?\n",
    "\n",
    "The emotions of Joy and Sadness are more prevalent with 346 and 304 instances respectively. These emotions are more dominant in contrast to Love with 76 instances, Anger with 135 instances, Fear with 109 instances, and Surprise with only 30 instances.\n",
    "<br><br>\n",
    "\n",
    "### 2) What is the frequency distribution of each emotion in the dataset?\n",
    "\n",
    "The following are the number of tweets per emotions:\n",
    "- **Sadness**: 304\n",
    "- **Joy**: 346\n",
    "- **Love**: 76\n",
    "- **Anger**: 135\n",
    "- **Fear**: 109\n",
    "- **Surprise**: 30"
   ]
  },
  {
   "cell_type": "markdown",
   "metadata": {},
   "source": [
    "### Data Normalization"
   ]
  },
  {
   "cell_type": "markdown",
   "metadata": {},
   "source": [
    "- Data normalization is important because it helps balance the uneven distribution of senitment labels in the dataset. By ensuring that each emotion label is represented more equally, normalization prevents models from becoming biased towards the more frequent emotions. This results to more accurate and efficient analysis, as the model will better understand and predict all emotions rather than focusing on the majority class."
   ]
  },
  {
   "cell_type": "code",
   "execution_count": 10,
   "metadata": {},
   "outputs": [
    {
     "name": "stdout",
     "output_type": "stream",
     "text": [
      "label\n",
      "Anger       5000\n",
      "Fear        5000\n",
      "Joy         5000\n",
      "Love        5000\n",
      "Sadness     5000\n",
      "Surprise    5000\n",
      "Name: count, dtype: int64\n"
     ]
    }
   ],
   "source": [
    "# Import resample method to tackle imbalance in dataset.\n",
    "from sklearn.utils import resample \n",
    "\n",
    "# Check current distribution of sentiment labels in the dataset.\n",
    "label_counts = df['label'].value_counts() \n",
    "print(label_counts)"
   ]
  },
  {
   "cell_type": "markdown",
   "metadata": {},
   "source": [
    "Plot normalized count of each sentiment label after upsampling"
   ]
  },
  {
   "cell_type": "code",
   "execution_count": 11,
   "metadata": {},
   "outputs": [
    {
     "data": {
      "image/png": "[encoded data removed]",
      "text/plain": [
       "<Figure size 1000x600 with 1 Axes>"
      ]
     },
     "metadata": {},
     "output_type": "display_data"
    }
   ],
   "source": [
    "new_label_counts = df['label'].value_counts() \n",
    "\n",
    "ax = new_label_counts.plot(\n",
    "    kind = 'bar', \n",
    "    title = 'Normalized Count of Sentiment Labels', \n",
    "    figsize = (10, 6)\n",
    ") \n",
    "\n",
    "ax.set_xlabel('Label') \n",
    "plt.show()"
   ]
  },
  {
   "cell_type": "code",
   "execution_count": 12,
   "metadata": {},
   "outputs": [
    {
     "data": {
      "text/html": [
       "<div>\n",
       "<style scoped>\n",
       "    .dataframe tbody tr th:only-of-type {\n",
       "        vertical-align: middle;\n",
       "    }\n",
       "\n",
       "    .dataframe tbody tr th {\n",
       "        vertical-align: top;\n",
       "    }\n",
       "\n",
       "    .dataframe thead th {\n",
       "        text-align: right;\n",
       "    }\n",
       "</style>\n",
       "<table border=\"1\" class=\"dataframe\">\n",
       "  <thead>\n",
       "    <tr style=\"text-align: right;\">\n",
       "      <th></th>\n",
       "      <th>Index</th>\n",
       "      <th>text</th>\n",
       "      <th>label</th>\n",
       "      <th>processed_text</th>\n",
       "    </tr>\n",
       "  </thead>\n",
       "  <tbody>\n",
       "    <tr>\n",
       "      <th>0</th>\n",
       "      <td>411553</td>\n",
       "      <td>i feel rebellious and i like it</td>\n",
       "      <td>Anger</td>\n",
       "      <td>[feel, rebellious, like]</td>\n",
       "    </tr>\n",
       "    <tr>\n",
       "      <th>1</th>\n",
       "      <td>18079</td>\n",
       "      <td>i feel completely agitated and full of blame</td>\n",
       "      <td>Anger</td>\n",
       "      <td>[feel, completely, agitated, full, blame]</td>\n",
       "    </tr>\n",
       "    <tr>\n",
       "      <th>2</th>\n",
       "      <td>282107</td>\n",
       "      <td>i feel like a witch bc im aggravated and i wan...</td>\n",
       "      <td>Anger</td>\n",
       "      <td>[feel, like, witch, bc, aggravated, want, go, ...</td>\n",
       "    </tr>\n",
       "    <tr>\n",
       "      <th>3</th>\n",
       "      <td>49946</td>\n",
       "      <td>i feel really bitchy for doing this but im rea...</td>\n",
       "      <td>Anger</td>\n",
       "      <td>[feel, really, bitchy, really, iffy, read, jou...</td>\n",
       "    </tr>\n",
       "    <tr>\n",
       "      <th>4</th>\n",
       "      <td>96367</td>\n",
       "      <td>i feel rude but i move past it immediately</td>\n",
       "      <td>Anger</td>\n",
       "      <td>[feel, rude, move, past, immediately]</td>\n",
       "    </tr>\n",
       "  </tbody>\n",
       "</table>\n",
       "</div>"
      ],
      "text/plain": [
       "    Index                                               text  label  \\\n",
       "0  411553                    i feel rebellious and i like it  Anger   \n",
       "1   18079       i feel completely agitated and full of blame  Anger   \n",
       "2  282107  i feel like a witch bc im aggravated and i wan...  Anger   \n",
       "3   49946  i feel really bitchy for doing this but im rea...  Anger   \n",
       "4   96367         i feel rude but i move past it immediately  Anger   \n",
       "\n",
       "                                      processed_text  \n",
       "0                           [feel, rebellious, like]  \n",
       "1          [feel, completely, agitated, full, blame]  \n",
       "2  [feel, like, witch, bc, aggravated, want, go, ...  \n",
       "3  [feel, really, bitchy, really, iffy, read, jou...  \n",
       "4              [feel, rude, move, past, immediately]  "
      ]
     },
     "execution_count": 12,
     "metadata": {},
     "output_type": "execute_result"
    }
   ],
   "source": [
    "df.head()"
   ]
  },
  {
   "cell_type": "markdown",
   "metadata": {},
   "source": [
    "Calculate and add two new columns: character count and word count."
   ]
  },
  {
   "cell_type": "code",
   "execution_count": 13,
   "metadata": {},
   "outputs": [
    {
     "data": {
      "text/html": [
       "<div>\n",
       "<style scoped>\n",
       "    .dataframe tbody tr th:only-of-type {\n",
       "        vertical-align: middle;\n",
       "    }\n",
       "\n",
       "    .dataframe tbody tr th {\n",
       "        vertical-align: top;\n",
       "    }\n",
       "\n",
       "    .dataframe thead th {\n",
       "        text-align: right;\n",
       "    }\n",
       "</style>\n",
       "<table border=\"1\" class=\"dataframe\">\n",
       "  <thead>\n",
       "    <tr style=\"text-align: right;\">\n",
       "      <th></th>\n",
       "      <th>processed_text</th>\n",
       "      <th>char_count</th>\n",
       "      <th>word_count</th>\n",
       "    </tr>\n",
       "  </thead>\n",
       "  <tbody>\n",
       "    <tr>\n",
       "      <th>0</th>\n",
       "      <td>[feel, rebellious, like]</td>\n",
       "      <td>18</td>\n",
       "      <td>3</td>\n",
       "    </tr>\n",
       "    <tr>\n",
       "      <th>1</th>\n",
       "      <td>[feel, completely, agitated, full, blame]</td>\n",
       "      <td>31</td>\n",
       "      <td>5</td>\n",
       "    </tr>\n",
       "    <tr>\n",
       "      <th>2</th>\n",
       "      <td>[feel, like, witch, bc, aggravated, want, go, ...</td>\n",
       "      <td>40</td>\n",
       "      <td>9</td>\n",
       "    </tr>\n",
       "    <tr>\n",
       "      <th>3</th>\n",
       "      <td>[feel, really, bitchy, really, iffy, read, jou...</td>\n",
       "      <td>93</td>\n",
       "      <td>19</td>\n",
       "    </tr>\n",
       "    <tr>\n",
       "      <th>4</th>\n",
       "      <td>[feel, rude, move, past, immediately]</td>\n",
       "      <td>27</td>\n",
       "      <td>5</td>\n",
       "    </tr>\n",
       "  </tbody>\n",
       "</table>\n",
       "</div>"
      ],
      "text/plain": [
       "                                      processed_text  char_count  word_count\n",
       "0                           [feel, rebellious, like]          18           3\n",
       "1          [feel, completely, agitated, full, blame]          31           5\n",
       "2  [feel, like, witch, bc, aggravated, want, go, ...          40           9\n",
       "3  [feel, really, bitchy, really, iffy, read, jou...          93          19\n",
       "4              [feel, rude, move, past, immediately]          27           5"
      ]
     },
     "execution_count": 13,
     "metadata": {},
     "output_type": "execute_result"
    }
   ],
   "source": [
    "# Add column 'char_count' that calculates total number of characters in each tweet.\n",
    "df['char_count'] = df['processed_text'].apply(lambda x: sum(len(word) for word in x))\n",
    "\n",
    "# Add column 'word_count' that calculates total number of word in each tweet.\n",
    "df['word_count'] = df['processed_text'].apply(len)\n",
    "\n",
    "# Display first few rows with processed text, character count, and word count columns.\n",
    "df[['processed_text', 'char_count', 'word_count']].head()"
   ]
  },
  {
   "cell_type": "markdown",
   "metadata": {},
   "source": [
    "Calculates average word count for each emotion label in the dataset."
   ]
  },
  {
   "cell_type": "code",
   "execution_count": 14,
   "metadata": {},
   "outputs": [
    {
     "data": {
      "text/plain": [
       "label\n",
       "Anger       8.9768\n",
       "Fear        8.9740\n",
       "Joy         9.3620\n",
       "Love        9.8642\n",
       "Sadness     8.8398\n",
       "Surprise    9.4284\n",
       "Name: word_count, dtype: float64"
      ]
     },
     "execution_count": 14,
     "metadata": {},
     "output_type": "execute_result"
    }
   ],
   "source": [
    "# Group DataFrame by 'label' and calculate mean word count for each label.\n",
    "avg_word_count_by_emotion = df.groupby('label')['word_count'].mean()\n",
    "avg_word_count_by_emotion"
   ]
  },
  {
   "cell_type": "markdown",
   "metadata": {},
   "source": [
    "## Emotion by Word Count\n",
    "\n",
    "### 3) What are the average word counts of the tweets of the different emotions?\n",
    "\n",
    "The following are the average word counts of tweets per emotions:\n",
    "- **Sadness**: 9.129944\n",
    "- **Joy**: 8.306250\n",
    "- **Love**: 9.664634\n",
    "- **Anger**: 9.615854\n",
    "- **Fear**: 9.259036\n",
    "- **Surprise**: 9.443787\n"
   ]
  },
  {
   "cell_type": "markdown",
   "metadata": {},
   "source": [
    "Categorize tweets into 'Short' or 'Long' based on the word count, and plots the distribution of emotions for each length."
   ]
  },
  {
   "cell_type": "code",
   "execution_count": 15,
   "metadata": {},
   "outputs": [
    {
     "data": {
      "text/html": [
       "<div>\n",
       "<style scoped>\n",
       "    .dataframe tbody tr th:only-of-type {\n",
       "        vertical-align: middle;\n",
       "    }\n",
       "\n",
       "    .dataframe tbody tr th {\n",
       "        vertical-align: top;\n",
       "    }\n",
       "\n",
       "    .dataframe thead th {\n",
       "        text-align: right;\n",
       "    }\n",
       "</style>\n",
       "<table border=\"1\" class=\"dataframe\">\n",
       "  <thead>\n",
       "    <tr style=\"text-align: right;\">\n",
       "      <th>label</th>\n",
       "      <th>Anger</th>\n",
       "      <th>Fear</th>\n",
       "      <th>Joy</th>\n",
       "      <th>Love</th>\n",
       "      <th>Sadness</th>\n",
       "      <th>Surprise</th>\n",
       "      <th>Total</th>\n",
       "    </tr>\n",
       "    <tr>\n",
       "      <th>message_length</th>\n",
       "      <th></th>\n",
       "      <th></th>\n",
       "      <th></th>\n",
       "      <th></th>\n",
       "      <th></th>\n",
       "      <th></th>\n",
       "      <th></th>\n",
       "    </tr>\n",
       "  </thead>\n",
       "  <tbody>\n",
       "    <tr>\n",
       "      <th>Long</th>\n",
       "      <td>1578</td>\n",
       "      <td>1562</td>\n",
       "      <td>1702</td>\n",
       "      <td>1899</td>\n",
       "      <td>1548</td>\n",
       "      <td>1722</td>\n",
       "      <td>10011</td>\n",
       "    </tr>\n",
       "    <tr>\n",
       "      <th>Short</th>\n",
       "      <td>3422</td>\n",
       "      <td>3438</td>\n",
       "      <td>3298</td>\n",
       "      <td>3101</td>\n",
       "      <td>3452</td>\n",
       "      <td>3278</td>\n",
       "      <td>19989</td>\n",
       "    </tr>\n",
       "    <tr>\n",
       "      <th>Total</th>\n",
       "      <td>5000</td>\n",
       "      <td>5000</td>\n",
       "      <td>5000</td>\n",
       "      <td>5000</td>\n",
       "      <td>5000</td>\n",
       "      <td>5000</td>\n",
       "      <td>30000</td>\n",
       "    </tr>\n",
       "  </tbody>\n",
       "</table>\n",
       "</div>"
      ],
      "text/plain": [
       "label           Anger  Fear   Joy  Love  Sadness  Surprise  Total\n",
       "message_length                                                   \n",
       "Long             1578  1562  1702  1899     1548      1722  10011\n",
       "Short            3422  3438  3298  3101     3452      3278  19989\n",
       "Total            5000  5000  5000  5000     5000      5000  30000"
      ]
     },
     "execution_count": 15,
     "metadata": {},
     "output_type": "execute_result"
    }
   ],
   "source": [
    "# Add column 'message_length' that classifies each tweet as 'Short' or 'Long' based on whether word count is 10 or less.\n",
    "df['message_length'] = df['word_count'].apply(lambda x: 'Short' if x <= 10 else 'Long') \n",
    "\n",
    "# Calculate distribution of emotions across tweet length categories (Short vs Long). \n",
    "# Group by message length and label, then calculate size of each group. \n",
    "# Unstack to create DataFrame with 'label' as columns.\n",
    "length_emotion_distribution = df.groupby(['message_length', 'label']).size().unstack(fill_value = 0)\n",
    "\n",
    "# Add 'Total' row and column to DataFrame to show total counts.\n",
    "length_emotion_distribution.loc['Total'] = length_emotion_distribution.sum() \n",
    "length_emotion_distribution['Total'] = length_emotion_distribution.sum(axis = 1) \n",
    "\n",
    "# Display emotion distribution by tweet length.\n",
    "length_emotion_distribution "
   ]
  },
  {
   "cell_type": "markdown",
   "metadata": {},
   "source": [
    "Plot distribution of emotions across tweet length categories."
   ]
  },
  {
   "cell_type": "code",
   "execution_count": 16,
   "metadata": {},
   "outputs": [
    {
     "data": {
      "image/png": "[encoded data removed]",
      "text/plain": [
       "<Figure size 1000x600 with 1 Axes>"
      ]
     },
     "metadata": {},
     "output_type": "display_data"
    }
   ],
   "source": [
    "length_emotion_distribution.drop('Total').plot(\n",
    "    kind = 'bar', \n",
    "    stacked = True, \n",
    "    figsize = (10, 6)\n",
    ")\n",
    "plt.title('Distribution of Emotions by Tweet Length')\n",
    "plt.xlabel('Tweet Length Category')\n",
    "plt.ylabel('Number of Tweets')\n",
    "plt.show()"
   ]
  },
  {
   "cell_type": "markdown",
   "metadata": {},
   "source": [
    "## Word Frequency\n",
    "\n",
    "### 4) Are shorter or longer messages more likely to express certain emotions?\n",
    "\n",
    "The table below shows the counts of emotions expressed in short and long messages:\n",
    "\n",
    "| Length Category | Sadness | Joy   | Love | Anger | Fear | Surprise | **Total** |\n",
    "|-----------------|---------|-------|------|-------|------|----------|-----------|\n",
    "| **Long**        | 58    | 62  | 42 | 65  | 63 | 44      | **334** |\n",
    "| **Short**       | 106    | 104 | 118 | 99  | 114 | 125     | **666** |\n",
    "| **Total**       | **164** | **166** | **160** | **164** | **177** | **169** | **1000** |"
   ]
  },
  {
   "cell_type": "markdown",
   "metadata": {},
   "source": [
    "Count common words for each emotion"
   ]
  },
  {
   "cell_type": "code",
   "execution_count": 17,
   "metadata": {},
   "outputs": [
    {
     "name": "stdout",
     "output_type": "stream",
     "text": [
      "Most common words for 'Anger':\n",
      "[('feel', 3317), ('feeling', 1666), ('like', 874), ('really', 343), ('know', 303), ('get', 298), ('people', 275), ('little', 259), ('time', 236), ('want', 232)]\n",
      "\n",
      "Most common words for 'Fear':\n",
      "[('feel', 3292), ('feeling', 1812), ('like', 625), ('little', 378), ('know', 315), ('really', 286), ('still', 276), ('time', 257), ('people', 242), ('bit', 242)]\n",
      "\n",
      "Most common words for 'Joy':\n",
      "[('feel', 3715), ('feeling', 1395), ('like', 916), ('really', 300), ('time', 238), ('know', 232), ('get', 229), ('people', 219), ('would', 213), ('life', 208)]\n",
      "\n",
      "Most common words for 'Love':\n",
      "[('feel', 3578), ('feeling', 1469), ('like', 1113), ('love', 361), ('really', 314), ('know', 303), ('people', 268), ('want', 252), ('time', 250), ('one', 250)]\n",
      "\n",
      "Most common words for 'Sadness':\n",
      "[('feel', 3493), ('feeling', 1686), ('like', 913), ('really', 326), ('know', 325), ('time', 250), ('little', 242), ('would', 218), ('get', 215), ('people', 197)]\n",
      "\n",
      "Most common words for 'Surprise':\n",
      "[('feel', 3288), ('feeling', 1799), ('like', 791), ('overwhelmed', 489), ('weird', 487), ('surprised', 476), ('amazing', 467), ('amazed', 464), ('impressed', 460), ('shocked', 458)]\n",
      "\n"
     ]
    }
   ],
   "source": [
    "common_words = {}\n",
    "for label in df['label'].unique():\n",
    "    # Get all processed words for the emotion\n",
    "    words = df[df['label'] == label]['processed_text'].sum()  # Flatten the list of lists\n",
    "    common_words[label] = Counter(words).most_common(10)  # Get the 10 most common words\n",
    "\n",
    "# Display the most common words for each emotion\n",
    "for emotion, words in common_words.items():\n",
    "    print(f\"Most common words for '{emotion}':\")\n",
    "    print(words)\n",
    "    print()"
   ]
  },
  {
   "cell_type": "markdown",
   "metadata": {},
   "source": [
    "### 5) What are the most common words used in tweets for each emotion?\n",
    "\n",
    "The following are the most common words used in Twitter messages for each emotion:\n",
    "\n",
    "- **Fear:**\n",
    "  - \"feel\" (102), \"feeling\" (66), and \"like\" (19)\n",
    "  \n",
    "- **Sadness:**\n",
    "  - \"feel\" (120), \"feeling\" (55), and \"like\" (3)\n",
    "  \n",
    "- **Love:**\n",
    "  - \"feel\" (104), \"love\" (61), and \"like\" (42)\n",
    "  \n",
    "- **Joy:**\n",
    "  - \"feel\" (120), \"feeling\" (45), and \"like\" (17)\n",
    "  \n",
    "- **Surprise:**\n",
    "  - \"feel\" (132), \"feeling\" (49), and \"like\" (34)\n",
    "  \n",
    "- **Anger:**\n",
    "  - \"feel\" (115), \"feeling\" (54), and \"like\" (31)\n",
    "\n",
    "Words such as \"feel\", \"feeling\", and \"like\" are prominent across all emotions."
   ]
  },
  {
   "cell_type": "markdown",
   "metadata": {},
   "source": [
    "Graph distribution of text character counts."
   ]
  },
  {
   "cell_type": "code",
   "execution_count": 18,
   "metadata": {},
   "outputs": [
    {
     "data": {
      "image/png": "[encoded data removed]",
      "text/plain": [
       "<Figure size 1000x600 with 1 Axes>"
      ]
     },
     "metadata": {},
     "output_type": "display_data"
    }
   ],
   "source": [
    "plt.figure(figsize = (10, 6)) \n",
    "sns.histplot( df['char_count'], bins = 30, kde = True ) \n",
    "plt.title('Distribution of Text Character Counts') \n",
    "plt.xlabel('Character Count') \n",
    "plt.ylabel('Frequency') \n",
    "plt.show()"
   ]
  },
  {
   "cell_type": "markdown",
   "metadata": {},
   "source": [
    "- The graph represents the distribution of character counts in the text data. X-axis shows the number of characters per text, while the y-axis shows the frequency or number of texts that have a paticular character count. \n",
    "\n",
    "- The red line represents the Kernel Density Estimation (KDE), which shows the estimated probability density of the character count distribution. From the graph, most of the texts in the dataset have around 25 to 50 characters, with a peak of around 35 characters. As the character count increseases beyond 50, the frequency of texts with higher character counts gradually decreases."
   ]
  },
  {
   "cell_type": "markdown",
   "metadata": {},
   "source": [
    "Graph distribution of text word counts."
   ]
  },
  {
   "cell_type": "code",
   "execution_count": 19,
   "metadata": {},
   "outputs": [
    {
     "data": {
      "image/png": "[encoded data removed]",
      "text/plain": [
       "<Figure size 1000x600 with 1 Axes>"
      ]
     },
     "metadata": {},
     "output_type": "display_data"
    }
   ],
   "source": [
    "plt.figure(figsize = (10, 6)) \n",
    "sns.histplot( df['word_count'], bins = 30, kde = True ) \n",
    "plt.title('Distribution of Text Word Counts') \n",
    "plt.xlabel('Word Count') \n",
    "plt.ylabel('Frequency') \n",
    "plt.show()"
   ]
  },
  {
   "cell_type": "markdown",
   "metadata": {},
   "source": [
    "- The graph represents the distribution of word counts in the text data. X-axis shows the number of words per text, while the y-axis shows the frequency or number of texts that have a paticular word count. \n",
    "\n",
    "- The red line represents the Kernel Density Estimation (KDE), which shows the estimated probability density of the word count distribution. From the graph, it can be observed that most text contains around 5 to 10 words, with a peak at about 6 words. As word counts increases beyond 10, the frequency of texts with higher word counts decreases steadily. This suggests that most texts in the dataset are relatively short, with very few texts containing more than 20 words."
   ]
  },
  {
   "cell_type": "code",
   "execution_count": 20,
   "metadata": {},
   "outputs": [
    {
     "data": {
      "image/png": "[encoded data removed]",
      "text/plain": [
       "<Figure size 1000x600 with 1 Axes>"
      ]
     },
     "metadata": {},
     "output_type": "display_data"
    }
   ],
   "source": [
    "plt.figure(figsize = (10, 6)) \n",
    "sns.boxplot(x = 'label', y = 'char_count', data = df) \n",
    "plt.title('Character Distribution by Sentiment Label') \n",
    "plt.xlabel('Sentiment Label') \n",
    "plt.ylabel('Character Count') \n",
    "plt.xticks(rotation = 45) \n",
    "plt.show()"
   ]
  },
  {
   "cell_type": "markdown",
   "metadata": {},
   "source": [
    "- The box plot visualizes the character distribution of texts across different sentiment labels: Fear, Joy, Love, Surprise, Anger, and Sadness. The y-axis represents number of characters in each text, while the x-axis shows the different sentiment labels.\n",
    "\n",
    "- **Box and Whiskers:**\n",
    "    - The box represents the interquartile range (IQR), which contains the middle 50% of the data. The bottom of the box shows the first quartile (25th percentile), the top shows the third quartile (75th percentile), and the line in the middle of the box is the median (50th percentile). \n",
    "\n",
    "    - The whiskers extending from the box represents the range of the data within 1.5 times the IQR from the first and third quartiles.\n",
    "\n",
    "- **Circles (Outliers):** \n",
    "    - The circles above the whiskers represent the outliers--data points that fall outside 1.5 times the IQR. These are texts with unusually high character coutns compared to the majority of texts within the specific sentiment label. For example, Fear and Anger labels show some texts that have significantly higher character counts than others, which results in them being marked as outliers."
   ]
  },
  {
   "cell_type": "code",
   "execution_count": 21,
   "metadata": {},
   "outputs": [
    {
     "data": {
      "image/png": "[encoded data removed]",
      "text/plain": [
       "<Figure size 1000x600 with 1 Axes>"
      ]
     },
     "metadata": {},
     "output_type": "display_data"
    }
   ],
   "source": [
    "plt.figure(figsize = (10, 6)) \n",
    "sns.boxplot(x = 'label', y = 'word_count', data = df) \n",
    "plt.title('Word Count Distribution by Sentiment Label') \n",
    "plt.xlabel('Sentiment Label') \n",
    "plt.ylabel('Word Count') \n",
    "plt.xticks(rotation = 45) \n",
    "plt.show()"
   ]
  },
  {
   "cell_type": "markdown",
   "metadata": {},
   "source": [
    "- The box plot visualizes the word count distribution of texts across different sentiment labels: Fear, Joy, Love, Surprise, Anger, and Sadness. The y-axis represents word count in each text, while the x-axis shows the different sentiment labels.\n",
    "\n",
    "- **Box and Whiskers:**\n",
    "    - The box represents the interquartile range (IQR), which contains the middle 50% of the data. The bottom of the box shows the first quartile (25th percentile), the top shows the third quartile (75th percentile), and the line in the middle of the box is the median (50th percentile). \n",
    "\n",
    "    - The whiskers extending from the box represents the range of the data within 1.5 times the IQR from the first and third quartiles.\n",
    "\n",
    "- **Circles (Outliers):** \n",
    "    - The circles above the whiskers represent the outliers--data points that fall outside 1.5 times the IQR. These are texts with unusually high character coutns compared to the majority of texts within the specific sentiment label. For example, Fear and Anger labels show some texts that have significantly higher character counts than others, which results in them being marked as outliers."
   ]
  },
  {
   "cell_type": "markdown",
   "metadata": {},
   "source": [
    "# **NLTK**"
   ]
  },
  {
   "cell_type": "markdown",
   "metadata": {},
   "source": [
    "- NLTK (Natural Language Tookit) is an essential tool for sentiment analysis systems for text data because it provides tools to process text by tokenizing, removing stop words, and steeming, which helps normalize language for analysis. Its extensive lexicon resources, like VADER, are tailored to detect sentiment in social media language, including handling nuances like sarcasm and emphasis. NLTK also allows for part-of-speech (POS) tagging, which helps capture word context, aiding in deeper understanding of sentiment in short, informal tweet structures. "
   ]
  },
  {
   "cell_type": "markdown",
   "metadata": {},
   "source": [
    "Converts the processed list of words back into a single string format for easier visualization and tokenization."
   ]
  },
  {
   "cell_type": "code",
   "execution_count": 22,
   "metadata": {},
   "outputs": [
    {
     "name": "stdout",
     "output_type": "stream",
     "text": [
      "heated argument lover whose intention marry near future rejected started cry stopped crying moment said\n"
     ]
    }
   ],
   "source": [
    "example = ' '.join(df['processed_text'].iloc[5] )\n",
    "print(example)"
   ]
  },
  {
   "cell_type": "markdown",
   "metadata": {},
   "source": [
    "Tokenize sentence into individual words for further processing."
   ]
  },
  {
   "cell_type": "code",
   "execution_count": 23,
   "metadata": {},
   "outputs": [
    {
     "data": {
      "text/plain": [
       "['heated',\n",
       " 'argument',\n",
       " 'lover',\n",
       " 'whose',\n",
       " 'intention',\n",
       " 'marry',\n",
       " 'near',\n",
       " 'future',\n",
       " 'rejected',\n",
       " 'started']"
      ]
     },
     "execution_count": 23,
     "metadata": {},
     "output_type": "execute_result"
    }
   ],
   "source": [
    "tokens = nltk.word_tokenize(example) \n",
    "tokens[:10]"
   ]
  },
  {
   "cell_type": "markdown",
   "metadata": {},
   "source": [
    "Tag each token with corresponding part of speech (POS)."
   ]
  },
  {
   "cell_type": "code",
   "execution_count": 24,
   "metadata": {},
   "outputs": [
    {
     "data": {
      "text/plain": [
       "[('heated', 'VBN'),\n",
       " ('argument', 'NN'),\n",
       " ('lover', 'NN'),\n",
       " ('whose', 'WP$'),\n",
       " ('intention', 'NN'),\n",
       " ('marry', 'NN'),\n",
       " ('near', 'IN'),\n",
       " ('future', 'JJ'),\n",
       " ('rejected', 'VBN'),\n",
       " ('started', 'VBD')]"
      ]
     },
     "execution_count": 24,
     "metadata": {},
     "output_type": "execute_result"
    }
   ],
   "source": [
    "tagged = nltk.pos_tag(tokens) \n",
    "tagged[:10]"
   ]
  },
  {
   "cell_type": "markdown",
   "metadata": {},
   "source": [
    "Identifies and displays named entities (e.g., proper nouns, etc.) in the sentence."
   ]
  },
  {
   "cell_type": "code",
   "execution_count": 25,
   "metadata": {},
   "outputs": [
    {
     "name": "stdout",
     "output_type": "stream",
     "text": [
      "(S\n",
      "  heated/VBN\n",
      "  argument/NN\n",
      "  lover/NN\n",
      "  whose/WP$\n",
      "  intention/NN\n",
      "  marry/NN\n",
      "  near/IN\n",
      "  future/JJ\n",
      "  rejected/VBN\n",
      "  started/VBD\n",
      "  cry/NN\n",
      "  stopped/VBD\n",
      "  crying/VBG\n",
      "  moment/NN\n",
      "  said/VBD)\n"
     ]
    }
   ],
   "source": [
    "entities = nltk.ne_chunk(tagged) \n",
    "entities.pprint()"
   ]
  },
  {
   "cell_type": "markdown",
   "metadata": {},
   "source": [
    "Define function that returns tokens and their POS tags for a list of words."
   ]
  },
  {
   "cell_type": "code",
   "execution_count": 26,
   "metadata": {},
   "outputs": [
    {
     "name": "stdout",
     "output_type": "stream",
     "text": [
      "                                              tokens  \\\n",
      "0                           [feel, rebellious, like]   \n",
      "1          [feel, completely, agitated, full, blame]   \n",
      "2  [feel, like, witch, bc, aggravated, want, go, ...   \n",
      "3  [feel, really, bitchy, really, iffy, read, jou...   \n",
      "4              [feel, rude, move, past, immediately]   \n",
      "\n",
      "                                            pos_tags  \n",
      "0         [(feel, RB), (rebellious, JJ), (like, IN)]  \n",
      "1  [(feel, VB), (completely, RB), (agitated, VBN)...  \n",
      "2  [(feel, NN), (like, IN), (witch, NN), (bc, NN)...  \n",
      "3  [(feel, NN), (really, RB), (bitchy, VBZ), (rea...  \n",
      "4  [(feel, NN), (rude, JJ), (move, NN), (past, IN...  \n"
     ]
    }
   ],
   "source": [
    "def process_tokens(tokens): \n",
    "    pos_tags = pos_tag(tokens) \n",
    "    return tokens, pos_tags\n",
    "\n",
    "# Apply process_tokens function to each row in DataFrame, generating tokens and POS tags for each\n",
    "df['tokens'], df['pos_tags'] = zip( *df['processed_text'].apply(process_tokens) ) \n",
    "print(df[['tokens', 'pos_tags']].head())"
   ]
  },
  {
   "cell_type": "markdown",
   "metadata": {},
   "source": [
    "# **VADER Sentiment Scoring**"
   ]
  },
  {
   "cell_type": "markdown",
   "metadata": {},
   "source": [
    "- VADER (Valence Aware Dictionary and Sentiment Reasoner) model is a rule-based tool for sentiment analysis that's turned especially for social media contexts. It focuses on assessing the sentiment in text based on a lexicon and can capture emotions from not just words but also intensifiers, punctuations, and even emojis."
   ]
  },
  {
   "cell_type": "markdown",
   "metadata": {},
   "source": [
    "Import Sentiment Analyzer and Progress Bar Utility tools"
   ]
  },
  {
   "cell_type": "code",
   "execution_count": 27,
   "metadata": {},
   "outputs": [],
   "source": [
    "from nltk.sentiment import SentimentIntensityAnalyzer   # Import VADER sentiment analysis tool from NLTK library\n",
    "from tqdm.notebook import tqdm                          # Import tqdm's notebook-based progress bar utility to visualize iteration process\n",
    "\n",
    "# Initialize Sentiment Analyzer\n",
    "sia = SentimentIntensityAnalyzer()     # Create an instance of SentimentIntensityAnalyzer, which provides polarity score of a certain text"
   ]
  },
  {
   "cell_type": "markdown",
   "metadata": {},
   "source": [
    "Example 1"
   ]
  },
  {
   "cell_type": "code",
   "execution_count": 28,
   "metadata": {},
   "outputs": [
    {
     "data": {
      "text/plain": [
       "{'neg': 0.649, 'neu': 0.351, 'pos': 0.0, 'compound': -0.5719}"
      ]
     },
     "execution_count": 28,
     "metadata": {},
     "output_type": "execute_result"
    }
   ],
   "source": [
    "sia.polarity_scores('I hate my life')"
   ]
  },
  {
   "cell_type": "markdown",
   "metadata": {},
   "source": [
    "Example 2"
   ]
  },
  {
   "cell_type": "code",
   "execution_count": 29,
   "metadata": {},
   "outputs": [
    {
     "data": {
      "text/plain": [
       "{'neg': 0.0, 'neu': 0.192, 'pos': 0.808, 'compound': 0.6369}"
      ]
     },
     "execution_count": 29,
     "metadata": {},
     "output_type": "execute_result"
    }
   ],
   "source": [
    "sia.polarity_scores('I love you')"
   ]
  },
  {
   "cell_type": "markdown",
   "metadata": {},
   "source": [
    "Get polarity score of example text."
   ]
  },
  {
   "cell_type": "code",
   "execution_count": 30,
   "metadata": {},
   "outputs": [
    {
     "data": {
      "text/plain": [
       "{'neg': 0.521, 'neu': 0.337, 'pos': 0.142, 'compound': -0.8442}"
      ]
     },
     "execution_count": 30,
     "metadata": {},
     "output_type": "execute_result"
    }
   ],
   "source": [
    "sia.polarity_scores(example)"
   ]
  },
  {
   "cell_type": "markdown",
   "metadata": {},
   "source": [
    "Iterate through each row in the DataFrame 'df'."
   ]
  },
  {
   "cell_type": "code",
   "execution_count": 31,
   "metadata": {},
   "outputs": [
    {
     "data": {
      "application/vnd.jupyter.widget-view+json": {
       "model_id": "e887dcc2e63442f4aae2b4e6eb0d8412",
       "version_major": 2,
       "version_minor": 0
      },
      "text/plain": [
       "  0%|          | 0/30000 [00:00<?, ?it/s]"
      ]
     },
     "metadata": {},
     "output_type": "display_data"
    }
   ],
   "source": [
    "# Empty dictionary to store VADER sentiment scores\n",
    "res = {}\n",
    "\n",
    "# Iterate through each row in the DataFrame with a progress bar\n",
    "for i, row in tqdm( df.iterrows(), total = len(df) ): \n",
    "    text = row['text']  # Extract text from each row\n",
    "    id = row['Index']   # Get row's index as 'id'\n",
    "    res[id] = sia.polarity_scores(text) # Use VADER to analyze the sentiment and store each resulting sentiment in 'res'"
   ]
  },
  {
   "cell_type": "markdown",
   "metadata": {},
   "source": [
    "Convert dictionary of results into a DataFrame, transpose it, and reset index."
   ]
  },
  {
   "cell_type": "code",
   "execution_count": 32,
   "metadata": {},
   "outputs": [],
   "source": [
    "vaders = pd.DataFrame(res).T\n",
    "vaders = vaders.reset_index().rename(columns = {\n",
    "    'index': 'id',      # Rename 'index' to 'id' to match with original DataFrame\n",
    "    'neg': 'vader_neg', # Rename columns to specify VADER sentiment scores\n",
    "    'neu': 'vader_neu', \n",
    "    'pos': 'vader_pos'\n",
    "}) \n",
    "\n",
    "# Merge 'vaders' DataFrame with original 'df' on the 'id' column\n",
    "vaders = vaders.merge(df, how='left', left_on='id', right_on='Index')"
   ]
  },
  {
   "cell_type": "markdown",
   "metadata": {},
   "source": [
    "Display final DataFrame."
   ]
  },
  {
   "cell_type": "code",
   "execution_count": 33,
   "metadata": {},
   "outputs": [
    {
     "data": {
      "text/html": [
       "<div>\n",
       "<style scoped>\n",
       "    .dataframe tbody tr th:only-of-type {\n",
       "        vertical-align: middle;\n",
       "    }\n",
       "\n",
       "    .dataframe tbody tr th {\n",
       "        vertical-align: top;\n",
       "    }\n",
       "\n",
       "    .dataframe thead th {\n",
       "        text-align: right;\n",
       "    }\n",
       "</style>\n",
       "<table border=\"1\" class=\"dataframe\">\n",
       "  <thead>\n",
       "    <tr style=\"text-align: right;\">\n",
       "      <th></th>\n",
       "      <th>id</th>\n",
       "      <th>vader_neg</th>\n",
       "      <th>vader_neu</th>\n",
       "      <th>vader_pos</th>\n",
       "      <th>compound</th>\n",
       "      <th>Index</th>\n",
       "      <th>text</th>\n",
       "      <th>label</th>\n",
       "      <th>processed_text</th>\n",
       "      <th>char_count</th>\n",
       "      <th>word_count</th>\n",
       "      <th>message_length</th>\n",
       "      <th>tokens</th>\n",
       "      <th>pos_tags</th>\n",
       "    </tr>\n",
       "  </thead>\n",
       "  <tbody>\n",
       "    <tr>\n",
       "      <th>0</th>\n",
       "      <td>411553</td>\n",
       "      <td>0.286</td>\n",
       "      <td>0.390</td>\n",
       "      <td>0.325</td>\n",
       "      <td>0.0772</td>\n",
       "      <td>411553</td>\n",
       "      <td>i feel rebellious and i like it</td>\n",
       "      <td>Anger</td>\n",
       "      <td>[feel, rebellious, like]</td>\n",
       "      <td>18</td>\n",
       "      <td>3</td>\n",
       "      <td>Short</td>\n",
       "      <td>[feel, rebellious, like]</td>\n",
       "      <td>[(feel, RB), (rebellious, JJ), (like, IN)]</td>\n",
       "    </tr>\n",
       "    <tr>\n",
       "      <th>1</th>\n",
       "      <td>18079</td>\n",
       "      <td>0.532</td>\n",
       "      <td>0.468</td>\n",
       "      <td>0.000</td>\n",
       "      <td>-0.6901</td>\n",
       "      <td>18079</td>\n",
       "      <td>i feel completely agitated and full of blame</td>\n",
       "      <td>Anger</td>\n",
       "      <td>[feel, completely, agitated, full, blame]</td>\n",
       "      <td>31</td>\n",
       "      <td>5</td>\n",
       "      <td>Short</td>\n",
       "      <td>[feel, completely, agitated, full, blame]</td>\n",
       "      <td>[(feel, VB), (completely, RB), (agitated, VBN)...</td>\n",
       "    </tr>\n",
       "    <tr>\n",
       "      <th>2</th>\n",
       "      <td>282107</td>\n",
       "      <td>0.186</td>\n",
       "      <td>0.504</td>\n",
       "      <td>0.310</td>\n",
       "      <td>0.3506</td>\n",
       "      <td>282107</td>\n",
       "      <td>i feel like a witch bc im aggravated and i wan...</td>\n",
       "      <td>Anger</td>\n",
       "      <td>[feel, like, witch, bc, aggravated, want, go, ...</td>\n",
       "      <td>40</td>\n",
       "      <td>9</td>\n",
       "      <td>Short</td>\n",
       "      <td>[feel, like, witch, bc, aggravated, want, go, ...</td>\n",
       "      <td>[(feel, NN), (like, IN), (witch, NN), (bc, NN)...</td>\n",
       "    </tr>\n",
       "    <tr>\n",
       "      <th>3</th>\n",
       "      <td>49946</td>\n",
       "      <td>0.049</td>\n",
       "      <td>0.660</td>\n",
       "      <td>0.292</td>\n",
       "      <td>0.8861</td>\n",
       "      <td>49946</td>\n",
       "      <td>i feel really bitchy for doing this but im rea...</td>\n",
       "      <td>Anger</td>\n",
       "      <td>[feel, really, bitchy, really, iffy, read, jou...</td>\n",
       "      <td>93</td>\n",
       "      <td>19</td>\n",
       "      <td>Long</td>\n",
       "      <td>[feel, really, bitchy, really, iffy, read, jou...</td>\n",
       "      <td>[(feel, NN), (really, RB), (bitchy, VBZ), (rea...</td>\n",
       "    </tr>\n",
       "    <tr>\n",
       "      <th>4</th>\n",
       "      <td>96367</td>\n",
       "      <td>0.250</td>\n",
       "      <td>0.750</td>\n",
       "      <td>0.000</td>\n",
       "      <td>-0.2500</td>\n",
       "      <td>96367</td>\n",
       "      <td>i feel rude but i move past it immediately</td>\n",
       "      <td>Anger</td>\n",
       "      <td>[feel, rude, move, past, immediately]</td>\n",
       "      <td>27</td>\n",
       "      <td>5</td>\n",
       "      <td>Short</td>\n",
       "      <td>[feel, rude, move, past, immediately]</td>\n",
       "      <td>[(feel, NN), (rude, JJ), (move, NN), (past, IN...</td>\n",
       "    </tr>\n",
       "    <tr>\n",
       "      <th>...</th>\n",
       "      <td>...</td>\n",
       "      <td>...</td>\n",
       "      <td>...</td>\n",
       "      <td>...</td>\n",
       "      <td>...</td>\n",
       "      <td>...</td>\n",
       "      <td>...</td>\n",
       "      <td>...</td>\n",
       "      <td>...</td>\n",
       "      <td>...</td>\n",
       "      <td>...</td>\n",
       "      <td>...</td>\n",
       "      <td>...</td>\n",
       "      <td>...</td>\n",
       "    </tr>\n",
       "    <tr>\n",
       "      <th>29995</th>\n",
       "      <td>161528</td>\n",
       "      <td>0.171</td>\n",
       "      <td>0.676</td>\n",
       "      <td>0.153</td>\n",
       "      <td>-0.1154</td>\n",
       "      <td>161528</td>\n",
       "      <td>i told the kids about it but i would face the ...</td>\n",
       "      <td>Surprise</td>\n",
       "      <td>[told, kids, would, face, fear, even, though, ...</td>\n",
       "      <td>50</td>\n",
       "      <td>11</td>\n",
       "      <td>Long</td>\n",
       "      <td>[told, kids, would, face, fear, even, though, ...</td>\n",
       "      <td>[(told, JJ), (kids, NNS), (would, MD), (face, ...</td>\n",
       "    </tr>\n",
       "    <tr>\n",
       "      <th>29996</th>\n",
       "      <td>408874</td>\n",
       "      <td>0.125</td>\n",
       "      <td>0.761</td>\n",
       "      <td>0.114</td>\n",
       "      <td>0.1779</td>\n",
       "      <td>408874</td>\n",
       "      <td>i have this strange expectation that other peo...</td>\n",
       "      <td>Surprise</td>\n",
       "      <td>[strange, expectation, people, feel, strange, ...</td>\n",
       "      <td>83</td>\n",
       "      <td>12</td>\n",
       "      <td>Long</td>\n",
       "      <td>[strange, expectation, people, feel, strange, ...</td>\n",
       "      <td>[(strange, JJ), (expectation, NN), (people, NN...</td>\n",
       "    </tr>\n",
       "    <tr>\n",
       "      <th>29997</th>\n",
       "      <td>412778</td>\n",
       "      <td>0.078</td>\n",
       "      <td>0.559</td>\n",
       "      <td>0.363</td>\n",
       "      <td>0.7269</td>\n",
       "      <td>412778</td>\n",
       "      <td>i feel strange because i m not binary gendered...</td>\n",
       "      <td>Surprise</td>\n",
       "      <td>[feel, strange, binary, gendered, still, feel,...</td>\n",
       "      <td>49</td>\n",
       "      <td>9</td>\n",
       "      <td>Short</td>\n",
       "      <td>[feel, strange, binary, gendered, still, feel,...</td>\n",
       "      <td>[(feel, NN), (strange, JJ), (binary, NN), (gen...</td>\n",
       "    </tr>\n",
       "    <tr>\n",
       "      <th>29998</th>\n",
       "      <td>75033</td>\n",
       "      <td>0.000</td>\n",
       "      <td>0.756</td>\n",
       "      <td>0.244</td>\n",
       "      <td>0.8516</td>\n",
       "      <td>75033</td>\n",
       "      <td>i feel as though whenever i start to become ov...</td>\n",
       "      <td>Surprise</td>\n",
       "      <td>[feel, though, whenever, start, become, overwh...</td>\n",
       "      <td>128</td>\n",
       "      <td>21</td>\n",
       "      <td>Long</td>\n",
       "      <td>[feel, though, whenever, start, become, overwh...</td>\n",
       "      <td>[(feel, VB), (though, IN), (whenever, JJ), (st...</td>\n",
       "    </tr>\n",
       "    <tr>\n",
       "      <th>29999</th>\n",
       "      <td>207174</td>\n",
       "      <td>0.000</td>\n",
       "      <td>0.738</td>\n",
       "      <td>0.262</td>\n",
       "      <td>0.4939</td>\n",
       "      <td>207174</td>\n",
       "      <td>i feel amazed by you more and more as time pro...</td>\n",
       "      <td>Surprise</td>\n",
       "      <td>[feel, amazed, time, progresses]</td>\n",
       "      <td>24</td>\n",
       "      <td>4</td>\n",
       "      <td>Short</td>\n",
       "      <td>[feel, amazed, time, progresses]</td>\n",
       "      <td>[(feel, VB), (amazed, JJ), (time, NN), (progre...</td>\n",
       "    </tr>\n",
       "  </tbody>\n",
       "</table>\n",
       "<p>30000 rows × 14 columns</p>\n",
       "</div>"
      ],
      "text/plain": [
       "           id  vader_neg  vader_neu  vader_pos  compound   Index  \\\n",
       "0      411553      0.286      0.390      0.325    0.0772  411553   \n",
       "1       18079      0.532      0.468      0.000   -0.6901   18079   \n",
       "2      282107      0.186      0.504      0.310    0.3506  282107   \n",
       "3       49946      0.049      0.660      0.292    0.8861   49946   \n",
       "4       96367      0.250      0.750      0.000   -0.2500   96367   \n",
       "...       ...        ...        ...        ...       ...     ...   \n",
       "29995  161528      0.171      0.676      0.153   -0.1154  161528   \n",
       "29996  408874      0.125      0.761      0.114    0.1779  408874   \n",
       "29997  412778      0.078      0.559      0.363    0.7269  412778   \n",
       "29998   75033      0.000      0.756      0.244    0.8516   75033   \n",
       "29999  207174      0.000      0.738      0.262    0.4939  207174   \n",
       "\n",
       "                                                    text     label  \\\n",
       "0                        i feel rebellious and i like it     Anger   \n",
       "1           i feel completely agitated and full of blame     Anger   \n",
       "2      i feel like a witch bc im aggravated and i wan...     Anger   \n",
       "3      i feel really bitchy for doing this but im rea...     Anger   \n",
       "4             i feel rude but i move past it immediately     Anger   \n",
       "...                                                  ...       ...   \n",
       "29995  i told the kids about it but i would face the ...  Surprise   \n",
       "29996  i have this strange expectation that other peo...  Surprise   \n",
       "29997  i feel strange because i m not binary gendered...  Surprise   \n",
       "29998  i feel as though whenever i start to become ov...  Surprise   \n",
       "29999  i feel amazed by you more and more as time pro...  Surprise   \n",
       "\n",
       "                                          processed_text  char_count  \\\n",
       "0                               [feel, rebellious, like]          18   \n",
       "1              [feel, completely, agitated, full, blame]          31   \n",
       "2      [feel, like, witch, bc, aggravated, want, go, ...          40   \n",
       "3      [feel, really, bitchy, really, iffy, read, jou...          93   \n",
       "4                  [feel, rude, move, past, immediately]          27   \n",
       "...                                                  ...         ...   \n",
       "29995  [told, kids, would, face, fear, even, though, ...          50   \n",
       "29996  [strange, expectation, people, feel, strange, ...          83   \n",
       "29997  [feel, strange, binary, gendered, still, feel,...          49   \n",
       "29998  [feel, though, whenever, start, become, overwh...         128   \n",
       "29999                   [feel, amazed, time, progresses]          24   \n",
       "\n",
       "       word_count message_length  \\\n",
       "0               3          Short   \n",
       "1               5          Short   \n",
       "2               9          Short   \n",
       "3              19           Long   \n",
       "4               5          Short   \n",
       "...           ...            ...   \n",
       "29995          11           Long   \n",
       "29996          12           Long   \n",
       "29997           9          Short   \n",
       "29998          21           Long   \n",
       "29999           4          Short   \n",
       "\n",
       "                                                  tokens  \\\n",
       "0                               [feel, rebellious, like]   \n",
       "1              [feel, completely, agitated, full, blame]   \n",
       "2      [feel, like, witch, bc, aggravated, want, go, ...   \n",
       "3      [feel, really, bitchy, really, iffy, read, jou...   \n",
       "4                  [feel, rude, move, past, immediately]   \n",
       "...                                                  ...   \n",
       "29995  [told, kids, would, face, fear, even, though, ...   \n",
       "29996  [strange, expectation, people, feel, strange, ...   \n",
       "29997  [feel, strange, binary, gendered, still, feel,...   \n",
       "29998  [feel, though, whenever, start, become, overwh...   \n",
       "29999                   [feel, amazed, time, progresses]   \n",
       "\n",
       "                                                pos_tags  \n",
       "0             [(feel, RB), (rebellious, JJ), (like, IN)]  \n",
       "1      [(feel, VB), (completely, RB), (agitated, VBN)...  \n",
       "2      [(feel, NN), (like, IN), (witch, NN), (bc, NN)...  \n",
       "3      [(feel, NN), (really, RB), (bitchy, VBZ), (rea...  \n",
       "4      [(feel, NN), (rude, JJ), (move, NN), (past, IN...  \n",
       "...                                                  ...  \n",
       "29995  [(told, JJ), (kids, NNS), (would, MD), (face, ...  \n",
       "29996  [(strange, JJ), (expectation, NN), (people, NN...  \n",
       "29997  [(feel, NN), (strange, JJ), (binary, NN), (gen...  \n",
       "29998  [(feel, VB), (though, IN), (whenever, JJ), (st...  \n",
       "29999  [(feel, VB), (amazed, JJ), (time, NN), (progre...  \n",
       "\n",
       "[30000 rows x 14 columns]"
      ]
     },
     "execution_count": 33,
     "metadata": {},
     "output_type": "execute_result"
    }
   ],
   "source": [
    "vaders"
   ]
  },
  {
   "cell_type": "markdown",
   "metadata": {},
   "source": [
    "## **Plot VADER Results**"
   ]
  },
  {
   "cell_type": "code",
   "execution_count": 34,
   "metadata": {},
   "outputs": [
    {
     "name": "stderr",
     "output_type": "stream",
     "text": [
      "/var/folders/5d/lv8_nvzx4_z5kndxtdyr5fph0000gn/T/ipykernel_11330/709517055.py:7: UserWarning: set_ticklabels() should only be used with a fixed number of ticks, i.e. after set_ticks() or using a FixedLocator.\n",
      "  ax.set_xticklabels(ax.get_xticklabels(), rotation = 45, ha = \"right\", fontsize = 12)\n"
     ]
    },
    {
     "data": {
      "image/png": "[encoded data removed]",
      "text/plain": [
       "<Figure size 640x480 with 1 Axes>"
      ]
     },
     "metadata": {},
     "output_type": "display_data"
    }
   ],
   "source": [
    "ax = sns.barplot(\n",
    "    data = vaders, \n",
    "    x = 'label', \n",
    "    y = 'compound'\n",
    ")\n",
    "ax.set_title('Compound Score by Text Sentiment Label')\n",
    "ax.set_xticklabels(ax.get_xticklabels(), rotation = 45, ha = \"right\", fontsize = 12) \n",
    "plt.tight_layout() \n",
    "plt.show()"
   ]
  },
  {
   "cell_type": "markdown",
   "metadata": {},
   "source": [
    "The bar plot visualizes the average compound sentiment score from the VADER sentiment analysis for each emotion label. Here's the analysis: \n",
    "\n",
    "   - **Joy and Love** exhibit the highest compound scores, indicating that these emotions are generally associated with positive sentiment in the text. \n",
    "\n",
    "   - **Surprise** shows a moderate positive compound score, which might reflect its mixed or neutral association, depending on the context. \n",
    "   \n",
    "   - **Fear, Anger, and Sadness** have negative compound scores, aligning with their inherently negative connotations in sentiment analysis system.\n",
    "\n",
    "This distribution aligns with typical sentiment expectations--positive emotions (like Joy and Love) yield positive scores, while negative emotions (like Fear and Sadness) yield negative scores, confirming that VADER effectively captures the polarity of these sentiments. "
   ]
  },
  {
   "cell_type": "code",
   "execution_count": 35,
   "metadata": {},
   "outputs": [
    {
     "data": {
      "image/png": "[encoded data removed]",
      "text/plain": [
       "<Figure size 1200x300 with 3 Axes>"
      ]
     },
     "metadata": {},
     "output_type": "display_data"
    }
   ],
   "source": [
    "fig, axs = plt.subplots(1, 3, figsize = (12, 3)) \n",
    "sns.barplot(data = vaders, x = 'label', y = 'vader_pos', ax = axs[0]) \n",
    "sns.barplot(data = vaders, x = 'label', y = 'vader_neu', ax = axs[1]) \n",
    "sns.barplot(data = vaders, x = 'label', y = 'vader_neg', ax = axs[2]) \n",
    "axs[0].set_title('Positive Sentiment') \n",
    "axs[1].set_title('Neutral Sentiment') \n",
    "axs[2].set_title('Negative Sentiment') \n",
    "plt.tight_layout()\n",
    "plt.show() "
   ]
  },
  {
   "cell_type": "markdown",
   "metadata": {},
   "source": [
    "- The graphs represent the breakdown of positive, neutral, and negative sentiment scores for various emotional labels in the dataset. The \"Positive Sentiment\" graph shows that \"Joy\" has the highest positive score, followe by \"Love\" and \"Surprise\", suggesting these emotions are associated with positive language. The \"Neutral Sentiment\" graph is consistent across all labels, indicating a generally neutral tone in the text, while the \"Negative Sentiment\" graph highlights \"Fear\", \"Anger\", and \"Sadness\" with higher negative scores, showing these emotions are associated with negative expressions. "
   ]
  },
  {
   "cell_type": "markdown",
   "metadata": {},
   "source": [
    "# **RoBERTa Model**"
   ]
  },
  {
   "cell_type": "markdown",
   "metadata": {},
   "source": [
    "- RoBERTa model introduces a powerful transformer-based approach for understanding nuanced language patterns in text data. RoBERTa (Robustly Optimized Bidirectional Encoder Representations from Transformers) model has been fine-tuned to capture complex contextual relationships within text, making it well-suited for identifying subtle sentiment differences. It leveregaes bidirectional attention, meaning it analyzes context both before and after each word, which helps interpret sarcasm, irony, and other complexities often present in text data. "
   ]
  },
  {
   "cell_type": "markdown",
   "metadata": {},
   "source": [
    "Import the necessary libraries."
   ]
  },
  {
   "cell_type": "code",
   "execution_count": 36,
   "metadata": {},
   "outputs": [],
   "source": [
    "from transformers import AutoTokenizer \n",
    "from transformers import AutoModelForSequenceClassification \n",
    "\n",
    "# Import softmax function for probability conversion\n",
    "from scipy.special import softmax "
   ]
  },
  {
   "cell_type": "markdown",
   "metadata": {},
   "source": [
    "Specify RoBERTa model version pre-trained on Twitter sentiment data."
   ]
  },
  {
   "cell_type": "code",
   "execution_count": 37,
   "metadata": {},
   "outputs": [
    {
     "name": "stderr",
     "output_type": "stream",
     "text": [
      "Some weights of the model checkpoint at cardiffnlp/twitter-roberta-base-sentiment-latest were not used when initializing RobertaForSequenceClassification: ['roberta.pooler.dense.bias', 'roberta.pooler.dense.weight']\n",
      "- This IS expected if you are initializing RobertaForSequenceClassification from the checkpoint of a model trained on another task or with another architecture (e.g. initializing a BertForSequenceClassification model from a BertForPreTraining model).\n",
      "- This IS NOT expected if you are initializing RobertaForSequenceClassification from the checkpoint of a model that you expect to be exactly identical (initializing a BertForSequenceClassification model from a BertForSequenceClassification model).\n"
     ]
    }
   ],
   "source": [
    "MODEL = f\"cardiffnlp/twitter-roberta-base-sentiment-latest\"\n",
    "\n",
    "# Load tokenizer for the RoBERTa model to convert text into tokens\n",
    "tokenizer = AutoTokenizer.from_pretrained(MODEL)\n",
    "\n",
    "# Load sentiment analysis model for sequence classification\n",
    "model = AutoModelForSequenceClassification.from_pretrained(MODEL)"
   ]
  },
  {
   "cell_type": "code",
   "execution_count": 38,
   "metadata": {},
   "outputs": [
    {
     "name": "stdout",
     "output_type": "stream",
     "text": [
      "{'roberta_neg': np.float32(0.62513226), 'roberta_neu': np.float32(0.34692845), 'roberta_pos': np.float32(0.027939232)}\n"
     ]
    }
   ],
   "source": [
    "encoded_text = tokenizer(example, return_tensors='pt')\n",
    "output = model(**encoded_text) \n",
    "scores = output[0][0].detach().numpy() \n",
    "scores = softmax(scores) \n",
    "scores_dict = {\n",
    "    'roberta_neg' : scores[0], \n",
    "    'roberta_neu' : scores[1], \n",
    "    'roberta_pos' : scores[2]\n",
    "} \n",
    "print(scores_dict)"
   ]
  },
  {
   "cell_type": "markdown",
   "metadata": {},
   "source": [
    "Declare function that calculates sentiment scores for a given text using the RoBERTa model. The function tokenizes, runs it through the model, applies the softmax function to get probabilities, and returns a dictionary with negative, neutral, and positive sentiment scores."
   ]
  },
  {
   "cell_type": "code",
   "execution_count": 39,
   "metadata": {},
   "outputs": [],
   "source": [
    "def polarity_scores_roberta(example): \n",
    "    # Tokenize input text for the RoBERTa model, outputting tensors in PyTorch format\n",
    "    encoded_text = tokenizer(example, return_tensors='pt') \n",
    "\n",
    "    # Perform inference on the encoded text using the model\n",
    "    output = model(**encoded_text) \n",
    "\n",
    "    # Extract model output and convert it to NumPy array for softmax processing\n",
    "    scores = output[0][0].detach().numpy() \n",
    "\n",
    "    # Apply softmax function to obtain sentiment probabilities\n",
    "    scores = softmax(scores)                     \n",
    "\n",
    "    # Create dictionary with sentiment scores labeled as negative, neutral, and positive\n",
    "    scores_dict = {\n",
    "        'roberta_neg' : scores[0],  # Negative sentiment score\n",
    "        'roberta_neu' : scores[1],  # Neutral sentiment score\n",
    "        'roberta_pos' : scores[2]   # Positive sentiment score\n",
    "    } \n",
    "    # Return dictionary containing sentiment scores\n",
    "    return scores_dict"
   ]
  },
  {
   "cell_type": "markdown",
   "metadata": {},
   "source": [
    "Loop iterates over each row in a DataFrame, processes the text with both VADER and RoBERTa sentiment analysis, renames the VADER keys for clarity, and combine the scores from both models."
   ]
  },
  {
   "cell_type": "code",
   "execution_count": 40,
   "metadata": {},
   "outputs": [
    {
     "data": {
      "application/vnd.jupyter.widget-view+json": {
       "model_id": "1a413aa512bd4f3d87de32e2b2bd81b7",
       "version_major": 2,
       "version_minor": 0
      },
      "text/plain": [
       "  0%|          | 0/30000 [00:00<?, ?it/s]"
      ]
     },
     "metadata": {},
     "output_type": "display_data"
    },
    {
     "ename": "KeyboardInterrupt",
     "evalue": "",
     "output_type": "error",
     "traceback": [
      "\u001b[0;31m---------------------------------------------------------------------------\u001b[0m",
      "\u001b[0;31mKeyboardInterrupt\u001b[0m                         Traceback (most recent call last)",
      "Cell \u001b[0;32mIn[40], line 11\u001b[0m\n\u001b[1;32m      9\u001b[0m     \u001b[38;5;28mid\u001b[39m \u001b[38;5;241m=\u001b[39m row[\u001b[38;5;124m'\u001b[39m\u001b[38;5;124mIndex\u001b[39m\u001b[38;5;124m'\u001b[39m]\n\u001b[1;32m     10\u001b[0m     \u001b[38;5;66;03m# Get RoBERTa sentiment scores using custom function\u001b[39;00m\n\u001b[0;32m---> 11\u001b[0m     roberta_result \u001b[38;5;241m=\u001b[39m \u001b[43mpolarity_scores_roberta\u001b[49m\u001b[43m(\u001b[49m\u001b[43mtext\u001b[49m\u001b[43m)\u001b[49m \n\u001b[1;32m     12\u001b[0m     res[\u001b[38;5;28mid\u001b[39m] \u001b[38;5;241m=\u001b[39m roberta_result\n\u001b[1;32m     13\u001b[0m \u001b[38;5;28;01mexcept\u001b[39;00m \u001b[38;5;167;01mRuntimeError\u001b[39;00m: \n\u001b[1;32m     14\u001b[0m      \u001b[38;5;66;03m#Print error message if there is an issue processing a row\u001b[39;00m\n",
      "Cell \u001b[0;32mIn[39], line 6\u001b[0m, in \u001b[0;36mpolarity_scores_roberta\u001b[0;34m(example)\u001b[0m\n\u001b[1;32m      3\u001b[0m encoded_text \u001b[38;5;241m=\u001b[39m tokenizer(example, return_tensors\u001b[38;5;241m=\u001b[39m\u001b[38;5;124m'\u001b[39m\u001b[38;5;124mpt\u001b[39m\u001b[38;5;124m'\u001b[39m) \n\u001b[1;32m      5\u001b[0m \u001b[38;5;66;03m# Perform inference on the encoded text using the model\u001b[39;00m\n\u001b[0;32m----> 6\u001b[0m output \u001b[38;5;241m=\u001b[39m \u001b[43mmodel\u001b[49m\u001b[43m(\u001b[49m\u001b[38;5;241;43m*\u001b[39;49m\u001b[38;5;241;43m*\u001b[39;49m\u001b[43mencoded_text\u001b[49m\u001b[43m)\u001b[49m \n\u001b[1;32m      8\u001b[0m \u001b[38;5;66;03m# Extract model output and convert it to NumPy array for softmax processing\u001b[39;00m\n\u001b[1;32m      9\u001b[0m scores \u001b[38;5;241m=\u001b[39m output[\u001b[38;5;241m0\u001b[39m][\u001b[38;5;241m0\u001b[39m]\u001b[38;5;241m.\u001b[39mdetach()\u001b[38;5;241m.\u001b[39mnumpy() \n",
      "File \u001b[0;32m/Library/Frameworks/Python.framework/Versions/3.12/lib/python3.12/site-packages/torch/nn/modules/module.py:1736\u001b[0m, in \u001b[0;36mModule._wrapped_call_impl\u001b[0;34m(self, *args, **kwargs)\u001b[0m\n\u001b[1;32m   1734\u001b[0m     \u001b[38;5;28;01mreturn\u001b[39;00m \u001b[38;5;28mself\u001b[39m\u001b[38;5;241m.\u001b[39m_compiled_call_impl(\u001b[38;5;241m*\u001b[39margs, \u001b[38;5;241m*\u001b[39m\u001b[38;5;241m*\u001b[39mkwargs)  \u001b[38;5;66;03m# type: ignore[misc]\u001b[39;00m\n\u001b[1;32m   1735\u001b[0m \u001b[38;5;28;01melse\u001b[39;00m:\n\u001b[0;32m-> 1736\u001b[0m     \u001b[38;5;28;01mreturn\u001b[39;00m \u001b[38;5;28;43mself\u001b[39;49m\u001b[38;5;241;43m.\u001b[39;49m\u001b[43m_call_impl\u001b[49m\u001b[43m(\u001b[49m\u001b[38;5;241;43m*\u001b[39;49m\u001b[43margs\u001b[49m\u001b[43m,\u001b[49m\u001b[43m \u001b[49m\u001b[38;5;241;43m*\u001b[39;49m\u001b[38;5;241;43m*\u001b[39;49m\u001b[43mkwargs\u001b[49m\u001b[43m)\u001b[49m\n",
      "File \u001b[0;32m/Library/Frameworks/Python.framework/Versions/3.12/lib/python3.12/site-packages/torch/nn/modules/module.py:1747\u001b[0m, in \u001b[0;36mModule._call_impl\u001b[0;34m(self, *args, **kwargs)\u001b[0m\n\u001b[1;32m   1742\u001b[0m \u001b[38;5;66;03m# If we don't have any hooks, we want to skip the rest of the logic in\u001b[39;00m\n\u001b[1;32m   1743\u001b[0m \u001b[38;5;66;03m# this function, and just call forward.\u001b[39;00m\n\u001b[1;32m   1744\u001b[0m \u001b[38;5;28;01mif\u001b[39;00m \u001b[38;5;129;01mnot\u001b[39;00m (\u001b[38;5;28mself\u001b[39m\u001b[38;5;241m.\u001b[39m_backward_hooks \u001b[38;5;129;01mor\u001b[39;00m \u001b[38;5;28mself\u001b[39m\u001b[38;5;241m.\u001b[39m_backward_pre_hooks \u001b[38;5;129;01mor\u001b[39;00m \u001b[38;5;28mself\u001b[39m\u001b[38;5;241m.\u001b[39m_forward_hooks \u001b[38;5;129;01mor\u001b[39;00m \u001b[38;5;28mself\u001b[39m\u001b[38;5;241m.\u001b[39m_forward_pre_hooks\n\u001b[1;32m   1745\u001b[0m         \u001b[38;5;129;01mor\u001b[39;00m _global_backward_pre_hooks \u001b[38;5;129;01mor\u001b[39;00m _global_backward_hooks\n\u001b[1;32m   1746\u001b[0m         \u001b[38;5;129;01mor\u001b[39;00m _global_forward_hooks \u001b[38;5;129;01mor\u001b[39;00m _global_forward_pre_hooks):\n\u001b[0;32m-> 1747\u001b[0m     \u001b[38;5;28;01mreturn\u001b[39;00m \u001b[43mforward_call\u001b[49m\u001b[43m(\u001b[49m\u001b[38;5;241;43m*\u001b[39;49m\u001b[43margs\u001b[49m\u001b[43m,\u001b[49m\u001b[43m \u001b[49m\u001b[38;5;241;43m*\u001b[39;49m\u001b[38;5;241;43m*\u001b[39;49m\u001b[43mkwargs\u001b[49m\u001b[43m)\u001b[49m\n\u001b[1;32m   1749\u001b[0m result \u001b[38;5;241m=\u001b[39m \u001b[38;5;28;01mNone\u001b[39;00m\n\u001b[1;32m   1750\u001b[0m called_always_called_hooks \u001b[38;5;241m=\u001b[39m \u001b[38;5;28mset\u001b[39m()\n",
      "File \u001b[0;32m/Library/Frameworks/Python.framework/Versions/3.12/lib/python3.12/site-packages/transformers/models/roberta/modeling_roberta.py:1318\u001b[0m, in \u001b[0;36mRobertaForSequenceClassification.forward\u001b[0;34m(self, input_ids, attention_mask, token_type_ids, position_ids, head_mask, inputs_embeds, labels, output_attentions, output_hidden_states, return_dict)\u001b[0m\n\u001b[1;32m   1310\u001b[0m \u001b[38;5;250m\u001b[39m\u001b[38;5;124mr\u001b[39m\u001b[38;5;124;03m\"\"\"\u001b[39;00m\n\u001b[1;32m   1311\u001b[0m \u001b[38;5;124;03mlabels (`torch.LongTensor` of shape `(batch_size,)`, *optional*):\u001b[39;00m\n\u001b[1;32m   1312\u001b[0m \u001b[38;5;124;03m    Labels for computing the sequence classification/regression loss. Indices should be in `[0, ...,\u001b[39;00m\n\u001b[1;32m   1313\u001b[0m \u001b[38;5;124;03m    config.num_labels - 1]`. If `config.num_labels == 1` a regression loss is computed (Mean-Square loss), If\u001b[39;00m\n\u001b[1;32m   1314\u001b[0m \u001b[38;5;124;03m    `config.num_labels > 1` a classification loss is computed (Cross-Entropy).\u001b[39;00m\n\u001b[1;32m   1315\u001b[0m \u001b[38;5;124;03m\"\"\"\u001b[39;00m\n\u001b[1;32m   1316\u001b[0m return_dict \u001b[38;5;241m=\u001b[39m return_dict \u001b[38;5;28;01mif\u001b[39;00m return_dict \u001b[38;5;129;01mis\u001b[39;00m \u001b[38;5;129;01mnot\u001b[39;00m \u001b[38;5;28;01mNone\u001b[39;00m \u001b[38;5;28;01melse\u001b[39;00m \u001b[38;5;28mself\u001b[39m\u001b[38;5;241m.\u001b[39mconfig\u001b[38;5;241m.\u001b[39muse_return_dict\n\u001b[0;32m-> 1318\u001b[0m outputs \u001b[38;5;241m=\u001b[39m \u001b[38;5;28;43mself\u001b[39;49m\u001b[38;5;241;43m.\u001b[39;49m\u001b[43mroberta\u001b[49m\u001b[43m(\u001b[49m\n\u001b[1;32m   1319\u001b[0m \u001b[43m    \u001b[49m\u001b[43minput_ids\u001b[49m\u001b[43m,\u001b[49m\n\u001b[1;32m   1320\u001b[0m \u001b[43m    \u001b[49m\u001b[43mattention_mask\u001b[49m\u001b[38;5;241;43m=\u001b[39;49m\u001b[43mattention_mask\u001b[49m\u001b[43m,\u001b[49m\n\u001b[1;32m   1321\u001b[0m \u001b[43m    \u001b[49m\u001b[43mtoken_type_ids\u001b[49m\u001b[38;5;241;43m=\u001b[39;49m\u001b[43mtoken_type_ids\u001b[49m\u001b[43m,\u001b[49m\n\u001b[1;32m   1322\u001b[0m \u001b[43m    \u001b[49m\u001b[43mposition_ids\u001b[49m\u001b[38;5;241;43m=\u001b[39;49m\u001b[43mposition_ids\u001b[49m\u001b[43m,\u001b[49m\n\u001b[1;32m   1323\u001b[0m \u001b[43m    \u001b[49m\u001b[43mhead_mask\u001b[49m\u001b[38;5;241;43m=\u001b[39;49m\u001b[43mhead_mask\u001b[49m\u001b[43m,\u001b[49m\n\u001b[1;32m   1324\u001b[0m \u001b[43m    \u001b[49m\u001b[43minputs_embeds\u001b[49m\u001b[38;5;241;43m=\u001b[39;49m\u001b[43minputs_embeds\u001b[49m\u001b[43m,\u001b[49m\n\u001b[1;32m   1325\u001b[0m \u001b[43m    \u001b[49m\u001b[43moutput_attentions\u001b[49m\u001b[38;5;241;43m=\u001b[39;49m\u001b[43moutput_attentions\u001b[49m\u001b[43m,\u001b[49m\n\u001b[1;32m   1326\u001b[0m \u001b[43m    \u001b[49m\u001b[43moutput_hidden_states\u001b[49m\u001b[38;5;241;43m=\u001b[39;49m\u001b[43moutput_hidden_states\u001b[49m\u001b[43m,\u001b[49m\n\u001b[1;32m   1327\u001b[0m \u001b[43m    \u001b[49m\u001b[43mreturn_dict\u001b[49m\u001b[38;5;241;43m=\u001b[39;49m\u001b[43mreturn_dict\u001b[49m\u001b[43m,\u001b[49m\n\u001b[1;32m   1328\u001b[0m \u001b[43m\u001b[49m\u001b[43m)\u001b[49m\n\u001b[1;32m   1329\u001b[0m sequence_output \u001b[38;5;241m=\u001b[39m outputs[\u001b[38;5;241m0\u001b[39m]\n\u001b[1;32m   1330\u001b[0m logits \u001b[38;5;241m=\u001b[39m \u001b[38;5;28mself\u001b[39m\u001b[38;5;241m.\u001b[39mclassifier(sequence_output)\n",
      "File \u001b[0;32m/Library/Frameworks/Python.framework/Versions/3.12/lib/python3.12/site-packages/torch/nn/modules/module.py:1736\u001b[0m, in \u001b[0;36mModule._wrapped_call_impl\u001b[0;34m(self, *args, **kwargs)\u001b[0m\n\u001b[1;32m   1734\u001b[0m     \u001b[38;5;28;01mreturn\u001b[39;00m \u001b[38;5;28mself\u001b[39m\u001b[38;5;241m.\u001b[39m_compiled_call_impl(\u001b[38;5;241m*\u001b[39margs, \u001b[38;5;241m*\u001b[39m\u001b[38;5;241m*\u001b[39mkwargs)  \u001b[38;5;66;03m# type: ignore[misc]\u001b[39;00m\n\u001b[1;32m   1735\u001b[0m \u001b[38;5;28;01melse\u001b[39;00m:\n\u001b[0;32m-> 1736\u001b[0m     \u001b[38;5;28;01mreturn\u001b[39;00m \u001b[38;5;28;43mself\u001b[39;49m\u001b[38;5;241;43m.\u001b[39;49m\u001b[43m_call_impl\u001b[49m\u001b[43m(\u001b[49m\u001b[38;5;241;43m*\u001b[39;49m\u001b[43margs\u001b[49m\u001b[43m,\u001b[49m\u001b[43m \u001b[49m\u001b[38;5;241;43m*\u001b[39;49m\u001b[38;5;241;43m*\u001b[39;49m\u001b[43mkwargs\u001b[49m\u001b[43m)\u001b[49m\n",
      "File \u001b[0;32m/Library/Frameworks/Python.framework/Versions/3.12/lib/python3.12/site-packages/torch/nn/modules/module.py:1747\u001b[0m, in \u001b[0;36mModule._call_impl\u001b[0;34m(self, *args, **kwargs)\u001b[0m\n\u001b[1;32m   1742\u001b[0m \u001b[38;5;66;03m# If we don't have any hooks, we want to skip the rest of the logic in\u001b[39;00m\n\u001b[1;32m   1743\u001b[0m \u001b[38;5;66;03m# this function, and just call forward.\u001b[39;00m\n\u001b[1;32m   1744\u001b[0m \u001b[38;5;28;01mif\u001b[39;00m \u001b[38;5;129;01mnot\u001b[39;00m (\u001b[38;5;28mself\u001b[39m\u001b[38;5;241m.\u001b[39m_backward_hooks \u001b[38;5;129;01mor\u001b[39;00m \u001b[38;5;28mself\u001b[39m\u001b[38;5;241m.\u001b[39m_backward_pre_hooks \u001b[38;5;129;01mor\u001b[39;00m \u001b[38;5;28mself\u001b[39m\u001b[38;5;241m.\u001b[39m_forward_hooks \u001b[38;5;129;01mor\u001b[39;00m \u001b[38;5;28mself\u001b[39m\u001b[38;5;241m.\u001b[39m_forward_pre_hooks\n\u001b[1;32m   1745\u001b[0m         \u001b[38;5;129;01mor\u001b[39;00m _global_backward_pre_hooks \u001b[38;5;129;01mor\u001b[39;00m _global_backward_hooks\n\u001b[1;32m   1746\u001b[0m         \u001b[38;5;129;01mor\u001b[39;00m _global_forward_hooks \u001b[38;5;129;01mor\u001b[39;00m _global_forward_pre_hooks):\n\u001b[0;32m-> 1747\u001b[0m     \u001b[38;5;28;01mreturn\u001b[39;00m \u001b[43mforward_call\u001b[49m\u001b[43m(\u001b[49m\u001b[38;5;241;43m*\u001b[39;49m\u001b[43margs\u001b[49m\u001b[43m,\u001b[49m\u001b[43m \u001b[49m\u001b[38;5;241;43m*\u001b[39;49m\u001b[38;5;241;43m*\u001b[39;49m\u001b[43mkwargs\u001b[49m\u001b[43m)\u001b[49m\n\u001b[1;32m   1749\u001b[0m result \u001b[38;5;241m=\u001b[39m \u001b[38;5;28;01mNone\u001b[39;00m\n\u001b[1;32m   1750\u001b[0m called_always_called_hooks \u001b[38;5;241m=\u001b[39m \u001b[38;5;28mset\u001b[39m()\n",
      "File \u001b[0;32m/Library/Frameworks/Python.framework/Versions/3.12/lib/python3.12/site-packages/transformers/models/roberta/modeling_roberta.py:976\u001b[0m, in \u001b[0;36mRobertaModel.forward\u001b[0;34m(self, input_ids, attention_mask, token_type_ids, position_ids, head_mask, inputs_embeds, encoder_hidden_states, encoder_attention_mask, past_key_values, use_cache, output_attentions, output_hidden_states, return_dict)\u001b[0m\n\u001b[1;32m    969\u001b[0m \u001b[38;5;66;03m# Prepare head mask if needed\u001b[39;00m\n\u001b[1;32m    970\u001b[0m \u001b[38;5;66;03m# 1.0 in head_mask indicate we keep the head\u001b[39;00m\n\u001b[1;32m    971\u001b[0m \u001b[38;5;66;03m# attention_probs has shape bsz x n_heads x N x N\u001b[39;00m\n\u001b[1;32m    972\u001b[0m \u001b[38;5;66;03m# input head_mask has shape [num_heads] or [num_hidden_layers x num_heads]\u001b[39;00m\n\u001b[1;32m    973\u001b[0m \u001b[38;5;66;03m# and head_mask is converted to shape [num_hidden_layers x batch x num_heads x seq_length x seq_length]\u001b[39;00m\n\u001b[1;32m    974\u001b[0m head_mask \u001b[38;5;241m=\u001b[39m \u001b[38;5;28mself\u001b[39m\u001b[38;5;241m.\u001b[39mget_head_mask(head_mask, \u001b[38;5;28mself\u001b[39m\u001b[38;5;241m.\u001b[39mconfig\u001b[38;5;241m.\u001b[39mnum_hidden_layers)\n\u001b[0;32m--> 976\u001b[0m encoder_outputs \u001b[38;5;241m=\u001b[39m \u001b[38;5;28;43mself\u001b[39;49m\u001b[38;5;241;43m.\u001b[39;49m\u001b[43mencoder\u001b[49m\u001b[43m(\u001b[49m\n\u001b[1;32m    977\u001b[0m \u001b[43m    \u001b[49m\u001b[43membedding_output\u001b[49m\u001b[43m,\u001b[49m\n\u001b[1;32m    978\u001b[0m \u001b[43m    \u001b[49m\u001b[43mattention_mask\u001b[49m\u001b[38;5;241;43m=\u001b[39;49m\u001b[43mextended_attention_mask\u001b[49m\u001b[43m,\u001b[49m\n\u001b[1;32m    979\u001b[0m \u001b[43m    \u001b[49m\u001b[43mhead_mask\u001b[49m\u001b[38;5;241;43m=\u001b[39;49m\u001b[43mhead_mask\u001b[49m\u001b[43m,\u001b[49m\n\u001b[1;32m    980\u001b[0m \u001b[43m    \u001b[49m\u001b[43mencoder_hidden_states\u001b[49m\u001b[38;5;241;43m=\u001b[39;49m\u001b[43mencoder_hidden_states\u001b[49m\u001b[43m,\u001b[49m\n\u001b[1;32m    981\u001b[0m \u001b[43m    \u001b[49m\u001b[43mencoder_attention_mask\u001b[49m\u001b[38;5;241;43m=\u001b[39;49m\u001b[43mencoder_extended_attention_mask\u001b[49m\u001b[43m,\u001b[49m\n\u001b[1;32m    982\u001b[0m \u001b[43m    \u001b[49m\u001b[43mpast_key_values\u001b[49m\u001b[38;5;241;43m=\u001b[39;49m\u001b[43mpast_key_values\u001b[49m\u001b[43m,\u001b[49m\n\u001b[1;32m    983\u001b[0m \u001b[43m    \u001b[49m\u001b[43muse_cache\u001b[49m\u001b[38;5;241;43m=\u001b[39;49m\u001b[43muse_cache\u001b[49m\u001b[43m,\u001b[49m\n\u001b[1;32m    984\u001b[0m \u001b[43m    \u001b[49m\u001b[43moutput_attentions\u001b[49m\u001b[38;5;241;43m=\u001b[39;49m\u001b[43moutput_attentions\u001b[49m\u001b[43m,\u001b[49m\n\u001b[1;32m    985\u001b[0m \u001b[43m    \u001b[49m\u001b[43moutput_hidden_states\u001b[49m\u001b[38;5;241;43m=\u001b[39;49m\u001b[43moutput_hidden_states\u001b[49m\u001b[43m,\u001b[49m\n\u001b[1;32m    986\u001b[0m \u001b[43m    \u001b[49m\u001b[43mreturn_dict\u001b[49m\u001b[38;5;241;43m=\u001b[39;49m\u001b[43mreturn_dict\u001b[49m\u001b[43m,\u001b[49m\n\u001b[1;32m    987\u001b[0m \u001b[43m\u001b[49m\u001b[43m)\u001b[49m\n\u001b[1;32m    988\u001b[0m sequence_output \u001b[38;5;241m=\u001b[39m encoder_outputs[\u001b[38;5;241m0\u001b[39m]\n\u001b[1;32m    989\u001b[0m pooled_output \u001b[38;5;241m=\u001b[39m \u001b[38;5;28mself\u001b[39m\u001b[38;5;241m.\u001b[39mpooler(sequence_output) \u001b[38;5;28;01mif\u001b[39;00m \u001b[38;5;28mself\u001b[39m\u001b[38;5;241m.\u001b[39mpooler \u001b[38;5;129;01mis\u001b[39;00m \u001b[38;5;129;01mnot\u001b[39;00m \u001b[38;5;28;01mNone\u001b[39;00m \u001b[38;5;28;01melse\u001b[39;00m \u001b[38;5;28;01mNone\u001b[39;00m\n",
      "File \u001b[0;32m/Library/Frameworks/Python.framework/Versions/3.12/lib/python3.12/site-packages/torch/nn/modules/module.py:1736\u001b[0m, in \u001b[0;36mModule._wrapped_call_impl\u001b[0;34m(self, *args, **kwargs)\u001b[0m\n\u001b[1;32m   1734\u001b[0m     \u001b[38;5;28;01mreturn\u001b[39;00m \u001b[38;5;28mself\u001b[39m\u001b[38;5;241m.\u001b[39m_compiled_call_impl(\u001b[38;5;241m*\u001b[39margs, \u001b[38;5;241m*\u001b[39m\u001b[38;5;241m*\u001b[39mkwargs)  \u001b[38;5;66;03m# type: ignore[misc]\u001b[39;00m\n\u001b[1;32m   1735\u001b[0m \u001b[38;5;28;01melse\u001b[39;00m:\n\u001b[0;32m-> 1736\u001b[0m     \u001b[38;5;28;01mreturn\u001b[39;00m \u001b[38;5;28;43mself\u001b[39;49m\u001b[38;5;241;43m.\u001b[39;49m\u001b[43m_call_impl\u001b[49m\u001b[43m(\u001b[49m\u001b[38;5;241;43m*\u001b[39;49m\u001b[43margs\u001b[49m\u001b[43m,\u001b[49m\u001b[43m \u001b[49m\u001b[38;5;241;43m*\u001b[39;49m\u001b[38;5;241;43m*\u001b[39;49m\u001b[43mkwargs\u001b[49m\u001b[43m)\u001b[49m\n",
      "File \u001b[0;32m/Library/Frameworks/Python.framework/Versions/3.12/lib/python3.12/site-packages/torch/nn/modules/module.py:1747\u001b[0m, in \u001b[0;36mModule._call_impl\u001b[0;34m(self, *args, **kwargs)\u001b[0m\n\u001b[1;32m   1742\u001b[0m \u001b[38;5;66;03m# If we don't have any hooks, we want to skip the rest of the logic in\u001b[39;00m\n\u001b[1;32m   1743\u001b[0m \u001b[38;5;66;03m# this function, and just call forward.\u001b[39;00m\n\u001b[1;32m   1744\u001b[0m \u001b[38;5;28;01mif\u001b[39;00m \u001b[38;5;129;01mnot\u001b[39;00m (\u001b[38;5;28mself\u001b[39m\u001b[38;5;241m.\u001b[39m_backward_hooks \u001b[38;5;129;01mor\u001b[39;00m \u001b[38;5;28mself\u001b[39m\u001b[38;5;241m.\u001b[39m_backward_pre_hooks \u001b[38;5;129;01mor\u001b[39;00m \u001b[38;5;28mself\u001b[39m\u001b[38;5;241m.\u001b[39m_forward_hooks \u001b[38;5;129;01mor\u001b[39;00m \u001b[38;5;28mself\u001b[39m\u001b[38;5;241m.\u001b[39m_forward_pre_hooks\n\u001b[1;32m   1745\u001b[0m         \u001b[38;5;129;01mor\u001b[39;00m _global_backward_pre_hooks \u001b[38;5;129;01mor\u001b[39;00m _global_backward_hooks\n\u001b[1;32m   1746\u001b[0m         \u001b[38;5;129;01mor\u001b[39;00m _global_forward_hooks \u001b[38;5;129;01mor\u001b[39;00m _global_forward_pre_hooks):\n\u001b[0;32m-> 1747\u001b[0m     \u001b[38;5;28;01mreturn\u001b[39;00m \u001b[43mforward_call\u001b[49m\u001b[43m(\u001b[49m\u001b[38;5;241;43m*\u001b[39;49m\u001b[43margs\u001b[49m\u001b[43m,\u001b[49m\u001b[43m \u001b[49m\u001b[38;5;241;43m*\u001b[39;49m\u001b[38;5;241;43m*\u001b[39;49m\u001b[43mkwargs\u001b[49m\u001b[43m)\u001b[49m\n\u001b[1;32m   1749\u001b[0m result \u001b[38;5;241m=\u001b[39m \u001b[38;5;28;01mNone\u001b[39;00m\n\u001b[1;32m   1750\u001b[0m called_always_called_hooks \u001b[38;5;241m=\u001b[39m \u001b[38;5;28mset\u001b[39m()\n",
      "File \u001b[0;32m/Library/Frameworks/Python.framework/Versions/3.12/lib/python3.12/site-packages/transformers/models/roberta/modeling_roberta.py:631\u001b[0m, in \u001b[0;36mRobertaEncoder.forward\u001b[0;34m(self, hidden_states, attention_mask, head_mask, encoder_hidden_states, encoder_attention_mask, past_key_values, use_cache, output_attentions, output_hidden_states, return_dict)\u001b[0m\n\u001b[1;32m    620\u001b[0m     layer_outputs \u001b[38;5;241m=\u001b[39m \u001b[38;5;28mself\u001b[39m\u001b[38;5;241m.\u001b[39m_gradient_checkpointing_func(\n\u001b[1;32m    621\u001b[0m         layer_module\u001b[38;5;241m.\u001b[39m\u001b[38;5;21m__call__\u001b[39m,\n\u001b[1;32m    622\u001b[0m         hidden_states,\n\u001b[0;32m   (...)\u001b[0m\n\u001b[1;32m    628\u001b[0m         output_attentions,\n\u001b[1;32m    629\u001b[0m     )\n\u001b[1;32m    630\u001b[0m \u001b[38;5;28;01melse\u001b[39;00m:\n\u001b[0;32m--> 631\u001b[0m     layer_outputs \u001b[38;5;241m=\u001b[39m \u001b[43mlayer_module\u001b[49m\u001b[43m(\u001b[49m\n\u001b[1;32m    632\u001b[0m \u001b[43m        \u001b[49m\u001b[43mhidden_states\u001b[49m\u001b[43m,\u001b[49m\n\u001b[1;32m    633\u001b[0m \u001b[43m        \u001b[49m\u001b[43mattention_mask\u001b[49m\u001b[43m,\u001b[49m\n\u001b[1;32m    634\u001b[0m \u001b[43m        \u001b[49m\u001b[43mlayer_head_mask\u001b[49m\u001b[43m,\u001b[49m\n\u001b[1;32m    635\u001b[0m \u001b[43m        \u001b[49m\u001b[43mencoder_hidden_states\u001b[49m\u001b[43m,\u001b[49m\n\u001b[1;32m    636\u001b[0m \u001b[43m        \u001b[49m\u001b[43mencoder_attention_mask\u001b[49m\u001b[43m,\u001b[49m\n\u001b[1;32m    637\u001b[0m \u001b[43m        \u001b[49m\u001b[43mpast_key_value\u001b[49m\u001b[43m,\u001b[49m\n\u001b[1;32m    638\u001b[0m \u001b[43m        \u001b[49m\u001b[43moutput_attentions\u001b[49m\u001b[43m,\u001b[49m\n\u001b[1;32m    639\u001b[0m \u001b[43m    \u001b[49m\u001b[43m)\u001b[49m\n\u001b[1;32m    641\u001b[0m hidden_states \u001b[38;5;241m=\u001b[39m layer_outputs[\u001b[38;5;241m0\u001b[39m]\n\u001b[1;32m    642\u001b[0m \u001b[38;5;28;01mif\u001b[39;00m use_cache:\n",
      "File \u001b[0;32m/Library/Frameworks/Python.framework/Versions/3.12/lib/python3.12/site-packages/torch/nn/modules/module.py:1736\u001b[0m, in \u001b[0;36mModule._wrapped_call_impl\u001b[0;34m(self, *args, **kwargs)\u001b[0m\n\u001b[1;32m   1734\u001b[0m     \u001b[38;5;28;01mreturn\u001b[39;00m \u001b[38;5;28mself\u001b[39m\u001b[38;5;241m.\u001b[39m_compiled_call_impl(\u001b[38;5;241m*\u001b[39margs, \u001b[38;5;241m*\u001b[39m\u001b[38;5;241m*\u001b[39mkwargs)  \u001b[38;5;66;03m# type: ignore[misc]\u001b[39;00m\n\u001b[1;32m   1735\u001b[0m \u001b[38;5;28;01melse\u001b[39;00m:\n\u001b[0;32m-> 1736\u001b[0m     \u001b[38;5;28;01mreturn\u001b[39;00m \u001b[38;5;28;43mself\u001b[39;49m\u001b[38;5;241;43m.\u001b[39;49m\u001b[43m_call_impl\u001b[49m\u001b[43m(\u001b[49m\u001b[38;5;241;43m*\u001b[39;49m\u001b[43margs\u001b[49m\u001b[43m,\u001b[49m\u001b[43m \u001b[49m\u001b[38;5;241;43m*\u001b[39;49m\u001b[38;5;241;43m*\u001b[39;49m\u001b[43mkwargs\u001b[49m\u001b[43m)\u001b[49m\n",
      "File \u001b[0;32m/Library/Frameworks/Python.framework/Versions/3.12/lib/python3.12/site-packages/torch/nn/modules/module.py:1747\u001b[0m, in \u001b[0;36mModule._call_impl\u001b[0;34m(self, *args, **kwargs)\u001b[0m\n\u001b[1;32m   1742\u001b[0m \u001b[38;5;66;03m# If we don't have any hooks, we want to skip the rest of the logic in\u001b[39;00m\n\u001b[1;32m   1743\u001b[0m \u001b[38;5;66;03m# this function, and just call forward.\u001b[39;00m\n\u001b[1;32m   1744\u001b[0m \u001b[38;5;28;01mif\u001b[39;00m \u001b[38;5;129;01mnot\u001b[39;00m (\u001b[38;5;28mself\u001b[39m\u001b[38;5;241m.\u001b[39m_backward_hooks \u001b[38;5;129;01mor\u001b[39;00m \u001b[38;5;28mself\u001b[39m\u001b[38;5;241m.\u001b[39m_backward_pre_hooks \u001b[38;5;129;01mor\u001b[39;00m \u001b[38;5;28mself\u001b[39m\u001b[38;5;241m.\u001b[39m_forward_hooks \u001b[38;5;129;01mor\u001b[39;00m \u001b[38;5;28mself\u001b[39m\u001b[38;5;241m.\u001b[39m_forward_pre_hooks\n\u001b[1;32m   1745\u001b[0m         \u001b[38;5;129;01mor\u001b[39;00m _global_backward_pre_hooks \u001b[38;5;129;01mor\u001b[39;00m _global_backward_hooks\n\u001b[1;32m   1746\u001b[0m         \u001b[38;5;129;01mor\u001b[39;00m _global_forward_hooks \u001b[38;5;129;01mor\u001b[39;00m _global_forward_pre_hooks):\n\u001b[0;32m-> 1747\u001b[0m     \u001b[38;5;28;01mreturn\u001b[39;00m \u001b[43mforward_call\u001b[49m\u001b[43m(\u001b[49m\u001b[38;5;241;43m*\u001b[39;49m\u001b[43margs\u001b[49m\u001b[43m,\u001b[49m\u001b[43m \u001b[49m\u001b[38;5;241;43m*\u001b[39;49m\u001b[38;5;241;43m*\u001b[39;49m\u001b[43mkwargs\u001b[49m\u001b[43m)\u001b[49m\n\u001b[1;32m   1749\u001b[0m result \u001b[38;5;241m=\u001b[39m \u001b[38;5;28;01mNone\u001b[39;00m\n\u001b[1;32m   1750\u001b[0m called_always_called_hooks \u001b[38;5;241m=\u001b[39m \u001b[38;5;28mset\u001b[39m()\n",
      "File \u001b[0;32m/Library/Frameworks/Python.framework/Versions/3.12/lib/python3.12/site-packages/transformers/models/roberta/modeling_roberta.py:562\u001b[0m, in \u001b[0;36mRobertaLayer.forward\u001b[0;34m(self, hidden_states, attention_mask, head_mask, encoder_hidden_states, encoder_attention_mask, past_key_value, output_attentions)\u001b[0m\n\u001b[1;32m    559\u001b[0m     cross_attn_present_key_value \u001b[38;5;241m=\u001b[39m cross_attention_outputs[\u001b[38;5;241m-\u001b[39m\u001b[38;5;241m1\u001b[39m]\n\u001b[1;32m    560\u001b[0m     present_key_value \u001b[38;5;241m=\u001b[39m present_key_value \u001b[38;5;241m+\u001b[39m cross_attn_present_key_value\n\u001b[0;32m--> 562\u001b[0m layer_output \u001b[38;5;241m=\u001b[39m \u001b[43mapply_chunking_to_forward\u001b[49m\u001b[43m(\u001b[49m\n\u001b[1;32m    563\u001b[0m \u001b[43m    \u001b[49m\u001b[38;5;28;43mself\u001b[39;49m\u001b[38;5;241;43m.\u001b[39;49m\u001b[43mfeed_forward_chunk\u001b[49m\u001b[43m,\u001b[49m\u001b[43m \u001b[49m\u001b[38;5;28;43mself\u001b[39;49m\u001b[38;5;241;43m.\u001b[39;49m\u001b[43mchunk_size_feed_forward\u001b[49m\u001b[43m,\u001b[49m\u001b[43m \u001b[49m\u001b[38;5;28;43mself\u001b[39;49m\u001b[38;5;241;43m.\u001b[39;49m\u001b[43mseq_len_dim\u001b[49m\u001b[43m,\u001b[49m\u001b[43m \u001b[49m\u001b[43mattention_output\u001b[49m\n\u001b[1;32m    564\u001b[0m \u001b[43m\u001b[49m\u001b[43m)\u001b[49m\n\u001b[1;32m    565\u001b[0m outputs \u001b[38;5;241m=\u001b[39m (layer_output,) \u001b[38;5;241m+\u001b[39m outputs\n\u001b[1;32m    567\u001b[0m \u001b[38;5;66;03m# if decoder, return the attn key/values as the last output\u001b[39;00m\n",
      "File \u001b[0;32m/Library/Frameworks/Python.framework/Versions/3.12/lib/python3.12/site-packages/transformers/pytorch_utils.py:248\u001b[0m, in \u001b[0;36mapply_chunking_to_forward\u001b[0;34m(forward_fn, chunk_size, chunk_dim, *input_tensors)\u001b[0m\n\u001b[1;32m    245\u001b[0m     \u001b[38;5;66;03m# concatenate output at same dimension\u001b[39;00m\n\u001b[1;32m    246\u001b[0m     \u001b[38;5;28;01mreturn\u001b[39;00m torch\u001b[38;5;241m.\u001b[39mcat(output_chunks, dim\u001b[38;5;241m=\u001b[39mchunk_dim)\n\u001b[0;32m--> 248\u001b[0m \u001b[38;5;28;01mreturn\u001b[39;00m \u001b[43mforward_fn\u001b[49m\u001b[43m(\u001b[49m\u001b[38;5;241;43m*\u001b[39;49m\u001b[43minput_tensors\u001b[49m\u001b[43m)\u001b[49m\n",
      "File \u001b[0;32m/Library/Frameworks/Python.framework/Versions/3.12/lib/python3.12/site-packages/transformers/models/roberta/modeling_roberta.py:574\u001b[0m, in \u001b[0;36mRobertaLayer.feed_forward_chunk\u001b[0;34m(self, attention_output)\u001b[0m\n\u001b[1;32m    573\u001b[0m \u001b[38;5;28;01mdef\u001b[39;00m \u001b[38;5;21mfeed_forward_chunk\u001b[39m(\u001b[38;5;28mself\u001b[39m, attention_output):\n\u001b[0;32m--> 574\u001b[0m     intermediate_output \u001b[38;5;241m=\u001b[39m \u001b[38;5;28;43mself\u001b[39;49m\u001b[38;5;241;43m.\u001b[39;49m\u001b[43mintermediate\u001b[49m\u001b[43m(\u001b[49m\u001b[43mattention_output\u001b[49m\u001b[43m)\u001b[49m\n\u001b[1;32m    575\u001b[0m     layer_output \u001b[38;5;241m=\u001b[39m \u001b[38;5;28mself\u001b[39m\u001b[38;5;241m.\u001b[39moutput(intermediate_output, attention_output)\n\u001b[1;32m    576\u001b[0m     \u001b[38;5;28;01mreturn\u001b[39;00m layer_output\n",
      "File \u001b[0;32m/Library/Frameworks/Python.framework/Versions/3.12/lib/python3.12/site-packages/torch/nn/modules/module.py:1736\u001b[0m, in \u001b[0;36mModule._wrapped_call_impl\u001b[0;34m(self, *args, **kwargs)\u001b[0m\n\u001b[1;32m   1734\u001b[0m     \u001b[38;5;28;01mreturn\u001b[39;00m \u001b[38;5;28mself\u001b[39m\u001b[38;5;241m.\u001b[39m_compiled_call_impl(\u001b[38;5;241m*\u001b[39margs, \u001b[38;5;241m*\u001b[39m\u001b[38;5;241m*\u001b[39mkwargs)  \u001b[38;5;66;03m# type: ignore[misc]\u001b[39;00m\n\u001b[1;32m   1735\u001b[0m \u001b[38;5;28;01melse\u001b[39;00m:\n\u001b[0;32m-> 1736\u001b[0m     \u001b[38;5;28;01mreturn\u001b[39;00m \u001b[38;5;28;43mself\u001b[39;49m\u001b[38;5;241;43m.\u001b[39;49m\u001b[43m_call_impl\u001b[49m\u001b[43m(\u001b[49m\u001b[38;5;241;43m*\u001b[39;49m\u001b[43margs\u001b[49m\u001b[43m,\u001b[49m\u001b[43m \u001b[49m\u001b[38;5;241;43m*\u001b[39;49m\u001b[38;5;241;43m*\u001b[39;49m\u001b[43mkwargs\u001b[49m\u001b[43m)\u001b[49m\n",
      "File \u001b[0;32m/Library/Frameworks/Python.framework/Versions/3.12/lib/python3.12/site-packages/torch/nn/modules/module.py:1747\u001b[0m, in \u001b[0;36mModule._call_impl\u001b[0;34m(self, *args, **kwargs)\u001b[0m\n\u001b[1;32m   1742\u001b[0m \u001b[38;5;66;03m# If we don't have any hooks, we want to skip the rest of the logic in\u001b[39;00m\n\u001b[1;32m   1743\u001b[0m \u001b[38;5;66;03m# this function, and just call forward.\u001b[39;00m\n\u001b[1;32m   1744\u001b[0m \u001b[38;5;28;01mif\u001b[39;00m \u001b[38;5;129;01mnot\u001b[39;00m (\u001b[38;5;28mself\u001b[39m\u001b[38;5;241m.\u001b[39m_backward_hooks \u001b[38;5;129;01mor\u001b[39;00m \u001b[38;5;28mself\u001b[39m\u001b[38;5;241m.\u001b[39m_backward_pre_hooks \u001b[38;5;129;01mor\u001b[39;00m \u001b[38;5;28mself\u001b[39m\u001b[38;5;241m.\u001b[39m_forward_hooks \u001b[38;5;129;01mor\u001b[39;00m \u001b[38;5;28mself\u001b[39m\u001b[38;5;241m.\u001b[39m_forward_pre_hooks\n\u001b[1;32m   1745\u001b[0m         \u001b[38;5;129;01mor\u001b[39;00m _global_backward_pre_hooks \u001b[38;5;129;01mor\u001b[39;00m _global_backward_hooks\n\u001b[1;32m   1746\u001b[0m         \u001b[38;5;129;01mor\u001b[39;00m _global_forward_hooks \u001b[38;5;129;01mor\u001b[39;00m _global_forward_pre_hooks):\n\u001b[0;32m-> 1747\u001b[0m     \u001b[38;5;28;01mreturn\u001b[39;00m \u001b[43mforward_call\u001b[49m\u001b[43m(\u001b[49m\u001b[38;5;241;43m*\u001b[39;49m\u001b[43margs\u001b[49m\u001b[43m,\u001b[49m\u001b[43m \u001b[49m\u001b[38;5;241;43m*\u001b[39;49m\u001b[38;5;241;43m*\u001b[39;49m\u001b[43mkwargs\u001b[49m\u001b[43m)\u001b[49m\n\u001b[1;32m   1749\u001b[0m result \u001b[38;5;241m=\u001b[39m \u001b[38;5;28;01mNone\u001b[39;00m\n\u001b[1;32m   1750\u001b[0m called_always_called_hooks \u001b[38;5;241m=\u001b[39m \u001b[38;5;28mset\u001b[39m()\n",
      "File \u001b[0;32m/Library/Frameworks/Python.framework/Versions/3.12/lib/python3.12/site-packages/transformers/models/roberta/modeling_roberta.py:472\u001b[0m, in \u001b[0;36mRobertaIntermediate.forward\u001b[0;34m(self, hidden_states)\u001b[0m\n\u001b[1;32m    471\u001b[0m \u001b[38;5;28;01mdef\u001b[39;00m \u001b[38;5;21mforward\u001b[39m(\u001b[38;5;28mself\u001b[39m, hidden_states: torch\u001b[38;5;241m.\u001b[39mTensor) \u001b[38;5;241m-\u001b[39m\u001b[38;5;241m>\u001b[39m torch\u001b[38;5;241m.\u001b[39mTensor:\n\u001b[0;32m--> 472\u001b[0m     hidden_states \u001b[38;5;241m=\u001b[39m \u001b[38;5;28;43mself\u001b[39;49m\u001b[38;5;241;43m.\u001b[39;49m\u001b[43mdense\u001b[49m\u001b[43m(\u001b[49m\u001b[43mhidden_states\u001b[49m\u001b[43m)\u001b[49m\n\u001b[1;32m    473\u001b[0m     hidden_states \u001b[38;5;241m=\u001b[39m \u001b[38;5;28mself\u001b[39m\u001b[38;5;241m.\u001b[39mintermediate_act_fn(hidden_states)\n\u001b[1;32m    474\u001b[0m     \u001b[38;5;28;01mreturn\u001b[39;00m hidden_states\n",
      "File \u001b[0;32m/Library/Frameworks/Python.framework/Versions/3.12/lib/python3.12/site-packages/torch/nn/modules/module.py:1736\u001b[0m, in \u001b[0;36mModule._wrapped_call_impl\u001b[0;34m(self, *args, **kwargs)\u001b[0m\n\u001b[1;32m   1734\u001b[0m     \u001b[38;5;28;01mreturn\u001b[39;00m \u001b[38;5;28mself\u001b[39m\u001b[38;5;241m.\u001b[39m_compiled_call_impl(\u001b[38;5;241m*\u001b[39margs, \u001b[38;5;241m*\u001b[39m\u001b[38;5;241m*\u001b[39mkwargs)  \u001b[38;5;66;03m# type: ignore[misc]\u001b[39;00m\n\u001b[1;32m   1735\u001b[0m \u001b[38;5;28;01melse\u001b[39;00m:\n\u001b[0;32m-> 1736\u001b[0m     \u001b[38;5;28;01mreturn\u001b[39;00m \u001b[38;5;28;43mself\u001b[39;49m\u001b[38;5;241;43m.\u001b[39;49m\u001b[43m_call_impl\u001b[49m\u001b[43m(\u001b[49m\u001b[38;5;241;43m*\u001b[39;49m\u001b[43margs\u001b[49m\u001b[43m,\u001b[49m\u001b[43m \u001b[49m\u001b[38;5;241;43m*\u001b[39;49m\u001b[38;5;241;43m*\u001b[39;49m\u001b[43mkwargs\u001b[49m\u001b[43m)\u001b[49m\n",
      "File \u001b[0;32m/Library/Frameworks/Python.framework/Versions/3.12/lib/python3.12/site-packages/torch/nn/modules/module.py:1747\u001b[0m, in \u001b[0;36mModule._call_impl\u001b[0;34m(self, *args, **kwargs)\u001b[0m\n\u001b[1;32m   1742\u001b[0m \u001b[38;5;66;03m# If we don't have any hooks, we want to skip the rest of the logic in\u001b[39;00m\n\u001b[1;32m   1743\u001b[0m \u001b[38;5;66;03m# this function, and just call forward.\u001b[39;00m\n\u001b[1;32m   1744\u001b[0m \u001b[38;5;28;01mif\u001b[39;00m \u001b[38;5;129;01mnot\u001b[39;00m (\u001b[38;5;28mself\u001b[39m\u001b[38;5;241m.\u001b[39m_backward_hooks \u001b[38;5;129;01mor\u001b[39;00m \u001b[38;5;28mself\u001b[39m\u001b[38;5;241m.\u001b[39m_backward_pre_hooks \u001b[38;5;129;01mor\u001b[39;00m \u001b[38;5;28mself\u001b[39m\u001b[38;5;241m.\u001b[39m_forward_hooks \u001b[38;5;129;01mor\u001b[39;00m \u001b[38;5;28mself\u001b[39m\u001b[38;5;241m.\u001b[39m_forward_pre_hooks\n\u001b[1;32m   1745\u001b[0m         \u001b[38;5;129;01mor\u001b[39;00m _global_backward_pre_hooks \u001b[38;5;129;01mor\u001b[39;00m _global_backward_hooks\n\u001b[1;32m   1746\u001b[0m         \u001b[38;5;129;01mor\u001b[39;00m _global_forward_hooks \u001b[38;5;129;01mor\u001b[39;00m _global_forward_pre_hooks):\n\u001b[0;32m-> 1747\u001b[0m     \u001b[38;5;28;01mreturn\u001b[39;00m \u001b[43mforward_call\u001b[49m\u001b[43m(\u001b[49m\u001b[38;5;241;43m*\u001b[39;49m\u001b[43margs\u001b[49m\u001b[43m,\u001b[49m\u001b[43m \u001b[49m\u001b[38;5;241;43m*\u001b[39;49m\u001b[38;5;241;43m*\u001b[39;49m\u001b[43mkwargs\u001b[49m\u001b[43m)\u001b[49m\n\u001b[1;32m   1749\u001b[0m result \u001b[38;5;241m=\u001b[39m \u001b[38;5;28;01mNone\u001b[39;00m\n\u001b[1;32m   1750\u001b[0m called_always_called_hooks \u001b[38;5;241m=\u001b[39m \u001b[38;5;28mset\u001b[39m()\n",
      "File \u001b[0;32m/Library/Frameworks/Python.framework/Versions/3.12/lib/python3.12/site-packages/torch/nn/modules/linear.py:125\u001b[0m, in \u001b[0;36mLinear.forward\u001b[0;34m(self, input)\u001b[0m\n\u001b[1;32m    124\u001b[0m \u001b[38;5;28;01mdef\u001b[39;00m \u001b[38;5;21mforward\u001b[39m(\u001b[38;5;28mself\u001b[39m, \u001b[38;5;28minput\u001b[39m: Tensor) \u001b[38;5;241m-\u001b[39m\u001b[38;5;241m>\u001b[39m Tensor:\n\u001b[0;32m--> 125\u001b[0m     \u001b[38;5;28;01mreturn\u001b[39;00m \u001b[43mF\u001b[49m\u001b[38;5;241;43m.\u001b[39;49m\u001b[43mlinear\u001b[49m\u001b[43m(\u001b[49m\u001b[38;5;28;43minput\u001b[39;49m\u001b[43m,\u001b[49m\u001b[43m \u001b[49m\u001b[38;5;28;43mself\u001b[39;49m\u001b[38;5;241;43m.\u001b[39;49m\u001b[43mweight\u001b[49m\u001b[43m,\u001b[49m\u001b[43m \u001b[49m\u001b[38;5;28;43mself\u001b[39;49m\u001b[38;5;241;43m.\u001b[39;49m\u001b[43mbias\u001b[49m\u001b[43m)\u001b[49m\n",
      "\u001b[0;31mKeyboardInterrupt\u001b[0m: "
     ]
    }
   ],
   "source": [
    "res = {}\n",
    "\n",
    "# Iterate over each row in DataFrame with progress tracking\n",
    "for i, row in tqdm( df.iterrows(), total = len(df) ): \n",
    "\n",
    "    try: \n",
    "        # Retrieve the text and unique identifier from the DataFrame\n",
    "        text = row['text'] \n",
    "        id = row['Index']\n",
    "        # Get RoBERTa sentiment scores using custom function\n",
    "        roberta_result = polarity_scores_roberta(text) \n",
    "        res[id] = roberta_result\n",
    "    except RuntimeError: \n",
    "         #Print error message if there is an issue processing a row\n",
    "        print(f'Broke for id {id}') "
   ]
  },
  {
   "cell_type": "markdown",
   "metadata": {},
   "source": [
    "Convert res dictionary into a DataFrame, renames columns for clarity, and merges it with the original DataFrame on the Index column or the DataFrame's index if Index is not available."
   ]
  },
  {
   "cell_type": "code",
   "execution_count": 41,
   "metadata": {},
   "outputs": [],
   "source": [
    "# Convert the 'res' dictionary to a DataFrame\n",
    "results_df = pd.DataFrame(res).T  # Transpose so IDs align with rows\n",
    "\n",
    "# Reset the index and rename the 'index' column to 'Id' for easier merging\n",
    "results_df = results_df.reset_index().rename(columns={\n",
    "    'index': 'Id',          # Rename index to Id\n",
    "    'roberta_neg': 'roberta_neg',  # Keep RoBERTa score columns\n",
    "    'roberta_neu': 'roberta_neu',\n",
    "    'roberta_pos': 'roberta_pos'\n",
    "})\n",
    "\n",
    "# Merge results DataFrame with the original DataFrame on 'Id' and 'Index' columns\n",
    "if 'Index' in df.columns:\n",
    "    results_df = results_df.merge(df, how='left', left_on='Id', right_on='Index')\n",
    "else:\n",
    "    # If 'Index' is not a column, merge on index\n",
    "    results_df = results_df.merge(df, how='left', left_on='Id', right_index=True)"
   ]
  },
  {
   "cell_type": "markdown",
   "metadata": {},
   "source": [
    "Display first few rows of merged DataFrame."
   ]
  },
  {
   "cell_type": "code",
   "execution_count": 42,
   "metadata": {},
   "outputs": [
    {
     "data": {
      "text/html": [
       "<div>\n",
       "<style scoped>\n",
       "    .dataframe tbody tr th:only-of-type {\n",
       "        vertical-align: middle;\n",
       "    }\n",
       "\n",
       "    .dataframe tbody tr th {\n",
       "        vertical-align: top;\n",
       "    }\n",
       "\n",
       "    .dataframe thead th {\n",
       "        text-align: right;\n",
       "    }\n",
       "</style>\n",
       "<table border=\"1\" class=\"dataframe\">\n",
       "  <thead>\n",
       "    <tr style=\"text-align: right;\">\n",
       "      <th></th>\n",
       "      <th>Id</th>\n",
       "      <th>roberta_neg</th>\n",
       "      <th>roberta_neu</th>\n",
       "      <th>roberta_pos</th>\n",
       "      <th>Index</th>\n",
       "      <th>text</th>\n",
       "      <th>label</th>\n",
       "      <th>processed_text</th>\n",
       "      <th>char_count</th>\n",
       "      <th>word_count</th>\n",
       "      <th>message_length</th>\n",
       "      <th>tokens</th>\n",
       "      <th>pos_tags</th>\n",
       "    </tr>\n",
       "  </thead>\n",
       "  <tbody>\n",
       "    <tr>\n",
       "      <th>0</th>\n",
       "      <td>411553</td>\n",
       "      <td>0.023713</td>\n",
       "      <td>0.181350</td>\n",
       "      <td>0.794937</td>\n",
       "      <td>411553</td>\n",
       "      <td>i feel rebellious and i like it</td>\n",
       "      <td>Anger</td>\n",
       "      <td>[feel, rebellious, like]</td>\n",
       "      <td>18</td>\n",
       "      <td>3</td>\n",
       "      <td>Short</td>\n",
       "      <td>[feel, rebellious, like]</td>\n",
       "      <td>[(feel, RB), (rebellious, JJ), (like, IN)]</td>\n",
       "    </tr>\n",
       "    <tr>\n",
       "      <th>1</th>\n",
       "      <td>18079</td>\n",
       "      <td>0.920334</td>\n",
       "      <td>0.072259</td>\n",
       "      <td>0.007407</td>\n",
       "      <td>18079</td>\n",
       "      <td>i feel completely agitated and full of blame</td>\n",
       "      <td>Anger</td>\n",
       "      <td>[feel, completely, agitated, full, blame]</td>\n",
       "      <td>31</td>\n",
       "      <td>5</td>\n",
       "      <td>Short</td>\n",
       "      <td>[feel, completely, agitated, full, blame]</td>\n",
       "      <td>[(feel, VB), (completely, RB), (agitated, VBN)...</td>\n",
       "    </tr>\n",
       "    <tr>\n",
       "      <th>2</th>\n",
       "      <td>282107</td>\n",
       "      <td>0.902631</td>\n",
       "      <td>0.089745</td>\n",
       "      <td>0.007624</td>\n",
       "      <td>282107</td>\n",
       "      <td>i feel like a witch bc im aggravated and i wan...</td>\n",
       "      <td>Anger</td>\n",
       "      <td>[feel, like, witch, bc, aggravated, want, go, ...</td>\n",
       "      <td>40</td>\n",
       "      <td>9</td>\n",
       "      <td>Short</td>\n",
       "      <td>[feel, like, witch, bc, aggravated, want, go, ...</td>\n",
       "      <td>[(feel, NN), (like, IN), (witch, NN), (bc, NN)...</td>\n",
       "    </tr>\n",
       "    <tr>\n",
       "      <th>3</th>\n",
       "      <td>49946</td>\n",
       "      <td>0.764214</td>\n",
       "      <td>0.214226</td>\n",
       "      <td>0.021560</td>\n",
       "      <td>49946</td>\n",
       "      <td>i feel really bitchy for doing this but im rea...</td>\n",
       "      <td>Anger</td>\n",
       "      <td>[feel, really, bitchy, really, iffy, read, jou...</td>\n",
       "      <td>93</td>\n",
       "      <td>19</td>\n",
       "      <td>Long</td>\n",
       "      <td>[feel, really, bitchy, really, iffy, read, jou...</td>\n",
       "      <td>[(feel, NN), (really, RB), (bitchy, VBZ), (rea...</td>\n",
       "    </tr>\n",
       "    <tr>\n",
       "      <th>4</th>\n",
       "      <td>96367</td>\n",
       "      <td>0.792875</td>\n",
       "      <td>0.194361</td>\n",
       "      <td>0.012764</td>\n",
       "      <td>96367</td>\n",
       "      <td>i feel rude but i move past it immediately</td>\n",
       "      <td>Anger</td>\n",
       "      <td>[feel, rude, move, past, immediately]</td>\n",
       "      <td>27</td>\n",
       "      <td>5</td>\n",
       "      <td>Short</td>\n",
       "      <td>[feel, rude, move, past, immediately]</td>\n",
       "      <td>[(feel, NN), (rude, JJ), (move, NN), (past, IN...</td>\n",
       "    </tr>\n",
       "  </tbody>\n",
       "</table>\n",
       "</div>"
      ],
      "text/plain": [
       "       Id  roberta_neg  roberta_neu  roberta_pos   Index  \\\n",
       "0  411553     0.023713     0.181350     0.794937  411553   \n",
       "1   18079     0.920334     0.072259     0.007407   18079   \n",
       "2  282107     0.902631     0.089745     0.007624  282107   \n",
       "3   49946     0.764214     0.214226     0.021560   49946   \n",
       "4   96367     0.792875     0.194361     0.012764   96367   \n",
       "\n",
       "                                                text  label  \\\n",
       "0                    i feel rebellious and i like it  Anger   \n",
       "1       i feel completely agitated and full of blame  Anger   \n",
       "2  i feel like a witch bc im aggravated and i wan...  Anger   \n",
       "3  i feel really bitchy for doing this but im rea...  Anger   \n",
       "4         i feel rude but i move past it immediately  Anger   \n",
       "\n",
       "                                      processed_text  char_count  word_count  \\\n",
       "0                           [feel, rebellious, like]          18           3   \n",
       "1          [feel, completely, agitated, full, blame]          31           5   \n",
       "2  [feel, like, witch, bc, aggravated, want, go, ...          40           9   \n",
       "3  [feel, really, bitchy, really, iffy, read, jou...          93          19   \n",
       "4              [feel, rude, move, past, immediately]          27           5   \n",
       "\n",
       "  message_length                                             tokens  \\\n",
       "0          Short                           [feel, rebellious, like]   \n",
       "1          Short          [feel, completely, agitated, full, blame]   \n",
       "2          Short  [feel, like, witch, bc, aggravated, want, go, ...   \n",
       "3           Long  [feel, really, bitchy, really, iffy, read, jou...   \n",
       "4          Short              [feel, rude, move, past, immediately]   \n",
       "\n",
       "                                            pos_tags  \n",
       "0         [(feel, RB), (rebellious, JJ), (like, IN)]  \n",
       "1  [(feel, VB), (completely, RB), (agitated, VBN)...  \n",
       "2  [(feel, NN), (like, IN), (witch, NN), (bc, NN)...  \n",
       "3  [(feel, NN), (really, RB), (bitchy, VBZ), (rea...  \n",
       "4  [(feel, NN), (rude, JJ), (move, NN), (past, IN...  "
      ]
     },
     "execution_count": 42,
     "metadata": {},
     "output_type": "execute_result"
    }
   ],
   "source": [
    "results_df.head()"
   ]
  },
  {
   "cell_type": "code",
   "execution_count": null,
   "metadata": {},
   "outputs": [
    {
     "data": {
      "text/html": [
       "<div>\n",
       "<style scoped>\n",
       "    .dataframe tbody tr th:only-of-type {\n",
       "        vertical-align: middle;\n",
       "    }\n",
       "\n",
       "    .dataframe tbody tr th {\n",
       "        vertical-align: top;\n",
       "    }\n",
       "\n",
       "    .dataframe thead th {\n",
       "        text-align: right;\n",
       "    }\n",
       "</style>\n",
       "<table border=\"1\" class=\"dataframe\">\n",
       "  <thead>\n",
       "    <tr style=\"text-align: right;\">\n",
       "      <th></th>\n",
       "      <th>text</th>\n",
       "      <th>processed_text</th>\n",
       "      <th>vader_neg</th>\n",
       "      <th>vader_neu</th>\n",
       "      <th>vader_pos</th>\n",
       "      <th>label</th>\n",
       "    </tr>\n",
       "  </thead>\n",
       "  <tbody>\n",
       "    <tr>\n",
       "      <th>0</th>\n",
       "      <td>i feel rebellious and i like it</td>\n",
       "      <td>[feel, rebellious, like]</td>\n",
       "      <td>0.286</td>\n",
       "      <td>0.390</td>\n",
       "      <td>0.325</td>\n",
       "      <td>Anger</td>\n",
       "    </tr>\n",
       "    <tr>\n",
       "      <th>1</th>\n",
       "      <td>i feel completely agitated and full of blame</td>\n",
       "      <td>[feel, completely, agitated, full, blame]</td>\n",
       "      <td>0.532</td>\n",
       "      <td>0.468</td>\n",
       "      <td>0.000</td>\n",
       "      <td>Anger</td>\n",
       "    </tr>\n",
       "    <tr>\n",
       "      <th>2</th>\n",
       "      <td>i feel like a witch bc im aggravated and i wan...</td>\n",
       "      <td>[feel, like, witch, bc, aggravated, want, go, ...</td>\n",
       "      <td>0.186</td>\n",
       "      <td>0.504</td>\n",
       "      <td>0.310</td>\n",
       "      <td>Anger</td>\n",
       "    </tr>\n",
       "    <tr>\n",
       "      <th>3</th>\n",
       "      <td>i feel really bitchy for doing this but im rea...</td>\n",
       "      <td>[feel, really, bitchy, really, iffy, read, jou...</td>\n",
       "      <td>0.049</td>\n",
       "      <td>0.660</td>\n",
       "      <td>0.292</td>\n",
       "      <td>Anger</td>\n",
       "    </tr>\n",
       "    <tr>\n",
       "      <th>4</th>\n",
       "      <td>i feel rude but i move past it immediately</td>\n",
       "      <td>[feel, rude, move, past, immediately]</td>\n",
       "      <td>0.250</td>\n",
       "      <td>0.750</td>\n",
       "      <td>0.000</td>\n",
       "      <td>Anger</td>\n",
       "    </tr>\n",
       "  </tbody>\n",
       "</table>\n",
       "</div>"
      ],
      "text/plain": [
       "                                                text  \\\n",
       "0                    i feel rebellious and i like it   \n",
       "1       i feel completely agitated and full of blame   \n",
       "2  i feel like a witch bc im aggravated and i wan...   \n",
       "3  i feel really bitchy for doing this but im rea...   \n",
       "4         i feel rude but i move past it immediately   \n",
       "\n",
       "                                      processed_text  vader_neg  vader_neu  \\\n",
       "0                           [feel, rebellious, like]      0.286      0.390   \n",
       "1          [feel, completely, agitated, full, blame]      0.532      0.468   \n",
       "2  [feel, like, witch, bc, aggravated, want, go, ...      0.186      0.504   \n",
       "3  [feel, really, bitchy, really, iffy, read, jou...      0.049      0.660   \n",
       "4              [feel, rude, move, past, immediately]      0.250      0.750   \n",
       "\n",
       "   vader_pos  label  \n",
       "0      0.325  Anger  \n",
       "1      0.000  Anger  \n",
       "2      0.310  Anger  \n",
       "3      0.292  Anger  \n",
       "4      0.000  Anger  "
      ]
     },
     "execution_count": 43,
     "metadata": {},
     "output_type": "execute_result"
    }
   ],
   "source": [
    "merged_df = vaders.merge(results_df, on='Index', how='inner')\n",
    "\n",
    "# Rename columns if needed (e.g., _x, _y suffixes)\n",
    "merged_df.rename(columns={\n",
    "    'text_x': 'text',\n",
    "    'label_x': 'label',\n",
    "    'processed_text_x': 'processed_text',\n",
    "    # Add renaming for other duplicated columns\n",
    "}, inplace=True)\n",
    "\n",
    "# Dynamically filter the columns to keep\n",
    "columns_to_keep = [\n",
    "    col for col in [\n",
    "        'text', 'processed_text' ,'vader_neg', 'vader_neu', 'vader_pos', 'compound',\n",
    "        'roberta_neg', 'roberta_neu', 'roberta_pos',\n",
    "        'label',\n",
    "        'char_count', 'word_count', 'message_length',\n",
    "        'tokens', 'pos_tags'\n",
    "    ] if col in merged_df.columns\n",
    "]\n",
    "\n",
    "merged_df = merged_df[columns_to_keep]\n",
    "merged_df.head()"
   ]
  },
  {
   "cell_type": "markdown",
   "metadata": {},
   "source": [
    "Display each column currently in the DataFrame."
   ]
  },
  {
   "cell_type": "code",
   "execution_count": 43,
   "metadata": {},
   "outputs": [
    {
     "ename": "NameError",
     "evalue": "name 'merged_df' is not defined",
     "output_type": "error",
     "traceback": [
      "\u001b[0;31m---------------------------------------------------------------------------\u001b[0m",
      "\u001b[0;31mNameError\u001b[0m                                 Traceback (most recent call last)",
      "Cell \u001b[0;32mIn[43], line 1\u001b[0m\n\u001b[0;32m----> 1\u001b[0m \u001b[43mmerged_df\u001b[49m\u001b[38;5;241m.\u001b[39mcolumns\n",
      "\u001b[0;31mNameError\u001b[0m: name 'merged_df' is not defined"
     ]
    }
   ],
   "source": [
    "merged_df.columns"
   ]
  },
  {
   "cell_type": "markdown",
   "metadata": {},
   "source": [
    "# Examples"
   ]
  },
  {
   "cell_type": "code",
   "execution_count": null,
   "metadata": {},
   "outputs": [],
   "source": [
    "results_df.query('label == \"Joy\"').sort_values('roberta_pos', ascending=False)['text'].values[0]\n",
    "merged_df.query('label == \"Joy\"').sort_values('roberta_pos', ascending=False)['text'].values[0]"
   ]
  },
  {
   "cell_type": "code",
   "execution_count": null,
   "metadata": {},
   "outputs": [],
   "source": [
    "results_df.query('label == \"Joy\"').sort_values('vader_pos', ascending=False)['text'].values[0]\n",
    "merged_df.query('label == \"Joy\"').sort_values('vader_pos', ascending=False)['text'].values[0]"
   ]
  },
  {
   "cell_type": "code",
   "execution_count": null,
   "metadata": {},
   "outputs": [],
   "source": [
    "results_df.query('label == \"Joy\"').sort_values('roberta_neg', ascending=False)['text'].values[0]\n",
    "merged_df.query('label == \"Joy\"').sort_values('roberta_neg', ascending=False)['text'].values[0]"
   ]
  },
  {
   "cell_type": "code",
   "execution_count": null,
   "metadata": {},
   "outputs": [],
   "source": [
    "results_df.query('label == \"Joy\"').sort_values('vader_neg', ascending=False)['text'].values[0]\n",
    "merged_df.query('label == \"Joy\"').sort_values('vader_neg', ascending=False)['text'].values[0]"
   ]
  },
  {
   "cell_type": "markdown",
   "metadata": {},
   "source": [
    "# **Neural Network**"
   ]
  },
  {
   "cell_type": "code",
   "execution_count": 44,
   "metadata": {},
   "outputs": [
    {
     "name": "stdout",
     "output_type": "stream",
     "text": [
      "Epoch 1/40\n"
     ]
    },
    {
     "name": "stderr",
     "output_type": "stream",
     "text": [
      "/Library/Frameworks/Python.framework/Versions/3.12/lib/python3.12/site-packages/keras/src/layers/core/dense.py:87: UserWarning: Do not pass an `input_shape`/`input_dim` argument to a layer. When using Sequential models, prefer using an `Input(shape)` object as the first layer in the model instead.\n",
      "  super().__init__(activity_regularizer=activity_regularizer, **kwargs)\n"
     ]
    },
    {
     "name": "stdout",
     "output_type": "stream",
     "text": [
      "\u001b[1m188/188\u001b[0m \u001b[32m━━━━━━━━━━━━━━━━━━━━\u001b[0m\u001b[37m\u001b[0m \u001b[1m1s\u001b[0m 4ms/step - accuracy: 0.4485 - loss: 1.4759 - val_accuracy: 0.8707 - val_loss: 0.3706\n",
      "Epoch 2/40\n",
      "\u001b[1m188/188\u001b[0m \u001b[32m━━━━━━━━━━━━━━━━━━━━\u001b[0m\u001b[37m\u001b[0m \u001b[1m1s\u001b[0m 4ms/step - accuracy: 0.8761 - loss: 0.3684 - val_accuracy: 0.8762 - val_loss: 0.3519\n",
      "Epoch 3/40\n",
      "\u001b[1m188/188\u001b[0m \u001b[32m━━━━━━━━━━━━━━━━━━━━\u001b[0m\u001b[37m\u001b[0m \u001b[1m1s\u001b[0m 4ms/step - accuracy: 0.8988 - loss: 0.2962 - val_accuracy: 0.8775 - val_loss: 0.3481\n",
      "Epoch 4/40\n",
      "\u001b[1m188/188\u001b[0m \u001b[32m━━━━━━━━━━━━━━━━━━━━\u001b[0m\u001b[37m\u001b[0m \u001b[1m1s\u001b[0m 4ms/step - accuracy: 0.9112 - loss: 0.2577 - val_accuracy: 0.8752 - val_loss: 0.3610\n",
      "Epoch 5/40\n",
      "\u001b[1m188/188\u001b[0m \u001b[32m━━━━━━━━━━━━━━━━━━━━\u001b[0m\u001b[37m\u001b[0m \u001b[1m1s\u001b[0m 4ms/step - accuracy: 0.9207 - loss: 0.2229 - val_accuracy: 0.8695 - val_loss: 0.3633\n",
      "Epoch 6/40\n",
      "\u001b[1m188/188\u001b[0m \u001b[32m━━━━━━━━━━━━━━━━━━━━\u001b[0m\u001b[37m\u001b[0m \u001b[1m1s\u001b[0m 4ms/step - accuracy: 0.9323 - loss: 0.1948 - val_accuracy: 0.8703 - val_loss: 0.3842\n",
      "Epoch 7/40\n",
      "\u001b[1m188/188\u001b[0m \u001b[32m━━━━━━━━━━━━━━━━━━━━\u001b[0m\u001b[37m\u001b[0m \u001b[1m1s\u001b[0m 4ms/step - accuracy: 0.9381 - loss: 0.1742 - val_accuracy: 0.8708 - val_loss: 0.3954\n",
      "Epoch 8/40\n",
      "\u001b[1m188/188\u001b[0m \u001b[32m━━━━━━━━━━━━━━━━━━━━\u001b[0m\u001b[37m\u001b[0m \u001b[1m1s\u001b[0m 4ms/step - accuracy: 0.9462 - loss: 0.1509 - val_accuracy: 0.8675 - val_loss: 0.4108\n",
      "Epoch 9/40\n",
      "\u001b[1m188/188\u001b[0m \u001b[32m━━━━━━━━━━━━━━━━━━━━\u001b[0m\u001b[37m\u001b[0m \u001b[1m1s\u001b[0m 4ms/step - accuracy: 0.9495 - loss: 0.1382 - val_accuracy: 0.8673 - val_loss: 0.4293\n",
      "Epoch 10/40\n",
      "\u001b[1m188/188\u001b[0m \u001b[32m━━━━━━━━━━━━━━━━━━━━\u001b[0m\u001b[37m\u001b[0m \u001b[1m1s\u001b[0m 4ms/step - accuracy: 0.9531 - loss: 0.1302 - val_accuracy: 0.8663 - val_loss: 0.4421\n",
      "Epoch 11/40\n",
      "\u001b[1m188/188\u001b[0m \u001b[32m━━━━━━━━━━━━━━━━━━━━\u001b[0m\u001b[37m\u001b[0m \u001b[1m1s\u001b[0m 3ms/step - accuracy: 0.9581 - loss: 0.1138 - val_accuracy: 0.8668 - val_loss: 0.4622\n",
      "Epoch 12/40\n",
      "\u001b[1m188/188\u001b[0m \u001b[32m━━━━━━━━━━━━━━━━━━━━\u001b[0m\u001b[37m\u001b[0m \u001b[1m1s\u001b[0m 4ms/step - accuracy: 0.9625 - loss: 0.1029 - val_accuracy: 0.8663 - val_loss: 0.4829\n",
      "Epoch 13/40\n",
      "\u001b[1m188/188\u001b[0m \u001b[32m━━━━━━━━━━━━━━━━━━━━\u001b[0m\u001b[37m\u001b[0m \u001b[1m1s\u001b[0m 4ms/step - accuracy: 0.9638 - loss: 0.0992 - val_accuracy: 0.8612 - val_loss: 0.4996\n",
      "Epoch 14/40\n",
      "\u001b[1m188/188\u001b[0m \u001b[32m━━━━━━━━━━━━━━━━━━━━\u001b[0m\u001b[37m\u001b[0m \u001b[1m1s\u001b[0m 3ms/step - accuracy: 0.9652 - loss: 0.0908 - val_accuracy: 0.8665 - val_loss: 0.5099\n",
      "Epoch 15/40\n",
      "\u001b[1m188/188\u001b[0m \u001b[32m━━━━━━━━━━━━━━━━━━━━\u001b[0m\u001b[37m\u001b[0m \u001b[1m1s\u001b[0m 4ms/step - accuracy: 0.9684 - loss: 0.0837 - val_accuracy: 0.8662 - val_loss: 0.5285\n",
      "Epoch 16/40\n",
      "\u001b[1m188/188\u001b[0m \u001b[32m━━━━━━━━━━━━━━━━━━━━\u001b[0m\u001b[37m\u001b[0m \u001b[1m1s\u001b[0m 4ms/step - accuracy: 0.9693 - loss: 0.0795 - val_accuracy: 0.8663 - val_loss: 0.5348\n",
      "Epoch 17/40\n",
      "\u001b[1m188/188\u001b[0m \u001b[32m━━━━━━━━━━━━━━━━━━━━\u001b[0m\u001b[37m\u001b[0m \u001b[1m1s\u001b[0m 4ms/step - accuracy: 0.9697 - loss: 0.0821 - val_accuracy: 0.8637 - val_loss: 0.5418\n",
      "Epoch 18/40\n",
      "\u001b[1m188/188\u001b[0m \u001b[32m━━━━━━━━━━━━━━━━━━━━\u001b[0m\u001b[37m\u001b[0m \u001b[1m1s\u001b[0m 4ms/step - accuracy: 0.9727 - loss: 0.0731 - val_accuracy: 0.8642 - val_loss: 0.5610\n",
      "Epoch 19/40\n",
      "\u001b[1m188/188\u001b[0m \u001b[32m━━━━━━━━━━━━━━━━━━━━\u001b[0m\u001b[37m\u001b[0m \u001b[1m1s\u001b[0m 4ms/step - accuracy: 0.9723 - loss: 0.0749 - val_accuracy: 0.8645 - val_loss: 0.5785\n",
      "Epoch 20/40\n",
      "\u001b[1m188/188\u001b[0m \u001b[32m━━━━━━━━━━━━━━━━━━━━\u001b[0m\u001b[37m\u001b[0m \u001b[1m1s\u001b[0m 4ms/step - accuracy: 0.9748 - loss: 0.0668 - val_accuracy: 0.8612 - val_loss: 0.5803\n",
      "Epoch 21/40\n",
      "\u001b[1m188/188\u001b[0m \u001b[32m━━━━━━━━━━━━━━━━━━━━\u001b[0m\u001b[37m\u001b[0m \u001b[1m1s\u001b[0m 4ms/step - accuracy: 0.9735 - loss: 0.0695 - val_accuracy: 0.8608 - val_loss: 0.6209\n",
      "Epoch 22/40\n",
      "\u001b[1m188/188\u001b[0m \u001b[32m━━━━━━━━━━━━━━━━━━━━\u001b[0m\u001b[37m\u001b[0m \u001b[1m1s\u001b[0m 4ms/step - accuracy: 0.9740 - loss: 0.0661 - val_accuracy: 0.8617 - val_loss: 0.6115\n",
      "Epoch 23/40\n",
      "\u001b[1m188/188\u001b[0m \u001b[32m━━━━━━━━━━━━━━━━━━━━\u001b[0m\u001b[37m\u001b[0m \u001b[1m1s\u001b[0m 4ms/step - accuracy: 0.9758 - loss: 0.0610 - val_accuracy: 0.8653 - val_loss: 0.6146\n",
      "Epoch 24/40\n",
      "\u001b[1m188/188\u001b[0m \u001b[32m━━━━━━━━━━━━━━━━━━━━\u001b[0m\u001b[37m\u001b[0m \u001b[1m1s\u001b[0m 4ms/step - accuracy: 0.9757 - loss: 0.0614 - val_accuracy: 0.8610 - val_loss: 0.6351\n",
      "Epoch 25/40\n",
      "\u001b[1m188/188\u001b[0m \u001b[32m━━━━━━━━━━━━━━━━━━━━\u001b[0m\u001b[37m\u001b[0m \u001b[1m1s\u001b[0m 4ms/step - accuracy: 0.9738 - loss: 0.0643 - val_accuracy: 0.8637 - val_loss: 0.6324\n",
      "Epoch 26/40\n",
      "\u001b[1m188/188\u001b[0m \u001b[32m━━━━━━━━━━━━━━━━━━━━\u001b[0m\u001b[37m\u001b[0m \u001b[1m1s\u001b[0m 4ms/step - accuracy: 0.9768 - loss: 0.0589 - val_accuracy: 0.8633 - val_loss: 0.6524\n",
      "Epoch 27/40\n",
      "\u001b[1m188/188\u001b[0m \u001b[32m━━━━━━━━━━━━━━━━━━━━\u001b[0m\u001b[37m\u001b[0m \u001b[1m1s\u001b[0m 4ms/step - accuracy: 0.9751 - loss: 0.0610 - val_accuracy: 0.8628 - val_loss: 0.6610\n",
      "Epoch 28/40\n",
      "\u001b[1m188/188\u001b[0m \u001b[32m━━━━━━━━━━━━━━━━━━━━\u001b[0m\u001b[37m\u001b[0m \u001b[1m1s\u001b[0m 4ms/step - accuracy: 0.9775 - loss: 0.0575 - val_accuracy: 0.8627 - val_loss: 0.6763\n",
      "Epoch 29/40\n",
      "\u001b[1m188/188\u001b[0m \u001b[32m━━━━━━━━━━━━━━━━━━━━\u001b[0m\u001b[37m\u001b[0m \u001b[1m1s\u001b[0m 4ms/step - accuracy: 0.9782 - loss: 0.0555 - val_accuracy: 0.8628 - val_loss: 0.6745\n",
      "Epoch 30/40\n",
      "\u001b[1m188/188\u001b[0m \u001b[32m━━━━━━━━━━━━━━━━━━━━\u001b[0m\u001b[37m\u001b[0m \u001b[1m1s\u001b[0m 4ms/step - accuracy: 0.9783 - loss: 0.0530 - val_accuracy: 0.8615 - val_loss: 0.6690\n",
      "Epoch 31/40\n",
      "\u001b[1m188/188\u001b[0m \u001b[32m━━━━━━━━━━━━━━━━━━━━\u001b[0m\u001b[37m\u001b[0m \u001b[1m1s\u001b[0m 4ms/step - accuracy: 0.9771 - loss: 0.0543 - val_accuracy: 0.8638 - val_loss: 0.6912\n",
      "Epoch 32/40\n",
      "\u001b[1m188/188\u001b[0m \u001b[32m━━━━━━━━━━━━━━━━━━━━\u001b[0m\u001b[37m\u001b[0m \u001b[1m1s\u001b[0m 4ms/step - accuracy: 0.9797 - loss: 0.0497 - val_accuracy: 0.8640 - val_loss: 0.6898\n",
      "Epoch 33/40\n",
      "\u001b[1m188/188\u001b[0m \u001b[32m━━━━━━━━━━━━━━━━━━━━\u001b[0m\u001b[37m\u001b[0m \u001b[1m1s\u001b[0m 4ms/step - accuracy: 0.9791 - loss: 0.0500 - val_accuracy: 0.8650 - val_loss: 0.7080\n",
      "Epoch 34/40\n",
      "\u001b[1m188/188\u001b[0m \u001b[32m━━━━━━━━━━━━━━━━━━━━\u001b[0m\u001b[37m\u001b[0m \u001b[1m1s\u001b[0m 4ms/step - accuracy: 0.9792 - loss: 0.0507 - val_accuracy: 0.8628 - val_loss: 0.6896\n",
      "Epoch 35/40\n",
      "\u001b[1m188/188\u001b[0m \u001b[32m━━━━━━━━━━━━━━━━━━━━\u001b[0m\u001b[37m\u001b[0m \u001b[1m1s\u001b[0m 4ms/step - accuracy: 0.9789 - loss: 0.0509 - val_accuracy: 0.8680 - val_loss: 0.7135\n",
      "Epoch 36/40\n",
      "\u001b[1m188/188\u001b[0m \u001b[32m━━━━━━━━━━━━━━━━━━━━\u001b[0m\u001b[37m\u001b[0m \u001b[1m1s\u001b[0m 4ms/step - accuracy: 0.9787 - loss: 0.0495 - val_accuracy: 0.8640 - val_loss: 0.7386\n",
      "Epoch 37/40\n",
      "\u001b[1m188/188\u001b[0m \u001b[32m━━━━━━━━━━━━━━━━━━━━\u001b[0m\u001b[37m\u001b[0m \u001b[1m1s\u001b[0m 4ms/step - accuracy: 0.9797 - loss: 0.0462 - val_accuracy: 0.8633 - val_loss: 0.7323\n",
      "Epoch 38/40\n",
      "\u001b[1m188/188\u001b[0m \u001b[32m━━━━━━━━━━━━━━━━━━━━\u001b[0m\u001b[37m\u001b[0m \u001b[1m1s\u001b[0m 4ms/step - accuracy: 0.9779 - loss: 0.0505 - val_accuracy: 0.8698 - val_loss: 0.7215\n",
      "Epoch 39/40\n",
      "\u001b[1m188/188\u001b[0m \u001b[32m━━━━━━━━━━━━━━━━━━━━\u001b[0m\u001b[37m\u001b[0m \u001b[1m1s\u001b[0m 4ms/step - accuracy: 0.9800 - loss: 0.0454 - val_accuracy: 0.8667 - val_loss: 0.7544\n",
      "Epoch 40/40\n",
      "\u001b[1m188/188\u001b[0m \u001b[32m━━━━━━━━━━━━━━━━━━━━\u001b[0m\u001b[37m\u001b[0m \u001b[1m1s\u001b[0m 4ms/step - accuracy: 0.9802 - loss: 0.0458 - val_accuracy: 0.8635 - val_loss: 0.7674\n"
     ]
    },
    {
     "name": "stderr",
     "output_type": "stream",
     "text": [
      "WARNING:absl:You are saving your model as an HDF5 file via `model.save()` or `keras.saving.save_model(model)`. This file format is considered legacy. We recommend using instead the native Keras format, e.g. `model.save('my_model.keras')` or `keras.saving.save_model(model, 'my_model.keras')`. \n"
     ]
    },
    {
     "name": "stdout",
     "output_type": "stream",
     "text": [
      "\u001b[1m188/188\u001b[0m \u001b[32m━━━━━━━━━━━━━━━━━━━━\u001b[0m\u001b[37m\u001b[0m \u001b[1m0s\u001b[0m 706us/step\n",
      "Accuracy: 0.86\n",
      "              precision    recall  f1-score   support\n",
      "\n",
      "       Anger       0.88      0.88      0.88       978\n",
      "        Fear       0.85      0.81      0.83      1024\n",
      "         Joy       0.82      0.83      0.83      1046\n",
      "        Love       0.89      0.92      0.90       950\n",
      "     Sadness       0.86      0.84      0.85      1033\n",
      "    Surprise       0.88      0.91      0.90       969\n",
      "\n",
      "    accuracy                           0.86      6000\n",
      "   macro avg       0.86      0.86      0.86      6000\n",
      "weighted avg       0.86      0.86      0.86      6000\n",
      "\n",
      "\u001b[1m1/1\u001b[0m \u001b[32m━━━━━━━━━━━━━━━━━━━━\u001b[0m\u001b[37m\u001b[0m \u001b[1m0s\u001b[0m 16ms/step\n",
      "The emotion for the sentence 'I am so happy today' is: Joy\n"
     ]
    }
   ],
   "source": [
    "import joblib\n",
    "\n",
    "import numpy as np\n",
    "import pandas as pd\n",
    "from sklearn.model_selection import train_test_split\n",
    "from sklearn.preprocessing import LabelEncoder\n",
    "from sklearn.feature_extraction.text import TfidfVectorizer\n",
    "import tensorflow as tf\n",
    "from tensorflow.keras.models import Sequential\n",
    "from tensorflow.keras.layers import Dense, Dropout\n",
    "from tensorflow.keras.optimizers import Adam\n",
    "from sklearn.metrics import accuracy_score, classification_report\n",
    "\n",
    "\n",
    "tfidf_vectorizer = TfidfVectorizer(max_features=1000, stop_words='english')\n",
    "tfidf_matrix = tfidf_vectorizer.fit_transform(df['processed_text'].apply(lambda x: ' '.join(x)))\n",
    "\n",
    "\n",
    "label_encoder = LabelEncoder()\n",
    "y = label_encoder.fit_transform(df['label'])\n",
    "\n",
    "\n",
    "X_train, X_test, y_train, y_test = train_test_split(tfidf_matrix, y, test_size=0.2, random_state=42)\n",
    "\n",
    "# Build the neural network model \n",
    "model = Sequential()\n",
    "\n",
    "\n",
    "model.add(Dense(512, input_dim=X_train.shape[1], activation='relu'))\n",
    "model.add(Dropout(0.5))  # Dropout for regularization\n",
    "\n",
    "model.add(Dense(256, activation='relu'))\n",
    "model.add(Dropout(0.5))\n",
    "\n",
    "model.add(Dense(len(label_encoder.classes_), activation='softmax'))\n",
    "\n",
    "\n",
    "model.compile(loss='sparse_categorical_crossentropy',  \n",
    "              optimizer=Adam(), \n",
    "              metrics=['accuracy'])\n",
    "\n",
    "# Train the model\n",
    "model.fit(X_train, y_train, epochs=40, batch_size=128, validation_data=(X_test, y_test))\n",
    "\n",
    "model.save('emotion_model.h5')\n",
    "joblib.dump(tfidf_vectorizer, 'tfidf_vectorizer.pkl')\n",
    "joblib.dump(label_encoder, 'label_encoder.pkl')\n",
    "\n",
    "# Evaluate the model on the test set\n",
    "y_pred = model.predict(X_test)\n",
    "y_pred_classes = np.argmax(y_pred, axis=1)  # Convert probabilities to class labels\n",
    "\n",
    "# Calculate accuracy\n",
    "accuracy = accuracy_score(y_test, y_pred_classes)\n",
    "print(f\"Accuracy: {accuracy:.2f}\")\n",
    "\n",
    "# Print classification report\n",
    "print(classification_report(y_test, y_pred_classes, target_names=label_encoder.classes_))\n",
    "\n",
    "# Example: Predict emotion for a new sentence\n",
    "new_sentence = \"I am so happy today\"\n",
    "preprocessed_sentence = ' '.join(preprocess_text(new_sentence))  # Assuming you have a preprocessing function\n",
    "new_vector = tfidf_vectorizer.transform([preprocessed_sentence]).toarray()\n",
    "\n",
    "# Predict the emotion for the new sentence\n",
    "predicted_label = model.predict(new_vector)\n",
    "predicted_class = np.argmax(predicted_label, axis=1)\n",
    "predicted_emotion = label_encoder.inverse_transform(predicted_class)\n",
    "\n",
    "print(f\"The emotion for the sentence '{new_sentence}' is: {predicted_emotion[0]}\")"
   ]
  },
  {
   "cell_type": "code",
   "execution_count": null,
   "metadata": {},
   "outputs": [
    {
     "data": {
      "image/png": "[encoded data removed]",
      "text/plain": [
       "<Figure size 800x600 with 2 Axes>"
      ]
     },
     "metadata": {},
     "output_type": "display_data"
    }
   ],
   "source": [
    "import seaborn as sns\n",
    "import matplotlib.pyplot as plt\n",
    "from sklearn.metrics import confusion_matrix\n",
    "\n",
    "# Assuming y_test (true labels) and y_pred (predicted labels from model) are already defined\n",
    "# If y_pred contains probabilities, use np.argmax to get the predicted class\n",
    "y_pred = np.argmax(y_pred, axis=1)  # Convert probabilities to class labels if needed\n",
    "\n",
    "# Generate the confusion matrix\n",
    "conf_matrix = confusion_matrix(y_test, y_pred)\n",
    "\n",
    "# Create a heatmap using seaborn\n",
    "plt.figure(figsize=(8, 6))  # Set the figure size\n",
    "sns.heatmap(conf_matrix, annot=True, fmt='d', cmap='Blues', xticklabels=label_encoder.classes_, yticklabels=label_encoder.classes_)\n",
    "\n",
    "# Add labels and title\n",
    "plt.xlabel('Predicted Labels')\n",
    "plt.ylabel('True Labels')\n",
    "plt.title('Confusion Matrix Heatmap')\n",
    "\n",
    "# Show the plot\n",
    "plt.show()"
   ]
  },
  {
   "cell_type": "code",
   "execution_count": null,
   "metadata": {},
   "outputs": [
    {
     "name": "stdout",
     "output_type": "stream",
     "text": [
      "              precision    recall  f1-score   support\n",
      "\n",
      "       Anger       0.88      0.88      0.88       978\n",
      "        Fear       0.86      0.81      0.84      1024\n",
      "         Joy       0.84      0.82      0.83      1046\n",
      "        Love       0.91      0.92      0.91       950\n",
      "     Sadness       0.84      0.85      0.84      1033\n",
      "    Surprise       0.88      0.92      0.90       969\n",
      "\n",
      "    accuracy                           0.87      6000\n",
      "   macro avg       0.87      0.87      0.87      6000\n",
      "weighted avg       0.87      0.87      0.87      6000\n",
      "\n",
      "Accuracy: 0.87\n",
      "\u001b[1m1/1\u001b[0m \u001b[32m━━━━━━━━━━━━━━━━━━━━\u001b[0m\u001b[37m\u001b[0m \u001b[1m0s\u001b[0m 7ms/step\n",
      "The emotion for the sentence 'I am so happy today' is: Joy\n"
     ]
    }
   ],
   "source": [
    "print(classification_report(y_test, y_pred_classes, target_names=label_encoder.classes_))\n",
    "\n",
    "accuracy = accuracy_score(y_test, y_pred)\n",
    "print(f\"Accuracy: {accuracy:.2f}\")\n",
    "\n",
    "new_sentence = \"I am so happy today\"\n",
    "preprocessed_sentence = ' '.join(preprocess_text(new_sentence))  # Assuming you have a preprocessing function\n",
    "new_vector = tfidf_vectorizer.transform([preprocessed_sentence]).toarray()\n",
    "\n",
    "# Predict the emotion for the new sentence\n",
    "predicted_label = model.predict(new_vector)\n",
    "predicted_class = np.argmax(predicted_label, axis=1)\n",
    "predicted_emotion = label_encoder.inverse_transform(predicted_class)\n",
    "\n",
    "print(f\"The emotion for the sentence '{new_sentence}' is: {predicted_emotion[0]}\")"
   ]
  },
  {
   "cell_type": "markdown",
   "metadata": {},
   "source": [
    "# **Decision Trees**"
   ]
  },
  {
   "cell_type": "code",
   "execution_count": 49,
   "metadata": {},
   "outputs": [
    {
     "name": "stdout",
     "output_type": "stream",
     "text": [
      "              precision    recall  f1-score   support\n",
      "\n",
      "       Anger       0.87      0.87      0.87       978\n",
      "        Fear       0.82      0.80      0.81      1024\n",
      "         Joy       0.76      0.76      0.76      1046\n",
      "        Love       0.87      0.91      0.89       950\n",
      "     Sadness       0.84      0.80      0.82      1033\n",
      "    Surprise       0.86      0.90      0.88       969\n",
      "\n",
      "    accuracy                           0.84      6000\n",
      "   macro avg       0.84      0.84      0.84      6000\n",
      "weighted avg       0.84      0.84      0.84      6000\n",
      "\n",
      "Accuracy: 0.84\n"
     ]
    }
   ],
   "source": [
    "from sklearn.preprocessing import LabelEncoder\n",
    "from sklearn.tree import DecisionTreeClassifier\n",
    "from sklearn.model_selection import train_test_split\n",
    "from sklearn.tree import plot_tree\n",
    "import matplotlib.pyplot as plt\n",
    "\n",
    "\n",
    "label_encoder = LabelEncoder()\n",
    "\n",
    "y = label_encoder.fit_transform(df['label'])\n",
    "\n",
    "X_train, X_test, y_train, y_test = train_test_split(tfidf_matrix, y, test_size=0.2, random_state=42)\n",
    "\n",
    "clf = DecisionTreeClassifier(random_state=42)\n",
    "clf.fit(X_train, y_train)\n",
    "\n",
    "y_pred = clf.predict(X_test)\n",
    "\n",
    "report = classification_report(y_test, y_pred, target_names=label_encoder.classes_)\n",
    "\n",
    "print(report)\n",
    "accuracy = accuracy_score(y_test, y_pred)\n",
    "print(f\"Accuracy: {accuracy:.2f}\")"
   ]
  },
  {
   "cell_type": "code",
   "execution_count": 47,
   "metadata": {},
   "outputs": [
    {
     "name": "stdout",
     "output_type": "stream",
     "text": [
      "y_pred type: <class 'numpy.ndarray'>, shape: (6000,)\n",
      "y_test type: <class 'numpy.ndarray'>, shape: (6000,)\n"
     ]
    },
    {
     "ename": "NameError",
     "evalue": "name 'confusion_matrix' is not defined",
     "output_type": "error",
     "traceback": [
      "\u001b[0;31m---------------------------------------------------------------------------\u001b[0m",
      "\u001b[0;31mNameError\u001b[0m                                 Traceback (most recent call last)",
      "Cell \u001b[0;32mIn[47], line 9\u001b[0m\n\u001b[1;32m      5\u001b[0m \u001b[38;5;28;01mif\u001b[39;00m y_pred\u001b[38;5;241m.\u001b[39mndim \u001b[38;5;241m==\u001b[39m \u001b[38;5;241m2\u001b[39m:  \n\u001b[1;32m      6\u001b[0m     y_pred \u001b[38;5;241m=\u001b[39m np\u001b[38;5;241m.\u001b[39margmax(y_pred, axis\u001b[38;5;241m=\u001b[39m\u001b[38;5;241m1\u001b[39m)\n\u001b[0;32m----> 9\u001b[0m conf_matrix \u001b[38;5;241m=\u001b[39m \u001b[43mconfusion_matrix\u001b[49m(y_test, y_pred)\n\u001b[1;32m     11\u001b[0m plt\u001b[38;5;241m.\u001b[39mfigure(figsize\u001b[38;5;241m=\u001b[39m(\u001b[38;5;241m8\u001b[39m, \u001b[38;5;241m6\u001b[39m))  \n\u001b[1;32m     12\u001b[0m sns\u001b[38;5;241m.\u001b[39mheatmap(conf_matrix, annot\u001b[38;5;241m=\u001b[39m\u001b[38;5;28;01mTrue\u001b[39;00m, fmt\u001b[38;5;241m=\u001b[39m\u001b[38;5;124m'\u001b[39m\u001b[38;5;124md\u001b[39m\u001b[38;5;124m'\u001b[39m, cmap\u001b[38;5;241m=\u001b[39m\u001b[38;5;124m'\u001b[39m\u001b[38;5;124mReds\u001b[39m\u001b[38;5;124m'\u001b[39m, xticklabels\u001b[38;5;241m=\u001b[39mlabel_encoder\u001b[38;5;241m.\u001b[39mclasses_, yticklabels\u001b[38;5;241m=\u001b[39mlabel_encoder\u001b[38;5;241m.\u001b[39mclasses_)\n",
      "\u001b[0;31mNameError\u001b[0m: name 'confusion_matrix' is not defined"
     ]
    }
   ],
   "source": [
    "\n",
    "print(f\"y_pred type: {type(y_pred)}, shape: {y_pred.shape}\")\n",
    "print(f\"y_test type: {type(y_test)}, shape: {y_test.shape}\")\n",
    "\n",
    "\n",
    "if y_pred.ndim == 2:  \n",
    "    y_pred = np.argmax(y_pred, axis=1)\n",
    "\n",
    "\n",
    "conf_matrix = confusion_matrix(y_test, y_pred)\n",
    "\n",
    "plt.figure(figsize=(8, 6))  \n",
    "sns.heatmap(conf_matrix, annot=True, fmt='d', cmap='Reds', xticklabels=label_encoder.classes_, yticklabels=label_encoder.classes_)\n",
    "\n",
    "\n",
    "plt.xlabel('Predicted Labels')\n",
    "plt.ylabel('True Labels')\n",
    "plt.title('Decision Trees')\n",
    "\n",
    "plt.show()"
   ]
  },
  {
   "cell_type": "markdown",
   "metadata": {},
   "source": []
  }
 ],
 "metadata": {
  "kernelspec": {
   "display_name": "Python 3",
   "language": "python",
   "name": "python3"
  },
  "language_info": {
   "codemirror_mode": {
    "name": "ipython",
    "version": 3
   },
   "file_extension": ".py",
   "mimetype": "text/x-python",
   "name": "python",
   "nbconvert_exporter": "python",
   "pygments_lexer": "ipython3",
   "version": "3.12.2"
  }
 },
 "nbformat": 4,
 "nbformat_minor": 2
}
